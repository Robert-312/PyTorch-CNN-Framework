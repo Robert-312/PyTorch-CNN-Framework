{
 "cells": [
  {
   "cell_type": "markdown",
   "metadata": {},
   "source": [
    "# Linear Regression from Scratch using PyTorch\n",
    "\n",
    "The goal is to get a better understanding of how PyTorch implements a neural network.  \n",
    "\n",
    "We will use the tensors, loss function and optimizers from PyTorch, but try to build everything else manually.\n",
    "\n",
    "The hope is that problems and nuances will force us to understand the mechanisms behind the scenes not seen when we use more of the PyTorch library to help us.\n"
   ]
  },
  {
   "cell_type": "code",
   "execution_count": 1,
   "metadata": {},
   "outputs": [],
   "source": [
    "import numpy as np\n",
    "import pandas as pd\n",
    "import matplotlib.pyplot as plt\n",
    "from IPython.display import display\n",
    "\n",
    "from sklearn import metrics\n",
    "\n",
    "import torch\n",
    "import torch.optim as optim"
   ]
  },
  {
   "cell_type": "markdown",
   "metadata": {},
   "source": [
    "### Build a random dataset that roughly follows a linear dependency\n",
    "\n",
    "We limit the range of our slope, y-intercepts and how much variance we allow in the label"
   ]
  },
  {
   "cell_type": "code",
   "execution_count": 2,
   "metadata": {},
   "outputs": [
    {
     "name": "stdout",
     "output_type": "stream",
     "text": [
      "4.283214134478696 -52.08853738647598\n"
     ]
    },
    {
     "data": {
      "text/plain": [
       "<matplotlib.collections.PathCollection at 0x27f91d77588>"
      ]
     },
     "execution_count": 2,
     "metadata": {},
     "output_type": "execute_result"
    },
    {
     "data": {
      "image/png": "[encoded data removed]",
      "text/plain": [
       "<Figure size 432x288 with 1 Axes>"
      ]
     },
     "metadata": {
      "needs_background": "light"
     },
     "output_type": "display_data"
    }
   ],
   "source": [
    "max_x = 500\n",
    "slope_range = [.1, 10]\n",
    "slope_direction = np.random.choice([-1,1])\n",
    "intercept_range = [-80, 80]\n",
    "residual_var = 100\n",
    "X = torch.from_numpy(np.arange(max_x))\n",
    "X = X.type(torch.float64)\n",
    "m = np.random.uniform(*slope_range) * slope_direction\n",
    "b = np.random.uniform(*intercept_range)\n",
    "# m, b = -0.6346013753477167, 52.297166992434484 # mis match in magnitude, learning for b will not be good\n",
    "# m, b = 5, 5\n",
    "scaled_variance = np.random.normal(0, residual_var, len(X)) * m/3\n",
    "y = m * X + b + scaled_variance\n",
    "print(m, b)\n",
    "plt.scatter(X, y)"
   ]
  },
  {
   "cell_type": "markdown",
   "metadata": {},
   "source": [
    "## LinearModel\n",
    "\n",
    "Let's build a class, but we do **not** inherit **nn.Module**.\n",
    "\n",
    "The **train** method will be our manual **nn.Linear** transformation.\n",
    "\n",
    "We will also build the training loop into this class just to keep things simple.\n"
   ]
  },
  {
   "cell_type": "code",
   "execution_count": 3,
   "metadata": {
    "scrolled": true
   },
   "outputs": [],
   "source": [
    "class LinearModel:\n",
    "    def __init__(self, params):\n",
    "        self.parameters = params # weights for slope and bias (could have been stored outside of model)\n",
    "        self.y_pred = None # Will hold last prediction when training loop is done\n",
    "        self.weight_history = [] # Will hold every parameter after step, add baseline params now\n",
    "        self.weight_history.append(np.array([float(self.parameters[0][0]),float(self.parameters[0][1])]))\n",
    "    def set_learning_objects(self, criterion, optimizer):\n",
    "        self.criterion = criterion\n",
    "        self.optimizer = optimizer\n",
    "    def train(self, X):\n",
    "        return self.parameters[0][0] * X + self.parameters[0][1] # Simple line with current m and b weights\n",
    "    def training_loop(self, epochs, X, y):\n",
    "        for epoch in [e+1 for e in range(epochs)]: # Make ephochs 1 based\n",
    "            self.y_pred = self.train(X) # No batching here, run all data, adjust the weights once\n",
    "            loss = self.criterion(self.y_pred, y) # What ever loss function that was passed is used\n",
    "            self.optimizer.zero_grad() # Gradients sum with each back prop, so we need to zero\n",
    "            loss.backward() # The acutal back proagation\n",
    "            self.optimizer.step() # Updates the weights (self.parameters)\n",
    "            self.weight_history.append(np.array([float(self.parameters[0][0]),float(self.parameters[0][1])]))\n",
    "            if epoch % 10 == 0:\n",
    "                print(\"Epoch: {} - Loss: {}\".format(epoch, float(loss)))\n",
    "    def predict(self, X):\n",
    "        return self.train(X).detach().numpy()"
   ]
  },
  {
   "cell_type": "markdown",
   "metadata": {},
   "source": [
    "## Model Parameters (Weights)\n",
    "\n",
    "We need to manually build our nn weights that will be adjusted during training.\n",
    "\n",
    "There will be 2 weights, m and b.\n",
    "\n",
    "Even though they are single scalar values, they will need to be presented to the model as PyTorch tensors.\n",
    "\n",
    "They also need to participate in back propagation, so they will need to be able to calculate the gradient on the forward pass (requires_grad=True).\n",
    "\n",
    "We also want to give it some kind of value.  Let's pick a random value, but close to 0.7 for the slope and 0 for the y-intercept.\n",
    "\n",
    "Normally, PyTorch automatically builds the parameters and initializes the values.\n"
   ]
  },
  {
   "cell_type": "code",
   "execution_count": 4,
   "metadata": {},
   "outputs": [
    {
     "data": {
      "text/plain": [
       "0.6962400033549747"
      ]
     },
     "execution_count": 4,
     "metadata": {},
     "output_type": "execute_result"
    }
   ],
   "source": [
    "initial_slope_weights = np.random.normal(.7, .01) #No specal sauce here, but we don't want to start at the extreams (too near 0 or 1)\n",
    "initial_slope_weights"
   ]
  },
  {
   "cell_type": "code",
   "execution_count": 5,
   "metadata": {},
   "outputs": [
    {
     "data": {
      "text/plain": [
       "-0.000512109346805413"
      ]
     },
     "execution_count": 5,
     "metadata": {},
     "output_type": "execute_result"
    }
   ],
   "source": [
    "inital_bias_weight = np.random.normal(0, .01) #No specal sauce here, but we don't want to start at the extreams (too near 0 or 1)\n",
    "inital_bias_weight"
   ]
  },
  {
   "cell_type": "code",
   "execution_count": 6,
   "metadata": {},
   "outputs": [],
   "source": [
    "#weights are a enumerable tensor.  In our simple r1 maps to r1, it is just 2 trainable paramaters\n",
    "weights_bias = torch.tensor([initial_slope_weights, inital_bias_weight], requires_grad=True) # requires_grad=True maintains the state for the back prop"
   ]
  },
  {
   "cell_type": "markdown",
   "metadata": {},
   "source": [
    "### Custom build Gradient Descent Optimizer\n",
    "\n",
    "This was copied from the open source for PyTorch SGD optimizer and reduced to to make it as simple as possible.\n",
    "\n",
    "We will try several optimizers, but this class will give us a look into how the basic mechanism works.\n"
   ]
  },
  {
   "cell_type": "code",
   "execution_count": 7,
   "metadata": {},
   "outputs": [],
   "source": [
    "#custom optimizer, just plain old Gradiant Decent with a learning rate\n",
    "class GD_Optimizer(optim.Optimizer):\n",
    "    def __init__(self, params, lr=1e-3):\n",
    "        if lr < 0.0:\n",
    "            raise ValueError(\"Invalid learning rate: {}\".format(lr))\n",
    "\n",
    "        defaults = dict(lr=lr)\n",
    "        super(GD_Optimizer, self).__init__(params, defaults)\n",
    "\n",
    "    def step(self, closure=None):\n",
    "        loss = None\n",
    "        if closure is not None:\n",
    "            loss = closure()\n",
    "\n",
    "        for group in self.param_groups:\n",
    "\n",
    "            for p in group['params']:\n",
    "                if p.grad is None:\n",
    "                    continue\n",
    "                d_p = p.grad.data\n",
    "\n",
    "                p.data.add_(-group['lr'], d_p)\n",
    "\n",
    "        return loss            "
   ]
  },
  {
   "cell_type": "markdown",
   "metadata": {},
   "source": [
    "### Build Model and Set Parameters"
   ]
  },
  {
   "cell_type": "code",
   "execution_count": 8,
   "metadata": {},
   "outputs": [],
   "source": [
    "model = LinearModel([weights_bias])\n",
    "\n",
    "#hyper-parameters\n",
    "epochs = 100\n",
    "learning_rate = 1e-3\n",
    "\n",
    "#loss:\n",
    "# criterion = torch.nn.MSELoss()\n",
    "# criterion = torch.nn.SmoothL1Loss()\n",
    "# criterion = torch.nn.L1Loss()\n",
    "# criterion = lambda y, y_pred : torch.mean((y - y_pred)**2)\n",
    "criterion = lambda y, y_pred : torch.mean(abs(y - y_pred))\n",
    "\n",
    "#optimizer:\n",
    "# optimizer = optim.SGD(model.parameters, lr=learning_rate)\n",
    "# optimizer = optim.SGD(model.parameters, lr=learning_rate, momentum=0.9)\n",
    "# optimizer = optim.Adam(model.parameters)\n",
    "optimizer = GD_Optimizer(model.parameters, lr=learning_rate)\n",
    "\n",
    "\n",
    "model.set_learning_objects(criterion, optimizer)"
   ]
  },
  {
   "cell_type": "markdown",
   "metadata": {},
   "source": [
    "## Train\n",
    "\n",
    "If you look at the training loop, you will see there is no batching, we simply look at all the training values and adjust the weights once per epoch."
   ]
  },
  {
   "cell_type": "code",
   "execution_count": 9,
   "metadata": {},
   "outputs": [
    {
     "name": "stdout",
     "output_type": "stream",
     "text": [
      "Epoch: 10 - Loss: 327.9797472774451\n",
      "Epoch: 20 - Loss: 123.72166637659453\n",
      "Epoch: 30 - Loss: 123.6219840236028\n",
      "Epoch: 40 - Loss: 123.62214875022894\n",
      "Epoch: 50 - Loss: 123.62229932523539\n",
      "Epoch: 60 - Loss: 123.62156316166391\n",
      "Epoch: 70 - Loss: 123.62167239443039\n",
      "Epoch: 80 - Loss: 123.62183712084232\n",
      "Epoch: 90 - Loss: 123.62191886942854\n",
      "Epoch: 100 - Loss: 123.62119603850333\n"
     ]
    }
   ],
   "source": [
    "model.training_loop(epochs, X, y)"
   ]
  },
  {
   "cell_type": "markdown",
   "metadata": {},
   "source": [
    "## Weight History\n",
    "\n",
    "In our training loop, we keep a record of the weight values with each epoch.\n",
    "\n",
    "So we can plot both the m and b weight values by epoch to get insight into how the model changes the slopes."
   ]
  },
  {
   "cell_type": "code",
   "execution_count": 10,
   "metadata": {},
   "outputs": [
    {
     "data": {
      "text/plain": [
       "<matplotlib.axes._subplots.AxesSubplot at 0x27f91dd7c08>"
      ]
     },
     "execution_count": 10,
     "metadata": {},
     "output_type": "execute_result"
    },
    {
     "data": {
      "image/png": "[encoded data removed]",
      "text/plain": [
       "<Figure size 432x288 with 1 Axes>"
      ]
     },
     "metadata": {
      "needs_background": "light"
     },
     "output_type": "display_data"
    }
   ],
   "source": [
    "weightsdf = pd.DataFrame(model.weight_history, columns=['Slope Weight', 'Intercept Weight'])\n",
    "weightsdf.plot()"
   ]
  },
  {
   "cell_type": "markdown",
   "metadata": {},
   "source": [
    "### Lets show the actual values of m and b and the basic regression metrics (from scratch of course)"
   ]
  },
  {
   "cell_type": "code",
   "execution_count": 11,
   "metadata": {},
   "outputs": [
    {
     "data": {
      "text/html": [
       "<div>\n",
       "<style scoped>\n",
       "    .dataframe tbody tr th:only-of-type {\n",
       "        vertical-align: middle;\n",
       "    }\n",
       "\n",
       "    .dataframe tbody tr th {\n",
       "        vertical-align: top;\n",
       "    }\n",
       "\n",
       "    .dataframe thead th {\n",
       "        text-align: right;\n",
       "    }\n",
       "</style>\n",
       "<table border=\"1\" class=\"dataframe\">\n",
       "  <thead>\n",
       "    <tr style=\"text-align: right;\">\n",
       "      <th></th>\n",
       "      <th>Slope</th>\n",
       "      <th>Intercept</th>\n",
       "    </tr>\n",
       "  </thead>\n",
       "  <tbody>\n",
       "    <tr>\n",
       "      <td>Model</td>\n",
       "      <td>4.109781</td>\n",
       "      <td>0.002972</td>\n",
       "    </tr>\n",
       "    <tr>\n",
       "      <td>Actual</td>\n",
       "      <td>4.283214</td>\n",
       "      <td>-52.088537</td>\n",
       "    </tr>\n",
       "    <tr>\n",
       "      <td>Initial Weights</td>\n",
       "      <td>0.696240</td>\n",
       "      <td>-0.000512</td>\n",
       "    </tr>\n",
       "  </tbody>\n",
       "</table>\n",
       "</div>"
      ],
      "text/plain": [
       "                    Slope  Intercept\n",
       "Model            4.109781   0.002972\n",
       "Actual           4.283214 -52.088537\n",
       "Initial Weights  0.696240  -0.000512"
      ]
     },
     "metadata": {},
     "output_type": "display_data"
    },
    {
     "data": {
      "text/html": [
       "<div>\n",
       "<style scoped>\n",
       "    .dataframe tbody tr th:only-of-type {\n",
       "        vertical-align: middle;\n",
       "    }\n",
       "\n",
       "    .dataframe tbody tr th {\n",
       "        vertical-align: top;\n",
       "    }\n",
       "\n",
       "    .dataframe thead th {\n",
       "        text-align: right;\n",
       "    }\n",
       "</style>\n",
       "<table border=\"1\" class=\"dataframe\">\n",
       "  <thead>\n",
       "    <tr style=\"text-align: right;\">\n",
       "      <th></th>\n",
       "      <th>Metric</th>\n",
       "    </tr>\n",
       "  </thead>\n",
       "  <tbody>\n",
       "    <tr>\n",
       "      <td>Mean Absolute Error</td>\n",
       "      <td>3.185659e+03</td>\n",
       "    </tr>\n",
       "    <tr>\n",
       "      <td>Mean Squared Error</td>\n",
       "      <td>1.387662e+07</td>\n",
       "    </tr>\n",
       "    <tr>\n",
       "      <td>Root Mean Squared Error</td>\n",
       "      <td>3.725134e+03</td>\n",
       "    </tr>\n",
       "    <tr>\n",
       "      <td>R2</td>\n",
       "      <td>-3.321239e+01</td>\n",
       "    </tr>\n",
       "  </tbody>\n",
       "</table>\n",
       "</div>"
      ],
      "text/plain": [
       "                               Metric\n",
       "Mean Absolute Error      3.185659e+03\n",
       "Mean Squared Error       1.387662e+07\n",
       "Root Mean Squared Error  3.725134e+03\n",
       "R2                      -3.321239e+01"
      ]
     },
     "metadata": {},
     "output_type": "display_data"
    }
   ],
   "source": [
    "pred_slope = model.parameters[0][0].item()\n",
    "pred_intercept = model.parameters[0][1].item()\n",
    "mbdf = pd.DataFrame({\n",
    "                        'Model':[pred_slope, pred_intercept],\n",
    "                        'Actual':[m, b],\n",
    "                        'Initial Weights':[initial_slope_weights, inital_bias_weight]\n",
    "                    })\n",
    "mbdf = mbdf.transpose()\n",
    "mbdf.columns=['Slope', 'Intercept']\n",
    "display(mbdf)\n",
    "\n",
    "y_pred = model.predict(y)\n",
    "erdf = pd.DataFrame({\n",
    "                        'Mean Absolute Error':[metrics.mean_absolute_error(y, y_pred)],\n",
    "                        'Mean Squared Error':[metrics.mean_squared_error(y, y_pred)],\n",
    "                        'Root Mean Squared Error':[np.sqrt(metrics.mean_squared_error(y, y_pred))],\n",
    "                        'R2':[metrics.r2_score(y, y_pred)]\n",
    "                    })\n",
    "erdf = erdf.transpose()\n",
    "erdf.columns=['Metric']\n",
    "display(erdf)"
   ]
  },
  {
   "cell_type": "markdown",
   "metadata": {},
   "source": [
    "### Show predicted line against the scatter plot"
   ]
  },
  {
   "cell_type": "code",
   "execution_count": 12,
   "metadata": {},
   "outputs": [
    {
     "data": {
      "image/png": "[encoded data removed]",
      "text/plain": [
       "<Figure size 432x288 with 1 Axes>"
      ]
     },
     "metadata": {
      "needs_background": "light"
     },
     "output_type": "display_data"
    }
   ],
   "source": [
    "plt.scatter(X, y, color='b', label='Actual')\n",
    "plt.scatter(X, model.y_pred.detach().numpy(), color='r', label='Predicted')\n",
    "plt.title('Training Predictions')\n",
    "plt.legend()\n",
    "plt.show()"
   ]
  },
  {
   "cell_type": "markdown",
   "metadata": {},
   "source": [
    "## Now let's look at regression on polynomials\n",
    "\n",
    "We will pick a random polynomial of degree 3:\n",
    "\n",
    "## $y = 2x^3 + 42x^2 + 7x + 148$"
   ]
  },
  {
   "cell_type": "code",
   "execution_count": 13,
   "metadata": {},
   "outputs": [],
   "source": [
    "poly_func = lambda x:  \\\n",
    "                    2*torch.pow(x, 3) + \\\n",
    "                   42*torch.pow(x, 2) + \\\n",
    "                    7*torch.pow(x, 1) + \\\n",
    "                  148*torch.pow(x, 0)"
   ]
  },
  {
   "cell_type": "markdown",
   "metadata": {},
   "source": [
    "### Let's take a quick look at what this polynomial would look like\n",
    "\n",
    "Let will plot the function with x between -500 and 500"
   ]
  },
  {
   "cell_type": "code",
   "execution_count": 14,
   "metadata": {},
   "outputs": [
    {
     "data": {
      "text/plain": [
       "<matplotlib.collections.PathCollection at 0x27f91f5c888>"
      ]
     },
     "execution_count": 14,
     "metadata": {},
     "output_type": "execute_result"
    },
    {
     "data": {
      "image/png": "[encoded data removed]",
      "text/plain": [
       "<Figure size 432x288 with 1 Axes>"
      ]
     },
     "metadata": {
      "needs_background": "light"
     },
     "output_type": "display_data"
    }
   ],
   "source": [
    "max_x = 500\n",
    "X = torch.from_numpy(np.arange(-max_x, max_x))\n",
    "y = poly_func(X)\n",
    "plt.scatter(X, y)"
   ]
  },
  {
   "cell_type": "markdown",
   "metadata": {},
   "source": [
    "## How do we approach a polynomial regression problem?\n",
    "\n",
    "### Still a linear regression problem, but with multiple derived features\n",
    "\n",
    "If we look at our original linear regression problem, we can write it as:\n",
    "\n",
    "## $y = mx^1 + bx^0$\n",
    "\n",
    "This gives us 2 features.\n",
    "\n",
    "When we built our model, we had two weights, one for each feature.\n",
    "\n",
    "With our polynomial, we will have 4 features:\n",
    "\n",
    "## $y = {m_3}x^3 + {m_2}x^2 + {m_1}x^1 + bx^0$\n",
    "\n",
    "So we will need 4 weights:\n",
    "\n",
    "### ${m_3}, {m_2}, {m_1}, b$\n",
    "\n",
    "The y-intercept is not dependent on x, so we only need to add 2 more features that we had for our linear model.\n"
   ]
  },
  {
   "cell_type": "markdown",
   "metadata": {},
   "source": [
    "## How do we get the $x^2$ and $x^3$ features when we only have $x$?\n",
    "\n",
    "We need to extend this single value into all 4 features:\n",
    "\n",
    "$x^3$\n",
    "$x^2$\n",
    "$x^1$\n",
    "$x^0$\n",
    "\n",
    "For example, if $x=7.2$, the values for the 4 features would be:\n",
    "\n",
    "${7.2}^3 = 372.248$\n",
    "\n",
    "${7.2}^2 = 51.842$\n",
    "\n",
    "${7.2}^1 = 7.2$\n",
    "\n",
    "${7.2}^0 = 1$\n",
    "\n",
    "We are not adding any new data, we simply are presenting the same data in 4 different ways.  Each value of x will have different values for $x^2$ and $x^3$.\n",
    "\n",
    "#### As training progresses, these weights or coefficients become closer to the actual coefficients of our polynomial.\n",
    "\n",
    "For $x=7.2$, we are see adjust the weights for out 4 features:\n",
    "\n",
    "\n",
    "### $\\hat{y} = {w_3}{372.248} + {w_2}{51.842} + {w_1}{7.2} + {w_0}{1}$"
   ]
  },
  {
   "cell_type": "markdown",
   "metadata": {},
   "source": [
    "### Let's build X, but withall 4 feature we described above\n",
    "\n",
    "*Note: We could have simply used SKLearn PolynomialFeatures transformation, but we will build it manually here to give a better understanding of what it will do.*"
   ]
  },
  {
   "cell_type": "code",
   "execution_count": 15,
   "metadata": {},
   "outputs": [],
   "source": [
    "def polyFeatures(value, degree=2):\n",
    "    result = []\n",
    "    for i in range(degree+1): #add one since zero based, degree 2 gives 3 values [0,1,2]\n",
    "        result.append(float(value)**i)\n",
    "    return result\n",
    "def ployFeaturePoints(start, end, stride, degree=2):\n",
    "    result = []\n",
    "    points = np.arange(start, end, stride)\n",
    "    for i in points:\n",
    "        result.append(polyFeatures(i, degree))\n",
    "    return result"
   ]
  },
  {
   "cell_type": "code",
   "execution_count": 16,
   "metadata": {},
   "outputs": [
    {
     "name": "stdout",
     "output_type": "stream",
     "text": [
      "Columns:[ x^0,   x,   x^2,  x^3]\n"
     ]
    },
    {
     "data": {
      "text/plain": [
       "tensor([[  1.,   0.,   0.,   0.],\n",
       "        [  1.,   1.,   1.,   1.],\n",
       "        [  1.,   2.,   4.,   8.],\n",
       "        [  1.,   3.,   9.,  27.],\n",
       "        [  1.,   4.,  16.,  64.],\n",
       "        [  1.,   5.,  25., 125.],\n",
       "        [  1.,   6.,  36., 216.],\n",
       "        [  1.,   7.,  49., 343.],\n",
       "        [  1.,   8.,  64., 512.]], grad_fn=<SliceBackward>)"
      ]
     },
     "execution_count": 16,
     "metadata": {},
     "output_type": "execute_result"
    }
   ],
   "source": [
    "poly_X = torch.tensor(ployFeaturePoints(start=-500, end=500, stride=1, degree=3), requires_grad=True)\n",
    "print('Columns:[ x^0,   x,   x^2,  x^3]')\n",
    "poly_X[500:509] "
   ]
  },
  {
   "cell_type": "code",
   "execution_count": 17,
   "metadata": {},
   "outputs": [
    {
     "data": {
      "text/plain": [
       "tensor([ 148.,  199.,  346.,  601.,  976., 1483., 2134., 2941., 3916.],\n",
       "       grad_fn=<SliceBackward>)"
      ]
     },
     "execution_count": 17,
     "metadata": {},
     "output_type": "execute_result"
    }
   ],
   "source": [
    "poly_y = poly_func(poly_X[:,1])\n",
    "poly_y[500:509]"
   ]
  },
  {
   "cell_type": "markdown",
   "metadata": {},
   "source": [
    "### We now have to build 4 weights\n",
    "\n",
    "We only had to build 2 weights for our linear regression m and b"
   ]
  },
  {
   "cell_type": "code",
   "execution_count": 18,
   "metadata": {},
   "outputs": [],
   "source": [
    "bias_weight = np.random.normal(0, .01)\n",
    "order_1_weight = np.random.normal(.7, .01)\n",
    "order_2_weight = np.random.normal(.7, .01)\n",
    "order_3_weight = np.random.normal(.7, .01)"
   ]
  },
  {
   "cell_type": "code",
   "execution_count": 19,
   "metadata": {},
   "outputs": [],
   "source": [
    "polynominal_weights = torch.tensor([bias_weight, order_1_weight, order_2_weight, order_3_weight], requires_grad=True)"
   ]
  },
  {
   "cell_type": "markdown",
   "metadata": {},
   "source": [
    "### We have to make 3 small changes to our model class\n",
    "\n",
    "- Update the **train** function to predict the polynomial output\n",
    "- Add retain_graph=True to the loss.backward call.  Our simple linear model was able to get away with this since the graph was so simple, but our polynomial computational graph is too complicated to build the graph on the fly.\n",
    "- Add an activation function (tanh) to tame our loss to manageable values. "
   ]
  },
  {
   "cell_type": "code",
   "execution_count": 20,
   "metadata": {},
   "outputs": [],
   "source": [
    "class PolynomialModel:\n",
    "    def __init__(self, params):\n",
    "        self.parameters = params # weights for slope and bias (could have been stored outside of model)\n",
    "        self.y_pred = None # Will hold last prediction when training loop is done\n",
    "        self.weight_history = [] # Will hold every parameter after step, add baseline params now\n",
    "        self.weight_history.append(np.array([float(self.parameters[0][0]),\n",
    "                                                 float(self.parameters[0][1]),\n",
    "                                                 float(self.parameters[0][2]),\n",
    "                                                 float(self.parameters[0][3])]))\n",
    "    def set_learning_objects(self, criterion, optimizer):\n",
    "        self.criterion = criterion\n",
    "        self.optimizer = optimizer\n",
    "    def train(self, X):\n",
    "        return  self.parameters[0][3] * X[:,3] + \\\n",
    "                self.parameters[0][2] * X[:,2] + \\\n",
    "                self.parameters[0][1] * X[:,1] + \\\n",
    "                self.parameters[0][0] * X[:,0]\n",
    "    def training_loop(self, epochs, X, y):\n",
    "        for epoch in [e+1 for e in range(epochs)]: # Make ephochs 1 based\n",
    "            self.y_pred = self.train(X) # No batching here, run all data, adjust the weights once\n",
    "            loss = torch.tanh(self.criterion(self.y_pred, y)) # What ever loss function that was passed is used\n",
    "            self.optimizer.zero_grad() # Gradients sum with each back prop, so we need to zero\n",
    "            loss.backward(retain_graph=True) # The acutal back proagation\n",
    "            self.optimizer.step() # Updates the weights (self.parameters)\n",
    "            self.weight_history.append(np.array([float(self.parameters[0][0]),\n",
    "                                                 float(self.parameters[0][1]),\n",
    "                                                 float(self.parameters[0][2]),\n",
    "                                                 float(self.parameters[0][3])]))\n",
    "            print(\"Epoch: {} - Loss: {}\".format(epoch, float(loss)))\n",
    "    def predict(self, X):\n",
    "        return self.train(X).detach().numpy()"
   ]
  },
  {
   "cell_type": "code",
   "execution_count": 21,
   "metadata": {},
   "outputs": [],
   "source": [
    "polyModel = PolynomialModel([polynominal_weights])\n",
    "\n",
    "#hyper-parameters\n",
    "epochs = 10\n",
    "learning_rate = 1e-2\n",
    "\n",
    "#loss\n",
    "criterion = torch.nn.L1Loss() # Loss can get very big, so use L1:abs(diff) vs L2:(dif)^2\n",
    "optimizer = optim.SGD(polyModel.parameters, lr=learning_rate)\n",
    "\n",
    "\n",
    "polyModel.set_learning_objects(criterion, optimizer)"
   ]
  },
  {
   "cell_type": "code",
   "execution_count": 22,
   "metadata": {},
   "outputs": [
    {
     "name": "stdout",
     "output_type": "stream",
     "text": [
      "Epoch: 1 - Loss: 1.0\n",
      "Epoch: 2 - Loss: 1.0\n",
      "Epoch: 3 - Loss: 1.0\n",
      "Epoch: 4 - Loss: 1.0\n",
      "Epoch: 5 - Loss: 1.0\n",
      "Epoch: 6 - Loss: 1.0\n",
      "Epoch: 7 - Loss: 1.0\n",
      "Epoch: 8 - Loss: 1.0\n",
      "Epoch: 9 - Loss: 1.0\n",
      "Epoch: 10 - Loss: 1.0\n"
     ]
    }
   ],
   "source": [
    "polyModel.training_loop(epochs, poly_X, poly_y)"
   ]
  },
  {
   "cell_type": "code",
   "execution_count": 23,
   "metadata": {},
   "outputs": [
    {
     "data": {
      "image/png": "[encoded data removed]",
      "text/plain": [
       "<Figure size 432x288 with 1 Axes>"
      ]
     },
     "metadata": {
      "needs_background": "light"
     },
     "output_type": "display_data"
    }
   ],
   "source": [
    "plt.scatter(poly_X[:,1].detach().numpy(), poly_y.detach().numpy(), color='b', label='Actual')\n",
    "plt.scatter(poly_X[:,1].detach().numpy(), polyModel.y_pred.detach().numpy(), color='r', label='Predicted')\n",
    "plt.title('Training Predictions')\n",
    "plt.legend()\n",
    "plt.show()"
   ]
  },
  {
   "cell_type": "markdown",
   "metadata": {},
   "source": [
    "### We can see that we has some limited success\n",
    "\n",
    "Note: the loss was saturated after the first epoch.\n",
    "\n",
    "This is because our 4 features are so unbalanced.\n",
    "\n",
    "To see this, let's look at the values for our min and max x:"
   ]
  },
  {
   "cell_type": "code",
   "execution_count": 24,
   "metadata": {},
   "outputs": [
    {
     "name": "stdout",
     "output_type": "stream",
     "text": [
      "Columns:[ x^0,         x,           x^2,         x^3]\n"
     ]
    },
    {
     "data": {
      "text/plain": [
       "tensor([[ 1.0000e+00, -5.0000e+02,  2.5000e+05, -1.2500e+08],\n",
       "        [ 1.0000e+00,  4.9900e+02,  2.4900e+05,  1.2425e+08]],\n",
       "       grad_fn=<IndexBackward>)"
      ]
     },
     "execution_count": 24,
     "metadata": {},
     "output_type": "execute_result"
    }
   ],
   "source": [
    "print('Columns:[ x^0,         x,           x^2,         x^3]')\n",
    "poly_X[[0,-1]] "
   ]
  },
  {
   "cell_type": "markdown",
   "metadata": {},
   "source": [
    "### The $x$ values are -500 and 499.  \n",
    "\n",
    "### The $x^3$ values are about +/- 125,000,000.\n",
    "\n",
    "This makes training very difficult.  Training is done on a single scalar loss value.  \n",
    "\n",
    "The contributions made by $x^3$ overwhelm losses from the other 3 features.\n",
    "\n",
    "The solution is to scale the 4 features to the same min and max.\n",
    "\n",
    "This should solve our training problem, but will have to figure out how to remove this scaling if we want to compare our final weights from the model to the known polynomial.\n"
   ]
  },
  {
   "cell_type": "code",
   "execution_count": 25,
   "metadata": {},
   "outputs": [
    {
     "name": "stdout",
     "output_type": "stream",
     "text": [
      "499.0 250000.0 124251496.0\n",
      "\n",
      "Columns:[ x^0,         scaled(x),   scaled(x^2), scaled(x^3])\n"
     ]
    },
    {
     "data": {
      "text/plain": [
       "tensor([[ 1.0000e+00, -1.0020e+00,  1.0000e+00, -1.0060e+00],\n",
       "        [ 1.0000e+00,  0.0000e+00,  0.0000e+00,  0.0000e+00],\n",
       "        [ 1.0000e+00,  2.0040e-03,  4.0000e-06,  8.0482e-09],\n",
       "        [ 1.0000e+00,  1.6032e-02,  2.5600e-04,  4.1207e-06],\n",
       "        [ 1.0000e+00,  1.0000e+00,  9.9600e-01,  1.0000e+00]],\n",
       "       grad_fn=<IndexBackward>)"
      ]
     },
     "execution_count": 25,
     "metadata": {},
     "output_type": "execute_result"
    }
   ],
   "source": [
    "poly_X = torch.tensor(ployFeaturePoints(start=-500, end=500, stride=1, degree=3), \n",
    "                                          requires_grad=True)\n",
    "\n",
    "\n",
    "max_poly_X_0, max_poly_X_1 = 1, poly_X[:,1].max()\n",
    "max_poly_X_2, max_poly_X_3 = poly_X[:,2].max(),poly_X[:,3].max()\n",
    "print(max_poly_X_1.detach().numpy(), max_poly_X_2.detach().numpy(), max_poly_X_3.detach().numpy())\n",
    "\n",
    "poly_X[:,1] = poly_X[:,1] / max_poly_X_1\n",
    "poly_X[:,2] = poly_X[:,2] / max_poly_X_2\n",
    "poly_X[:,3] = poly_X[:,3] / max_poly_X_3\n",
    "\n",
    "poly_X_data = poly_X.detach().numpy()\n",
    "\n",
    "poly_X = torch.tensor(poly_X_data, requires_grad=True)\n",
    "\n",
    "\n",
    "print('\\nColumns:[ x^0,         scaled(x),   scaled(x^2), scaled(x^3])')\n",
    "poly_X[[0, 500, 501, 508, -1]] "
   ]
  },
  {
   "cell_type": "markdown",
   "metadata": {},
   "source": [
    "## 3 changes for the scaled version\n",
    "\n",
    "- Loss changes to the more traditional Mean Squared Error\n",
    "- Remove the hack of doing tanh on loss result\n",
    "- A lot more epochs since we are now doing actual training\n"
   ]
  },
  {
   "cell_type": "code",
   "execution_count": 26,
   "metadata": {},
   "outputs": [],
   "source": [
    "class ScaledPolynomialModel:\n",
    "    def __init__(self, params):\n",
    "        self.parameters = params # weights for slope and bias (could have been stored outside of model)\n",
    "        self.y_pred = None # Will hold last prediction when training loop is done\n",
    "        self.weight_history = [] # Will hold every parameter after step, add baseline params now\n",
    "        self.weight_history.append(np.array([float(self.parameters[0][0]),\n",
    "                                                 float(self.parameters[0][1]),\n",
    "                                                 float(self.parameters[0][2]),\n",
    "                                                 float(self.parameters[0][3])]))\n",
    "    def set_learning_objects(self, criterion, optimizer):\n",
    "        self.criterion = criterion\n",
    "        self.optimizer = optimizer\n",
    "    def train(self, X):\n",
    "        return  self.parameters[0][3] * X[:,3] + \\\n",
    "                self.parameters[0][2] * X[:,2] + \\\n",
    "                self.parameters[0][1] * X[:,1] + \\\n",
    "                self.parameters[0][0] * X[:,0]\n",
    "    def training_loop(self, epochs, X, y):\n",
    "        for epoch in [e+1 for e in range(epochs)]: # Make ephochs 1 based\n",
    "            self.y_pred = self.train(X) # No batching here, run all data, adjust the weights once\n",
    "            loss = self.criterion(self.y_pred, y) # What ever loss function that was passed is used\n",
    "            self.optimizer.zero_grad() # Gradients sum with each back prop, so we need to zero\n",
    "            loss.backward(retain_graph=True) # The acutal back proagation\n",
    "            self.optimizer.step() # Updates the weights (self.parameters)\n",
    "            self.weight_history.append(np.array([float(self.parameters[0][0]),\n",
    "                                                 float(self.parameters[0][1]),\n",
    "                                                 float(self.parameters[0][2]),\n",
    "                                                 float(self.parameters[0][3])]))\n",
    "            if epoch % 2000 == 0:\n",
    "                print(\"Epoch: {} - Loss: {}\".format(epoch, float(loss)))\n",
    "    def predict(self, X):\n",
    "        return self.train(X).detach().numpy()"
   ]
  },
  {
   "cell_type": "code",
   "execution_count": 27,
   "metadata": {},
   "outputs": [],
   "source": [
    "polyModel = ScaledPolynomialModel([polynominal_weights])\n",
    "\n",
    "#hyper-parameters\n",
    "epochs = 40000\n",
    "learning_rate = 1e-2\n",
    "\n",
    "#loss\n",
    "criterion = torch.nn.MSELoss() \n",
    "optimizer = optim.SGD(polyModel.parameters, lr=learning_rate)\n",
    "\n",
    "\n",
    "polyModel.set_learning_objects(criterion, optimizer)"
   ]
  },
  {
   "cell_type": "code",
   "execution_count": 28,
   "metadata": {},
   "outputs": [
    {
     "name": "stdout",
     "output_type": "stream",
     "text": [
      "Epoch: 2000 - Loss: 193365870116864.0\n",
      "Epoch: 4000 - Loss: 50662964461568.0\n",
      "Epoch: 6000 - Loss: 13274942799872.0\n",
      "Epoch: 8000 - Loss: 3478348103680.0\n",
      "Epoch: 10000 - Loss: 911424290816.0\n",
      "Epoch: 12000 - Loss: 238831730688.0\n",
      "Epoch: 14000 - Loss: 62600024064.0\n",
      "Epoch: 16000 - Loss: 16416799744.0\n",
      "Epoch: 18000 - Loss: 4325374976.0\n",
      "Epoch: 20000 - Loss: 1144720640.0\n",
      "Epoch: 22000 - Loss: 309274432.0\n",
      "Epoch: 24000 - Loss: 88328600.0\n",
      "Epoch: 26000 - Loss: 20937298.0\n",
      "Epoch: 28000 - Loss: 8111480.0\n",
      "Epoch: 30000 - Loss: 7029506.0\n",
      "Epoch: 32000 - Loss: 6915908.5\n",
      "Epoch: 34000 - Loss: 6916021.0\n",
      "Epoch: 36000 - Loss: 6916021.0\n",
      "Epoch: 38000 - Loss: 6916021.0\n",
      "Epoch: 40000 - Loss: 6916021.0\n"
     ]
    }
   ],
   "source": [
    "polyModel.training_loop(epochs, poly_X, poly_y)"
   ]
  },
  {
   "cell_type": "markdown",
   "metadata": {},
   "source": [
    "## We see a nice decrease in the loss function\n",
    "\n",
    "This takes a lot of epohs, but they were quick.\n",
    "\n",
    "Let's plot the results.  \n",
    "\n",
    "*Note: We will use X and not poly_x for our plot since we want to use the non-scaled version of the x-axis.*"
   ]
  },
  {
   "cell_type": "code",
   "execution_count": 29,
   "metadata": {},
   "outputs": [
    {
     "data": {
      "image/png": "[encoded data removed]",
      "text/plain": [
       "<Figure size 432x288 with 1 Axes>"
      ]
     },
     "metadata": {
      "needs_background": "light"
     },
     "output_type": "display_data"
    }
   ],
   "source": [
    "plt.scatter(X.detach().numpy(), poly_y.detach().numpy(), color='b', label='Actual')\n",
    "plt.scatter(X.detach().numpy(), polyModel.y_pred.detach().numpy(), color='r', label='Predicted')\n",
    "plt.title('Training Predictions')\n",
    "plt.legend()\n",
    "plt.show()"
   ]
  },
  {
   "cell_type": "markdown",
   "metadata": {},
   "source": [
    "### Now let's take a look at the final weights of our model"
   ]
  },
  {
   "cell_type": "code",
   "execution_count": 30,
   "metadata": {},
   "outputs": [
    {
     "name": "stdout",
     "output_type": "stream",
     "text": [
      "w3: 248485712.0\n",
      "w2: 10499666.0\n",
      "w1: 13902.271484375\n",
      "w0: 252.0009002685547\n",
      "\n"
     ]
    }
   ],
   "source": [
    "w3 = polyModel.parameters[0][3].item()\n",
    "w2 = polyModel.parameters[0][2].item()\n",
    "w1 = polyModel.parameters[0][1].item()\n",
    "w0 = polyModel.parameters[0][0].item()\n",
    "\n",
    "print(f'w3: {w3}\\nw2: {w2}\\nw1: {w1}\\nw0: {w0}\\n')"
   ]
  },
  {
   "cell_type": "markdown",
   "metadata": {},
   "source": [
    "### But these don't match our actual polynomial:\n",
    "\n",
    "## $y = 2x^3 + 42x^2 + 7x + 148$\n",
    "\n",
    "${w3} = 2$\n",
    "\n",
    "${w2} = 42$\n",
    "\n",
    "${w1} = 7$\n",
    "\n",
    "${w0} = 148$\n",
    "\n",
    "But remember we scaled our inputs, so we have to un-scale the weights to get the coefficients:"
   ]
  },
  {
   "cell_type": "code",
   "execution_count": 31,
   "metadata": {},
   "outputs": [
    {
     "name": "stdout",
     "output_type": "stream",
     "text": [
      "w3: 1.9998610019683838\n",
      "w2: 41.99866485595703\n",
      "w1: 27.86026382446289\n",
      "w0: 252.0009002685547\n",
      "\n"
     ]
    }
   ],
   "source": [
    "w3 = w3 / max_poly_X_3\n",
    "w2 = w2 / max_poly_X_2\n",
    "w1 = w1 / max_poly_X_1\n",
    "w0 = w0 / max_poly_X_0\n",
    "\n",
    "print(f'w3: {w3}\\nw2: {w2}\\nw1: {w1}\\nw0: {w0}\\n')"
   ]
  },
  {
   "cell_type": "markdown",
   "metadata": {},
   "source": [
    "## Not too bad\n",
    "\n",
    "We see the coefficients for the 2 higher order powers are more accurate, so these are probably still dominating the other 2 coefficients.\n"
   ]
  }
 ],
 "metadata": {
  "kernelspec": {
   "display_name": "Python 3",
   "language": "python",
   "name": "python3"
  },
  "language_info": {
   "codemirror_mode": {
    "name": "ipython",
    "version": 3
   },
   "file_extension": ".py",
   "mimetype": "text/x-python",
   "name": "python",
   "nbconvert_exporter": "python",
   "pygments_lexer": "ipython3",
   "version": "3.7.4"
  }
 },
 "nbformat": 4,
 "nbformat_minor": 2
}
