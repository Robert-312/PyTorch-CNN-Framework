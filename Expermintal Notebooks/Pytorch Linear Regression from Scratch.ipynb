{
 "cells": [
  {
   "cell_type": "code",
   "execution_count": 1,
   "metadata": {},
   "outputs": [],
   "source": [
    "import numpy as np\n",
    "import pandas as pd\n",
    "import matplotlib.pyplot as plt\n",
    "from IPython.display import display\n",
    "\n",
    "from sklearn import metrics\n",
    "\n",
    "import torch\n",
    "import torch.optim as optim"
   ]
  },
  {
   "cell_type": "code",
   "execution_count": 2,
   "metadata": {},
   "outputs": [
    {
     "name": "stdout",
     "output_type": "stream",
     "text": [
      "-9.826031844934306 -72.18604237675936\n"
     ]
    },
    {
     "data": {
      "text/plain": [
       "<matplotlib.collections.PathCollection at 0x1e17778a448>"
      ]
     },
     "execution_count": 2,
     "metadata": {},
     "output_type": "execute_result"
    },
    {
     "data": {
      "image/png": "[encoded data removed]",
      "text/plain": [
       "<Figure size 432x288 with 1 Axes>"
      ]
     },
     "metadata": {
      "needs_background": "light"
     },
     "output_type": "display_data"
    }
   ],
   "source": [
    "max_x = 500\n",
    "slope_range = [.1, 10]\n",
    "slope_direction = np.random.choice([-1,1])\n",
    "intercept_range = [-80, 80]\n",
    "residual_var = 100\n",
    "X = torch.from_numpy(np.arange(max_x))\n",
    "X = X.type(torch.float64)\n",
    "m = np.random.uniform(*slope_range) * slope_direction\n",
    "b = np.random.uniform(*intercept_range)\n",
    "# m, b = -0.6346013753477167, 52.297166992434484 # mis match in magnitude, learning for b will not be good\n",
    "# m, b = 5, 5\n",
    "y = m * X + b + np.random.normal(0, residual_var, len(X)) * m/3\n",
    "print(m, b)\n",
    "plt.scatter(X, y)"
   ]
  },
  {
   "cell_type": "code",
   "execution_count": 3,
   "metadata": {
    "scrolled": true
   },
   "outputs": [],
   "source": [
    "class Model:\n",
    "    def __init__(self, params):\n",
    "        self.parameters = params # weights for slope and bias (could have been stored outside of model)\n",
    "        self.y_pred = None # Will hold last prediction when training loop is done\n",
    "        self.wait_history = [] # Will hold every parameter after step, add baseline params now\n",
    "        self.wait_history.append(np.array([float(self.parameters[0][0]),float(self.parameters[0][1])]))\n",
    "    def set_learning_objects(self, criterion, optimizer):\n",
    "        self.criterion = criterion\n",
    "        self.optimizer = optimizer\n",
    "    def train(self, X):\n",
    "        return self.parameters[0][0] * X + self.parameters[0][1] # Simple line with current m and b weights\n",
    "    def training_loop(self, epochs, X, y):\n",
    "        for epoch in [e+1 for e in range(epochs)]: # Make ephochs 1 based\n",
    "            self.y_pred = self.train(X) # No batching here, run all data, adjust the weights once\n",
    "            loss = self.criterion(self.y_pred, y) # What ever loss function that was passed is used\n",
    "            self.optimizer.zero_grad() # Gradients sum with each back prop, so we need to zero\n",
    "            loss.backward() # The acutal back proagation\n",
    "            self.optimizer.step() # Updates the weights (self.parameters)\n",
    "            self.wait_history.append(np.array([float(self.parameters[0][0]),float(self.parameters[0][1])]))\n",
    "            if epoch % 10 == 0 or epoch == np.max(range(epochs)):\n",
    "                print(\"Epoch: {} - Loss: {}\".format(epoch, float(loss)))\n",
    "    def predict(self, X):\n",
    "        return self.train(X).detach().numpy()"
   ]
  },
  {
   "cell_type": "code",
   "execution_count": 4,
   "metadata": {},
   "outputs": [
    {
     "data": {
      "text/plain": [
       "0.7089767642547514"
      ]
     },
     "execution_count": 4,
     "metadata": {},
     "output_type": "execute_result"
    }
   ],
   "source": [
    "initial_slope_weights = np.random.normal(.7, .01) #No specal sauce here, but we don't want to start at the extreams (too near 0 or 1)\n",
    "initial_slope_weights"
   ]
  },
  {
   "cell_type": "code",
   "execution_count": 5,
   "metadata": {},
   "outputs": [
    {
     "data": {
      "text/plain": [
       "7.001284548612026e-05"
      ]
     },
     "execution_count": 5,
     "metadata": {},
     "output_type": "execute_result"
    }
   ],
   "source": [
    "inital_bias_weight = np.random.normal(0, .01) #No specal sauce here, but we don't want to start at the extreams (too near 0 or 1)\n",
    "inital_bias_weight"
   ]
  },
  {
   "cell_type": "code",
   "execution_count": 6,
   "metadata": {},
   "outputs": [],
   "source": [
    "#weights are a enumerable tensor.  In our simple r1 maps to r1, it is just 2 trainable paramaters\n",
    "weights_bias = torch.tensor([initial_slope_weights, inital_bias_weight], requires_grad=True) # requires_grad=True maintains the state for the back prop"
   ]
  },
  {
   "cell_type": "code",
   "execution_count": 7,
   "metadata": {},
   "outputs": [],
   "source": [
    "#custom optimizer, just plain old Gradiant Decent with a learning rate\n",
    "class GD_Optimizer(optim.Optimizer):\n",
    "    def __init__(self, params, lr=1e-3):\n",
    "        if lr < 0.0:\n",
    "            raise ValueError(\"Invalid learning rate: {}\".format(lr))\n",
    "\n",
    "        defaults = dict(lr=lr)\n",
    "        super(GD_Optimizer, self).__init__(params, defaults)\n",
    "\n",
    "    def step(self, closure=None):\n",
    "        \"\"\"Performs a single optimization step.\n",
    "\n",
    "        Arguments:\n",
    "            closure (callable, optional): A closure that reevaluates the model\n",
    "                and returns the loss.\n",
    "        \"\"\"\n",
    "        loss = None\n",
    "        if closure is not None:\n",
    "            loss = closure()\n",
    "\n",
    "        for group in self.param_groups:\n",
    "\n",
    "            for p in group['params']:\n",
    "                if p.grad is None:\n",
    "                    continue\n",
    "                d_p = p.grad.data\n",
    "\n",
    "                p.data.add_(-group['lr'], d_p)\n",
    "\n",
    "        return loss            "
   ]
  },
  {
   "cell_type": "code",
   "execution_count": 8,
   "metadata": {},
   "outputs": [],
   "source": [
    "model = Model([weights_bias])\n",
    "\n",
    "#hyper-parameters\n",
    "epochs = 100\n",
    "learning_rate = 1e-3\n",
    "\n",
    "#loss\n",
    "# criterion = torch.nn.MSELoss()\n",
    "# criterion = torch.nn.SmoothL1Loss()\n",
    "# criterion = torch.nn.L1Loss()\n",
    "# criterion = lambda y, y_pred : torch.mean((y - y_pred)**2)\n",
    "criterion = lambda y, y_pred : torch.mean(abs(y - y_pred))\n",
    "\n",
    "# back prop gradient decent optimizer\n",
    "# optimizer = optim.SGD(model.parameters, lr=learning_rate)\n",
    "# optimizer = optim.SGD(model.parameters, lr=learning_rate, momentum=0.9)\n",
    "# optimizer = optim.Adam(model.parameters)\n",
    "optimizer = GD_Optimizer(model.parameters, lr=learning_rate)\n",
    "\n",
    "\n",
    "model.set_learning_objects(criterion, optimizer)"
   ]
  },
  {
   "cell_type": "code",
   "execution_count": 9,
   "metadata": {},
   "outputs": [
    {
     "name": "stdout",
     "output_type": "stream",
     "text": [
      "Epoch: 10 - Loss: 2174.831553342179\n",
      "Epoch: 20 - Loss: 1564.7592993235485\n",
      "Epoch: 30 - Loss: 966.9872003611034\n",
      "Epoch: 40 - Loss: 428.732283770315\n",
      "Epoch: 50 - Loss: 280.16584734882656\n",
      "Epoch: 60 - Loss: 275.39768718715385\n",
      "Epoch: 70 - Loss: 275.3525016818461\n",
      "Epoch: 80 - Loss: 275.34252467887035\n",
      "Epoch: 90 - Loss: 275.3431179413018\n",
      "Epoch: 99 - Loss: 275.34315468848916\n",
      "Epoch: 100 - Loss: 275.34195327892746\n"
     ]
    }
   ],
   "source": [
    "model.training_loop(epochs, X, y)"
   ]
  },
  {
   "cell_type": "code",
   "execution_count": 10,
   "metadata": {},
   "outputs": [
    {
     "data": {
      "text/plain": [
       "<matplotlib.axes._subplots.AxesSubplot at 0x1e17781c508>"
      ]
     },
     "execution_count": 10,
     "metadata": {},
     "output_type": "execute_result"
    },
    {
     "data": {
      "image/png": "[encoded data removed]",
      "text/plain": [
       "<Figure size 432x288 with 1 Axes>"
      ]
     },
     "metadata": {
      "needs_background": "light"
     },
     "output_type": "display_data"
    }
   ],
   "source": [
    "weightsdf = pd.DataFrame(model.wait_history, columns=['Slope Weight', 'Intercept Weight'])\n",
    "weightsdf.plot()"
   ]
  },
  {
   "cell_type": "code",
   "execution_count": 11,
   "metadata": {},
   "outputs": [
    {
     "data": {
      "text/html": [
       "<div>\n",
       "<style scoped>\n",
       "    .dataframe tbody tr th:only-of-type {\n",
       "        vertical-align: middle;\n",
       "    }\n",
       "\n",
       "    .dataframe tbody tr th {\n",
       "        vertical-align: top;\n",
       "    }\n",
       "\n",
       "    .dataframe thead th {\n",
       "        text-align: right;\n",
       "    }\n",
       "</style>\n",
       "<table border=\"1\" class=\"dataframe\">\n",
       "  <thead>\n",
       "    <tr style=\"text-align: right;\">\n",
       "      <th></th>\n",
       "      <th>Slope</th>\n",
       "      <th>Intercept</th>\n",
       "    </tr>\n",
       "  </thead>\n",
       "  <tbody>\n",
       "    <tr>\n",
       "      <td>Model</td>\n",
       "      <td>-10.141589</td>\n",
       "      <td>-0.040954</td>\n",
       "    </tr>\n",
       "    <tr>\n",
       "      <td>Actual</td>\n",
       "      <td>-9.826032</td>\n",
       "      <td>-72.186042</td>\n",
       "    </tr>\n",
       "    <tr>\n",
       "      <td>Initial Weights</td>\n",
       "      <td>0.708977</td>\n",
       "      <td>0.000070</td>\n",
       "    </tr>\n",
       "  </tbody>\n",
       "</table>\n",
       "</div>"
      ],
      "text/plain": [
       "                     Slope  Intercept\n",
       "Model           -10.141589  -0.040954\n",
       "Actual           -9.826032 -72.186042\n",
       "Initial Weights   0.708977   0.000070"
      ]
     },
     "metadata": {},
     "output_type": "display_data"
    },
    {
     "data": {
      "text/html": [
       "<div>\n",
       "<style scoped>\n",
       "    .dataframe tbody tr th:only-of-type {\n",
       "        vertical-align: middle;\n",
       "    }\n",
       "\n",
       "    .dataframe tbody tr th {\n",
       "        vertical-align: top;\n",
       "    }\n",
       "\n",
       "    .dataframe thead th {\n",
       "        text-align: right;\n",
       "    }\n",
       "</style>\n",
       "<table border=\"1\" class=\"dataframe\">\n",
       "  <thead>\n",
       "    <tr style=\"text-align: right;\">\n",
       "      <th></th>\n",
       "      <th>Metric</th>\n",
       "    </tr>\n",
       "  </thead>\n",
       "  <tbody>\n",
       "    <tr>\n",
       "      <td>Mean Absolute Error</td>\n",
       "      <td>2.844615e+04</td>\n",
       "    </tr>\n",
       "    <tr>\n",
       "      <td>Mean Squared Error</td>\n",
       "      <td>1.073386e+09</td>\n",
       "    </tr>\n",
       "    <tr>\n",
       "      <td>Root Mean Squared Error</td>\n",
       "      <td>3.276256e+04</td>\n",
       "    </tr>\n",
       "    <tr>\n",
       "      <td>R2</td>\n",
       "      <td>-4.938676e+02</td>\n",
       "    </tr>\n",
       "  </tbody>\n",
       "</table>\n",
       "</div>"
      ],
      "text/plain": [
       "                               Metric\n",
       "Mean Absolute Error      2.844615e+04\n",
       "Mean Squared Error       1.073386e+09\n",
       "Root Mean Squared Error  3.276256e+04\n",
       "R2                      -4.938676e+02"
      ]
     },
     "metadata": {},
     "output_type": "display_data"
    }
   ],
   "source": [
    "pred_slope = model.parameters[0][0].item()\n",
    "pred_intercept = model.parameters[0][1].item()\n",
    "mbdf = pd.DataFrame({\n",
    "                        'Model':[pred_slope, pred_intercept],\n",
    "                        'Actual':[m, b],\n",
    "                        'Initial Weights':[initial_slope_weights, inital_bias_weight]\n",
    "                    })\n",
    "mbdf = mbdf.transpose()\n",
    "mbdf.columns=['Slope', 'Intercept']\n",
    "display(mbdf)\n",
    "\n",
    "y_pred = model.predict(y)\n",
    "erdf = pd.DataFrame({\n",
    "                        'Mean Absolute Error':[metrics.mean_absolute_error(y, y_pred)],\n",
    "                        'Mean Squared Error':[metrics.mean_squared_error(y, y_pred)],\n",
    "                        'Root Mean Squared Error':[np.sqrt(metrics.mean_squared_error(y, y_pred))],\n",
    "                        'R2':[metrics.r2_score(y, y_pred)]\n",
    "                    })\n",
    "erdf = erdf.transpose()\n",
    "erdf.columns=['Metric']\n",
    "display(erdf)"
   ]
  },
  {
   "cell_type": "code",
   "execution_count": 12,
   "metadata": {},
   "outputs": [
    {
     "data": {
      "image/png": "[encoded data removed]",
      "text/plain": [
       "<Figure size 432x288 with 1 Axes>"
      ]
     },
     "metadata": {
      "needs_background": "light"
     },
     "output_type": "display_data"
    }
   ],
   "source": [
    "plt.scatter(X, y, color='b', label='Actual')\n",
    "plt.scatter(X, model.y_pred.detach().numpy(), color='r', label='Predicted')\n",
    "plt.title('Training Predictions')\n",
    "plt.legend()\n",
    "plt.show()"
   ]
  }
 ],
 "metadata": {
  "kernelspec": {
   "display_name": "Python 3",
   "language": "python",
   "name": "python3"
  },
  "language_info": {
   "codemirror_mode": {
    "name": "ipython",
    "version": 3
   },
   "file_extension": ".py",
   "mimetype": "text/x-python",
   "name": "python",
   "nbconvert_exporter": "python",
   "pygments_lexer": "ipython3",
   "version": "3.7.4"
  }
 },
 "nbformat": 4,
 "nbformat_minor": 2
}
