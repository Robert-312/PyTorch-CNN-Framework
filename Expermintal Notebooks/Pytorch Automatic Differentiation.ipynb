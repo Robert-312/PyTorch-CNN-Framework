{
 "cells": [
  {
   "cell_type": "markdown",
   "metadata": {},
   "source": [
    "# Autograd package in PyTorch\n",
    "\n",
    "The goal of this notebook is to play around with this package to get a better understanding of how PyTorch does automatic differentiation."
   ]
  },
  {
   "cell_type": "code",
   "execution_count": 1,
   "metadata": {},
   "outputs": [],
   "source": [
    "import numpy as np\n",
    "import torch\n",
    "from torch.autograd import Variable, grad"
   ]
  },
  {
   "cell_type": "markdown",
   "metadata": {},
   "source": [
    "### Variables\n",
    "\n",
    "We need to wrap our tensors as variables to be able to generate the back propagation and our gradients.\n",
    "\n",
    "Here, we create a simple scaler value $x=4$.  Even though it is nondimensional, we still need to make it a tensor."
   ]
  },
  {
   "cell_type": "code",
   "execution_count": 2,
   "metadata": {},
   "outputs": [
    {
     "name": "stdout",
     "output_type": "stream",
     "text": [
      "tensor([4.], requires_grad=True)\n",
      "None\n"
     ]
    }
   ],
   "source": [
    "x = Variable(torch.FloatTensor([4]), requires_grad=True)\n",
    "print(x)\n",
    "print(x.grad)"
   ]
  },
  {
   "cell_type": "markdown",
   "metadata": {},
   "source": [
    "### Single variable polynomial\n",
    "\n",
    "## $z = x^{3} + 2x^{2} + 8x$\n",
    "\n",
    "We will use a lambda function for this polynominal"
   ]
  },
  {
   "cell_type": "code",
   "execution_count": 3,
   "metadata": {},
   "outputs": [],
   "source": [
    "func_1 = lambda x: torch.pow(x, 3) + 2*torch.pow(x, 2) + 8*x"
   ]
  },
  {
   "cell_type": "markdown",
   "metadata": {},
   "source": [
    "### First Derivative\n",
    "\n",
    "Let's manually do the math to get the first derivative and evaluate it for $x=4$.\n",
    "\n",
    "### $\\frac{dz}{dx} = 3x^{2} + 4x + 8$\n",
    "\n",
    "### $\\frac{dz}{dx}\\Bigr|_{\\substack{x=4}} \\quad 3*4^{2} + 4*4 + 8 = 72$"
   ]
  },
  {
   "cell_type": "markdown",
   "metadata": {},
   "source": [
    "### Now let's see if PyTorch gets the same results\n",
    "\n",
    "Generate a new tensor $z$ that is the result of our function.\n",
    "\n",
    "We then take this result tensor and run the back propagation method.\n",
    "\n",
    "This sets the input variable $x$ grad attribute to first derivative evaluated at $x=4$."
   ]
  },
  {
   "cell_type": "code",
   "execution_count": 4,
   "metadata": {},
   "outputs": [
    {
     "name": "stdout",
     "output_type": "stream",
     "text": [
      "tensor([72.])\n"
     ]
    }
   ],
   "source": [
    "z = func_1(x)\n",
    "z.backward()\n",
    "print(x.grad)"
   ]
  },
  {
   "cell_type": "markdown",
   "metadata": {},
   "source": [
    "## Computation Graph\n",
    "\n",
    "Let's write our polynomial as composite functions to show how it would look as a computational graph.\n",
    "\n",
    "We will also add the derivative with respect to the local variable $w_i$\n",
    "\n",
    "## $z = x^{3} + 2x^{2} + 8x$\n",
    "\n",
    "$w_1 = x \\quad \\rightarrow \\quad \\dot{w_1} = 1$\n",
    "\n",
    "$w_2 = {w_1}^{3} \\quad \\rightarrow \\quad \\dot{w_2} = 3{w_1}^2$\n",
    "\n",
    "$w_3 = {w_1}^{2} \\quad \\rightarrow \\quad \\dot{w_3} = 2{w_1}$\n",
    "\n",
    "$w_4 = 2{w_3} \\quad \\rightarrow \\quad \\dot{w_4} = 2\\dot{w_3} \\quad$ *(chain rule)*\n",
    "\n",
    "$w_5 = 8{w_2} \\quad \\rightarrow \\quad \\dot{w_5} = 8$\n",
    "\n",
    "$w_6 = w_2 + w_4 + w_3 \\quad \\rightarrow \\quad \\dot{w_6} = \\dot{w_2} + \\dot{w_4} + \\dot{w_3}$\n",
    "\n",
    "\n",
    "#### Now let's find the numerical derivative for each node using $x=4$:\n",
    "\n",
    "${w_1} = x = 4$\n",
    "\n",
    "$\\dot{w_2} = 3{w_1}^2 = 48$\n",
    "\n",
    "$\\dot{w_3} = 2{w_1} = 8$\n",
    "\n",
    "$\\dot{w_4} = 2\\dot{w_3} = 16$\n",
    "\n",
    "$\\dot{w_5} = 8$\n",
    "\n",
    "$\\dot{w_6} = \\dot{w_2} + \\dot{w_4} + \\dot{w_5} = 48 + 16 + 8 = 72$\n",
    "\n",
    "#### This is how the gradient for the forward propagation is stored.  \n",
    "\n",
    "PyTorch does not use calculus per se, it has a set of known derivative equations for most math functions.\n",
    "\n",
    "During the forward, the gradient is stored as a numeric value.\n",
    "\n",
    "\n"
   ]
  },
  {
   "cell_type": "markdown",
   "metadata": {},
   "source": [
    "##### When backward is run, it is actually doing matrix multiplication\n",
    "\n",
    "The gradient is stored as a matrix (\"Jacobian\").  This is not the real Jacobian with symbolic derivatives, but an array of the values of the gradients like we did above with our computation graph.  It is a matrix since there can be multiple independant and dependant varialbes (features and loss functions). \n",
    "\n",
    "Why would their be multiple loss functions?  Think multi-class classification.  Let's say we have 3 lables or targets: Cat, Dog, and Deer.  Each one of these targets would have their own loss function.  We then combine these 5 losses into a single value.  So in this case, the Jacobian would have 3 rows. You can think of each row of values as the graidents for that loss function.\n",
    "\n",
    "i.e. The gradient for loss funciton $y_1$ with 3 features is:\n",
    "\n",
    "$\\frac{\\partial y_1}{\\partial x_1}, \\frac{\\partial y_1}{\\partial x_2}, \\frac{\\partial y_1}{\\partial x_3}$\n",
    "\n",
    "The gradient for loss funciton $y_2$ is:\n",
    "\n",
    "$\\frac{\\partial y_2}{\\partial x_1}, \\frac{\\partial y_2}{\\partial x_2}, \\frac{\\partial y_2}{\\partial x_3}$\n",
    "\n",
    "Symbolically, the Jacobian looks like this for 3 features [$x_1, x_2, x_3$] with 3 loss functions [$y_1, y_2, y_3$]\n",
    "\n",
    "\n",
    "$\\begin{pmatrix}\n",
    "  \\frac{\\partial y_1}{\\partial x_1} & \\frac{\\partial y_1}{\\partial x_2} & \\frac{\\partial y_1}{\\partial x_3} \\\\ \n",
    "  \\frac{\\partial y_2}{\\partial x_1} & \\frac{\\partial y_2}{\\partial x_2} & \\frac{\\partial y_2}{\\partial x_3}\\\\ \n",
    "  \\frac{\\partial y_3}{\\partial x_1} & \\frac{\\partial y_3}{\\partial x_2} & \\frac{\\partial y_3}{\\partial x_3}\n",
    "\\end{pmatrix}$\n",
    "\n",
    "Since on the forward pass, PyTorch only stored the numeric derivatives, the \"Jacobian\" would looke more like:\n",
    "\n",
    "$\\begin{pmatrix}\n",
    "  0.145 & 24.6 & 1.57 \\\\ \n",
    "  135 & 0.457 & 45.24\\\\ \n",
    " .001 & -75.4 & -22\n",
    "\\end{pmatrix}$\n",
    "\n",
    "In our first example $z = x^{3} + 2x^{2} + 8x$, we only had one function and one independant variable. so the Jacobian values would simply be for $x=4$:\n",
    "\n",
    "\n",
    "$\\begin{pmatrix}\n",
    "  72\n",
    "\\end{pmatrix}$\n"
   ]
  },
  {
   "cell_type": "markdown",
   "metadata": {},
   "source": [
    "PyTorch uses this matrix of derivative values in matrix multiplication, called Jacobian vector product (JVP).  \n",
    "\n",
    "$ J \\cdot v  = \\begin{pmatrix}\n",
    "  \\frac{\\partial y_1}{\\partial x_1} & \\frac{\\partial y_1}{\\partial x_2} & \\frac{\\partial y_1}{\\partial x_3} \\\\ \n",
    "  \\frac{\\partial y_2}{\\partial x_1} & \\frac{\\partial y_2}{\\partial x_2} & \\frac{\\partial y_2}{\\partial x_3}\\\\ \n",
    "  \\frac{\\partial y_3}{\\partial x_1} & \\frac{\\partial y_3}{\\partial x_2} & \\frac{\\partial y_3}{\\partial x_3}\n",
    "\\end{pmatrix}\\begin{pmatrix}\\frac{\\partial l}{\\partial y_1} \\\\ \\frac{\\partial l}{\\partial y_2} \\\\ \\frac{\\partial l}{\\partial y_3} \\end{pmatrix}$\n",
    "\n",
    "Looking at this with numeric values instead of symbolically we get something that looks like:\n",
    "\n",
    "$ J \\cdot v  = \\begin{pmatrix}\n",
    "  0.145 & 24.6 & 1.57 \\\\ \n",
    "  135 & 0.457 & 45.24\\\\ \n",
    " .001 & -75.4 & -22\n",
    "\\end{pmatrix}\\begin{pmatrix}1 \\\\ 1 \\\\ 1 \\end{pmatrix}$\n",
    "\n",
    "But what is this vector we are multiplying with the Jacobian?  \n",
    "\n",
    "This looks odd since you create a vector of ones.  The ones vector means it will return the values of the gradients unchanged.  You can weight the vector to scale the output, but since we want to see the raw gradients, we use a vector of ones.\n",
    "\n",
    "*Note: If there is only 1 row and a single variable (scalar), we can use default parameter for the backward function and not build the vector of ones.*"
   ]
  },
  {
   "cell_type": "code",
   "execution_count": 5,
   "metadata": {},
   "outputs": [
    {
     "name": "stdout",
     "output_type": "stream",
     "text": [
      "tensor([72.])\n"
     ]
    }
   ],
   "source": [
    "# reset the grad and find z again\n",
    "x.grad.data.zero_()\n",
    "z = func_1(x) \n",
    "\n",
    "vector_of_ones = torch.ones(x.shape[0])\n",
    "z.backward(vector_of_ones)\n",
    "print(x.grad)"
   ]
  },
  {
   "cell_type": "markdown",
   "metadata": {},
   "source": [
    "##### The computational graph is release automatically.  So running backward() twice throws an error"
   ]
  },
  {
   "cell_type": "code",
   "execution_count": 6,
   "metadata": {},
   "outputs": [
    {
     "name": "stdout",
     "output_type": "stream",
     "text": [
      "Trying to backward through the graph a second time, but the buffers have already been freed. Specify retain_graph=True when calling backward the first time.\n"
     ]
    }
   ],
   "source": [
    "try:\n",
    "    z.backward()\n",
    "except RuntimeError as err:\n",
    "    print(err)"
   ]
  },
  {
   "cell_type": "markdown",
   "metadata": {},
   "source": [
    "##### If we tell PyTorch to ratain the computation graph, we can run backward() multiple times\n",
    "\n",
    "But all this does is add sum the gradients again.\n",
    "\n",
    "72\n",
    "\n",
    "72+72=144\n",
    "\n",
    "72+72+72=216"
   ]
  },
  {
   "cell_type": "code",
   "execution_count": 7,
   "metadata": {},
   "outputs": [
    {
     "name": "stdout",
     "output_type": "stream",
     "text": [
      "tensor([72.])\n",
      "tensor([144.])\n",
      "tensor([216.])\n"
     ]
    }
   ],
   "source": [
    "# reset the grad and find z again\n",
    "x.grad.data.zero_()\n",
    "z = func_1(x)\n",
    "\n",
    "z.backward(retain_graph = True)\n",
    "print(x.grad)\n",
    "z.backward(retain_graph = True)\n",
    "print(x.grad)\n",
    "z.backward()\n",
    "print(x.grad)"
   ]
  },
  {
   "cell_type": "markdown",
   "metadata": {},
   "source": [
    "## Let's try a different function that is not a polynominal\n",
    "\n",
    "### $z = sin(x)$\n",
    "\n",
    "$\\frac {dz}{dx} = cos(x)$\n",
    "\n",
    "$\\frac{dz}{dx}\\Bigr|_{\\substack{x=4}} \\quad cos(4) \\approx  -0.6536$"
   ]
  },
  {
   "cell_type": "code",
   "execution_count": 8,
   "metadata": {},
   "outputs": [
    {
     "name": "stdout",
     "output_type": "stream",
     "text": [
      "tensor([-0.6536])\n"
     ]
    }
   ],
   "source": [
    "# reset the grad and find z again\n",
    "x.grad.data.zero_()\n",
    "z = func_1(x) \n",
    "\n",
    "func_2 = lambda x: torch.sin(x)\n",
    "z = func_2(x)\n",
    "\n",
    "z.backward()\n",
    "print(x.grad)"
   ]
  },
  {
   "cell_type": "markdown",
   "metadata": {},
   "source": [
    "### Multiple values, but still with a single variable\n",
    "\n",
    "We will use the same function above, $z = sin(x)$\n",
    "\n",
    "But now instead of passing in just one value for x, we will pass in an array of 10 values."
   ]
  },
  {
   "cell_type": "code",
   "execution_count": 9,
   "metadata": {},
   "outputs": [
    {
     "data": {
      "text/plain": [
       "tensor([4.7813, 3.7756, 3.2924, 0.4196, 1.4990, 0.4501, 5.0463, 3.4687, 3.1123,\n",
       "        0.6195], requires_grad=True)"
      ]
     },
     "execution_count": 9,
     "metadata": {},
     "output_type": "execute_result"
    }
   ],
   "source": [
    "X = Variable(2*np.pi * torch.rand(([10])), requires_grad=True)\n",
    "X"
   ]
  },
  {
   "cell_type": "markdown",
   "metadata": {},
   "source": [
    "##### We are now required to manually build and pass in the vector of ones since we no longer have a scalar"
   ]
  },
  {
   "cell_type": "code",
   "execution_count": 10,
   "metadata": {},
   "outputs": [
    {
     "name": "stdout",
     "output_type": "stream",
     "text": [
      "Z:\n",
      " tensor([-0.9976, -0.5924, -0.1502,  0.4074,  0.9974,  0.4350, -0.9448, -0.3213,\n",
      "         0.0293,  0.5806], grad_fn=<SinBackward>)\n",
      "\n",
      "PyTorch Gradient:\n",
      " [ 0.06890509 -0.8056764  -0.9886568   0.913239    0.0717485   0.90042096\n",
      "  0.3277364  -0.94696265 -0.99957055  0.81416917]\n",
      "\n",
      "Validate with cosine:\n",
      " [ 0.06890509 -0.8056764  -0.9886568   0.913239    0.0717485   0.90042096\n",
      "  0.3277364  -0.94696265 -0.99957055  0.81416917]\n"
     ]
    }
   ],
   "source": [
    "Z = func_2(X)\n",
    "print(f'Z:\\n {Z}')\n",
    "vector_of_ones = torch.ones(X.shape)\n",
    "Z.backward(vector_of_ones)\n",
    "print(f'\\nPyTorch Gradient:\\n {X.grad.data.numpy()}')\n",
    "#since we know Z' = cosine, we can varifiy the results from autograd\n",
    "print(f'\\nValidate with cosine:\\n {torch.cos(X).data.numpy()}')"
   ]
  },
  {
   "cell_type": "markdown",
   "metadata": {},
   "source": [
    "## 2 scaler variables\n",
    "\n",
    "We already defined $x=4$.\n",
    "\n",
    "Now let's define $y=2$."
   ]
  },
  {
   "cell_type": "code",
   "execution_count": 11,
   "metadata": {},
   "outputs": [
    {
     "name": "stdout",
     "output_type": "stream",
     "text": [
      "tensor([2.], requires_grad=True)\n",
      "None\n"
     ]
    }
   ],
   "source": [
    "# reset the grad on x\n",
    "x.grad.data.zero_()\n",
    "\n",
    "y = Variable(torch.FloatTensor([2]), requires_grad=True)\n",
    "print(y)\n",
    "print(y.grad)"
   ]
  },
  {
   "cell_type": "markdown",
   "metadata": {},
   "source": [
    "## Polynominal with 2 variables\n",
    "\n",
    "### $z = x^{3} + y^{2} + ax + b$"
   ]
  },
  {
   "cell_type": "code",
   "execution_count": 12,
   "metadata": {},
   "outputs": [],
   "source": [
    "func_3 = lambda x, y, a, b: torch.pow(x, 3) + torch.pow(y, 2) + a*x + b\n",
    "z = func_3(x, y, 1, 6)"
   ]
  },
  {
   "cell_type": "markdown",
   "metadata": {},
   "source": [
    "$\\frac{\\partial z}{\\partial x} = 3x^{2} + a$\n",
    "\n",
    "$\\frac{\\partial z}{\\partial x}\\Bigr|_{\\substack{x=4, a=1}} \\quad 3*4^{2} + 1 = 49$\n",
    "\n",
    "$\\frac{\\partial z}{\\partial y} = 2y$\n",
    "\n",
    "$\\frac{\\partial z}{\\partial y}\\Bigr|_{\\substack{y=2}} \\quad 2*2 = 4$"
   ]
  },
  {
   "cell_type": "code",
   "execution_count": 13,
   "metadata": {},
   "outputs": [
    {
     "name": "stdout",
     "output_type": "stream",
     "text": [
      "tensor([49.])\n",
      "tensor([4.])\n"
     ]
    }
   ],
   "source": [
    "z.backward()\n",
    "print(x.grad)\n",
    "print(y.grad)"
   ]
  },
  {
   "cell_type": "markdown",
   "metadata": {},
   "source": [
    "## Sine function with 2 scalar variables\n",
    "\n",
    "### $z = sin(x) + sin(y)$\n",
    "\n",
    "$\\frac{\\partial z}{\\partial x}\\Bigr|_{\\substack{x=4}} \\quad cos(4) \\approx  -0.6536$\n",
    "\n",
    "$\\frac{\\partial z}{\\partial y}\\Bigr|_{\\substack{y=2}} \\quad cos(2) \\approx  -0.4161$"
   ]
  },
  {
   "cell_type": "code",
   "execution_count": 14,
   "metadata": {},
   "outputs": [
    {
     "name": "stdout",
     "output_type": "stream",
     "text": [
      "tensor([-0.6536])\n",
      "tensor([-0.4161])\n"
     ]
    }
   ],
   "source": [
    "# reset the grad on x and y\n",
    "x.grad.data.zero_()\n",
    "y.grad.data.zero_()\n",
    "\n",
    "func_4 = lambda x, y: torch.sin(x) + torch.sin(y)\n",
    "z = func_4(x, y)\n",
    "z.backward()\n",
    "print(x.grad)\n",
    "print(y.grad)"
   ]
  },
  {
   "cell_type": "markdown",
   "metadata": {},
   "source": [
    "## Now let's use 2 variables, each with multiple values\n",
    "\n",
    "We will build a matrix (ndarray) with 10 rows and 2 columns.\n",
    "\n",
    "The first column will be the X values and the second column will be the Y values"
   ]
  },
  {
   "cell_type": "code",
   "execution_count": 15,
   "metadata": {},
   "outputs": [
    {
     "data": {
      "text/plain": [
       "tensor([[3.0094, 6.0213],\n",
       "        [5.6559, 6.0421],\n",
       "        [2.0618, 5.9421],\n",
       "        [5.0784, 3.5384],\n",
       "        [0.3907, 5.4411],\n",
       "        [4.1734, 1.2095],\n",
       "        [3.5784, 1.2620],\n",
       "        [1.0616, 0.6195],\n",
       "        [5.2747, 4.1935],\n",
       "        [4.7013, 0.1220]], requires_grad=True)"
      ]
     },
     "execution_count": 15,
     "metadata": {},
     "output_type": "execute_result"
    }
   ],
   "source": [
    "XY = Variable(2*np.pi * torch.rand(([10, 2])), requires_grad=True)\n",
    "XY"
   ]
  },
  {
   "cell_type": "code",
   "execution_count": 16,
   "metadata": {},
   "outputs": [
    {
     "data": {
      "text/plain": [
       "tensor([-0.1271, -0.8257,  0.5473, -1.3202, -0.3652,  0.0772,  0.5296,  1.4538,\n",
       "        -1.7144, -0.8783], grad_fn=<AddBackward0>)"
      ]
     },
     "execution_count": 16,
     "metadata": {},
     "output_type": "execute_result"
    }
   ],
   "source": [
    "func_5 = lambda XY: torch.sin(XY[:,0]) + torch.sin(XY[:,1])\n",
    "Z = func_5(XY)\n",
    "Z"
   ]
  },
  {
   "cell_type": "markdown",
   "metadata": {},
   "source": [
    "### The gradiant will also have 2 columns\n",
    "\n",
    "The first column is the X gradients and the second column is the Y gradients."
   ]
  },
  {
   "cell_type": "code",
   "execution_count": 17,
   "metadata": {},
   "outputs": [
    {
     "name": "stdout",
     "output_type": "stream",
     "text": [
      "\n",
      "PyTorch Gradients:\n",
      " [[-0.9912731   0.96590924]\n",
      " [ 0.80962276  0.9710875 ]\n",
      " [-0.47149777  0.9423794 ]\n",
      " [ 0.35788697 -0.9222973 ]\n",
      " [ 0.9246604   0.6659272 ]\n",
      " [-0.5132384   0.35351163]\n",
      " [-0.9060897   0.30387682]\n",
      " [ 0.48744553  0.8141897 ]\n",
      " [ 0.5331006  -0.49592763]\n",
      " [-0.01111674  0.9925727 ]]\n",
      "\n",
      "Validate with cosine:\n",
      " [[-0.9912731   0.96590924]\n",
      " [ 0.80962276  0.9710875 ]\n",
      " [-0.47149777  0.9423794 ]\n",
      " [ 0.35788697 -0.9222973 ]\n",
      " [ 0.9246604   0.6659272 ]\n",
      " [-0.5132384   0.35351163]\n",
      " [-0.9060897   0.30387682]\n",
      " [ 0.48744553  0.8141897 ]\n",
      " [ 0.5331006  -0.49592763]\n",
      " [-0.01111674  0.9925727 ]]\n"
     ]
    }
   ],
   "source": [
    "vector_of_ones = torch.ones(XY.shape[0]) # We just want this to be a vector, so we just use the row count (shape[0])\n",
    "Z.backward(vector_of_ones)\n",
    "\n",
    "print(f'\\nPyTorch Gradients:\\n {XY.grad.data.numpy()}')\n",
    "#since we know Z' = cosine, we can varifiy the results from autograd\n",
    "print(f'\\nValidate with cosine:\\n {torch.cos(XY).data.numpy()}')"
   ]
  },
  {
   "cell_type": "markdown",
   "metadata": {},
   "source": [
    "## Activation Functions\n",
    "\n",
    "### $z = \\tanh(x)$\n",
    "\n",
    "\n",
    "### $\\frac{dz}{dx} = 1 - \\tanh^2(x)$"
   ]
  },
  {
   "cell_type": "code",
   "execution_count": 18,
   "metadata": {},
   "outputs": [
    {
     "data": {
      "text/plain": [
       "tensor([ 0.9306,  0.0117,  0.8363, -0.9083, -0.9654, -0.8753, -0.6202,  0.4318,\n",
       "        -0.8084,  0.2868], requires_grad=True)"
      ]
     },
     "execution_count": 18,
     "metadata": {},
     "output_type": "execute_result"
    }
   ],
   "source": [
    "X = Variable(2 * torch.rand(([10])) - 1, requires_grad=True)\n",
    "X"
   ]
  },
  {
   "cell_type": "code",
   "execution_count": 19,
   "metadata": {},
   "outputs": [
    {
     "data": {
      "text/plain": [
       "tensor([ 0.7309,  0.0117,  0.6838, -0.7203, -0.7467, -0.7041, -0.5513,  0.4068,\n",
       "        -0.6687,  0.2792], grad_fn=<TanhBackward>)"
      ]
     },
     "execution_count": 19,
     "metadata": {},
     "output_type": "execute_result"
    }
   ],
   "source": [
    "func_6 = lambda X: torch.tanh(X)\n",
    "Z = func_6(X)\n",
    "Z"
   ]
  },
  {
   "cell_type": "code",
   "execution_count": 20,
   "metadata": {},
   "outputs": [
    {
     "name": "stdout",
     "output_type": "stream",
     "text": [
      "\n",
      "PyTorch Gradients:\n",
      " [0.4657911  0.99986243 0.5323725  0.4811691  0.4424963  0.5042944\n",
      " 0.696074   0.8345099  0.55286425 0.92203015]\n",
      "\n",
      "Validate with 1-tanh^2:\n",
      " [0.4657911  0.99986243 0.5323725  0.4811691  0.4424963  0.5042944\n",
      " 0.696074   0.8345099  0.55286425 0.92203015]\n"
     ]
    }
   ],
   "source": [
    "vector_of_ones = torch.ones(X.shape) \n",
    "Z.backward(vector_of_ones)\n",
    "\n",
    "print(f'\\nPyTorch Gradients:\\n {X.grad.data.numpy()}')\n",
    "#since we know Z' = 1-tanh^2, we can varifiy the results from autograd\n",
    "print(f'\\nValidate with 1-tanh^2:\\n {(1 - torch.pow(torch.tanh(X), 2)).data.numpy()}')"
   ]
  },
  {
   "cell_type": "markdown",
   "metadata": {},
   "source": [
    "# Polynomial Regression and Loss Function\n",
    "\n",
    "We want to find a way to take our gradients and apply them in a way simular to what a NN would use.\n",
    "\n",
    "Lets define a single variable higher order polynominal function:\n",
    "\n",
    "### $z = 6.2x^6 + 0.14x^5 + 721x^3 + 0.002x^2 + 4x + 124$"
   ]
  },
  {
   "cell_type": "code",
   "execution_count": 21,
   "metadata": {},
   "outputs": [],
   "source": [
    "func_actual = lambda x:  \\\n",
    "                    6.2*torch.pow(x, 6) + \\\n",
    "                   0.14*torch.pow(x, 5) + \\\n",
    "                      0*torch.pow(x, 4) + \\\n",
    "                    721*torch.pow(x, 3) + \\\n",
    "                  0.002*torch.pow(x, 2) + \\\n",
    "                      4*x               + \\\n",
    "                    124"
   ]
  },
  {
   "cell_type": "markdown",
   "metadata": {},
   "source": [
    "### Now let's define another function, but without the hard coded coefficients:\n",
    "\n",
    "### $\\hat{z} = {w_{10}}x^{10} + {w_9}x^9 + {w_8}x^8 + {w_7}x^7 + {w_6}x^6 + {w_5}x^5 + {w_4}x^4 + {w_3}x^3 + {w_2}x^2 + {w_1}x + {w_0}$\n",
    "\n",
    "This second function will be what we use for our predictions.  \n",
    "\n",
    "#### The goal is to train the prediction function to actual function by adjusting the weights we pass in\n",
    "\n",
    "We will start out all the weights = 1:\n",
    "\n",
    "$\\hat{z} = {1}x^{10} + {1}x^9 + {1}x^8 + {1}x^7 + {1}x^6 + {1}x^5 + {1}x^4 + {1}x^3 + {1}x^2 + {1}x + {1}$\n",
    "\n",
    "We then build a loss function that finds the difference between actual and predicted.\n",
    "\n",
    "Next, we take the loss function and call backward().  This should give us the gradients for 11 weight values.\n",
    "\n",
    "Then we adjust each of the weights to increment by some negative fraction of the weight's gradient.\n",
    "\n",
    "We repeat this process in a loop until we train the weight coefficients to match as close as possible the actual coefficients in our actual function.\n",
    "\n"
   ]
  },
  {
   "cell_type": "code",
   "execution_count": 22,
   "metadata": {},
   "outputs": [],
   "source": [
    "func_predict = lambda x, W: \\\n",
    "                   W[10]*torch.pow(x, 10) + \\\n",
    "                    W[9]*torch.pow(x, 9) + \\\n",
    "                    W[8]*torch.pow(x, 8) + \\\n",
    "                    W[7]*torch.pow(x, 7) + \\\n",
    "                    W[6]*torch.pow(x, 6) + \\\n",
    "                    W[5]*torch.pow(x, 5) + \\\n",
    "                    W[4]*torch.pow(x, 4) + \\\n",
    "                    W[3]*torch.pow(x, 3) + \\\n",
    "                    W[2]*torch.pow(x, 2) + \\\n",
    "                    W[1]*x               + \\\n",
    "                    W[0]"
   ]
  },
  {
   "cell_type": "markdown",
   "metadata": {},
   "source": [
    "### Let's start out by visualizing the actual function along with the predicting functions with 1 weights"
   ]
  },
  {
   "cell_type": "code",
   "execution_count": 23,
   "metadata": {},
   "outputs": [],
   "source": [
    "from matplotlib import pyplot as plt"
   ]
  },
  {
   "cell_type": "code",
   "execution_count": 24,
   "metadata": {},
   "outputs": [
    {
     "data": {
      "image/png": "[encoded data removed]",
      "text/plain": [
       "<Figure size 576x288 with 1 Axes>"
      ]
     },
     "metadata": {
      "needs_background": "light"
     },
     "output_type": "display_data"
    },
    {
     "data": {
      "image/png": "[encoded data removed]",
      "text/plain": [
       "<Figure size 576x288 with 1 Axes>"
      ]
     },
     "metadata": {
      "needs_background": "light"
     },
     "output_type": "display_data"
    },
    {
     "data": {
      "image/png": "[encoded data removed]",
      "text/plain": [
       "<Figure size 576x288 with 1 Axes>"
      ]
     },
     "metadata": {
      "needs_background": "light"
     },
     "output_type": "display_data"
    }
   ],
   "source": [
    "x_samples = torch.arange(-50, 35, 1) / 10.\n",
    "z_values =  torch.squeeze(torch.tensor([func_actual(x) for x in x_samples]))\n",
    "\n",
    "f = plt.figure(figsize=(8, 4))\n",
    "plt.plot(x_samples, z_values, color='b')\n",
    "plt.hlines(y=0, xmin=-5, xmax=3, color='black')\n",
    "plt.vlines(x=0, ymin=torch.squeeze(z_values).min(), ymax=torch.squeeze(z_values).max(), color='black')\n",
    "plt.title('Actual Polynominal')\n",
    "plt.show()\n",
    "\n",
    "one_weights = torch.ones([11])\n",
    "z_hat_one_values = torch.tensor([func_predict(x, one_weights) for x in x_samples])\n",
    "\n",
    "f = plt.figure(figsize=(8, 4))\n",
    "plt.plot(x_samples, torch.squeeze(z_hat_one_values), color='r')\n",
    "plt.hlines(y=0, xmin=-5, xmax=3, color='black')\n",
    "plt.vlines(x=0, ymin=torch.squeeze(z_hat_one_values).min(), ymax=torch.squeeze(z_hat_one_values).max(), color='black')\n",
    "plt.title('Predicted Polynominal with One Weights')\n",
    "plt.show()\n",
    "\n",
    "known_weights = torch.tensor([124, 4, 0.002, 721, 0, 0.14, 6.2, 0, 0, 0, 0])\n",
    "z_hat_known_values = torch.tensor([func_predict(x, known_weights) for x in x_samples])\n",
    "\n",
    "f = plt.figure(figsize=(8, 4))\n",
    "plt.plot(x_samples, torch.squeeze(z_hat_known_values), color='g')\n",
    "plt.hlines(y=0, xmin=-5, xmax=3, color='black')\n",
    "plt.vlines(x=0, ymin=torch.squeeze(z_hat_known_values).min(), ymax=torch.squeeze(z_hat_known_values).max(), color='black')\n",
    "plt.title('Predicted Polynominal with Known Weights')\n",
    "plt.show()"
   ]
  },
  {
   "cell_type": "markdown",
   "metadata": {},
   "source": [
    "#### As you can see, the first 2 curves are very different.\n",
    "#### But if we input the right weights into our prediction function as we did in the 3rd curve, we get an exact fit."
   ]
  },
  {
   "cell_type": "markdown",
   "metadata": {},
   "source": [
    "### Wrap Everything as a Variable\n",
    "\n",
    "We need to make sure that all every item in the computational graph for the loss function is a Variable.\n",
    "\n",
    "This include the actual and predicted values, the samples of x we will use and the weights.\n",
    "\n",
    "If we miss wrapping any item in the graph, we will get an error when we call loss.backward()\n",
    "\n",
    "#### There are several ways to generate a tensor with caculates a gradiant on the forward pass. \n",
    "\n",
    "We will use the torch.autograd.Variable approach in most of this notebook."
   ]
  },
  {
   "cell_type": "code",
   "execution_count": 25,
   "metadata": {},
   "outputs": [
    {
     "name": "stderr",
     "output_type": "stream",
     "text": [
      "C:\\Users\\youci\\AppData\\Local\\Continuum\\anaconda3\\lib\\site-packages\\ipykernel_launcher.py:3: UserWarning: To copy construct from a tensor, it is recommended to use sourceTensor.clone().detach() or sourceTensor.clone().detach().requires_grad_(True), rather than torch.tensor(sourceTensor).\n",
      "  This is separate from the ipykernel package so we can avoid doing imports until\n"
     ]
    },
    {
     "name": "stdout",
     "output_type": "stream",
     "text": [
      "requires_grad:\n",
      " ones: False         \n",
      " ones_deprecated: True         \n",
      " ones_tensor: True         \n",
      " ones_variable: True\n"
     ]
    }
   ],
   "source": [
    "ones = torch.ones([3])\n",
    "ones_deprecated  = torch.ones([3], requires_grad=True)\n",
    "ones_tensor = torch.tensor(torch.ones([3]), requires_grad=True)\n",
    "ones_variable = Variable((torch.ones([3])), requires_grad=True)\n",
    "\n",
    "print(f'requires_grad:\\n ones: {ones.requires_grad} \\\n",
    "        \\n ones_deprecated: {ones_deprecated.requires_grad} \\\n",
    "        \\n ones_tensor: {ones_tensor.requires_grad} \\\n",
    "        \\n ones_variable: {ones_variable.requires_grad}')"
   ]
  },
  {
   "cell_type": "code",
   "execution_count": 26,
   "metadata": {},
   "outputs": [],
   "source": [
    "x_samples = Variable(torch.arange(-500, 500, 1) / 10., requires_grad=True) # add more samples than we used in our plots\n",
    "z_values =  Variable(torch.squeeze(torch.tensor([func_actual(x) for x in x_samples])), requires_grad=True)\n",
    "\n",
    "\n",
    "one_weights = Variable(torch.ones([11]), requires_grad=True)\n",
    "z_ones = func_predict(x_samples, one_weights)\n",
    "\n",
    "known_weights = Variable(torch.tensor([124, 4, 0.002, 721, 0, 0.14, 6.2, 0, 0, 0, 0]), requires_grad=True)\n",
    "z_known = func_predict(x_samples, known_weights)"
   ]
  },
  {
   "cell_type": "markdown",
   "metadata": {},
   "source": [
    "\n",
    "### Now let's try to define a loss function to quantify the differences between the 2 results\n",
    "\n",
    "We will use Mean Squared Error (MSE) for our loss function.  This will use an $L_2$ distance and therefore penalize outliers more.\n",
    "\n",
    "The loss function doesn't have to be normalized or averaged, we just need some quantitative way to access the degree of inaccuracy."
   ]
  },
  {
   "cell_type": "code",
   "execution_count": 27,
   "metadata": {},
   "outputs": [],
   "source": [
    "def lossFunction(Y, Y_pred):\n",
    "    return torch.mean((Y - Y_pred)) / len(Y)"
   ]
  },
  {
   "cell_type": "code",
   "execution_count": 28,
   "metadata": {},
   "outputs": [
    {
     "name": "stdout",
     "output_type": "stream",
     "text": [
      "Loss with 1 weights: -8,880,541,138,944.0\n",
      "Loss with known weights: 0.0\n"
     ]
    }
   ],
   "source": [
    "ones_loss = lossFunction(z_values, z_ones)\n",
    "known_loss = lossFunction(z_values, z_known)\n",
    "print(f'Loss with 1 weights: {ones_loss:,}\\nLoss with known weights: {known_loss}')"
   ]
  },
  {
   "cell_type": "markdown",
   "metadata": {},
   "source": [
    "#### We get a very large loss with all the weights set to one, but our loss is Zero if we get the exact weights right"
   ]
  },
  {
   "cell_type": "markdown",
   "metadata": {},
   "source": [
    "#### Let's make sure all inputs and our 2 loss functions are ready for backprop.\n",
    "\n",
    "*Note: The loss function will only show the last gradient function which should be based on torch.sum*"
   ]
  },
  {
   "cell_type": "code",
   "execution_count": 29,
   "metadata": {},
   "outputs": [
    {
     "name": "stdout",
     "output_type": "stream",
     "text": [
      "x_samples: True\n",
      "z_values: True\n",
      "one_weights: True\n",
      "z_hat_one_values: False\n",
      "known_weights: True\n",
      "z_hat_known_values: False\n",
      "ones_loss: <DivBackward0 object at 0x000001E4E7037548>\n",
      "known_loss: <DivBackward0 object at 0x000001E4E7037548>\n"
     ]
    }
   ],
   "source": [
    "print(f'x_samples: {x_samples.requires_grad}\\n\\\n",
    "z_values: {z_values.requires_grad}\\n\\\n",
    "one_weights: {one_weights.requires_grad}\\n\\\n",
    "z_hat_one_values: {z_hat_one_values.requires_grad}\\n\\\n",
    "known_weights: {known_weights.requires_grad}\\n\\\n",
    "z_hat_known_values: {z_hat_known_values.requires_grad}\\n\\\n",
    "ones_loss: {ones_loss.grad_fn}\\n\\\n",
    "known_loss: {known_loss.grad_fn}'\n",
    "     )"
   ]
  },
  {
   "cell_type": "markdown",
   "metadata": {},
   "source": [
    "### BackProp\n",
    "\n",
    "We will run the backward() on our 2 loss results.  Since the loss function produces a scalar value, we do not need to pass in the vector of ones."
   ]
  },
  {
   "cell_type": "markdown",
   "metadata": {},
   "source": [
    "### Loss for the Known Weights"
   ]
  },
  {
   "cell_type": "code",
   "execution_count": 30,
   "metadata": {},
   "outputs": [
    {
     "name": "stdout",
     "output_type": "stream",
     "text": [
      "\n",
      "One Weight Gradients:\n",
      " [-1.00000028e-03  4.99998278e-05 -8.33334923e-01  1.24999955e-01\n",
      " -1.25000830e+03  3.12499817e+02 -2.23217400e+06  7.81250688e+05\n",
      " -4.34038170e+09  1.95312486e+09 -8.87816611e+12]\n"
     ]
    }
   ],
   "source": [
    "known_loss.backward()\n",
    "print(f'\\nOne Weight Gradients:\\n {known_weights.grad.data.numpy()}')"
   ]
  },
  {
   "cell_type": "markdown",
   "metadata": {},
   "source": [
    "**All 11 gradient values are zero since the known weights produce an exact match**"
   ]
  },
  {
   "cell_type": "markdown",
   "metadata": {},
   "source": [
    "### Loss for the Weights with all values = 1"
   ]
  },
  {
   "cell_type": "code",
   "execution_count": 31,
   "metadata": {},
   "outputs": [
    {
     "name": "stdout",
     "output_type": "stream",
     "text": [
      "\n",
      "One Weight Gradients:\n",
      " [-1.00000028e-03  4.99998278e-05 -8.33334923e-01  1.24999955e-01\n",
      " -1.25000830e+03  3.12499817e+02 -2.23217400e+06  7.81250688e+05\n",
      " -4.34038170e+09  1.95312486e+09 -8.87816611e+12]\n"
     ]
    }
   ],
   "source": [
    "ones_loss.backward()\n",
    "print(f'\\nOne Weight Gradients:\\n {one_weights.grad.data.numpy()}')"
   ]
  },
  {
   "cell_type": "markdown",
   "metadata": {},
   "source": [
    "**The 11 gradient values corrlate to the 11 weights**\n",
    "\n",
    "$\\dot {w_0} \\approx 2e+19 \\quad $ This shows the contribution of the *y-intercept* to the loss\n",
    "\n",
    "$\\dot {w_6} \\approx 2e+29 \\quad $ This shows the contribution of the $x^6$ cofficent's to the loss"
   ]
  },
  {
   "cell_type": "code",
   "execution_count": 32,
   "metadata": {},
   "outputs": [],
   "source": [
    "def polyFeatures(value, degree=2):\n",
    "    result = []\n",
    "    for i in range(degree):\n",
    "        result.append(value**i)\n",
    "    return result\n",
    "def ployFeaturePoints(start, end, stride, degree=2):\n",
    "    result = []\n",
    "    points = np.arange(start, end, stride)\n",
    "    np.random.shuffle(points)\n",
    "    for i in points:\n",
    "        result.append(polyFeatures(i, degree))\n",
    "    return torch.tensor(result)\n",
    "def zeroGrad(t):\n",
    "    if t.grad is not None:\n",
    "        t.grad.data.zero_()\n",
    "def zeroAllGrads():\n",
    "    zeroGrad(x)\n",
    "    zeroGrad(z)\n",
    "    zeroGrad(z_pred)\n",
    "    zeroGrad(training_weights)\n",
    "def printWeights(W):\n",
    "                    print(f'\\nWeights: \\n\\\n",
    "10:{W[10]:,.2f} \\n\\\n",
    " 9:{W[9]:,.2f}  \\n\\\n",
    " 8:{W[8]:,.2f}  \\n\\\n",
    " 7:{W[7]:,.2f}  \\n\\\n",
    " 6:{W[6]:,.2f}  \\n\\\n",
    " 5:{W[5]:,.2f}  \\n\\\n",
    " 4:{W[4]:,.2f}  \\n\\\n",
    " 3:{W[3]:,.2f}  \\n\\\n",
    " 2:{W[2]:,.2f}  \\n\\\n",
    " 1:{W[1]:,.2f}  \\n\\\n",
    " 0:{W[0]:,.2f}  ')"
   ]
  },
  {
   "cell_type": "code",
   "execution_count": 33,
   "metadata": {},
   "outputs": [
    {
     "name": "stdout",
     "output_type": "stream",
     "text": [
      "\n",
      "Weights: \n",
      "10:1.00 \n",
      " 9:1.00  \n",
      " 8:1.00  \n",
      " 7:1.00  \n",
      " 6:1.00  \n",
      " 5:1.00  \n",
      " 4:1.00  \n",
      " 3:1.00  \n",
      " 2:1.00  \n",
      " 1:1.00  \n",
      " 0:1.00  \n"
     ]
    }
   ],
   "source": [
    "x = Variable(ployFeaturePoints(-50, 50, .1, 10), requires_grad=True)\n",
    "z = Variable(torch.squeeze(torch.tensor([func_actual(i[1]) for i in x])), requires_grad=True)\n",
    "\n",
    "criterion = lossFunction\n",
    "lr = 1e-2\n",
    "\n",
    "training_weights = Variable(torch.ones([11]), requires_grad=True)\n",
    "printWeights(training_weights)"
   ]
  },
  {
   "cell_type": "code",
   "execution_count": 34,
   "metadata": {},
   "outputs": [
    {
     "name": "stdout",
     "output_type": "stream",
     "text": [
      "tensor(7.4031e+22, grad_fn=<MulBackward0>)\n",
      "tensor(3.7477e+22, grad_fn=<MulBackward0>)\n",
      "tensor(5.1878e+24, grad_fn=<MulBackward0>)\n",
      "tensor(3.9199e+24, grad_fn=<MulBackward0>)\n",
      "tensor(8.4059e+24, grad_fn=<MulBackward0>)\n",
      "tensor(4.4337e+20, grad_fn=<MulBackward0>)\n",
      "tensor(9.8491e+17, grad_fn=<MulBackward0>)\n",
      "tensor(5.6216e+24, grad_fn=<MulBackward0>)\n",
      "tensor(1.6451e+12, grad_fn=<MulBackward0>)\n",
      "tensor(2.7107e+24, grad_fn=<MulBackward0>)\n",
      "tensor(2.1396e+09, grad_fn=<MulBackward0>)\n",
      "tensor(6.8490e+26, grad_fn=<MulBackward0>)\n",
      "tensor(2.2033e+25, grad_fn=<MulBackward0>)\n",
      "tensor(2.2393e+18, grad_fn=<MulBackward0>)\n",
      "tensor(9.4805e+12, grad_fn=<MulBackward0>)\n",
      "tensor(1.4669e+25, grad_fn=<MulBackward0>)\n",
      "tensor(3.4278e+24, grad_fn=<MulBackward0>)\n",
      "tensor(6.9247e+22, grad_fn=<MulBackward0>)\n",
      "tensor(2.7020e+27, grad_fn=<MulBackward0>)\n",
      "tensor(2.9299e+27, grad_fn=<MulBackward0>)\n",
      "tensor(-2.6848e+10, grad_fn=<MulBackward0>)\n",
      "tensor(8.5822e+24, grad_fn=<MulBackward0>)\n",
      "tensor(1.4725e+18, grad_fn=<MulBackward0>)\n",
      "tensor(7.1110e+25, grad_fn=<MulBackward0>)\n",
      "tensor(4.7137e+18, grad_fn=<MulBackward0>)\n",
      "tensor(4.3552e+27, grad_fn=<MulBackward0>)\n",
      "tensor(98353.1953, grad_fn=<MulBackward0>)\n",
      "tensor(-7.7985e+09, grad_fn=<MulBackward0>)\n",
      "tensor(5.5746e+19, grad_fn=<MulBackward0>)\n",
      "tensor(3.1628e+26, grad_fn=<MulBackward0>)\n",
      "tensor(8.1067e+21, grad_fn=<MulBackward0>)\n",
      "tensor(7.3892e+27, grad_fn=<MulBackward0>)\n",
      "tensor(2.3799e+27, grad_fn=<MulBackward0>)\n",
      "tensor(3.1782e+24, grad_fn=<MulBackward0>)\n",
      "tensor(7.1527e+27, grad_fn=<MulBackward0>)\n",
      "tensor(1.4096e+20, grad_fn=<MulBackward0>)\n",
      "tensor(6.4338e+21, grad_fn=<MulBackward0>)\n",
      "tensor(3.8058e+24, grad_fn=<MulBackward0>)\n",
      "tensor(4.5795e+24, grad_fn=<MulBackward0>)\n",
      "tensor(1.2096e+27, grad_fn=<MulBackward0>)\n",
      "tensor(1.4044e+26, grad_fn=<MulBackward0>)\n",
      "tensor(7.4842e+26, grad_fn=<MulBackward0>)\n",
      "tensor(-148.8716, grad_fn=<MulBackward0>)\n",
      "tensor(5.0037e+25, grad_fn=<MulBackward0>)\n",
      "tensor(1.6422e+10, grad_fn=<MulBackward0>)\n",
      "tensor(4.3267e+23, grad_fn=<MulBackward0>)\n",
      "tensor(5.6323e+19, grad_fn=<MulBackward0>)\n",
      "tensor(-12539902., grad_fn=<MulBackward0>)\n",
      "tensor(1.0443e+20, grad_fn=<MulBackward0>)\n",
      "tensor(8.4815e+18, grad_fn=<MulBackward0>)\n",
      "tensor(4.2226e+24, grad_fn=<MulBackward0>)\n",
      "tensor(3.3549e+20, grad_fn=<MulBackward0>)\n",
      "tensor(2.0341e+26, grad_fn=<MulBackward0>)\n",
      "tensor(6.5895e+16, grad_fn=<MulBackward0>)\n",
      "tensor(2.3082e+24, grad_fn=<MulBackward0>)\n",
      "tensor(6.2757e+27, grad_fn=<MulBackward0>)\n",
      "tensor(7.4955e+09, grad_fn=<MulBackward0>)\n",
      "tensor(3.0146e+24, grad_fn=<MulBackward0>)\n",
      "tensor(2.4757e+14, grad_fn=<MulBackward0>)\n",
      "tensor(2.4952e+16, grad_fn=<MulBackward0>)\n",
      "tensor(2.8589e+24, grad_fn=<MulBackward0>)\n",
      "tensor(6.4755e+22, grad_fn=<MulBackward0>)\n",
      "tensor(8.8989e+15, grad_fn=<MulBackward0>)\n",
      "tensor(2.8329e+23, grad_fn=<MulBackward0>)\n",
      "tensor(5.3251e+20, grad_fn=<MulBackward0>)\n",
      "tensor(3.1946e+18, grad_fn=<MulBackward0>)\n",
      "tensor(8.5745e+26, grad_fn=<MulBackward0>)\n",
      "tensor(5.7495e+27, grad_fn=<MulBackward0>)\n",
      "tensor(1.4204e+17, grad_fn=<MulBackward0>)\n",
      "tensor(9.7690e+25, grad_fn=<MulBackward0>)\n",
      "tensor(4.9377e+22, grad_fn=<MulBackward0>)\n",
      "tensor(7.5512e+25, grad_fn=<MulBackward0>)\n",
      "tensor(2.1467e+21, grad_fn=<MulBackward0>)\n",
      "tensor(7.4783e+14, grad_fn=<MulBackward0>)\n",
      "tensor(1.5644e+23, grad_fn=<MulBackward0>)\n",
      "tensor(7.8500e+17, grad_fn=<MulBackward0>)\n",
      "tensor(9.1690e+14, grad_fn=<MulBackward0>)\n",
      "tensor(9.4979e+11, grad_fn=<MulBackward0>)\n",
      "tensor(9.0530e+12, grad_fn=<MulBackward0>)\n",
      "tensor(1.2799e+12, grad_fn=<MulBackward0>)\n",
      "tensor(5.6674e+21, grad_fn=<MulBackward0>)\n",
      "tensor(1.6799e+18, grad_fn=<MulBackward0>)\n",
      "tensor(1.3706e+21, grad_fn=<MulBackward0>)\n",
      "tensor(1.4470e+24, grad_fn=<MulBackward0>)\n",
      "tensor(1.3324e+25, grad_fn=<MulBackward0>)\n",
      "tensor(1.3982e+27, grad_fn=<MulBackward0>)\n",
      "tensor(8.7213e+23, grad_fn=<MulBackward0>)\n",
      "tensor(5.8537e+16, grad_fn=<MulBackward0>)\n",
      "tensor(1.1946e+15, grad_fn=<MulBackward0>)\n",
      "tensor(6.2455e+22, grad_fn=<MulBackward0>)\n",
      "tensor(-3.5743e+10, grad_fn=<MulBackward0>)\n",
      "tensor(1.2580e+21, grad_fn=<MulBackward0>)\n",
      "tensor(8.9824e+17, grad_fn=<MulBackward0>)\n",
      "tensor(1.3341e+23, grad_fn=<MulBackward0>)\n",
      "tensor(1.4111e+24, grad_fn=<MulBackward0>)\n",
      "tensor(2.2061e+26, grad_fn=<MulBackward0>)\n",
      "tensor(1.1275e+18, grad_fn=<MulBackward0>)\n",
      "tensor(4.9787e+27, grad_fn=<MulBackward0>)\n",
      "tensor(6.9818e+20, grad_fn=<MulBackward0>)\n",
      "tensor(1.3339e+14, grad_fn=<MulBackward0>)\n",
      "tensor(3.8932e+25, grad_fn=<MulBackward0>)\n",
      "tensor(1.8980e+22, grad_fn=<MulBackward0>)\n",
      "tensor(1.6519e+27, grad_fn=<MulBackward0>)\n",
      "tensor(7.2373e+24, grad_fn=<MulBackward0>)\n",
      "tensor(4.0203e+12, grad_fn=<MulBackward0>)\n",
      "tensor(5.2307e+25, grad_fn=<MulBackward0>)\n",
      "tensor(1224.8159, grad_fn=<MulBackward0>)\n",
      "tensor(3.6062e+20, grad_fn=<MulBackward0>)\n",
      "tensor(3.6116e+26, grad_fn=<MulBackward0>)\n",
      "tensor(4.0716e+27, grad_fn=<MulBackward0>)\n",
      "tensor(3.0046e+16, grad_fn=<MulBackward0>)\n",
      "tensor(2.0463e+20, grad_fn=<MulBackward0>)\n",
      "tensor(6.6285e+25, grad_fn=<MulBackward0>)\n",
      "tensor(6.4374e+26, grad_fn=<MulBackward0>)\n",
      "tensor(4.8154e+27, grad_fn=<MulBackward0>)\n",
      "tensor(5.3420e+24, grad_fn=<MulBackward0>)\n",
      "tensor(1.3315e+27, grad_fn=<MulBackward0>)\n",
      "tensor(4.0169e+22, grad_fn=<MulBackward0>)\n",
      "tensor(7.2310e+25, grad_fn=<MulBackward0>)\n",
      "tensor(1.2098e+23, grad_fn=<MulBackward0>)\n",
      "tensor(111.7082, grad_fn=<MulBackward0>)\n",
      "tensor(1.2947e+13, grad_fn=<MulBackward0>)\n",
      "tensor(1.6681e+21, grad_fn=<MulBackward0>)\n",
      "tensor(3.4954e+22, grad_fn=<MulBackward0>)\n",
      "tensor(2.2127e+23, grad_fn=<MulBackward0>)\n",
      "tensor(4.3488e+24, grad_fn=<MulBackward0>)\n",
      "tensor(3.4736e+12, grad_fn=<MulBackward0>)\n",
      "tensor(3.2402e+21, grad_fn=<MulBackward0>)\n",
      "tensor(1.4836e+27, grad_fn=<MulBackward0>)\n",
      "tensor(8.8332e+24, grad_fn=<MulBackward0>)\n",
      "tensor(6.6671e+13, grad_fn=<MulBackward0>)\n",
      "tensor(3.7217e+27, grad_fn=<MulBackward0>)\n",
      "tensor(2.7789e+25, grad_fn=<MulBackward0>)\n",
      "tensor(1.0181e+22, grad_fn=<MulBackward0>)\n",
      "tensor(1.5161e+19, grad_fn=<MulBackward0>)\n",
      "tensor(3.2379e+13, grad_fn=<MulBackward0>)\n",
      "tensor(2.3545e+23, grad_fn=<MulBackward0>)\n",
      "tensor(1.6140e+25, grad_fn=<MulBackward0>)\n",
      "tensor(5.3191e+18, grad_fn=<MulBackward0>)\n",
      "tensor(2.5182e+11, grad_fn=<MulBackward0>)\n",
      "tensor(7.7057e+16, grad_fn=<MulBackward0>)\n",
      "tensor(9.6051e+18, grad_fn=<MulBackward0>)\n",
      "tensor(8.6890e+26, grad_fn=<MulBackward0>)\n",
      "tensor(8.3718e+26, grad_fn=<MulBackward0>)\n",
      "tensor(9.1125e+20, grad_fn=<MulBackward0>)\n",
      "tensor(41480424., grad_fn=<MulBackward0>)\n",
      "tensor(9.0174e+26, grad_fn=<MulBackward0>)\n",
      "tensor(8.0655e+26, grad_fn=<MulBackward0>)\n",
      "tensor(7.9122e+22, grad_fn=<MulBackward0>)\n",
      "tensor(6.8527e+17, grad_fn=<MulBackward0>)\n",
      "tensor(1.0451e+27, grad_fn=<MulBackward0>)\n",
      "tensor(2.0865e+14, grad_fn=<MulBackward0>)\n",
      "tensor(1.1722e+18, grad_fn=<MulBackward0>)\n",
      "tensor(1.9042e+27, grad_fn=<MulBackward0>)\n",
      "tensor(4.2092e+16, grad_fn=<MulBackward0>)\n",
      "tensor(4.8599e+26, grad_fn=<MulBackward0>)\n",
      "tensor(4.7027e+21, grad_fn=<MulBackward0>)\n",
      "tensor(4.9828e+10, grad_fn=<MulBackward0>)\n",
      "tensor(1.6141e+27, grad_fn=<MulBackward0>)\n",
      "tensor(2.2192e+27, grad_fn=<MulBackward0>)\n",
      "tensor(8.9697e+27, grad_fn=<MulBackward0>)\n",
      "tensor(1.0615e+16, grad_fn=<MulBackward0>)\n",
      "tensor(7.5316e+18, grad_fn=<MulBackward0>)\n",
      "tensor(5.6853e+27, grad_fn=<MulBackward0>)\n",
      "tensor(4.9378e+14, grad_fn=<MulBackward0>)\n",
      "tensor(9.0141e+21, grad_fn=<MulBackward0>)\n",
      "tensor(7.6338e+20, grad_fn=<MulBackward0>)\n",
      "tensor(5.9423e+27, grad_fn=<MulBackward0>)\n",
      "tensor(1.4067e+21, grad_fn=<MulBackward0>)\n",
      "tensor(4.1275e+21, grad_fn=<MulBackward0>)\n",
      "tensor(5.2386e+21, grad_fn=<MulBackward0>)\n",
      "tensor(1.1856e+25, grad_fn=<MulBackward0>)\n",
      "tensor(4.3770e+25, grad_fn=<MulBackward0>)\n",
      "tensor(5.4596e+24, grad_fn=<MulBackward0>)\n",
      "tensor(1.9745e+21, grad_fn=<MulBackward0>)\n",
      "tensor(1.8152e+21, grad_fn=<MulBackward0>)\n",
      "tensor(2.7577e+17, grad_fn=<MulBackward0>)\n",
      "tensor(1.9529e+26, grad_fn=<MulBackward0>)\n",
      "tensor(4.7420e+26, grad_fn=<MulBackward0>)\n",
      "tensor(1.5500e+26, grad_fn=<MulBackward0>)\n",
      "tensor(1.6707e+14, grad_fn=<MulBackward0>)\n",
      "tensor(-1.7435e+10, grad_fn=<MulBackward0>)\n",
      "tensor(2.8307e+27, grad_fn=<MulBackward0>)\n",
      "tensor(4.9171e+15, grad_fn=<MulBackward0>)\n",
      "tensor(5.0694e+19, grad_fn=<MulBackward0>)\n",
      "tensor(5.5627e+27, grad_fn=<MulBackward0>)\n",
      "tensor(1.7673e+21, grad_fn=<MulBackward0>)\n",
      "tensor(3.3379e+25, grad_fn=<MulBackward0>)\n",
      "tensor(-2.0978e+09, grad_fn=<MulBackward0>)\n",
      "tensor(1.8582e+24, grad_fn=<MulBackward0>)\n",
      "tensor(3.2476e+27, grad_fn=<MulBackward0>)\n",
      "tensor(2.7749e+24, grad_fn=<MulBackward0>)\n",
      "tensor(1.7334e+27, grad_fn=<MulBackward0>)\n",
      "tensor(2.3522e+25, grad_fn=<MulBackward0>)\n",
      "tensor(2.5336e+25, grad_fn=<MulBackward0>)\n",
      "tensor(1.3764e+23, grad_fn=<MulBackward0>)\n",
      "tensor(3.9364e+27, grad_fn=<MulBackward0>)\n",
      "tensor(7.3915e+24, grad_fn=<MulBackward0>)\n",
      "tensor(4.1331e+13, grad_fn=<MulBackward0>)\n",
      "tensor(2.7273e+15, grad_fn=<MulBackward0>)\n",
      "tensor(1.0316e+27, grad_fn=<MulBackward0>)\n",
      "tensor(-31365.3457, grad_fn=<MulBackward0>)\n",
      "tensor(1.0755e+25, grad_fn=<MulBackward0>)\n",
      "tensor(2.8075e+26, grad_fn=<MulBackward0>)\n",
      "tensor(7.1595e+21, grad_fn=<MulBackward0>)\n",
      "tensor(6.0436e+24, grad_fn=<MulBackward0>)\n",
      "tensor(2.1793e+18, grad_fn=<MulBackward0>)\n",
      "tensor(703.5305, grad_fn=<MulBackward0>)\n",
      "tensor(4.9683e+16, grad_fn=<MulBackward0>)\n",
      "tensor(1.7271e+26, grad_fn=<MulBackward0>)\n",
      "tensor(3.7274e+23, grad_fn=<MulBackward0>)\n",
      "tensor(4.2220e+26, grad_fn=<MulBackward0>)\n",
      "tensor(1.0074e+27, grad_fn=<MulBackward0>)\n",
      "tensor(7.8846e+25, grad_fn=<MulBackward0>)\n",
      "tensor(2.3497e+13, grad_fn=<MulBackward0>)\n",
      "tensor(1.4780e+22, grad_fn=<MulBackward0>)\n",
      "tensor(4.0507e+15, grad_fn=<MulBackward0>)\n",
      "tensor(5.7446e+24, grad_fn=<MulBackward0>)\n",
      "tensor(6.3823e+20, grad_fn=<MulBackward0>)\n",
      "tensor(2.4276e+26, grad_fn=<MulBackward0>)\n",
      "tensor(1.3370e+18, grad_fn=<MulBackward0>)\n",
      "tensor(6.3571e+24, grad_fn=<MulBackward0>)\n",
      "tensor(2.0240e+15, grad_fn=<MulBackward0>)\n",
      "tensor(1.0267e+18, grad_fn=<MulBackward0>)\n",
      "tensor(1.0030e+26, grad_fn=<MulBackward0>)\n",
      "tensor(7.3842e+26, grad_fn=<MulBackward0>)\n",
      "tensor(1.5907e+22, grad_fn=<MulBackward0>)\n",
      "tensor(1.5260e+26, grad_fn=<MulBackward0>)\n",
      "tensor(1.9506e+25, grad_fn=<MulBackward0>)\n",
      "tensor(1.3125e+26, grad_fn=<MulBackward0>)\n",
      "tensor(2.2953e+20, grad_fn=<MulBackward0>)\n",
      "tensor(3.6837e+20, grad_fn=<MulBackward0>)\n",
      "tensor(-185976.2188, grad_fn=<MulBackward0>)\n",
      "tensor(2.4643e+27, grad_fn=<MulBackward0>)\n",
      "tensor(2.7377e+26, grad_fn=<MulBackward0>)\n",
      "tensor(4.4402e+22, grad_fn=<MulBackward0>)\n",
      "tensor(7.6087e+24, grad_fn=<MulBackward0>)\n",
      "tensor(9.7094e+26, grad_fn=<MulBackward0>)\n",
      "tensor(5.3217e+25, grad_fn=<MulBackward0>)\n",
      "tensor(1.5115e+17, grad_fn=<MulBackward0>)\n",
      "tensor(2.6304e+26, grad_fn=<MulBackward0>)\n",
      "tensor(3.7213e+25, grad_fn=<MulBackward0>)\n",
      "tensor(5.4843e+23, grad_fn=<MulBackward0>)\n",
      "tensor(7.9585e+26, grad_fn=<MulBackward0>)\n",
      "tensor(5.5291e+26, grad_fn=<MulBackward0>)\n",
      "tensor(2.7346e+27, grad_fn=<MulBackward0>)\n",
      "tensor(5.6659e+17, grad_fn=<MulBackward0>)\n",
      "tensor(4.4987e+26, grad_fn=<MulBackward0>)\n",
      "tensor(2.0892e+21, grad_fn=<MulBackward0>)\n",
      "tensor(4.3043e+22, grad_fn=<MulBackward0>)\n",
      "tensor(1.6244e+21, grad_fn=<MulBackward0>)\n",
      "tensor(8.7496e+21, grad_fn=<MulBackward0>)\n",
      "tensor(3.7206e+24, grad_fn=<MulBackward0>)\n",
      "tensor(3.6215e+18, grad_fn=<MulBackward0>)\n",
      "tensor(1.5559e+20, grad_fn=<MulBackward0>)\n",
      "tensor(1.0193e+26, grad_fn=<MulBackward0>)\n",
      "tensor(5.7442e+26, grad_fn=<MulBackward0>)\n",
      "tensor(8.4270e+13, grad_fn=<MulBackward0>)\n",
      "tensor(2.0688e+27, grad_fn=<MulBackward0>)\n",
      "tensor(1.7115e+22, grad_fn=<MulBackward0>)\n",
      "tensor(7.0545e+11, grad_fn=<MulBackward0>)\n",
      "tensor(4.3441e+21, grad_fn=<MulBackward0>)\n",
      "tensor(6.9423e+26, grad_fn=<MulBackward0>)\n",
      "tensor(7.6379e+22, grad_fn=<MulBackward0>)\n",
      "tensor(5.2580e+13, grad_fn=<MulBackward0>)\n",
      "tensor(1.7761e+23, grad_fn=<MulBackward0>)\n",
      "tensor(2.2898e+12, grad_fn=<MulBackward0>)\n",
      "tensor(8.4529e+25, grad_fn=<MulBackward0>)\n",
      "tensor(1.2919e+26, grad_fn=<MulBackward0>)\n",
      "tensor(1.1282e+24, grad_fn=<MulBackward0>)\n",
      "tensor(1.5297e+20, grad_fn=<MulBackward0>)\n",
      "tensor(3.8503e+26, grad_fn=<MulBackward0>)\n",
      "tensor(2.9098e+25, grad_fn=<MulBackward0>)\n",
      "tensor(9.2808e+24, grad_fn=<MulBackward0>)\n",
      "tensor(1.3470e+26, grad_fn=<MulBackward0>)\n",
      "tensor(8.3509e+21, grad_fn=<MulBackward0>)\n",
      "tensor(72057456., grad_fn=<MulBackward0>)\n",
      "tensor(2.7195e+22, grad_fn=<MulBackward0>)\n",
      "tensor(1.5162e+23, grad_fn=<MulBackward0>)\n",
      "tensor(4.0725e+25, grad_fn=<MulBackward0>)\n",
      "tensor(1.6865e+20, grad_fn=<MulBackward0>)\n",
      "tensor(2.1225e+19, grad_fn=<MulBackward0>)\n",
      "tensor(2.1938e+22, grad_fn=<MulBackward0>)\n",
      "tensor(2.6546e+19, grad_fn=<MulBackward0>)\n",
      "tensor(4.2650e+17, grad_fn=<MulBackward0>)\n",
      "tensor(2.7277e+11, grad_fn=<MulBackward0>)\n",
      "tensor(1.1549e+20, grad_fn=<MulBackward0>)\n",
      "tensor(4.1189e+27, grad_fn=<MulBackward0>)\n",
      "tensor(1.8918e+23, grad_fn=<MulBackward0>)\n",
      "tensor(1.2192e+22, grad_fn=<MulBackward0>)\n",
      "tensor(5.9753e+17, grad_fn=<MulBackward0>)\n",
      "tensor(6.1138e+26, grad_fn=<MulBackward0>)\n",
      "tensor(2.0789e+23, grad_fn=<MulBackward0>)\n",
      "tensor(1.5233e+18, grad_fn=<MulBackward0>)\n",
      "tensor(3.0399e+26, grad_fn=<MulBackward0>)\n",
      "tensor(8.5235e+19, grad_fn=<MulBackward0>)\n",
      "tensor(6.3593e+23, grad_fn=<MulBackward0>)\n",
      "tensor(-4.0034e+10, grad_fn=<MulBackward0>)\n",
      "tensor(7.4263e+25, grad_fn=<MulBackward0>)\n",
      "tensor(1.3556e+19, grad_fn=<MulBackward0>)\n",
      "tensor(2.4772e+20, grad_fn=<MulBackward0>)\n",
      "tensor(3.1890e+25, grad_fn=<MulBackward0>)\n",
      "tensor(1.7961e+27, grad_fn=<MulBackward0>)\n",
      "tensor(3.1358e+14, grad_fn=<MulBackward0>)\n",
      "tensor(8.2359e+23, grad_fn=<MulBackward0>)\n",
      "tensor(7.7338e+21, grad_fn=<MulBackward0>)\n",
      "tensor(6.5952e+26, grad_fn=<MulBackward0>)\n",
      "tensor(4.6403e+18, grad_fn=<MulBackward0>)\n",
      "tensor(4.6390e+09, grad_fn=<MulBackward0>)\n",
      "tensor(54.4882, grad_fn=<MulBackward0>)\n",
      "tensor(5.3210e+27, grad_fn=<MulBackward0>)\n",
      "tensor(1.0856e+21, grad_fn=<MulBackward0>)\n",
      "tensor(2.1447e+23, grad_fn=<MulBackward0>)\n",
      "tensor(4.1850e+25, grad_fn=<MulBackward0>)\n",
      "tensor(4.3891e+26, grad_fn=<MulBackward0>)\n",
      "tensor(1.5182e+19, grad_fn=<MulBackward0>)\n",
      "tensor(6.0733e+25, grad_fn=<MulBackward0>)\n",
      "tensor(1.1577e+24, grad_fn=<MulBackward0>)\n",
      "tensor(5.8124e+25, grad_fn=<MulBackward0>)\n",
      "tensor(5.5003e+27, grad_fn=<MulBackward0>)\n",
      "tensor(1.5025e+27, grad_fn=<MulBackward0>)\n",
      "tensor(2.3697e+19, grad_fn=<MulBackward0>)\n",
      "tensor(5.0506e+26, grad_fn=<MulBackward0>)\n",
      "tensor(2.1428e+27, grad_fn=<MulBackward0>)\n",
      "tensor(6.9233e+27, grad_fn=<MulBackward0>)\n",
      "tensor(1.5020e+16, grad_fn=<MulBackward0>)\n",
      "tensor(-2.9852e+09, grad_fn=<MulBackward0>)\n",
      "tensor(2.6642e+23, grad_fn=<MulBackward0>)\n",
      "tensor(8.6860e+27, grad_fn=<MulBackward0>)\n",
      "tensor(1.9462e+14, grad_fn=<MulBackward0>)\n",
      "tensor(1.4312e+27, grad_fn=<MulBackward0>)\n",
      "tensor(4.8403e+21, grad_fn=<MulBackward0>)\n",
      "tensor(1.0293e+20, grad_fn=<MulBackward0>)\n",
      "tensor(7.5692e+23, grad_fn=<MulBackward0>)\n",
      "tensor(-4.3212e+08, grad_fn=<MulBackward0>)\n",
      "tensor(7.0002e+27, grad_fn=<MulBackward0>)\n",
      "tensor(3.3615e+22, grad_fn=<MulBackward0>)\n",
      "tensor(8.2611e+26, grad_fn=<MulBackward0>)\n",
      "tensor(2.6100e+27, grad_fn=<MulBackward0>)\n",
      "tensor(-594.9380, grad_fn=<MulBackward0>)\n",
      "tensor(1.5573e+27, grad_fn=<MulBackward0>)\n",
      "tensor(4.5924e+23, grad_fn=<MulBackward0>)\n",
      "tensor(1.4676e+23, grad_fn=<MulBackward0>)\n",
      "tensor(2.4782e+18, grad_fn=<MulBackward0>)\n",
      "tensor(1.8997e+19, grad_fn=<MulBackward0>)\n",
      "tensor(3.5139e+21, grad_fn=<MulBackward0>)\n",
      "tensor(1.1375e+20, grad_fn=<MulBackward0>)\n",
      "tensor(1.3014e+11, grad_fn=<MulBackward0>)\n",
      "tensor(4.5624e+26, grad_fn=<MulBackward0>)\n",
      "tensor(5.3815e+27, grad_fn=<MulBackward0>)\n",
      "tensor(2.5841e+23, grad_fn=<MulBackward0>)\n",
      "tensor(1.0618e+14, grad_fn=<MulBackward0>)\n",
      "tensor(6.9275e+23, grad_fn=<MulBackward0>)\n",
      "tensor(-4247.6919, grad_fn=<MulBackward0>)\n",
      "tensor(3.4014e+23, grad_fn=<MulBackward0>)\n",
      "tensor(7.4709e+27, grad_fn=<MulBackward0>)\n",
      "tensor(3.0464e+25, grad_fn=<MulBackward0>)\n",
      "tensor(7.1443e+22, grad_fn=<MulBackward0>)\n",
      "tensor(4.9283e+26, grad_fn=<MulBackward0>)\n",
      "tensor(4.3133e+15, grad_fn=<MulBackward0>)\n",
      "tensor(4.7972e+16, grad_fn=<MulBackward0>)\n",
      "tensor(2.3916e+26, grad_fn=<MulBackward0>)\n",
      "tensor(1.8409e+22, grad_fn=<MulBackward0>)\n",
      "tensor(7.7698e+26, grad_fn=<MulBackward0>)\n",
      "tensor(3.8091e+21, grad_fn=<MulBackward0>)\n",
      "tensor(4.5772e+25, grad_fn=<MulBackward0>)\n",
      "tensor(1.1245e+27, grad_fn=<MulBackward0>)\n",
      "tensor(929741.1875, grad_fn=<MulBackward0>)\n",
      "tensor(-4.1793e+09, grad_fn=<MulBackward0>)\n",
      "tensor(4.4546e+25, grad_fn=<MulBackward0>)\n",
      "tensor(3.2859e+09, grad_fn=<MulBackward0>)\n",
      "tensor(1.7819e+16, grad_fn=<MulBackward0>)\n",
      "tensor(4.0112e+21, grad_fn=<MulBackward0>)\n",
      "tensor(5.0889e+21, grad_fn=<MulBackward0>)\n",
      "tensor(1.9623e+24, grad_fn=<MulBackward0>)\n",
      "tensor(5.9671e+26, grad_fn=<MulBackward0>)\n",
      "tensor(3.2473e+25, grad_fn=<MulBackward0>)\n",
      "tensor(3.9339e+17, grad_fn=<MulBackward0>)\n",
      "tensor(1.2906e+23, grad_fn=<MulBackward0>)\n",
      "tensor(2.9921e+20, grad_fn=<MulBackward0>)\n"
     ]
    },
    {
     "name": "stdout",
     "output_type": "stream",
     "text": [
      "tensor(2.4139e+12, grad_fn=<MulBackward0>)\n",
      "tensor(6.5175e+25, grad_fn=<MulBackward0>)\n",
      "tensor(7.0829e+13, grad_fn=<MulBackward0>)\n",
      "tensor(1.6159e+24, grad_fn=<MulBackward0>)\n",
      "tensor(4.8734e+23, grad_fn=<MulBackward0>)\n",
      "tensor(2.7484e+23, grad_fn=<MulBackward0>)\n",
      "tensor(2.9966e+27, grad_fn=<MulBackward0>)\n",
      "tensor(3.3020e+23, grad_fn=<MulBackward0>)\n",
      "tensor(-1.4501e+09, grad_fn=<MulBackward0>)\n",
      "tensor(3.1332e+22, grad_fn=<MulBackward0>)\n",
      "tensor(7.3403e+23, grad_fn=<MulBackward0>)\n",
      "tensor(1.6654e+24, grad_fn=<MulBackward0>)\n",
      "tensor(2.9262e+24, grad_fn=<MulBackward0>)\n",
      "tensor(1.6399e+22, grad_fn=<MulBackward0>)\n",
      "tensor(1.0977e+22, grad_fn=<MulBackward0>)\n",
      "tensor(2.5324e+22, grad_fn=<MulBackward0>)\n",
      "tensor(1.3486e+27, grad_fn=<MulBackward0>)\n",
      "tensor(1.2278e+08, grad_fn=<MulBackward0>)\n",
      "tensor(1.9138e+25, grad_fn=<MulBackward0>)\n",
      "tensor(2.4898e+26, grad_fn=<MulBackward0>)\n",
      "tensor(7.6663e+26, grad_fn=<MulBackward0>)\n",
      "tensor(6.5179e+17, grad_fn=<MulBackward0>)\n",
      "tensor(2.1184e+26, grad_fn=<MulBackward0>)\n",
      "tensor(2.6438e+19, grad_fn=<MulBackward0>)\n",
      "tensor(1.2216e+17, grad_fn=<MulBackward0>)\n",
      "tensor(1.6989e+19, grad_fn=<MulBackward0>)\n",
      "tensor(3.1068e+23, grad_fn=<MulBackward0>)\n",
      "tensor(2.5312e+16, grad_fn=<MulBackward0>)\n",
      "tensor(1.3007e+27, grad_fn=<MulBackward0>)\n",
      "tensor(7.5968e+19, grad_fn=<MulBackward0>)\n",
      "tensor(5.0264e+23, grad_fn=<MulBackward0>)\n",
      "tensor(7.4886e+17, grad_fn=<MulBackward0>)\n",
      "tensor(2.5619e+17, grad_fn=<MulBackward0>)\n",
      "tensor(5.3216e+26, grad_fn=<MulBackward0>)\n",
      "tensor(3.8499e+27, grad_fn=<MulBackward0>)\n",
      "tensor(6.6255e+21, grad_fn=<MulBackward0>)\n",
      "tensor(-277.9712, grad_fn=<MulBackward0>)\n",
      "tensor(1.0917e+26, grad_fn=<MulBackward0>)\n",
      "tensor(5.0215e+19, grad_fn=<MulBackward0>)\n",
      "tensor(5.2450e+18, grad_fn=<MulBackward0>)\n",
      "tensor(3.6553e+25, grad_fn=<MulBackward0>)\n",
      "tensor(3.6919e+18, grad_fn=<MulBackward0>)\n",
      "tensor(2.9646e+26, grad_fn=<MulBackward0>)\n",
      "tensor(1.1572e+26, grad_fn=<MulBackward0>)\n",
      "tensor(3.5087e+23, grad_fn=<MulBackward0>)\n",
      "tensor(1.4104e+11, grad_fn=<MulBackward0>)\n",
      "tensor(1.0841e+27, grad_fn=<MulBackward0>)\n",
      "tensor(1.2622e+24, grad_fn=<MulBackward0>)\n",
      "tensor(5.4536e+22, grad_fn=<MulBackward0>)\n",
      "tensor(2.2286e+15, grad_fn=<MulBackward0>)\n",
      "tensor(2.7782e+20, grad_fn=<MulBackward0>)\n",
      "tensor(2.8304e+25, grad_fn=<MulBackward0>)\n",
      "tensor(2.8808e+18, grad_fn=<MulBackward0>)\n",
      "tensor(1.0975e+25, grad_fn=<MulBackward0>)\n",
      "tensor(2.1268e+19, grad_fn=<MulBackward0>)\n",
      "tensor(1.9527e+23, grad_fn=<MulBackward0>)\n",
      "tensor(3.4708e+16, grad_fn=<MulBackward0>)\n",
      "tensor(1.5242e+13, grad_fn=<MulBackward0>)\n",
      "tensor(1.2388e+26, grad_fn=<MulBackward0>)\n",
      "tensor(1.6602e+25, grad_fn=<MulBackward0>)\n",
      "tensor(1.9714e+18, grad_fn=<MulBackward0>)\n",
      "tensor(124., grad_fn=<MulBackward0>)\n",
      "tensor(1.7739e+27, grad_fn=<MulBackward0>)\n",
      "tensor(3.2271e+14, grad_fn=<MulBackward0>)\n",
      "tensor(1.5292e+24, grad_fn=<MulBackward0>)\n",
      "tensor(5.8160e+23, grad_fn=<MulBackward0>)\n",
      "tensor(1.2494e+16, grad_fn=<MulBackward0>)\n",
      "tensor(2.9453e+16, grad_fn=<MulBackward0>)\n",
      "tensor(5.3325e+23, grad_fn=<MulBackward0>)\n",
      "tensor(4.8706e+27, grad_fn=<MulBackward0>)\n",
      "tensor(2.9195e+22, grad_fn=<MulBackward0>)\n",
      "tensor(1.2909e+21, grad_fn=<MulBackward0>)\n",
      "tensor(1.7161e+12, grad_fn=<MulBackward0>)\n",
      "tensor(2.2860e+22, grad_fn=<MulBackward0>)\n",
      "tensor(3.3032e+19, grad_fn=<MulBackward0>)\n",
      "tensor(6.8566e+19, grad_fn=<MulBackward0>)\n",
      "tensor(4.6108e+22, grad_fn=<MulBackward0>)\n",
      "tensor(3.5596e+16, grad_fn=<MulBackward0>)\n",
      "tensor(1.4384e+25, grad_fn=<MulBackward0>)\n",
      "tensor(4.0981e+19, grad_fn=<MulBackward0>)\n",
      "tensor(3.5812e+15, grad_fn=<MulBackward0>)\n",
      "tensor(2.1870e+24, grad_fn=<MulBackward0>)\n",
      "tensor(9.9500e+22, grad_fn=<MulBackward0>)\n",
      "tensor(3.4141e+17, grad_fn=<MulBackward0>)\n",
      "tensor(1.7162e+20, grad_fn=<MulBackward0>)\n",
      "tensor(1.1543e+21, grad_fn=<MulBackward0>)\n",
      "tensor(6.2342e+20, grad_fn=<MulBackward0>)\n",
      "tensor(1.2095e+19, grad_fn=<MulBackward0>)\n",
      "tensor(3.5309e+24, grad_fn=<MulBackward0>)\n",
      "tensor(9.3626e+27, grad_fn=<MulBackward0>)\n",
      "tensor(6.7549e+18, grad_fn=<MulBackward0>)\n",
      "tensor(6.9516e+21, grad_fn=<MulBackward0>)\n",
      "tensor(5.9981e+23, grad_fn=<MulBackward0>)\n",
      "tensor(5.5620e+25, grad_fn=<MulBackward0>)\n",
      "tensor(1.2638e+16, grad_fn=<MulBackward0>)\n",
      "tensor(1.1094e+26, grad_fn=<MulBackward0>)\n",
      "tensor(9.2333e+23, grad_fn=<MulBackward0>)\n",
      "tensor(9.2621e+27, grad_fn=<MulBackward0>)\n",
      "tensor(3649255.7500, grad_fn=<MulBackward0>)\n",
      "tensor(1.2384e+27, grad_fn=<MulBackward0>)\n",
      "tensor(23388844., grad_fn=<MulBackward0>)\n",
      "tensor(163.2107, grad_fn=<MulBackward0>)\n",
      "tensor(6.6858e+24, grad_fn=<MulBackward0>)\n",
      "tensor(1.4150e+22, grad_fn=<MulBackward0>)\n",
      "tensor(6.2223e+24, grad_fn=<MulBackward0>)\n",
      "tensor(1.2563e+20, grad_fn=<MulBackward0>)\n",
      "tensor(8.5932e+25, grad_fn=<MulBackward0>)\n",
      "tensor(97.8604, grad_fn=<MulBackward0>)\n",
      "tensor(1.7516e+13, grad_fn=<MulBackward0>)\n",
      "tensor(-1.7573e+08, grad_fn=<MulBackward0>)\n",
      "tensor(286.2733, grad_fn=<MulBackward0>)\n",
      "tensor(1.5905e+26, grad_fn=<MulBackward0>)\n",
      "tensor(1.9279e+27, grad_fn=<MulBackward0>)\n",
      "tensor(9.5200e+23, grad_fn=<MulBackward0>)\n",
      "tensor(8.4107e+27, grad_fn=<MulBackward0>)\n",
      "tensor(6.8175e+20, grad_fn=<MulBackward0>)\n",
      "tensor(1.0077e+24, grad_fn=<MulBackward0>)\n",
      "tensor(5.9228e+18, grad_fn=<MulBackward0>)\n",
      "tensor(-78601.2188, grad_fn=<MulBackward0>)\n",
      "tensor(2.1506e+26, grad_fn=<MulBackward0>)\n",
      "tensor(-417224.3438, grad_fn=<MulBackward0>)\n",
      "tensor(1.4953e+16, grad_fn=<MulBackward0>)\n",
      "tensor(1.4495e+27, grad_fn=<MulBackward0>)\n",
      "tensor(1.3689e+24, grad_fn=<MulBackward0>)\n",
      "tensor(6.0538e+22, grad_fn=<MulBackward0>)\n",
      "tensor(4.3370e+20, grad_fn=<MulBackward0>)\n",
      "tensor(2.3317e+26, grad_fn=<MulBackward0>)\n",
      "tensor(1.7748e+25, grad_fn=<MulBackward0>)\n",
      "tensor(2.8151e+18, grad_fn=<MulBackward0>)\n",
      "tensor(2.0409e+22, grad_fn=<MulBackward0>)\n",
      "tensor(1.0944e+12, grad_fn=<MulBackward0>)\n",
      "tensor(7.7700e+24, grad_fn=<MulBackward0>)\n",
      "tensor(1867114., grad_fn=<MulBackward0>)\n",
      "tensor(1.1101e+27, grad_fn=<MulBackward0>)\n",
      "tensor(5.2918e+12, grad_fn=<MulBackward0>)\n",
      "tensor(2.4641e+25, grad_fn=<MulBackward0>)\n",
      "tensor(-3.1966e+10, grad_fn=<MulBackward0>)\n",
      "tensor(3.1505e+21, grad_fn=<MulBackward0>)\n",
      "tensor(3.4771e+27, grad_fn=<MulBackward0>)\n",
      "tensor(4.0424e+20, grad_fn=<MulBackward0>)\n",
      "tensor(2.9225e+23, grad_fn=<MulBackward0>)\n",
      "tensor(8.4922e+23, grad_fn=<MulBackward0>)\n",
      "tensor(44803.3086, grad_fn=<MulBackward0>)\n",
      "tensor(6.7408e+23, grad_fn=<MulBackward0>)\n",
      "tensor(3.6552e+19, grad_fn=<MulBackward0>)\n",
      "tensor(-2.1901e+10, grad_fn=<MulBackward0>)\n",
      "tensor(1.0416e+16, grad_fn=<MulBackward0>)\n",
      "tensor(1.6662e+15, grad_fn=<MulBackward0>)\n",
      "tensor(1.3063e+25, grad_fn=<MulBackward0>)\n",
      "tensor(3.3282e+15, grad_fn=<MulBackward0>)\n",
      "tensor(206.6740, grad_fn=<MulBackward0>)\n",
      "tensor(1.9219e+21, grad_fn=<MulBackward0>)\n",
      "tensor(1.6153e+26, grad_fn=<MulBackward0>)\n",
      "tensor(2.9623e+19, grad_fn=<MulBackward0>)\n",
      "tensor(1.7593e+24, grad_fn=<MulBackward0>)\n",
      "tensor(1.5388e+25, grad_fn=<MulBackward0>)\n",
      "tensor(9.6438e+22, grad_fn=<MulBackward0>)\n",
      "tensor(1.1879e+26, grad_fn=<MulBackward0>)\n",
      "tensor(2.9215e+26, grad_fn=<MulBackward0>)\n",
      "tensor(3.4227e+26, grad_fn=<MulBackward0>)\n",
      "tensor(3.2627e+18, grad_fn=<MulBackward0>)\n",
      "tensor(2.2400e+24, grad_fn=<MulBackward0>)\n",
      "tensor(1.8747e+26, grad_fn=<MulBackward0>)\n",
      "tensor(-21.2373, grad_fn=<MulBackward0>)\n",
      "tensor(2.9044e+21, grad_fn=<MulBackward0>)\n",
      "tensor(2.7518e+21, grad_fn=<MulBackward0>)\n",
      "tensor(2.5697e+24, grad_fn=<MulBackward0>)\n",
      "tensor(9.7734e+23, grad_fn=<MulBackward0>)\n",
      "tensor(4.7860e+25, grad_fn=<MulBackward0>)\n",
      "tensor(1.3708e+25, grad_fn=<MulBackward0>)\n",
      "tensor(2.4941e+24, grad_fn=<MulBackward0>)\n",
      "tensor(3.5600e+26, grad_fn=<MulBackward0>)\n",
      "tensor(1.5090e+25, grad_fn=<MulBackward0>)\n",
      "tensor(9.7497e+24, grad_fn=<MulBackward0>)\n",
      "tensor(9.2096e+25, grad_fn=<MulBackward0>)\n",
      "tensor(1.1293e+25, grad_fn=<MulBackward0>)\n",
      "tensor(2.1223e+24, grad_fn=<MulBackward0>)\n",
      "tensor(1.4224e+23, grad_fn=<MulBackward0>)\n",
      "tensor(2.9867e+21, grad_fn=<MulBackward0>)\n",
      "tensor(3.9971e+14, grad_fn=<MulBackward0>)\n",
      "tensor(2.2395e+26, grad_fn=<MulBackward0>)\n",
      "tensor(4.7367e+23, grad_fn=<MulBackward0>)\n",
      "tensor(3.4365e+27, grad_fn=<MulBackward0>)\n",
      "tensor(2.8307e+22, grad_fn=<MulBackward0>)\n",
      "tensor(2.3512e+27, grad_fn=<MulBackward0>)\n",
      "tensor(2.7971e+27, grad_fn=<MulBackward0>)\n",
      "tensor(1.2892e+18, grad_fn=<MulBackward0>)\n",
      "tensor(5.9536e+15, grad_fn=<MulBackward0>)\n",
      "tensor(6.3502e+26, grad_fn=<MulBackward0>)\n",
      "tensor(5.4767e+08, grad_fn=<MulBackward0>)\n",
      "tensor(1.0343e+24, grad_fn=<MulBackward0>)\n",
      "tensor(2.0651e+26, grad_fn=<MulBackward0>)\n",
      "tensor(1.1770e+13, grad_fn=<MulBackward0>)\n",
      "tensor(5.6266e+16, grad_fn=<MulBackward0>)\n",
      "tensor(4.9699e+14, grad_fn=<MulBackward0>)\n",
      "tensor(2.9474e+19, grad_fn=<MulBackward0>)\n",
      "tensor(1.2948e+24, grad_fn=<MulBackward0>)\n",
      "tensor(-65749148., grad_fn=<MulBackward0>)\n",
      "tensor(21.3224, grad_fn=<MulBackward0>)\n",
      "tensor(2.1167e+27, grad_fn=<MulBackward0>)\n",
      "tensor(6.2534e+19, grad_fn=<MulBackward0>)\n",
      "tensor(3.6054e+22, grad_fn=<MulBackward0>)\n",
      "tensor(2.0146e+23, grad_fn=<MulBackward0>)\n",
      "tensor(1.7215e+23, grad_fn=<MulBackward0>)\n",
      "tensor(5.1472e+27, grad_fn=<MulBackward0>)\n",
      "tensor(2.0445e+25, grad_fn=<MulBackward0>)\n",
      "tensor(5.8313e+20, grad_fn=<MulBackward0>)\n",
      "tensor(1.1514e+27, grad_fn=<MulBackward0>)\n",
      "tensor(7.1910e+15, grad_fn=<MulBackward0>)\n",
      "tensor(6.2195e+15, grad_fn=<MulBackward0>)\n",
      "tensor(3.3986e+25, grad_fn=<MulBackward0>)\n",
      "tensor(1.0451e+25, grad_fn=<MulBackward0>)\n",
      "tensor(1.5939e+27, grad_fn=<MulBackward0>)\n",
      "tensor(1.3137e+22, grad_fn=<MulBackward0>)\n",
      "tensor(4.3276e+26, grad_fn=<MulBackward0>)\n",
      "tensor(1.1147e+10, grad_fn=<MulBackward0>)\n",
      "tensor(6.7008e+27, grad_fn=<MulBackward0>)\n",
      "tensor(2.4654e+21, grad_fn=<MulBackward0>)\n",
      "tensor(1.8337e+23, grad_fn=<MulBackward0>)\n",
      "tensor(1.9036e+26, grad_fn=<MulBackward0>)\n",
      "tensor(1.1664e+27, grad_fn=<MulBackward0>)\n",
      "tensor(1.6158e+23, grad_fn=<MulBackward0>)\n",
      "tensor(1.3686e+15, grad_fn=<MulBackward0>)\n",
      "tensor(1.4915e+24, grad_fn=<MulBackward0>)\n",
      "tensor(8.9695e+25, grad_fn=<MulBackward0>)\n",
      "tensor(2.3974e+10, grad_fn=<MulBackward0>)\n",
      "tensor(2.4556e+22, grad_fn=<MulBackward0>)\n",
      "tensor(5.8370e+22, grad_fn=<MulBackward0>)\n",
      "tensor(3.3605e+27, grad_fn=<MulBackward0>)\n",
      "tensor(9.0176e+24, grad_fn=<MulBackward0>)\n",
      "tensor(8.6648e+15, grad_fn=<MulBackward0>)\n",
      "tensor(1.6926e+25, grad_fn=<MulBackward0>)\n",
      "tensor(3.1014e+27, grad_fn=<MulBackward0>)\n",
      "tensor(8.8237e+25, grad_fn=<MulBackward0>)\n",
      "tensor(5.0356e+27, grad_fn=<MulBackward0>)\n",
      "tensor(9.7263e+21, grad_fn=<MulBackward0>)\n",
      "tensor(5.2043e+17, grad_fn=<MulBackward0>)\n",
      "tensor(2.4533e+15, grad_fn=<MulBackward0>)\n",
      "tensor(5.7138e+25, grad_fn=<MulBackward0>)\n",
      "tensor(5.6578e+22, grad_fn=<MulBackward0>)\n",
      "tensor(1.5322e+21, grad_fn=<MulBackward0>)\n",
      "tensor(5.2059e+27, grad_fn=<MulBackward0>)\n",
      "tensor(3.4160e+21, grad_fn=<MulBackward0>)\n",
      "tensor(2.5271e+26, grad_fn=<MulBackward0>)\n",
      "tensor(2.0104e+24, grad_fn=<MulBackward0>)\n",
      "tensor(4.8701e+25, grad_fn=<MulBackward0>)\n",
      "tensor(4505.4385, grad_fn=<MulBackward0>)\n",
      "tensor(5.0755e+24, grad_fn=<MulBackward0>)\n",
      "tensor(7.6926e+19, grad_fn=<MulBackward0>)\n",
      "tensor(-3.6683e+10, grad_fn=<MulBackward0>)\n",
      "tensor(1.1215e+15, grad_fn=<MulBackward0>)\n",
      "tensor(6.2210e+14, grad_fn=<MulBackward0>)\n",
      "tensor(5.2483e+26, grad_fn=<MulBackward0>)\n",
      "tensor(1.4924e+21, grad_fn=<MulBackward0>)\n",
      "tensor(-2.7829e+08, grad_fn=<MulBackward0>)\n",
      "tensor(4.2600e+27, grad_fn=<MulBackward0>)\n",
      "tensor(-22375430., grad_fn=<MulBackward0>)\n",
      "tensor(5.2051e+20, grad_fn=<MulBackward0>)\n",
      "tensor(1.2746e+22, grad_fn=<MulBackward0>)\n",
      "tensor(6.3461e+27, grad_fn=<MulBackward0>)\n",
      "tensor(2.5411e+18, grad_fn=<MulBackward0>)\n",
      "tensor(3.5565e+25, grad_fn=<MulBackward0>)\n",
      "tensor(7.6331e+27, grad_fn=<MulBackward0>)\n",
      "tensor(3.2857e+20, grad_fn=<MulBackward0>)\n",
      "tensor(1.0241e+25, grad_fn=<MulBackward0>)\n",
      "tensor(1.7410e+25, grad_fn=<MulBackward0>)\n",
      "tensor(2.6765e+21, grad_fn=<MulBackward0>)\n",
      "tensor(1.0989e+23, grad_fn=<MulBackward0>)\n",
      "tensor(4.1338e+13, grad_fn=<MulBackward0>)\n",
      "tensor(4.4628e+23, grad_fn=<MulBackward0>)\n",
      "tensor(1.7119e+27, grad_fn=<MulBackward0>)\n",
      "tensor(9.5827e+26, grad_fn=<MulBackward0>)\n",
      "tensor(4.6819e+24, grad_fn=<MulBackward0>)\n",
      "tensor(4.4706e+21, grad_fn=<MulBackward0>)\n",
      "tensor(1.8608e+25, grad_fn=<MulBackward0>)\n",
      "tensor(-6.5851e+08, grad_fn=<MulBackward0>)\n",
      "tensor(8.2329e+27, grad_fn=<MulBackward0>)\n",
      "tensor(5.8857e+26, grad_fn=<MulBackward0>)\n",
      "tensor(-1.0869e+08, grad_fn=<MulBackward0>)\n",
      "tensor(1.2842e+27, grad_fn=<MulBackward0>)\n",
      "tensor(1.2244e+24, grad_fn=<MulBackward0>)\n",
      "tensor(1.7539e+26, grad_fn=<MulBackward0>)\n",
      "tensor(-2.2347e+10, grad_fn=<MulBackward0>)\n",
      "tensor(7.4518e+20, grad_fn=<MulBackward0>)\n",
      "tensor(1.8380e+27, grad_fn=<MulBackward0>)\n",
      "tensor(3.6806e+19, grad_fn=<MulBackward0>)\n",
      "tensor(1.0635e+26, grad_fn=<MulBackward0>)\n",
      "tensor(9.2349e+26, grad_fn=<MulBackward0>)\n",
      "tensor(1.8158e+15, grad_fn=<MulBackward0>)\n",
      "tensor(3.9555e+14, grad_fn=<MulBackward0>)\n",
      "tensor(3.8380e+23, grad_fn=<MulBackward0>)\n",
      "tensor(2.5515e+27, grad_fn=<MulBackward0>)\n",
      "tensor(9.0673e+27, grad_fn=<MulBackward0>)\n",
      "tensor(6.3452e+25, grad_fn=<MulBackward0>)\n",
      "tensor(4.0036e+26, grad_fn=<MulBackward0>)\n",
      "tensor(9.0306e+22, grad_fn=<MulBackward0>)\n",
      "tensor(432.2423, grad_fn=<MulBackward0>)\n",
      "tensor(2.2971e+26, grad_fn=<MulBackward0>)\n",
      "tensor(8.7424e+08, grad_fn=<MulBackward0>)\n",
      "tensor(450583.1562, grad_fn=<MulBackward0>)\n",
      "tensor(1.7071e+24, grad_fn=<MulBackward0>)\n",
      "tensor(1.3347e+24, grad_fn=<MulBackward0>)\n",
      "tensor(3.7559e+26, grad_fn=<MulBackward0>)\n",
      "tensor(2.2827e+23, grad_fn=<MulBackward0>)\n",
      "tensor(2.5278e+13, grad_fn=<MulBackward0>)\n",
      "tensor(1.7338e+18, grad_fn=<MulBackward0>)\n",
      "tensor(9.9487e+20, grad_fn=<MulBackward0>)\n",
      "tensor(-11812.2344, grad_fn=<MulBackward0>)\n",
      "tensor(12898736., grad_fn=<MulBackward0>)\n",
      "tensor(6.6820e+18, grad_fn=<MulBackward0>)\n",
      "tensor(5.6979e+20, grad_fn=<MulBackward0>)\n",
      "tensor(5.6656e+26, grad_fn=<MulBackward0>)\n",
      "tensor(8.1633e+22, grad_fn=<MulBackward0>)\n",
      "tensor(9.3612e+25, grad_fn=<MulBackward0>)\n",
      "tensor(3.0117e+23, grad_fn=<MulBackward0>)\n",
      "tensor(2.0718e+24, grad_fn=<MulBackward0>)\n",
      "tensor(1.1941e+27, grad_fn=<MulBackward0>)\n",
      "tensor(1.0296e+23, grad_fn=<MulBackward0>)\n",
      "tensor(1.5229e+14, grad_fn=<MulBackward0>)\n",
      "tensor(3.5556e+27, grad_fn=<MulBackward0>)\n",
      "tensor(6.7755e+27, grad_fn=<MulBackward0>)\n",
      "tensor(3.6785e+27, grad_fn=<MulBackward0>)\n",
      "tensor(7.1119e+26, grad_fn=<MulBackward0>)\n",
      "tensor(8.0183e+23, grad_fn=<MulBackward0>)\n",
      "tensor(4.0837e+16, grad_fn=<MulBackward0>)\n",
      "tensor(4.3544e+11, grad_fn=<MulBackward0>)\n",
      "tensor(4.6580e+25, grad_fn=<MulBackward0>)\n",
      "tensor(8.8990e+26, grad_fn=<MulBackward0>)\n",
      "tensor(9.4735e+24, grad_fn=<MulBackward0>)\n",
      "tensor(8.5488e+18, grad_fn=<MulBackward0>)\n",
      "tensor(2.5049e+23, grad_fn=<MulBackward0>)\n",
      "tensor(2.1282e+16, grad_fn=<MulBackward0>)\n",
      "tensor(4.9894e+09, grad_fn=<MulBackward0>)\n",
      "tensor(2.4186e+25, grad_fn=<MulBackward0>)\n",
      "tensor(2.5343e+21, grad_fn=<MulBackward0>)\n",
      "tensor(1.8273e+26, grad_fn=<MulBackward0>)\n",
      "tensor(139.0234, grad_fn=<MulBackward0>)\n",
      "tensor(6.1289e+21, grad_fn=<MulBackward0>)\n",
      "tensor(4.0010e+25, grad_fn=<MulBackward0>)\n",
      "tensor(4.5202e+19, grad_fn=<MulBackward0>)\n",
      "tensor(2.9593e+17, grad_fn=<MulBackward0>)\n",
      "tensor(8.4541e+22, grad_fn=<MulBackward0>)\n",
      "tensor(9.1903e+13, grad_fn=<MulBackward0>)\n",
      "tensor(3.1383e+27, grad_fn=<MulBackward0>)\n",
      "tensor(3.5974e+27, grad_fn=<MulBackward0>)\n",
      "tensor(2.3770e+19, grad_fn=<MulBackward0>)\n",
      "tensor(8.1667e+24, grad_fn=<MulBackward0>)\n",
      "tensor(1.0585e+21, grad_fn=<MulBackward0>)\n",
      "tensor(4.0610e+26, grad_fn=<MulBackward0>)\n",
      "tensor(4.0662e+19, grad_fn=<MulBackward0>)\n",
      "tensor(1.7995e+26, grad_fn=<MulBackward0>)\n",
      "tensor(9.4757e+16, grad_fn=<MulBackward0>)\n",
      "tensor(-6821666., grad_fn=<MulBackward0>)\n",
      "tensor(4.5274e+17, grad_fn=<MulBackward0>)\n",
      "tensor(1.3521e+19, grad_fn=<MulBackward0>)\n",
      "tensor(4.7525e+20, grad_fn=<MulBackward0>)\n",
      "tensor(3.6135e+23, grad_fn=<MulBackward0>)\n",
      "tensor(5.9148e+24, grad_fn=<MulBackward0>)\n",
      "tensor(7.8845e+27, grad_fn=<MulBackward0>)\n",
      "tensor(9.3173e+22, grad_fn=<MulBackward0>)\n",
      "tensor(1.1861e+14, grad_fn=<MulBackward0>)\n",
      "tensor(2.4357e+24, grad_fn=<MulBackward0>)\n",
      "tensor(1.1935e+24, grad_fn=<MulBackward0>)\n",
      "tensor(-9.8568e+08, grad_fn=<MulBackward0>)\n",
      "tensor(1.9665e+13, grad_fn=<MulBackward0>)\n",
      "tensor(5.2863e+22, grad_fn=<MulBackward0>)\n",
      "tensor(1.5379e+27, grad_fn=<MulBackward0>)\n",
      "tensor(1.9828e+26, grad_fn=<MulBackward0>)\n",
      "tensor(6.1980e+26, grad_fn=<MulBackward0>)\n",
      "tensor(2.7232e+20, grad_fn=<MulBackward0>)\n",
      "tensor(3.4703e+10, grad_fn=<MulBackward0>)\n",
      "tensor(7.9980e+24, grad_fn=<MulBackward0>)\n",
      "tensor(5.8760e+27, grad_fn=<MulBackward0>)\n",
      "tensor(1.1389e+26, grad_fn=<MulBackward0>)\n",
      "tensor(3.1024e+25, grad_fn=<MulBackward0>)\n",
      "tensor(9.3574e+26, grad_fn=<MulBackward0>)\n",
      "tensor(6.1664e+23, grad_fn=<MulBackward0>)\n",
      "tensor(2276.2224, grad_fn=<MulBackward0>)\n",
      "tensor(2.2150e+17, grad_fn=<MulBackward0>)\n",
      "tensor(9408.7627, grad_fn=<MulBackward0>)\n"
     ]
    },
    {
     "name": "stdout",
     "output_type": "stream",
     "text": [
      "tensor(1.4871e+26, grad_fn=<MulBackward0>)\n",
      "tensor(8.5027e+27, grad_fn=<MulBackward0>)\n",
      "tensor(1.4640e+26, grad_fn=<MulBackward0>)\n",
      "tensor(4.5038e+27, grad_fn=<MulBackward0>)\n",
      "tensor(3.8245e+25, grad_fn=<MulBackward0>)\n",
      "tensor(2.5260e+20, grad_fn=<MulBackward0>)\n",
      "tensor(4.8215e+24, grad_fn=<MulBackward0>)\n",
      "tensor(1.0492e+17, grad_fn=<MulBackward0>)\n",
      "tensor(5.9708e+25, grad_fn=<MulBackward0>)\n",
      "tensor(-3592356.2500, grad_fn=<MulBackward0>)\n",
      "tensor(7.0995e+10, grad_fn=<MulBackward0>)\n",
      "tensor(1.9793e+22, grad_fn=<MulBackward0>)\n",
      "tensor(4.9190e+17, grad_fn=<MulBackward0>)\n",
      "tensor(9.6436e+14, grad_fn=<MulBackward0>)\n",
      "tensor(1.3684e+26, grad_fn=<MulBackward0>)\n",
      "tensor(3.0410e+12, grad_fn=<MulBackward0>)\n",
      "tensor(8.7224e+22, grad_fn=<MulBackward0>)\n",
      "tensor(7.7547e+25, grad_fn=<MulBackward0>)\n",
      "tensor(9.4400e+21, grad_fn=<MulBackward0>)\n",
      "tensor(3.7583e+11, grad_fn=<MulBackward0>)\n",
      "tensor(9.9428e+26, grad_fn=<MulBackward0>)\n",
      "tensor(1.1338e+23, grad_fn=<MulBackward0>)\n",
      "tensor(6.5366e+23, grad_fn=<MulBackward0>)\n",
      "tensor(1.0491e+22, grad_fn=<MulBackward0>)\n",
      "tensor(8.3425e+20, grad_fn=<MulBackward0>)\n",
      "tensor(1.1312e+22, grad_fn=<MulBackward0>)\n",
      "tensor(5.1846e+15, grad_fn=<MulBackward0>)\n",
      "tensor(8.5933e+17, grad_fn=<MulBackward0>)\n",
      "tensor(4.2038e+23, grad_fn=<MulBackward0>)\n",
      "tensor(3.7024e+21, grad_fn=<MulBackward0>)\n",
      "tensor(1.9727e+27, grad_fn=<MulBackward0>)\n",
      "tensor(6.1410e+27, grad_fn=<MulBackward0>)\n",
      "tensor(5.1214e+26, grad_fn=<MulBackward0>)\n",
      "tensor(1.2096e+25, grad_fn=<MulBackward0>)\n",
      "tensor(-5.7564e+09, grad_fn=<MulBackward0>)\n",
      "tensor(-891924., grad_fn=<MulBackward0>)\n",
      "tensor(4.1014e+18, grad_fn=<MulBackward0>)\n",
      "tensor(2.8490e+26, grad_fn=<MulBackward0>)\n",
      "tensor(8.7807e+27, grad_fn=<MulBackward0>)\n",
      "tensor(3.9558e+20, grad_fn=<MulBackward0>)\n",
      "tensor(1.1841e+21, grad_fn=<MulBackward0>)\n",
      "tensor(2.6976e+26, grad_fn=<MulBackward0>)\n",
      "tensor(1.0944e+24, grad_fn=<MulBackward0>)\n",
      "tensor(2.6369e+22, grad_fn=<MulBackward0>)\n",
      "tensor(8.4115e+19, grad_fn=<MulBackward0>)\n",
      "tensor(9.9510e+24, grad_fn=<MulBackward0>)\n",
      "tensor(6.4850e+27, grad_fn=<MulBackward0>)\n",
      "tensor(212828.6094, grad_fn=<MulBackward0>)\n",
      "tensor(7.9712e+27, grad_fn=<MulBackward0>)\n",
      "tensor(3.2091e+26, grad_fn=<MulBackward0>)\n",
      "tensor(2.9672e+15, grad_fn=<MulBackward0>)\n",
      "tensor(1.0701e+27, grad_fn=<MulBackward0>)\n",
      "tensor(7.7760e+23, grad_fn=<MulBackward0>)\n",
      "tensor(5.1478e+11, grad_fn=<MulBackward0>)\n",
      "tensor(9.4378e+19, grad_fn=<MulBackward0>)\n",
      "tensor(4.7107e+27, grad_fn=<MulBackward0>)\n",
      "tensor(5.9968e+18, grad_fn=<MulBackward0>)\n",
      "tensor(1.2446e+25, grad_fn=<MulBackward0>)\n",
      "tensor(1.2587e+26, grad_fn=<MulBackward0>)\n",
      "tensor(9.3075e+19, grad_fn=<MulBackward0>)\n",
      "tensor(2.7030e+25, grad_fn=<MulBackward0>)\n",
      "tensor(3.6930e+17, grad_fn=<MulBackward0>)\n",
      "tensor(5.1704e+23, grad_fn=<MulBackward0>)\n",
      "tensor(-38845716., grad_fn=<MulBackward0>)\n",
      "tensor(1.2763e+20, grad_fn=<MulBackward0>)\n",
      "tensor(3.2095e+27, grad_fn=<MulBackward0>)\n",
      "tensor(1.0623e+23, grad_fn=<MulBackward0>)\n",
      "tensor(4.1292e+24, grad_fn=<MulBackward0>)\n",
      "tensor(1.0663e+24, grad_fn=<MulBackward0>)\n",
      "tensor(79.4904, grad_fn=<MulBackward0>)\n",
      "tensor(6.8849e+16, grad_fn=<MulBackward0>)\n",
      "tensor(6.5448e+24, grad_fn=<MulBackward0>)\n",
      "tensor(2.0546e+08, grad_fn=<MulBackward0>)\n",
      "tensor(5.4276e+13, grad_fn=<MulBackward0>)\n",
      "tensor(1.8920e+20, grad_fn=<MulBackward0>)\n",
      "tensor(1.2049e+19, grad_fn=<MulBackward0>)\n",
      "tensor(1.3982e+25, grad_fn=<MulBackward0>)\n",
      "tensor(1.5762e+24, grad_fn=<MulBackward0>)\n",
      "tensor(1.6671e+23, grad_fn=<MulBackward0>)\n",
      "tensor(2.5209e+27, grad_fn=<MulBackward0>)\n",
      "tensor(4.6572e+27, grad_fn=<MulBackward0>)\n",
      "tensor(1.9677e+11, grad_fn=<MulBackward0>)\n",
      "tensor(7.0114e+11, grad_fn=<MulBackward0>)\n",
      "tensor(2.4291e+23, grad_fn=<MulBackward0>)\n",
      "tensor(6.2385e+25, grad_fn=<MulBackward0>)\n",
      "tensor(9.6114e+25, grad_fn=<MulBackward0>)\n",
      "tensor(7.6024e+18, grad_fn=<MulBackward0>)\n",
      "tensor(8.0968e+25, grad_fn=<MulBackward0>)\n",
      "tensor(1.7606e+17, grad_fn=<MulBackward0>)\n",
      "tensor(3.2010e+23, grad_fn=<MulBackward0>)\n",
      "tensor(3.3212e+27, grad_fn=<MulBackward0>)\n",
      "tensor(2.9635e+25, grad_fn=<MulBackward0>)\n",
      "tensor(9.5428e+18, grad_fn=<MulBackward0>)\n",
      "tensor(3.2834e+19, grad_fn=<MulBackward0>)\n",
      "tensor(6.8694e+12, grad_fn=<MulBackward0>)\n",
      "tensor(6.8082e+25, grad_fn=<MulBackward0>)\n",
      "tensor(1.6985e+19, grad_fn=<MulBackward0>)\n",
      "tensor(7.7172e+27, grad_fn=<MulBackward0>)\n",
      "tensor(4.1436e+22, grad_fn=<MulBackward0>)\n",
      "tensor(3.2522e+24, grad_fn=<MulBackward0>)\n",
      "tensor(1.2696e+25, grad_fn=<MulBackward0>)\n",
      "tensor(-75.2210, grad_fn=<MulBackward0>)\n",
      "tensor(1.2069e+26, grad_fn=<MulBackward0>)\n",
      "tensor(20370.6230, grad_fn=<MulBackward0>)\n",
      "tensor(2.5810e+25, grad_fn=<MulBackward0>)\n",
      "tensor(2.2700e+21, grad_fn=<MulBackward0>)\n",
      "tensor(6.1846e+19, grad_fn=<MulBackward0>)\n",
      "tensor(6.6808e+22, grad_fn=<MulBackward0>)\n",
      "tensor(1.4266e+26, grad_fn=<MulBackward0>)\n",
      "tensor(3.8054e+27, grad_fn=<MulBackward0>)\n",
      "tensor(7.0303e+24, grad_fn=<MulBackward0>)\n",
      "tensor(5.4532e+26, grad_fn=<MulBackward0>)\n",
      "tensor(1.1089e+17, grad_fn=<MulBackward0>)\n",
      "tensor(3.0324e+27, grad_fn=<MulBackward0>)\n",
      "tensor(4.4055e+27, grad_fn=<MulBackward0>)\n",
      "tensor(2.1104e+16, grad_fn=<MulBackward0>)\n",
      "tensor(1.1522e+25, grad_fn=<MulBackward0>)\n",
      "tensor(3.0378e+22, grad_fn=<MulBackward0>)\n",
      "tensor(3.1277e+13, grad_fn=<MulBackward0>)\n",
      "tensor(1.2544e+27, grad_fn=<MulBackward0>)\n",
      "tensor(5.4672e+25, grad_fn=<MulBackward0>)\n",
      "tensor(3.6121e+24, grad_fn=<MulBackward0>)\n",
      "tensor(3.0852e+24, grad_fn=<MulBackward0>)\n",
      "tensor(4.9185e+12, grad_fn=<MulBackward0>)\n",
      "tensor(3.1935e+17, grad_fn=<MulBackward0>)\n",
      "tensor(2.6310e+24, grad_fn=<MulBackward0>)\n",
      "tensor(6.5575e+27, grad_fn=<MulBackward0>)\n",
      "tensor(1.6833e+26, grad_fn=<MulBackward0>)\n",
      "tensor(3.0538e+20, grad_fn=<MulBackward0>)\n",
      "tensor(3.3809e+08, grad_fn=<MulBackward0>)\n",
      "tensor(1.8582e+20, grad_fn=<MulBackward0>)\n",
      "tensor(2.6536e+25, grad_fn=<MulBackward0>)\n",
      "tensor(-1.3587e+10, grad_fn=<MulBackward0>)\n",
      "tensor(3.4724e+26, grad_fn=<MulBackward0>)\n",
      "tensor(1.3765e+09, grad_fn=<MulBackward0>)\n",
      "tensor(4.1627e+26, grad_fn=<MulBackward0>)\n",
      "tensor(1.7857e+16, grad_fn=<MulBackward0>)\n",
      "tensor(1.0727e+19, grad_fn=<MulBackward0>)\n",
      "tensor(3.4932e+25, grad_fn=<MulBackward0>)\n",
      "tensor(2.3780e+17, grad_fn=<MulBackward0>)\n",
      "tensor(5.6561e+23, grad_fn=<MulBackward0>)\n",
      "tensor(1.6727e+27, grad_fn=<MulBackward0>)\n",
      "tensor(4.0755e+23, grad_fn=<MulBackward0>)\n",
      "tensor(3.3383e+26, grad_fn=<MulBackward0>)\n",
      "tensor(2.1923e+27, grad_fn=<MulBackward0>)\n",
      "tensor(4.2595e+25, grad_fn=<MulBackward0>)\n",
      "tensor(4.5596e+19, grad_fn=<MulBackward0>)\n",
      "tensor(2.0846e+20, grad_fn=<MulBackward0>)\n",
      "tensor(5.9523e+21, grad_fn=<MulBackward0>)\n",
      "tensor(4.4467e+24, grad_fn=<MulBackward0>)\n",
      "tensor(7.4466e+15, grad_fn=<MulBackward0>)\n",
      "tensor(2.2983e+27, grad_fn=<MulBackward0>)\n",
      "tensor(1.8031e+24, grad_fn=<MulBackward0>)\n",
      "tensor(6.0728e+27, grad_fn=<MulBackward0>)\n",
      "tensor(4.7565e+22, grad_fn=<MulBackward0>)\n",
      "tensor(5.2218e+10, grad_fn=<MulBackward0>)\n",
      "tensor(6947330., grad_fn=<MulBackward0>)\n",
      "tensor(-4.0495e+10, grad_fn=<MulBackward0>)\n",
      "tensor(2.4347e+27, grad_fn=<MulBackward0>)\n",
      "tensor(6.6854e+26, grad_fn=<MulBackward0>)\n",
      "tensor(1.1830e+22, grad_fn=<MulBackward0>)\n",
      "tensor(3.8657e+22, grad_fn=<MulBackward0>)\n",
      "tensor(1.3728e+22, grad_fn=<MulBackward0>)\n",
      "tensor(1.9126e+17, grad_fn=<MulBackward0>)\n",
      "tensor(5.0939e+22, grad_fn=<MulBackward0>)\n",
      "tensor(2.3329e+21, grad_fn=<MulBackward0>)\n",
      "tensor(7.1438e+23, grad_fn=<MulBackward0>)\n",
      "tensor(2.0435e+27, grad_fn=<MulBackward0>)\n",
      "tensor(8.9923e+23, grad_fn=<MulBackward0>)\n",
      "tensor(3.0846e+26, grad_fn=<MulBackward0>)\n",
      "tensor(1.6494e+17, grad_fn=<MulBackward0>)\n",
      "tensor(6.9357e+12, grad_fn=<MulBackward0>)\n",
      "tensor(8.9979e+16, grad_fn=<MulBackward0>)\n",
      "tensor(2.3574e+22, grad_fn=<MulBackward0>)\n",
      "tensor(8.1411e+20, grad_fn=<MulBackward0>)\n",
      "tensor(2.3639e+24, grad_fn=<MulBackward0>)\n",
      "tensor(3.9823e+27, grad_fn=<MulBackward0>)\n",
      "tensor(7.2320e+27, grad_fn=<MulBackward0>)\n",
      "tensor(2.2451e+25, grad_fn=<MulBackward0>)\n",
      "tensor(5.5048e+21, grad_fn=<MulBackward0>)\n",
      "tensor(1.3805e+27, grad_fn=<MulBackward0>)\n",
      "tensor(3.7025e+26, grad_fn=<MulBackward0>)\n",
      "tensor(-1825527.2500, grad_fn=<MulBackward0>)\n",
      "tensor(1.9041e+24, grad_fn=<MulBackward0>)\n",
      "tensor(1.4751e+15, grad_fn=<MulBackward0>)\n",
      "tensor(2.1025e+25, grad_fn=<MulBackward0>)\n",
      "tensor(2.2521e+20, grad_fn=<MulBackward0>)\n",
      "tensor(1.6575e+26, grad_fn=<MulBackward0>)\n",
      "tensor(6.9236e+25, grad_fn=<MulBackward0>)\n",
      "tensor(4.2111e+27, grad_fn=<MulBackward0>)\n",
      "tensor(2.5917e+26, grad_fn=<MulBackward0>)\n",
      "tensor(3.9589e+23, grad_fn=<MulBackward0>)\n",
      "tensor(1.9014e+19, grad_fn=<MulBackward0>)\n",
      "tensor(1.8609e+27, grad_fn=<MulBackward0>)\n",
      "tensor(1.0783e+19, grad_fn=<MulBackward0>)\n",
      "tensor(6.8829e+24, grad_fn=<MulBackward0>)\n",
      "tensor(1.8255e+25, grad_fn=<MulBackward0>)\n",
      "tensor(4.6760e+26, grad_fn=<MulBackward0>)\n",
      "tensor(2.2705e+27, grad_fn=<MulBackward0>)\n",
      "tensor(5.0912e+25, grad_fn=<MulBackward0>)\n",
      "tensor(1.2957e+17, grad_fn=<MulBackward0>)\n",
      "tensor(3.2904e+26, grad_fn=<MulBackward0>)\n",
      "tensor(1.7645e+22, grad_fn=<MulBackward0>)\n",
      "tensor(3.3502e+24, grad_fn=<MulBackward0>)\n",
      "tensor(6.9381e+19, grad_fn=<MulBackward0>)\n",
      "tensor(1.5236e+22, grad_fn=<MulBackward0>)\n",
      "tensor(-1.0386e+10, grad_fn=<MulBackward0>)\n",
      "tensor(1.5829e+25, grad_fn=<MulBackward0>)\n",
      "tensor(2.1275e+22, grad_fn=<MulBackward0>)\n",
      "tensor(8.1436e+27, grad_fn=<MulBackward0>)\n",
      "tensor(2.3086e+25, grad_fn=<MulBackward0>)\n",
      "tensor(9.7029e+20, grad_fn=<MulBackward0>)\n",
      "tensor(1.9972e+27, grad_fn=<MulBackward0>)\n",
      "tensor(1.0042e+11, grad_fn=<MulBackward0>)\n",
      "tensor(4.0091e+24, grad_fn=<MulBackward0>)\n",
      "tensor(1.0465e+26, grad_fn=<MulBackward0>)\n",
      "tensor(2.6415e+27, grad_fn=<MulBackward0>)\n",
      "tensor(2.5984e+14, grad_fn=<MulBackward0>)\n",
      "tensor(8.8899e+20, grad_fn=<MulBackward0>)\n",
      "tensor(1.9144e+18, grad_fn=<MulBackward0>)\n",
      "tensor(-1521.5970, grad_fn=<MulBackward0>)\n",
      "tensor(4.5557e+27, grad_fn=<MulBackward0>)\n",
      "tensor(4.8603e+20, grad_fn=<MulBackward0>)\n",
      "tensor(7.2085e+26, grad_fn=<MulBackward0>)\n",
      "tensor(2.0476e+17, grad_fn=<MulBackward0>)\n",
      "tensor(3.9056e+26, grad_fn=<MulBackward0>)\n",
      "tensor(2.1426e+25, grad_fn=<MulBackward0>)\n",
      "tensor(8.0838e+16, grad_fn=<MulBackward0>)\n",
      "tensor(7.5084e+21, grad_fn=<MulBackward0>)\n",
      "tensor(1.3867e+20, grad_fn=<MulBackward0>)\n",
      "tensor(8.2318e+25, grad_fn=<MulBackward0>)\n",
      "tensor(6.0844e+14, grad_fn=<MulBackward0>)\n",
      "tensor(1.1726e+23, grad_fn=<MulBackward0>)\n",
      "tensor(2.0061e+25, grad_fn=<MulBackward0>)\n",
      "tensor(4.1735e+18, grad_fn=<MulBackward0>)\n",
      "tensor(2.8952e+27, grad_fn=<MulBackward0>)\n",
      "tensor(4.9288e+24, grad_fn=<MulBackward0>)\n",
      "tensor(7.7590e+14, grad_fn=<MulBackward0>)\n",
      "tensor(3.2591e+22, grad_fn=<MulBackward0>)\n",
      "tensor(1.2509e+23, grad_fn=<MulBackward0>)\n",
      "\n",
      "Weights: \n",
      "10:1.00 \n",
      " 9:1.00  \n",
      " 8:1.00  \n",
      " 7:1.00  \n",
      " 6:1.00  \n",
      " 5:1.00  \n",
      " 4:1.00  \n",
      " 3:1.00  \n",
      " 2:1.00  \n",
      " 1:1.00  \n",
      " 0:1.00  \n"
     ]
    }
   ],
   "source": [
    "for p in x[:,1]:\n",
    "    z = func_actual(p)\n",
    "    z_pred = func_predict(p, training_weights)\n",
    "    print(z * z_pred)\n",
    "    loss = torch.sigmoid(z - z_pred) * 500\n",
    "    zeroGrad(x)\n",
    "    zeroGrad(z)\n",
    "    zeroGrad(z_pred)\n",
    "    zeroGrad(training_weights)\n",
    "    loss.backward()\n",
    "    training_weights.data.add_(-lr, training_weights.grad.data)\n",
    "    \n",
    "printWeights(training_weights)    "
   ]
  },
  {
   "cell_type": "code",
   "execution_count": 35,
   "metadata": {},
   "outputs": [
    {
     "ename": "TypeError",
     "evalue": "len() of a 0-d tensor",
     "output_type": "error",
     "traceback": [
      "\u001b[1;31m---------------------------------------------------------------------------\u001b[0m",
      "\u001b[1;31mTypeError\u001b[0m                                 Traceback (most recent call last)",
      "\u001b[1;32m<ipython-input-35-af1d3a9cac4b>\u001b[0m in \u001b[0;36m<module>\u001b[1;34m\u001b[0m\n\u001b[0;32m      1\u001b[0m \u001b[0mz_pred\u001b[0m \u001b[1;33m=\u001b[0m \u001b[0mfunc_predict\u001b[0m\u001b[1;33m(\u001b[0m\u001b[0mx\u001b[0m\u001b[1;33m[\u001b[0m\u001b[1;33m:\u001b[0m\u001b[1;33m,\u001b[0m\u001b[1;36m1\u001b[0m\u001b[1;33m]\u001b[0m\u001b[1;33m,\u001b[0m \u001b[0mtraining_weights\u001b[0m\u001b[1;33m)\u001b[0m\u001b[1;33m\u001b[0m\u001b[1;33m\u001b[0m\u001b[0m\n\u001b[1;32m----> 2\u001b[1;33m \u001b[0mloss\u001b[0m \u001b[1;33m=\u001b[0m \u001b[0mcriterion\u001b[0m\u001b[1;33m(\u001b[0m\u001b[0mz\u001b[0m\u001b[1;33m,\u001b[0m \u001b[0mz_pred\u001b[0m\u001b[1;33m)\u001b[0m\u001b[1;33m\u001b[0m\u001b[1;33m\u001b[0m\u001b[0m\n\u001b[0m\u001b[0;32m      3\u001b[0m \u001b[0mprint\u001b[0m\u001b[1;33m(\u001b[0m\u001b[0mloss\u001b[0m\u001b[1;33m)\u001b[0m\u001b[1;33m\u001b[0m\u001b[1;33m\u001b[0m\u001b[0m\n\u001b[0;32m      4\u001b[0m \u001b[0mzeroAllGrads\u001b[0m\u001b[1;33m(\u001b[0m\u001b[1;33m)\u001b[0m\u001b[1;33m\u001b[0m\u001b[1;33m\u001b[0m\u001b[0m\n\u001b[0;32m      5\u001b[0m \u001b[0mloss\u001b[0m\u001b[1;33m.\u001b[0m\u001b[0mbackward\u001b[0m\u001b[1;33m(\u001b[0m\u001b[1;33m)\u001b[0m\u001b[1;33m\u001b[0m\u001b[1;33m\u001b[0m\u001b[0m\n",
      "\u001b[1;32m<ipython-input-27-17c4a7700d98>\u001b[0m in \u001b[0;36mlossFunction\u001b[1;34m(Y, Y_pred)\u001b[0m\n\u001b[0;32m      1\u001b[0m \u001b[1;32mdef\u001b[0m \u001b[0mlossFunction\u001b[0m\u001b[1;33m(\u001b[0m\u001b[0mY\u001b[0m\u001b[1;33m,\u001b[0m \u001b[0mY_pred\u001b[0m\u001b[1;33m)\u001b[0m\u001b[1;33m:\u001b[0m\u001b[1;33m\u001b[0m\u001b[1;33m\u001b[0m\u001b[0m\n\u001b[1;32m----> 2\u001b[1;33m     \u001b[1;32mreturn\u001b[0m \u001b[0mtorch\u001b[0m\u001b[1;33m.\u001b[0m\u001b[0mmean\u001b[0m\u001b[1;33m(\u001b[0m\u001b[1;33m(\u001b[0m\u001b[0mY\u001b[0m \u001b[1;33m-\u001b[0m \u001b[0mY_pred\u001b[0m\u001b[1;33m)\u001b[0m\u001b[1;33m)\u001b[0m \u001b[1;33m/\u001b[0m \u001b[0mlen\u001b[0m\u001b[1;33m(\u001b[0m\u001b[0mY\u001b[0m\u001b[1;33m)\u001b[0m\u001b[1;33m\u001b[0m\u001b[1;33m\u001b[0m\u001b[0m\n\u001b[0m",
      "\u001b[1;32m~\\AppData\\Local\\Continuum\\anaconda3\\lib\\site-packages\\torch\\tensor.py\u001b[0m in \u001b[0;36m__len__\u001b[1;34m(self)\u001b[0m\n\u001b[0;32m    443\u001b[0m     \u001b[1;32mdef\u001b[0m \u001b[0m__len__\u001b[0m\u001b[1;33m(\u001b[0m\u001b[0mself\u001b[0m\u001b[1;33m)\u001b[0m\u001b[1;33m:\u001b[0m\u001b[1;33m\u001b[0m\u001b[1;33m\u001b[0m\u001b[0m\n\u001b[0;32m    444\u001b[0m         \u001b[1;32mif\u001b[0m \u001b[0mself\u001b[0m\u001b[1;33m.\u001b[0m\u001b[0mdim\u001b[0m\u001b[1;33m(\u001b[0m\u001b[1;33m)\u001b[0m \u001b[1;33m==\u001b[0m \u001b[1;36m0\u001b[0m\u001b[1;33m:\u001b[0m\u001b[1;33m\u001b[0m\u001b[1;33m\u001b[0m\u001b[0m\n\u001b[1;32m--> 445\u001b[1;33m             \u001b[1;32mraise\u001b[0m \u001b[0mTypeError\u001b[0m\u001b[1;33m(\u001b[0m\u001b[1;34m\"len() of a 0-d tensor\"\u001b[0m\u001b[1;33m)\u001b[0m\u001b[1;33m\u001b[0m\u001b[1;33m\u001b[0m\u001b[0m\n\u001b[0m\u001b[0;32m    446\u001b[0m         \u001b[1;32mreturn\u001b[0m \u001b[0mself\u001b[0m\u001b[1;33m.\u001b[0m\u001b[0mshape\u001b[0m\u001b[1;33m[\u001b[0m\u001b[1;36m0\u001b[0m\u001b[1;33m]\u001b[0m\u001b[1;33m\u001b[0m\u001b[1;33m\u001b[0m\u001b[0m\n\u001b[0;32m    447\u001b[0m \u001b[1;33m\u001b[0m\u001b[0m\n",
      "\u001b[1;31mTypeError\u001b[0m: len() of a 0-d tensor"
     ]
    }
   ],
   "source": [
    "z_pred = func_predict(x[:,1], training_weights)\n",
    "loss = criterion(z, z_pred)\n",
    "print(loss)\n",
    "zeroAllGrads()\n",
    "loss.backward()\n",
    "# print(x.grad.data.numpy())\n",
    "print(training_weights.grad.data.numpy())\n",
    "training_weights.data.add_(-lr, training_weights.grad.data)\n",
    "printWeights(training_weights)"
   ]
  },
  {
   "cell_type": "code",
   "execution_count": null,
   "metadata": {},
   "outputs": [],
   "source": [
    "z_pred = func_predict(x[:,1], training_weights)\n",
    "loss = criterion(z, z_pred)\n",
    "print(loss)\n",
    "zeroAllGrads()\n",
    "loss.backward()\n",
    "# print(x.grad.data.numpy())\n",
    "print(training_weights.grad.data.numpy())\n",
    "training_weights.data.add_(-lr, training_weights.grad.data)\n",
    "printWeights(training_weights)"
   ]
  },
  {
   "cell_type": "code",
   "execution_count": null,
   "metadata": {},
   "outputs": [],
   "source": [
    "z_pred = func_predict(x[:,1], training_weights)\n",
    "loss = criterion(z, z_pred)\n",
    "print(loss)\n",
    "zeroAllGrads()\n",
    "loss.backward()\n",
    "# print(x.grad.data.numpy())\n",
    "print(training_weights.grad.data.numpy())\n",
    "training_weights.data.add_(-lr, training_weights.grad.data)\n",
    "printWeights(training_weights)"
   ]
  },
  {
   "cell_type": "code",
   "execution_count": null,
   "metadata": {},
   "outputs": [],
   "source": []
  },
  {
   "cell_type": "code",
   "execution_count": null,
   "metadata": {},
   "outputs": [],
   "source": []
  },
  {
   "cell_type": "code",
   "execution_count": null,
   "metadata": {},
   "outputs": [],
   "source": []
  },
  {
   "cell_type": "code",
   "execution_count": null,
   "metadata": {},
   "outputs": [],
   "source": []
  },
  {
   "cell_type": "code",
   "execution_count": null,
   "metadata": {},
   "outputs": [],
   "source": []
  },
  {
   "cell_type": "code",
   "execution_count": null,
   "metadata": {},
   "outputs": [],
   "source": []
  },
  {
   "cell_type": "code",
   "execution_count": null,
   "metadata": {},
   "outputs": [],
   "source": []
  },
  {
   "cell_type": "code",
   "execution_count": null,
   "metadata": {},
   "outputs": [],
   "source": []
  },
  {
   "cell_type": "code",
   "execution_count": null,
   "metadata": {},
   "outputs": [],
   "source": []
  },
  {
   "cell_type": "code",
   "execution_count": null,
   "metadata": {},
   "outputs": [],
   "source": []
  },
  {
   "cell_type": "code",
   "execution_count": null,
   "metadata": {},
   "outputs": [],
   "source": []
  },
  {
   "cell_type": "code",
   "execution_count": null,
   "metadata": {},
   "outputs": [],
   "source": [
    "z_pred = func_predict(x, training_weights)\n",
    "loss = criterion(z, z_pred)\n",
    "print(loss)\n",
    "zeroAllGrads()\n",
    "loss.backward()\n",
    "# print(x.grad.data.numpy())\n",
    "print(training_weights.grad.data.numpy())\n",
    "training_weights.data.add_(-lr, training_weights.grad.data)\n",
    "printWeights(training_weights)"
   ]
  },
  {
   "cell_type": "code",
   "execution_count": null,
   "metadata": {},
   "outputs": [],
   "source": [
    "z_pred = func_predict(x, training_weights)\n",
    "loss = criterion(z, z_pred)\n",
    "print(loss)\n",
    "zeroAllGrads()\n",
    "loss.backward()\n",
    "print(training_weights.grad.data.numpy())\n",
    "training_weights.data.add_(-lr, training_weights.grad.data)\n",
    "printWeights(training_weights)"
   ]
  },
  {
   "cell_type": "code",
   "execution_count": null,
   "metadata": {},
   "outputs": [],
   "source": [
    "z_pred = func_predict(x, training_weights)\n",
    "loss = criterion(z, z_pred)\n",
    "print(loss)\n",
    "zeroAllGrads()\n",
    "loss.backward()\n",
    "print(training_weights.grad.data.numpy())\n",
    "training_weights.data.add_(-lr, training_weights.grad.data)\n",
    "printWeights(training_weights)"
   ]
  },
  {
   "cell_type": "code",
   "execution_count": null,
   "metadata": {},
   "outputs": [],
   "source": []
  },
  {
   "cell_type": "code",
   "execution_count": null,
   "metadata": {},
   "outputs": [],
   "source": []
  },
  {
   "cell_type": "code",
   "execution_count": null,
   "metadata": {},
   "outputs": [],
   "source": []
  },
  {
   "cell_type": "code",
   "execution_count": null,
   "metadata": {},
   "outputs": [],
   "source": []
  },
  {
   "cell_type": "code",
   "execution_count": null,
   "metadata": {},
   "outputs": [],
   "source": []
  },
  {
   "cell_type": "code",
   "execution_count": null,
   "metadata": {},
   "outputs": [],
   "source": []
  },
  {
   "cell_type": "code",
   "execution_count": null,
   "metadata": {},
   "outputs": [],
   "source": []
  },
  {
   "cell_type": "code",
   "execution_count": null,
   "metadata": {},
   "outputs": [],
   "source": []
  }
 ],
 "metadata": {
  "kernelspec": {
   "display_name": "Python 3",
   "language": "python",
   "name": "python3"
  },
  "language_info": {
   "codemirror_mode": {
    "name": "ipython",
    "version": 3
   },
   "file_extension": ".py",
   "mimetype": "text/x-python",
   "name": "python",
   "nbconvert_exporter": "python",
   "pygments_lexer": "ipython3",
   "version": "3.7.4"
  }
 },
 "nbformat": 4,
 "nbformat_minor": 2
}
