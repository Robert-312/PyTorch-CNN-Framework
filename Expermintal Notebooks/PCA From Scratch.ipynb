{
 "cells": [
  {
   "cell_type": "markdown",
   "metadata": {},
   "source": [
    "# PCA From Scratch\n",
    "\n",
    "## Goal of this Paper\n",
    "\n",
    "The goal is to try to gain a strong intuition behind PCA, including the math.  There have been many papers published on this same subject.  But intuition is not something that is one size fits all.  Oftentimes, you have to read many articles on a subject before you find one that matches your way of thinking, level of detail desired and types of examples you can relate to.  Most of the time, we end up combining multiple articles to build the background knowledge and understanding of a subject that we feel comfortable with.  So having one more paper on PCS intuition is not necessarily redundant.\n",
    "\n",
    "## Approach\n",
    "\n",
    "We will use a simple dataset with only two variables.  This is a bit ironic in that the main reason we use PCA is for feature reduction of datasets with tens or hundreds of variables.  But this simple dataset will be much easier to understand and be able to more clearly see the math and to visualize the results.  \n",
    "\n",
    "We will generate the dataset with a correlation between the 2 variables.  This is done since PCA is primarily a way to transform datasets with dependent variables into datasets with independent variables. The reduction in features is done after this transformation and is based on removing the transformed features with the least amount of variability.\n",
    "\n",
    "The approach will be to describe the math concepts, then build the Python code that executes this math on our simple dataset.  We will then use SKLearn's library to validate that our “from scratch” code gets the same results.\n",
    "\n",
    "\n"
   ]
  },
  {
   "cell_type": "markdown",
   "metadata": {},
   "source": [
    "## Motivation for Studying PCA\n",
    "\n",
    "From a data science perspective, we would ideally like to have as much data as possible before we start building our models.  Getting more data mainly comes from either collecting more observations, adding more features, or a combination of both.  But one is not necessarily a substitute for the other.  More observations gives a better representation of the population and reduces errors by having a wider distribution of data.  More features gives us more things to look at for the predictions, hopefully \"converting\" noise into structured features.  The errors are reduced by having less irreducible errors.  In other words, new features might explain variances not seen with less features.\n",
    "\n",
    "Gathering more observations (rows of data) could entail things like taking more samples, enrolling more people into your study, or sampling for longer periods of time.  Depending on the type of observations, there might be limits on how much data can be practically gathered, especially if the data is labeled.\n",
    "\n",
    "Adding more features (columns of data) is sometimes easier to do.  Instead of just getting the temperature and humidity, why not include barometric pressure, UV index and wind speed.  Oftentimes if there are measurements available, we try to include all these measurements in our dataset for our prediction model to use.\n",
    "\n",
    "One of the problems with adding a lot of features, is that very often these features are not independent of each other.  A good example of this might be a person's income and the price they paid for their car.  If I am building a dataset to predict if a person will buy a yacht, I would want to look at their income.  If a person only makes $30,000 a year, the chances of that person buying a yacht is much lower than a person who makes 1 million a year.  If I add the feature of the price of the last automobile purchase, it might not help the prediction that much.  i.e. The two people above will most likely buy very different priced cars aligned with their income.  So the second feature is not telling us much more than the first feature.  This is not to say that the cost of their last car is not important.  A third person with zero income who just bought a 2 million dollar Bugatti might have a very good chance of buying a yacht.\n",
    "\n",
    "Another problem with a lot of features is the curse of dimensionality.  The more features we add, the greater the chance that  observations have unique patterns of features.  Let's assume that all our features are Gaussian distributed and are independent of each other (a very unlikely scenario).  The probability that an observation will have a value for a feature that is within 1 standard deviation of the mean is 68.27%.  The probability an observation will be within 1 SD of the mean on 2 features is $0.6827 * 0.6827 \\approx 0.46$.  If we have 20 Gaussian independent features, the probability of an observation being in the \"middle\" of all 20 of these features is $0.6827^{20} \\approx 0.00048$.  \n",
    "\n",
    "What this means is that with larger numbers of features, most of the data points will be tucked into the corners of the feature hypercubes.  For those familiar with electronics, this is similar to the skin effect with high voltage transmission lines.  The electrons repel each other, so all the electrons in a high voltage cable try to push themselves away from each other as much as possible and end up being forced onto the surface or the skin of the wire.  Most of the copper in the wire is not used because of this.  Since most of the models we rely on use some type of distance between points, this \"skin effect\" becomes a problem.  The data points are all on the walls of these hypercubes.  With high dimensions, these hypercubes form more of a sphere shape with a radius of $r$.  This means that the distance between the mean and all these data points are almost all about the same value, very close to $r$.\n",
    "\n",
    "If we combine the dependency problem and the curse of dimensionality, we find datasets with very large numbers features are either redundant due to dependency, or forced to the edges of the feature hypercubes.  But this does not mean that all these features are not helpful.  \n",
    "\n",
    "Two of the biggest problems in data science are:\n",
    "- Overfitting on irreducible errors (noise)\n",
    "- Training time and/or stalled learning with large numbers of dimensions (and observations)\n",
    "\n",
    "More features might be able to explain some of the noise and therefore reduce overfitting.  But more features increase the complexity of training and might prevent completion of training in a reasonable amount of time.  PCA is a way of reducing the number of features by understanding dependency between features.  But care must be taken to only reduce features when training is compromised.\n",
    "\n"
   ]
  },
  {
   "cell_type": "markdown",
   "metadata": {},
   "source": [
    "# Feature Reduction\n",
    "\n",
    "But if we have to remove features, which ones should we remove?  One of the most obvious ways to reduce the features is to remove features that have a high correlation to other features.  If 10 features are mostly just linear transformations of each other, can't we just use 1 and discard the other 9?\n",
    "\n",
    "The answer is yes and no.  In our yacht example above, the cost of the person's car is highly correlated to the person's income.  But we also saw that some people may not have an income and still be very wealthy.  \n",
    "\n",
    "A good example of correlated features are height and weight.  We would expect someone 6 foot 8 inches tall to weigh more than someone 5 foot 1 inch.  But weight varies for other reasons other than just height, e.g. obesity, cancer or weight lifting.  If we are accessing the risks of a medical condition where being over or under weight is important, a height adjusted weight might be an extremely valuable feature for our model.  Remember, variance in features is critical for making accurate predictions!\n",
    "\n",
    "Two features that have some kind of dependency does not mean they are 100% correlated.  Throwing away any of these features would throw away some variance that can be very helpful in our predictions.  Ideally, we would want to somehow transform these 2 dependent features into 2 features independent of each other, each with their own independent variance.  If after this transformation, some transformed features have little variance, they can be removed without losing much of the variance of the dataset. \n",
    "\n",
    "But this transformation must be done in a way that does not alter the meaning of the original dataset.  Non-altering transformations are nothing new in data science.  We often center and scale features and do things like one-hot encoding.  This changes the data, but does not alter the meaning of the data or the relationship between data points.\n",
    "\n",
    "\n"
   ]
  },
  {
   "cell_type": "markdown",
   "metadata": {},
   "source": [
    "## Vector Spaces and Bases\n",
    "\n",
    "If we look at a vector space in $R^2$, say height and weight. Every person in the dataset would produce one vector (or tuple).  The vector would be $(height, weight)$.  We have 2 axes X and Y which correspond to height and weight respectively.  Let's make the units be cm for height and kg for weight.  Let's take a person that is 172cm tall might weigh 74kg.  So the vector for this person would be:\n",
    "\n",
    "$\\begin{pmatrix}172 \\\\ 74 \\end{pmatrix}$\n",
    "\n",
    "This vector makes a single point in our vector space.  But this point assumes a basis of $(height, weight)$.  \n",
    "\n",
    "This will look very odd, but we could represent that same point with a different basis $(height, 2 \\times weight)$.  With this weird basis, the same point (or vector) would have to be changed since the weight basis is scaled differently (each tick equals 2kg):\n",
    "\n",
    "$\\begin{pmatrix}172 \\\\ 37 \\end{pmatrix}$\n",
    "\n",
    "This did not change the data, it just changed the way we built the data point or vector.\n",
    "\n",
    "Now let's try something that is even odder, $(height, height \\times weight)$.  Here, the second axis is the value of weight times height.  To get the weight, you would have to take the value of the second axis and divide by the value of the first axis the height.  This gives us a new vector:\n",
    "\n",
    "$\\begin{pmatrix}172 \\\\ 12728 \\end{pmatrix}$\n",
    "\n",
    "What is the height and weight of this person?  The height is simple, 172cm.  The weight = $12728 \\div 172 = 74kg$.\n",
    "\n",
    "To our normal way of thinking, this is very inefficent and looks like a dumb approach.  But you can still extract the same data from these new axes and the data in the original dataset is unchanged.\n",
    "\n",
    "In fact, you can create any kind of crazy bases for the vector space as long as each basis is linearly independent from each other.  The linear independence ensures you are not throwing any data away and that data in each of the original bases is preserved.  The bases do not have to be orthogonal to each other as long as they are linearly independent.  That being said, having orthogonal bases is much nice to work with and much more intuitive.\n"
   ]
  },
  {
   "cell_type": "markdown",
   "metadata": {},
   "source": [
    "## Rotation\n",
    "\n",
    "We looked at different ways of looking at the same data points in a vector space by changing the bases of the space.  But we did not look at how or why we would want to change the bases.  \n",
    "\n",
    "If you look at a scatter plot between 2 variables, you will most likely see a data cloud of some sort of shape.  This shape depends on the distribution of each variable, the variance and covariance.  For two distributions that tend to have most values closer to the mean (Gausian like), the data cloud looks concentrated in the middle of the two variables.  \n",
    "\n",
    "If the two variables are completely independent of each other, the data cloud has either a not discernable shape, has a round shape or is flattened.  The flattening is most likely from one of the variables having a larger variance then the other.  But since these the two variables are independent, the orientation of the flattened cloud is aligned with one or the other axis.\n",
    "\n",
    "If the two variables are some dependent or linear relationship, the cloud may be flattened, but in a direction that is diagonal of both the axes.  This angle shows the linear regression slope of the correlation between the two variables.\n",
    "\n",
    "![alt text](https://s3.amazonaws.com/acadgildsite/wordpress_images/Data+Science/Correlation+%2C+Covariance/image4.png \"Data Clouds\") \n",
    "\n",
    "In summary, data clouds that appear flattened, but aligned with or of the 2 axes shows independence of the 2 variables.  Data clouds that appear flattened, but the flattening is diagonal, shows a dependence between the two variables.\n"
   ]
  },
  {
   "cell_type": "markdown",
   "metadata": {},
   "source": [
    "What if we rotate the data cloud for 2 dependent variables until the flatting is aligned to the x-axis?  \n",
    "\n",
    "![alt text](https://encrypted-tbn0.gstatic.com/images?q=tbn%3AANd9GcQzKm-oHRFUN11LAsp4AGHH93TMDFSSbGIMrH6GOmePmSoOwMHt&usqp=CAU \"Data Cloud with Independent Variables\") \n",
    "\n",
    "This rotation can be achieved by changing the bases of the vector space.  As we saw above, this does not change the data, but just looks at the same data from a different perspective.\n",
    "\n",
    "For example, what would happen if we rotate the height and weight data cloud:\n",
    "\n",
    "![alt text](https://online.stat.psu.edu/stat200/sites/stat200/files/inline-images/weight_height_regression_0.png \"Height/Weight\") \n",
    "\n",
    "The new bases used in the rotation would no longer reflect height and weight.  The 2 new bases would **both** have influences from **both** height and weight.  Because of this, these new bases cannot be referred to as height and weight.  In fact, these 2 new bases would not have any meaningful names.  But they would remove the dependence between the two new \"variables\".  If you calculate the Pearson's correlation coefficient of this new data cloud, it would show a value very close to zero, not correlation.\n",
    "\n",
    "The 2 new bases would each have their own independent variance, with each of these variance potentially contributing to the prediction.  If the 2 variables were highly correlated, the variance in one of the 2 new bases would be almost zero and therefore probably not contribute much to the prediction.  But with variables like height and weight, one of the new variance could be described as height independant weight.  The variance could be critical to accessing health risks.\n",
    "\n",
    "But how do we know how much to rotate the data cloud and how do we do the rotation?\n",
    "\n",
    "Let's answer the second question first.  Chances are, the rotation is not going to be exactly $45^{\\circ}$, but let’s start with an exact rotation of $45^{\\circ}$ to avoid the math for now.\n",
    "\n",
    "It turns out that a $45^{\\circ}$ rotation can be achieved with the following change in bases: $(Y, -X)$.  So our original bases are $(height, weight)$ and the rotation bases would be $(weight, -1 \\times height)$.  This would make a vector for a person 172cm tall and weight 74kg be:\n",
    "\n",
    "$\\begin{pmatrix}74 \\\\ -172 \\end{pmatrix}$\n",
    "\n",
    "\n",
    "Here we might be able to name these new bases, weight and negative height.  But most of the time, the correlation between 2 dependent variables will involve components of both of the origional bases.  So let's avoid giving the new rotated bases names can call them Princaple Components for now, i.e. PC1 and PC2.\n"
   ]
  },
  {
   "cell_type": "markdown",
   "metadata": {},
   "source": [
    "So we have some idea of how to rotate our data to remove dependence between variables or features, but we still have to figure out how much we should rotate the data cloud.\n",
    "\n",
    "To do this, we need to look back at linear regression.  One of the core tasks we do as data scientists is to determine the slope and y-intercept between two variables.  This typically involves changing the slope and bias until we achieve the lowest possible squared difference between the actual values and the line $y = mx + b$.\n",
    "\n",
    "To make things simpler, let's center our data so that the means of both variables equals zero.  i.e. subtract the mean from each data point.\n",
    "\n",
    "This should eliminate the need for a y-intercept leaving only the slope of the regression line to calculate.  The slope is now the best fit for how the data cloud is oriented with the original bases of the dataset.  In other words, this slope describes the amount of rotation the data cloud has to the original bases and is therefore the amount or rotation we need to remove this correlation.\n"
   ]
  },
  {
   "cell_type": "code",
   "execution_count": 1,
   "metadata": {},
   "outputs": [],
   "source": [
    "import numpy as np\n",
    "import pandas as pd\n",
    "import matplotlib.pyplot as plt\n",
    "from IPython.display import display\n",
    "\n",
    "from sklearn.decomposition import PCA"
   ]
  },
  {
   "cell_type": "markdown",
   "metadata": {},
   "source": [
    "### We will stay with $R^2$ for now\n",
    "\n",
    "This is mainly to be able to easily visualize the scatter plots.\n",
    "\n",
    "But this mean that we might be avoiding complexities of higher orders (i.e. Right=hand and Left-hand rules)."
   ]
  },
  {
   "cell_type": "markdown",
   "metadata": {},
   "source": [
    "## Build a data cloud with some degree or corrlation between X and Y"
   ]
  },
  {
   "cell_type": "code",
   "execution_count": 2,
   "metadata": {},
   "outputs": [
    {
     "name": "stdout",
     "output_type": "stream",
     "text": [
      "Slope: 8.9872\n",
      "Y-Intercept: 69.3527\n"
     ]
    },
    {
     "data": {
      "text/plain": [
       "<matplotlib.collections.PathCollection at 0x1f979b78dc8>"
      ]
     },
     "execution_count": 2,
     "metadata": {},
     "output_type": "execute_result"
    },
    {
     "data": {
      "image/png": "[encoded data removed]",
      "text/plain": [
       "<Figure size 432x288 with 1 Axes>"
      ]
     },
     "metadata": {
      "needs_background": "light"
     },
     "output_type": "display_data"
    }
   ],
   "source": [
    "max_x = 500\n",
    "slope_range = [.1, 10]\n",
    "slope_direction = np.random.choice([-1,1])\n",
    "intercept_range = [-80, 80]\n",
    "residual_var = 100\n",
    "x = np.arange(max_x)\n",
    "m = np.random.uniform(*slope_range) * slope_direction\n",
    "b = np.random.uniform(*intercept_range)\n",
    "y_variation_factor = 1.3\n",
    "y = m * x + b + np.random.normal(0, residual_var, len(x)) * m * y_variation_factor\n",
    "print(f'Slope: {m:.4f}\\nY-Intercept: {b:.4f}')\n",
    "plt.scatter(x, y)"
   ]
  },
  {
   "cell_type": "markdown",
   "metadata": {},
   "source": [
    "### We want to center the two features, but not change their scale\n",
    "\n",
    "We will be using the covariance and not the corrlation for out Eigendecomposition.  This will preserve the magnature of the variances for each feature"
   ]
  },
  {
   "cell_type": "code",
   "execution_count": 3,
   "metadata": {},
   "outputs": [
    {
     "data": {
      "text/plain": [
       "<matplotlib.axes._subplots.AxesSubplot at 0x1f979c3a948>"
      ]
     },
     "execution_count": 3,
     "metadata": {},
     "output_type": "execute_result"
    },
    {
     "data": {
      "image/png": "[encoded data removed]",
      "text/plain": [
       "<Figure size 432x288 with 1 Axes>"
      ]
     },
     "metadata": {
      "needs_background": "light"
     },
     "output_type": "display_data"
    }
   ],
   "source": [
    "df = pd.DataFrame({'X':x, 'Y':y})\n",
    "df.X = (df.X - df.X.mean()) #/ df.X.std()\n",
    "df.Y = (df.Y - df.Y.mean()) #/ df.Y.std()\n",
    "df.plot.scatter('X', 'Y')"
   ]
  },
  {
   "cell_type": "markdown",
   "metadata": {},
   "source": [
    "#### We can simply divide each feature by it's standard deviation to standarize the dataset if we wanted"
   ]
  },
  {
   "cell_type": "code",
   "execution_count": 4,
   "metadata": {},
   "outputs": [
    {
     "data": {
      "text/plain": [
       "<matplotlib.axes._subplots.AxesSubplot at 0x1f979cdbd88>"
      ]
     },
     "execution_count": 4,
     "metadata": {},
     "output_type": "execute_result"
    },
    {
     "data": {
      "image/png": "[encoded data removed]",
      "text/plain": [
       "<Figure size 432x288 with 1 Axes>"
      ]
     },
     "metadata": {
      "needs_background": "light"
     },
     "output_type": "display_data"
    }
   ],
   "source": [
    "df_std = df.copy()\n",
    "df_std.X = df_std.X / df_std.X.std()\n",
    "df_std.Y = df_std.Y / df_std.Y.std()\n",
    "df_std.plot.scatter('X', 'Y')"
   ]
  },
  {
   "cell_type": "markdown",
   "metadata": {},
   "source": [
    "### We want to use covariance, but let's quickly look at the correlation first\n",
    "\n",
    "Note that the correlation of our centered dataframe is the same as the covariance of our standardized dataframe.\n",
    "\n",
    "The non-diagonal values are equal to the Pearson correlation coefficient.  i.e. how much linear correlation there is between 2 variables.  A value of 1 means $Y = X$.  A value of 0 means there is no correlation between the 2 factors.\n",
    "\n",
    "Here, the random approach will give a Pearson value of around 75%, so there should be a strong linear relationship between X and Y, but not perfect.\n"
   ]
  },
  {
   "cell_type": "code",
   "execution_count": 5,
   "metadata": {},
   "outputs": [
    {
     "data": {
      "text/html": [
       "<div>\n",
       "<style scoped>\n",
       "    .dataframe tbody tr th:only-of-type {\n",
       "        vertical-align: middle;\n",
       "    }\n",
       "\n",
       "    .dataframe tbody tr th {\n",
       "        vertical-align: top;\n",
       "    }\n",
       "\n",
       "    .dataframe thead th {\n",
       "        text-align: right;\n",
       "    }\n",
       "</style>\n",
       "<table border=\"1\" class=\"dataframe\">\n",
       "  <thead>\n",
       "    <tr style=\"text-align: right;\">\n",
       "      <th></th>\n",
       "      <th>X</th>\n",
       "      <th>Y</th>\n",
       "    </tr>\n",
       "  </thead>\n",
       "  <tbody>\n",
       "    <tr>\n",
       "      <td>X</td>\n",
       "      <td>1.00000</td>\n",
       "      <td>0.74465</td>\n",
       "    </tr>\n",
       "    <tr>\n",
       "      <td>Y</td>\n",
       "      <td>0.74465</td>\n",
       "      <td>1.00000</td>\n",
       "    </tr>\n",
       "  </tbody>\n",
       "</table>\n",
       "</div>"
      ],
      "text/plain": [
       "         X        Y\n",
       "X  1.00000  0.74465\n",
       "Y  0.74465  1.00000"
      ]
     },
     "metadata": {},
     "output_type": "display_data"
    },
    {
     "data": {
      "text/html": [
       "<div>\n",
       "<style scoped>\n",
       "    .dataframe tbody tr th:only-of-type {\n",
       "        vertical-align: middle;\n",
       "    }\n",
       "\n",
       "    .dataframe tbody tr th {\n",
       "        vertical-align: top;\n",
       "    }\n",
       "\n",
       "    .dataframe thead th {\n",
       "        text-align: right;\n",
       "    }\n",
       "</style>\n",
       "<table border=\"1\" class=\"dataframe\">\n",
       "  <thead>\n",
       "    <tr style=\"text-align: right;\">\n",
       "      <th></th>\n",
       "      <th>X</th>\n",
       "      <th>Y</th>\n",
       "    </tr>\n",
       "  </thead>\n",
       "  <tbody>\n",
       "    <tr>\n",
       "      <td>X</td>\n",
       "      <td>1.00000</td>\n",
       "      <td>0.74465</td>\n",
       "    </tr>\n",
       "    <tr>\n",
       "      <td>Y</td>\n",
       "      <td>0.74465</td>\n",
       "      <td>1.00000</td>\n",
       "    </tr>\n",
       "  </tbody>\n",
       "</table>\n",
       "</div>"
      ],
      "text/plain": [
       "         X        Y\n",
       "X  1.00000  0.74465\n",
       "Y  0.74465  1.00000"
      ]
     },
     "metadata": {},
     "output_type": "display_data"
    }
   ],
   "source": [
    "display(df.corr()) # corr() returns Pearson corrlation coefficent automatically.\n",
    "display(df_std.cov()) # cov() only returns the Pearson coefficent here since we used a dataframe already standardized."
   ]
  },
  {
   "cell_type": "markdown",
   "metadata": {},
   "source": [
    "### Use Pandas to get covariance matrix\n",
    "\n",
    "Note: We need to do this on our centered only dataframe since we want to preserve the intrinsic variance of the data.\n"
   ]
  },
  {
   "cell_type": "code",
   "execution_count": 6,
   "metadata": {},
   "outputs": [
    {
     "data": {
      "text/html": [
       "<div>\n",
       "<style scoped>\n",
       "    .dataframe tbody tr th:only-of-type {\n",
       "        vertical-align: middle;\n",
       "    }\n",
       "\n",
       "    .dataframe tbody tr th {\n",
       "        vertical-align: top;\n",
       "    }\n",
       "\n",
       "    .dataframe thead th {\n",
       "        text-align: right;\n",
       "    }\n",
       "</style>\n",
       "<table border=\"1\" class=\"dataframe\">\n",
       "  <thead>\n",
       "    <tr style=\"text-align: right;\">\n",
       "      <th></th>\n",
       "      <th>X</th>\n",
       "      <th>Y</th>\n",
       "    </tr>\n",
       "  </thead>\n",
       "  <tbody>\n",
       "    <tr>\n",
       "      <td>X</td>\n",
       "      <td>20875.000000</td>\n",
       "      <td>1.895107e+05</td>\n",
       "    </tr>\n",
       "    <tr>\n",
       "      <td>Y</td>\n",
       "      <td>189510.714832</td>\n",
       "      <td>3.102675e+06</td>\n",
       "    </tr>\n",
       "  </tbody>\n",
       "</table>\n",
       "</div>"
      ],
      "text/plain": [
       "               X             Y\n",
       "X   20875.000000  1.895107e+05\n",
       "Y  189510.714832  3.102675e+06"
      ]
     },
     "execution_count": 6,
     "metadata": {},
     "output_type": "execute_result"
    }
   ],
   "source": [
    "df.cov()"
   ]
  },
  {
   "cell_type": "markdown",
   "metadata": {},
   "source": [
    "### We don't have to use Pandas to get the covariance\n",
    "\n",
    "The caculation is very simply since we already centered the data.\n",
    "\n",
    "_Note: We will use Bessel's correction here to match Numpy._\n",
    "\n",
    "### Variation\n",
    "\n",
    "$variance_X = \\sum \\frac{\\left ( X - \\overline{X} \\right )^2}{n-1}$\n",
    "\n",
    "But since we centered the data, $\\overline{X} = 0$\n",
    "\n",
    "So we are left with:\n",
    "\n",
    "$\\sum \\frac{\\left ( X\\right )^2}{n-1}$\n",
    "\n",
    "### Covariation\n",
    "\n",
    "$covariance = \\sum \\frac{\\left ( X - \\overline{X} \\right ) * \\left ( Y - \\overline{Y} \\right )}{n-1}$\n",
    "\n",
    "Covariation is basically the same equation, but we use $X*Y vs. X^2$\n",
    "\n",
    "But like the variance, $\\overline{X} = 0$ and $\\overline{Y} = 0$\n",
    "\n",
    "This leaves us with:\n",
    "\n",
    "$\\sum \\frac{X * Y}{n-1}$\n"
   ]
  },
  {
   "cell_type": "code",
   "execution_count": 7,
   "metadata": {},
   "outputs": [
    {
     "name": "stdout",
     "output_type": "stream",
     "text": [
      "Manual Covariance Matrix:\n"
     ]
    },
    {
     "data": {
      "text/html": [
       "<div>\n",
       "<style scoped>\n",
       "    .dataframe tbody tr th:only-of-type {\n",
       "        vertical-align: middle;\n",
       "    }\n",
       "\n",
       "    .dataframe tbody tr th {\n",
       "        vertical-align: top;\n",
       "    }\n",
       "\n",
       "    .dataframe thead th {\n",
       "        text-align: right;\n",
       "    }\n",
       "</style>\n",
       "<table border=\"1\" class=\"dataframe\">\n",
       "  <thead>\n",
       "    <tr style=\"text-align: right;\">\n",
       "      <th></th>\n",
       "      <th>X</th>\n",
       "      <th>Y</th>\n",
       "    </tr>\n",
       "  </thead>\n",
       "  <tbody>\n",
       "    <tr>\n",
       "      <td>X</td>\n",
       "      <td>20875.000000</td>\n",
       "      <td>1.895107e+05</td>\n",
       "    </tr>\n",
       "    <tr>\n",
       "      <td>Y</td>\n",
       "      <td>189510.714832</td>\n",
       "      <td>3.102675e+06</td>\n",
       "    </tr>\n",
       "  </tbody>\n",
       "</table>\n",
       "</div>"
      ],
      "text/plain": [
       "               X             Y\n",
       "X   20875.000000  1.895107e+05\n",
       "Y  189510.714832  3.102675e+06"
      ]
     },
     "metadata": {},
     "output_type": "display_data"
    },
    {
     "name": "stdout",
     "output_type": "stream",
     "text": [
      "\n",
      "Pandas Covariance Matrix:\n"
     ]
    },
    {
     "data": {
      "text/html": [
       "<div>\n",
       "<style scoped>\n",
       "    .dataframe tbody tr th:only-of-type {\n",
       "        vertical-align: middle;\n",
       "    }\n",
       "\n",
       "    .dataframe tbody tr th {\n",
       "        vertical-align: top;\n",
       "    }\n",
       "\n",
       "    .dataframe thead th {\n",
       "        text-align: right;\n",
       "    }\n",
       "</style>\n",
       "<table border=\"1\" class=\"dataframe\">\n",
       "  <thead>\n",
       "    <tr style=\"text-align: right;\">\n",
       "      <th></th>\n",
       "      <th>X</th>\n",
       "      <th>Y</th>\n",
       "    </tr>\n",
       "  </thead>\n",
       "  <tbody>\n",
       "    <tr>\n",
       "      <td>X</td>\n",
       "      <td>20875.000000</td>\n",
       "      <td>1.895107e+05</td>\n",
       "    </tr>\n",
       "    <tr>\n",
       "      <td>Y</td>\n",
       "      <td>189510.714832</td>\n",
       "      <td>3.102675e+06</td>\n",
       "    </tr>\n",
       "  </tbody>\n",
       "</table>\n",
       "</div>"
      ],
      "text/plain": [
       "               X             Y\n",
       "X   20875.000000  1.895107e+05\n",
       "Y  189510.714832  3.102675e+06"
      ]
     },
     "execution_count": 7,
     "metadata": {},
     "output_type": "execute_result"
    }
   ],
   "source": [
    "variance_X = (df.X * df.X).sum() / (len(df) - 1)\n",
    "covariance = (df.X * df.Y).sum() / (len(df) - 1)\n",
    "variance_Y = (df.Y * df.Y).sum() / (len(df) - 1)\n",
    "\n",
    "covariance_matrix = np.array([\n",
    "                                [variance_X, covariance], \n",
    "                                [covariance, variance_Y]]\n",
    "                            )\n",
    "\n",
    "print('Manual Covariance Matrix:')\n",
    "display(pd.DataFrame(covariance_matrix, index=['X', 'Y'], columns=['X', 'Y']))\n",
    "\n",
    "print('\\nPandas Covariance Matrix:')\n",
    "df.cov()"
   ]
  },
  {
   "cell_type": "markdown",
   "metadata": {},
   "source": [
    "#### We can also get the covariance matrix by doing matrix multiplication of the features and it's transpose.\n",
    "\n",
    "All the matrix multiplication is doing is summing up all the $X*X, X*Y, Y*Y$ values, so it is doing the same thing as above."
   ]
  },
  {
   "cell_type": "code",
   "execution_count": 8,
   "metadata": {},
   "outputs": [
    {
     "data": {
      "text/html": [
       "<div>\n",
       "<style scoped>\n",
       "    .dataframe tbody tr th:only-of-type {\n",
       "        vertical-align: middle;\n",
       "    }\n",
       "\n",
       "    .dataframe tbody tr th {\n",
       "        vertical-align: top;\n",
       "    }\n",
       "\n",
       "    .dataframe thead th {\n",
       "        text-align: right;\n",
       "    }\n",
       "</style>\n",
       "<table border=\"1\" class=\"dataframe\">\n",
       "  <thead>\n",
       "    <tr style=\"text-align: right;\">\n",
       "      <th></th>\n",
       "      <th>X</th>\n",
       "      <th>Y</th>\n",
       "    </tr>\n",
       "  </thead>\n",
       "  <tbody>\n",
       "    <tr>\n",
       "      <td>X</td>\n",
       "      <td>20875.000000</td>\n",
       "      <td>1.895107e+05</td>\n",
       "    </tr>\n",
       "    <tr>\n",
       "      <td>Y</td>\n",
       "      <td>189510.714832</td>\n",
       "      <td>3.102675e+06</td>\n",
       "    </tr>\n",
       "  </tbody>\n",
       "</table>\n",
       "</div>"
      ],
      "text/plain": [
       "               X             Y\n",
       "X   20875.000000  1.895107e+05\n",
       "Y  189510.714832  3.102675e+06"
      ]
     },
     "execution_count": 8,
     "metadata": {},
     "output_type": "execute_result"
    }
   ],
   "source": [
    "pd.DataFrame(np.matmul(df.transpose().values , df.values) / (len(df) - 1), index=['X', 'Y'], columns=['X', 'Y'])"
   ]
  },
  {
   "cell_type": "markdown",
   "metadata": {},
   "source": [
    "## Covariance and Linear Regression Slope\n",
    "\n",
    "The covariance is proportionate to the slope of the regression line between X and Y.  \n",
    "\n",
    "In fact, one can get a linear regression slope by dividing the covariance by the variance.  \n",
    "\n",
    "There are 2 vaiances, so we would choose one to be the independant variable for the regression, i.e. X=Independant, Y=Dependant."
   ]
  },
  {
   "cell_type": "code",
   "execution_count": 9,
   "metadata": {},
   "outputs": [
    {
     "name": "stdout",
     "output_type": "stream",
     "text": [
      "Slope from cov / var(X): 9.078357596749877\n"
     ]
    }
   ],
   "source": [
    "covariance = df.cov().X.iloc[1]\n",
    "variance_of_X = df.cov().X.iloc[0]\n",
    "lr_slope_from_cov = covariance / variance_of_X\n",
    "print(f'Slope from cov / var(X): {lr_slope_from_cov}')"
   ]
  },
  {
   "cell_type": "code",
   "execution_count": 10,
   "metadata": {},
   "outputs": [
    {
     "name": "stdout",
     "output_type": "stream",
     "text": [
      "Slope from SKLearn: 9.07835759674988\n"
     ]
    }
   ],
   "source": [
    "from sklearn.linear_model import LinearRegression\n",
    "X = df.X.values.reshape(-1, 1)\n",
    "Y = df.Y.values.reshape(-1, 1)\n",
    "lr = LinearRegression().fit(X, Y)\n",
    "print(f'Slope from SKLearn: {float(lr.coef_[0])}')"
   ]
  },
  {
   "cell_type": "markdown",
   "metadata": {},
   "source": [
    "# Goal\n",
    "\n",
    "Now that we have a feel for what the covariance is and how it relates the linear regression between 2 features, we can state the goal better for what we are trying to achieve with PCA.\n",
    "\n",
    "When we obtain a dataset, it is very common to have a large number for features.  Most of the time, at least some of these features depend in some part on other features.\n",
    "\n",
    "A good example is height and weight.  The taller a person is, the more we would expect that person to weigh.  \n",
    "\n",
    "But there are tall people who are light and short people that are heavy.  These 2 features have some dependency on each other, but the dependency is not perfect.  One can imagine a Pearson correlation coefficient between height and weight being somewhere on the order of 75%.\n",
    "\n",
    "So the weight depends on both the height and \"unknown\" features.  If weight only depends on height, we would not need both of the features.  \n",
    "$Weight = Constant * Height$  \n",
    "This means the height alone would be the only feature we would need and we could simply drop weight from the data set.\n",
    "\n",
    "But this is not true, the weight does offer some additional information that can be valuable to our prediction.\n",
    "\n",
    "What if we could \"remove\" the height dependency on the weight?  We would have 2 features: \n",
    "- height\n",
    "- height adjusted weight\n",
    "\n",
    "The component of weight that depends on height is not lost since it’s predictive value is still in the height.  The \"height adjusted weight\" would include features that might not be in the data set such as diet, exercise and muscle mass.\n",
    "\n",
    "So let’s imagine that we rotate our height/weight scatter plot.  You probably can look at the data cloud and see the slope we caculated above.  We want to rotate the cloud so that the shape stays the same, but the slope = 0.\n",
    "\n",
    "This rotation is not changing the data (or vector space), it is simply changing the two basis.  Instead of the origional $X,Y$ bases, we would look at this same data from 2 new bases, $PC_1,PC_2$.\n",
    "\n",
    "NOTE:  These new bases no longer repersent height and weight.  They are entirely new bases and care must be taken NOT to give these new bases a meaningful name.  In real life scenarios, there may be hundreds of features and each new basis will be a compsist of these 100 features.  Because of this, interruptive analysis is mostly lost with this technique.\n",
    "\n",
    "So far, we found the slope of the corrlation between X and Y from the covariance matrix.  So it makes sense that all we need to make this change in basis is just the covariance matrix.\n",
    "\n",
    "The question is, how do we find the right bases to change to to \"rotate\" our data?\n",
    "\n",
    "Rotation vs. change of basis?  These 2 concepts are for the most part the same thing, at least for this level of discussion.  \n",
    "\n",
    "When we look at data in Python, we assume Cartesian coordinates.  So our change of bases vectors will be looked at as new X,Y coordinates.  So we will find the new bases, but then modify or rotate our data points to fit these new bases.  This is also another obstacle and furth obscures interrupted analysis."
   ]
  },
  {
   "cell_type": "markdown",
   "metadata": {},
   "source": [
    "## Eigendecomposition of the Covariance Matrix\n",
    "\n",
    "Eigendecomposition of the covariance matrix (CVM) is the technique we will use to find the change of basis, i.e. \"rotation\".\n",
    "\n",
    "An Eigenvector is any vector from a vector space that after a linear transformation is only changed by scalar multiplication.\n",
    "\n",
    "This means we need 2 elements, a vector space and a linear transformation.\n",
    "\n",
    "- Our **Vector Space** is going to be $R^2$ and is our two features **(X,Y)**.\n",
    "\n",
    "- The **Linear Transformation** is going to be our **Covariance Matrix**.\n",
    "\n",
    "The CVM is derived directly from our data set, so we are NOT adding any additional information that doesn't already exist in our data set.\n",
    "\n",
    "At first glance, using the CVM is a linear transformation is not intuitive.  But remember that above, we used only the CVM to determine the regression slope between X and Y.  i.e. The CVM contains all data we need to \"rotate\" our data.\n",
    "\n",
    "To see what kind of linear transformation the CVM produces, let's start with a CVM with 0 covariance.  \n",
    "\n",
    "$\\begin{pmatrix}1 & 0 \\\\ 0 & 1 \\end{pmatrix}$\n",
    "\n",
    "Here, not only did we zero out the covariance, we made the variance for both X and Y = 1.\n",
    "\n",
    "This is the identity matrix.  So transforming our data set with this CVM would produce no changes.\n",
    "\n",
    "\n",
    "Now let's start the same CVM, but make the variance of X = 2 and the variance of Y = 3:\n",
    "\n",
    "$\\begin{pmatrix}2 & 0 \\\\ 0 & 3 \\end{pmatrix}$\n",
    "\n",
    "Transforming our data set with this CVM would scale X by 2 and Y by 3.  But this CVM would not produce any rotation of the data.\n",
    "\n",
    "\n",
    "Now, let's add a some covariance between X and Y:\n",
    "\n",
    "$\\begin{pmatrix}2 & 1 \\\\ 1 & 3 \\end{pmatrix}$\n",
    "\n",
    "The addition of non-zero covariances to the CVM adds rotation.  \n",
    "\n",
    "#### Let's take a look of some example (X,Y) vectors: \n",
    "\n",
    "##### (X,Y) = (1,1)\n",
    "- The vector (X=1,Y=1) would be transformed to a new vector of (3,4).  \n",
    "$\\begin{pmatrix}2 & 1 \\\\ 1 & 3 \\end{pmatrix} \\cdot \\begin{pmatrix}1 \\\\ 1 \\end{pmatrix} = \\begin{pmatrix}3 \\\\ 4 \\end{pmatrix}$\n",
    "- The original vector (1,1) forms an angle of $tan^{-1}(1/1) \\simeq 45^{\\circ}$  \n",
    "- The transformed vector (3,4) forms an angle of $tan^{-1}(3/4) \\simeq 37^{\\circ}$\n",
    "\n",
    "##### (X,Y) = (-1.6, 1)\n",
    "- The vector (-1.6,1) would be transformed to a new vector of (-2.2,1.4).  \n",
    "$\\begin{pmatrix}2 & 1 \\\\ 1 & 3 \\end{pmatrix} \\cdot \\begin{pmatrix}-1.6 \\\\ 1 \\end{pmatrix} = \\begin{pmatrix}-2.2 \\\\ 1.4 \\end{pmatrix}$\n",
    "- The original vector (0.6,1) forms an angle of $tan^{-1}(-1.6/1.0) \\simeq -58^{\\circ}$  \n",
    "- The transformed vector (-2.2,1.4) forms an angle of $tan^{-1}(-2.2/1.4) \\simeq -57.5^{\\circ}$\n",
    "\n",
    "We can see that the rotation of the 2 vectors was not the same.  In fact, the (-1.6,1) vector had \n",
    "\n",
    "\n"
   ]
  },
  {
   "cell_type": "markdown",
   "metadata": {},
   "source": [
    "### Eigenvectors:\n",
    "\n",
    "Eigenvectors are a subset of vectors from the original vector space that do not rotate.  \n",
    "i.e. The original vector and the transformed vector are either parallel or antiparallel to each other.\n",
    "\n",
    "Not every transformation matrix has eigenvectors.  Some transformation matrices do not produce any rotation and therefore every possible vector in vector space is an eigenvector.  Also, some transformations produce eigenvectors, but these vectors may produce complex values ($a + bi$) and therefore cannot be contained in an $R^n$ vector space.  \n",
    "\n",
    "\n",
    "Example of a transformation matrix in which all original vectors are eigenvectors:\n",
    "- $\\begin{pmatrix}12 & 0 \\\\ 0 & 13.6 \\end{pmatrix}$\n",
    "\n",
    "Example of a transformation matrix with non-real eigenvectors:\n",
    "- $\\begin{pmatrix}0 & -1 \\\\ 1 & 0 \\end{pmatrix}$\n",
    "\n",
    "The transformations we are interested in (CVM with non-zero covariance) will produce eigenvectors, but only a subset of the original vectors will be eigenvectors.\n",
    "\n",
    "But there will be an infinite number of eigenvectors for these transformations.  All of these eigenvectors will be parallel to a limited number of lines.  These lines are called eigenspaces.  Any vector in the original vector space that falls on one of these eigenspace lines will be an eigenvector with the transformation.  This does not mean that the eigenvector is unchanged.  An eigenvector might be twice as long and/or point in the opposite direction with the transformation, but it is still parallel to the same eigenspace.\n",
    "\n",
    "The number of eigenspaces the transformations we will be looking at will have between 0 and n where n is the number of dimensions in the original vector space.  Note: There can be 0 or infinite eigenspaces with transformations, but not with CVM's with non-zero covariance.\n",
    "\n",
    "But the covariance matrix has some specific properties that allow us to know the number of eigenspaces up front.  CVM's by definition are both square and symmetric.  There square since $CVM \\simeq F^T \\cdot F$ where $F$ is the feature matrix.  \n",
    "\n",
    "Since we are square, the number of dimensions in the original vector space equals the number of dimensions in the transformation vector space.  The CVM is also symmetric.  We can see this since the covariance is simply duplicated between the upper triangle and the low triangle.  Note:  All symmetric matrices have to be square.\n",
    "\n",
    "If the transformation matrix is symatric, we are safe to assume the following about the eigenspaces:\n",
    "- There will be exactly n eigenspaces\n",
    "- The eigenvector will only have real values\n",
    "- The n eigenspaces will all be orthogonal to each other\n"
   ]
  },
  {
   "cell_type": "markdown",
   "metadata": {},
   "source": [
    "### Eigenvalue Determination (condensed version):\n",
    "\n",
    "What we want to start with is a constraint that will determine if the transformation will produce an eigenvector.  \n",
    "\n",
    "We can use the definition of an eigenvector as this constraint:\n",
    "\n",
    "$Transformation Matrix \\cdot Original Vector \\equiv \\lambda  \\cdot Original Vector$\n",
    "\n",
    "$A \\cdot \\overrightarrow{v} = \\lambda \\overrightarrow{{v}'}$\n",
    "\n",
    "$A \\cdot \\overrightarrow{v} = \\lambda I  \\cdot \\overrightarrow{{v}'}$\n",
    "\n",
    "Where:\n",
    "- **A** is our transformation matrix (our CVM)\n",
    "- **I** is the identity matrix $\\begin{pmatrix}1 & 0 \\\\ 0 & 1 \\end{pmatrix}$\n",
    "\n",
    "The only way to make this true is if the following determinate is true:\n",
    "\n",
    "$det(A - \\lambda I)\\overrightarrow{v} = 0$\n",
    "\n",
    "But we don't want to allow $\\overrightarrow{v}$ to be the zero vector.  This reduces this to:\n",
    "\n",
    "$det(A - \\lambda I) = 0$\n",
    "\n",
    "Let's use the the following CVM as an example:\n",
    "\n",
    "$\\begin{pmatrix}2 & 1 \\\\ 1 & 3 \\end{pmatrix}$\n",
    "\n",
    "This makes our equation:\n",
    "\n",
    "$det\\left ( \\begin{pmatrix}2 & 1 \\\\ 1 & 3 \\end{pmatrix} - \\begin{pmatrix}\\lambda & 0 \\\\ 0 & \\lambda \\end{pmatrix}\\right )= 0$\n",
    "\n",
    "$det\\begin{pmatrix}2 - \\lambda & 1 \\\\ 1 & 3 - \\lambda \\end{pmatrix}= 0$\n",
    "\n",
    "$\\lambda^2 - 5\\lambda+5=0$\n",
    "\n",
    "The result of this quadratic equation returns 2 values for $\\lambda$:\n",
    "\n",
    "$\\lambda_1 = \\frac{5}{2} - \\frac{\\sqrt{5}}{\\sqrt{2}} \\simeq 3.618$\n",
    "\n",
    "$\\lambda_2 = \\frac{5}{2} + \\frac{\\sqrt{5}}{2} \\simeq 1.382$\n",
    "\n",
    "Getting 2 values is expected since with symmetric transformation matrices on $R^2$, n = 2.  Two eigenvalues = two eigenspaces.  But each eigenspace will have an infiniate number of eigenvectors.\n",
    "\n",
    "#### But what do the eigenvalues have to do with eigenspaces and eigenvectors?\n",
    "\n",
    "Any original vector will be an eigenvector if it is parallel or antiparallel to itself.  In other words, the eigenvector subspace will only get a scalar transformation.\n",
    "\n",
    "The 2 $\\lambda$ values are the only scalar transformation values that will be possible for the subspace of vectors that are eigenvectors.\n",
    "\n",
    "So if a vector is an eigenvector, it will either be scaled by $\\lambda_1$ or $\\lambda_2$.\n",
    "\n",
    "It turns out that each eigenspace (the line the eigenvectors need to be parallel to) has its own eigenvalue.  If the quadratic equation above only produced 1 distinct value, there would only be 1 eigenspace.  But since our CVM is symmetric, we know it always produces 2 distinct values in $R^2$.\n"
   ]
  },
  {
   "cell_type": "markdown",
   "metadata": {},
   "source": [
    "#### How to get the Eigenspace and Eigen unit vectors from the Eigenvalues?\n",
    "\n",
    "We know that:\n",
    "\n",
    "$A \\cdot \\overrightarrow{v} = \\lambda \\overrightarrow{{v}'}$\n",
    "\n",
    "Before we were able to remove $\\overrightarrow{v}$ since we did not allow the input vector to be zero.\n",
    "\n",
    "But now we want to keep this in the equation so that we can solve for $\\overrightarrow{v}$.  \n",
    "\n",
    "Since we already solved to $\\lambda$, we will have an equation with just one variable.\n",
    "\n",
    "This gives us:\n",
    "\n",
    "$\\begin{pmatrix}2 & 1 \\\\ 1 & 3 \\end{pmatrix}\\overrightarrow{v}= \\lambda \\overrightarrow{{v}'}$\n",
    "\n",
    "$\\begin{pmatrix}2 & 1 \\\\ 1 & 3 \\end{pmatrix}\\cdot \\begin{pmatrix}x \\\\ y \\end{pmatrix}= \\lambda \\begin{pmatrix}X \\\\ Y \\end{pmatrix}$\n",
    "\n",
    "This gives us 2 equations:\n",
    "\n",
    "$\\lambda X = 2X + Y$\n",
    "\n",
    "$\\lambda Y = X + 3Y$\n",
    "\n",
    "Or\n",
    "\n",
    "$X = \\frac{2X + Y}{\\lambda}$\n",
    "\n",
    "$Y = \\frac{X + 3Y}{\\lambda}$\n",
    "\n",
    "We know 2 possible values for lambda, so that leaves us with 2 equations with 2 unknowns.\n",
    "\n",
    "We can't solve for both X and Y, but we can solve for a ration of X to Y.  \n",
    "\n",
    "This makes sense since there are an infiniate number of eigenvectors for this first eigenspace.  Any vector with the same X to Y ratio will be an eigenvector.  We only need one of these equations to get a ration, so let's just take the first.\n",
    "\n",
    "##### For $\\lambda_1 = \\frac{5}{2} - \\frac{\\sqrt{5}}{2}$(an eigenvector in the first eigenspace):\n",
    "\n",
    "$X = \\frac{2X + Y}{\\frac{2}{5} - \\frac{\\sqrt{5}}{2}}}$\n",
    "\n",
    "$Y =\\frac{2}{5} \\left ( \\sqrt{5} - 4\\right )X \\simeq -0.70557X$\n",
    "\n",
    "So any vector that exactly matches this X to Y ratio should be an eigenvector in the first eigenspace.\n",
    "\n",
    "##### For $\\lambda_2 = \\frac{5}{2} + \\frac{\\sqrt{5}}{2}$ (an eigenvector in the second eigenspace):\n",
    "\n",
    "$X = \\frac{2X + Y}{\\frac{2}{5} - \\frac{2}{\\sqrt{5}}}$\n",
    "\n",
    "$Y =-\\frac{2}{5} \\left ( 4- \\sqrt{5}\\right )X \\simeq -2.4944$"
   ]
  },
  {
   "cell_type": "markdown",
   "metadata": {},
   "source": [
    "##### Normalizing the Eigenvectors $\\rightarrow $ Eigen unit vectors\n",
    "\n",
    "You can choose any vector you want to represent one of the eigenspaces, but it is tradation to pick a vector whos L2 distance is 1.\n",
    "\n",
    "A quick lookup using Wolfram Alpha gives us the follow unit vector for the first eigenspace:\n",
    "\n",
    "$(0.817088, -0.576513)$\n",
    "\n",
    "We could have also use the unit vector in the oppiset direction, i.e. simply negate both values.\n",
    "\n",
    "$(-0.817088, 0.576513)$\n",
    "\n"
   ]
  },
  {
   "cell_type": "code",
   "execution_count": 11,
   "metadata": {},
   "outputs": [
    {
     "data": {
      "text/plain": [
       "array([[-0.85065081, -0.52573111],\n",
       "       [ 0.52573111, -0.85065081]])"
      ]
     },
     "execution_count": 11,
     "metadata": {},
     "output_type": "execute_result"
    }
   ],
   "source": [
    "np.linalg.eig(np.array([[2,1],[1,3]]))[1]"
   ]
  },
  {
   "cell_type": "code",
   "execution_count": 12,
   "metadata": {},
   "outputs": [],
   "source": [
    "def reverseSortEigenVectors(eigen_unit_vectors):\n",
    "    return np.array([eigen_unit_vectors[1], eigen_unit_vectors[0]])"
   ]
  },
  {
   "cell_type": "code",
   "execution_count": 13,
   "metadata": {},
   "outputs": [
    {
     "name": "stdout",
     "output_type": "stream",
     "text": [
      "[   9265.05675119 3114284.69775106]\n"
     ]
    },
    {
     "data": {
      "text/plain": [
       "array([[ 0.06114809,  0.9981287 ],\n",
       "       [-0.9981287 ,  0.06114809]])"
      ]
     },
     "execution_count": 13,
     "metadata": {},
     "output_type": "execute_result"
    }
   ],
   "source": [
    "eigen_values, eigen_unit_vectors = np.linalg.eigh(df.cov())\n",
    "print(eigen_values)\n",
    "\n",
    "#sort by eigenvalue\n",
    "if eigen_values[1] > eigen_values[0]:\n",
    "    eigen_unit_vectors = reverseSortEigenVectors(eigen_unit_vectors)\n",
    "\n",
    "eigen_unit_vectors"
   ]
  },
  {
   "cell_type": "code",
   "execution_count": 14,
   "metadata": {},
   "outputs": [
    {
     "data": {
      "text/plain": [
       "array([[ 0.06114809,  0.9981287 ],\n",
       "       [-0.9981287 ,  0.06114809]])"
      ]
     },
     "execution_count": 14,
     "metadata": {},
     "output_type": "execute_result"
    }
   ],
   "source": [
    "pca = PCA(n_components=2)\n",
    "pca.fit(df)\n",
    "pca.components_"
   ]
  },
  {
   "cell_type": "markdown",
   "metadata": {},
   "source": [
    "#### The eigenvalues can change the direction of the eigen unit vectors, so what direction the unit vectors take is not critical\n",
    "i.e. eigenvectors that are parallel or antiparallel make no difference since any vector on this line is an eigenvector\n",
    "\n",
    "#### Since we want to compare our from scratch PCA with SKLearn's, we want to make sure both eigenvalues are in the same direction"
   ]
  },
  {
   "cell_type": "code",
   "execution_count": 15,
   "metadata": {},
   "outputs": [
    {
     "name": "stdout",
     "output_type": "stream",
     "text": [
      "SKLearn:\n",
      " [[ 0.06114809  0.9981287 ]\n",
      " [-0.9981287   0.06114809]]\n",
      "\n",
      "From Scratch:\n",
      " [[ 0.06114809  0.9981287 ]\n",
      " [-0.9981287   0.06114809]]\n"
     ]
    }
   ],
   "source": [
    "negate_1 = False\n",
    "if np.sign(pca.components_[0,0]) != np.sign(eigen_unit_vectors[0,0]):\n",
    "    eigen_unit_vectors[0,:] *= -1\n",
    "    negate_1 = True\n",
    "\n",
    "negate_2 = False\n",
    "if np.sign(pca.components_[1,0]) != np.sign(eigen_unit_vectors[1,0]):\n",
    "    eigen_unit_vectors[1,:] *= -1\n",
    "    negate_2 = True\n",
    "  \n",
    "    \n",
    "print(f'SKLearn:\\n {pca.components_}\\n')\n",
    "print(f'From Scratch:\\n {eigen_unit_vectors}')"
   ]
  },
  {
   "cell_type": "code",
   "execution_count": 16,
   "metadata": {},
   "outputs": [
    {
     "data": {
      "text/plain": [
       "array([[ 5.66540493e+02,  3.10845695e+06],\n",
       "       [-9.24771910e+03,  1.90432551e+05]])"
      ]
     },
     "execution_count": 16,
     "metadata": {},
     "output_type": "execute_result"
    }
   ],
   "source": [
    "eigen_weighted_vectors = eigen_unit_vectors.copy()\n",
    "eigen_weighted_vectors[:,0] *= eigen_values[0]\n",
    "eigen_weighted_vectors[:,1] *= eigen_values[1]\n",
    "\n",
    "eigen_weighted_vectors"
   ]
  },
  {
   "cell_type": "code",
   "execution_count": 17,
   "metadata": {},
   "outputs": [
    {
     "data": {
      "image/png": "[encoded data removed]",
      "text/plain": [
       "<Figure size 432x288 with 1 Axes>"
      ]
     },
     "metadata": {
      "needs_background": "light"
     },
     "output_type": "display_data"
    }
   ],
   "source": [
    "origin = [0], [0] # origin point\n",
    "V = np.array(eigen_unit_vectors)\n",
    "PC = np.array(pca.components_)\n",
    "plt.quiver(*origin, V[:,0], V[:,1], color='r', scale=3)\n",
    "plt.quiver(*origin, PC[:,0], PC[:,1], color='b', scale=3)\n",
    "plt.xlim((-1, 1))\n",
    "plt.ylim((-1, 1))\n",
    "plt.xticks(np.arange(-1, 1, .2))\n",
    "plt.yticks(np.arange(-1, 1, .2))\n",
    "plt.grid()\n",
    "plt.show()"
   ]
  },
  {
   "cell_type": "code",
   "execution_count": 18,
   "metadata": {},
   "outputs": [
    {
     "name": "stdout",
     "output_type": "stream",
     "text": [
      "Negated First EigenVector: False\n",
      "Negated Second EigenVecor: False\n"
     ]
    },
    {
     "data": {
      "text/plain": [
       "<matplotlib.axes._subplots.AxesSubplot at 0x1f97c281308>"
      ]
     },
     "execution_count": 18,
     "metadata": {},
     "output_type": "execute_result"
    },
    {
     "data": {
      "image/png": "[encoded data removed]",
      "text/plain": [
       "<Figure size 432x288 with 1 Axes>"
      ]
     },
     "metadata": {
      "needs_background": "light"
     },
     "output_type": "display_data"
    }
   ],
   "source": [
    "print(f'Negated First EigenVector: {negate_1}\\nNegated Second EigenVecor: {negate_2}')\n",
    "if negate_1 != negate_2:\n",
    "    df_pca_scratch = df.copy()\n",
    "    df_pca_scratch = np.matmul(df_pca_scratch, eigen_unit_vectors)\n",
    "    df_pca_scratch.columns=['PC1', 'PC2']\n",
    "else:\n",
    "    df_pca_scratch = df[['Y', 'X']].copy()\n",
    "    df_pca_scratch = np.matmul(df_pca_scratch, eigen_unit_vectors)\n",
    "    df_pca_scratch.columns=['PC2', 'PC1']\n",
    "\n",
    "df_pca_scratch.plot.scatter('PC1', 'PC2')"
   ]
  },
  {
   "cell_type": "code",
   "execution_count": 19,
   "metadata": {},
   "outputs": [
    {
     "data": {
      "text/plain": [
       "<matplotlib.axes._subplots.AxesSubplot at 0x1f97c2c2648>"
      ]
     },
     "execution_count": 19,
     "metadata": {},
     "output_type": "execute_result"
    },
    {
     "data": {
      "image/png": "[encoded data removed]",
      "text/plain": [
       "<Figure size 432x288 with 1 Axes>"
      ]
     },
     "metadata": {
      "needs_background": "light"
     },
     "output_type": "display_data"
    }
   ],
   "source": [
    "df_pca_skl = pd.DataFrame(pca.transform(df), columns=['PC1', 'PC2'])\n",
    "# display(df_pca_skl)\n",
    "df_pca_skl.plot.scatter('PC1', 'PC2')"
   ]
  }
 ],
 "metadata": {
  "kernelspec": {
   "display_name": "Python 3",
   "language": "python",
   "name": "python3"
  },
  "language_info": {
   "codemirror_mode": {
    "name": "ipython",
    "version": 3
   },
   "file_extension": ".py",
   "mimetype": "text/x-python",
   "name": "python",
   "nbconvert_exporter": "python",
   "pygments_lexer": "ipython3",
   "version": "3.7.4"
  }
 },
 "nbformat": 4,
 "nbformat_minor": 2
}
