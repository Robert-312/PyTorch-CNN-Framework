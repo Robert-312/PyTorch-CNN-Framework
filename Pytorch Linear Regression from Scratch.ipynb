{
 "cells": [
  {
   "cell_type": "code",
   "execution_count": 1,
   "metadata": {},
   "outputs": [],
   "source": [
    "import numpy as np\n",
    "import matplotlib.pyplot as plt\n",
    "import torch\n",
    "import torch.optim as optim"
   ]
  },
  {
   "cell_type": "code",
   "execution_count": 2,
   "metadata": {},
   "outputs": [
    {
     "name": "stdout",
     "output_type": "stream",
     "text": [
      "6.269680512184071 -5.377219420363566\n"
     ]
    },
    {
     "data": {
      "text/plain": [
       "<matplotlib.collections.PathCollection at 0x24a8256da08>"
      ]
     },
     "execution_count": 2,
     "metadata": {},
     "output_type": "execute_result"
    },
    {
     "data": {
      "image/png": "[encoded data removed]",
      "text/plain": [
       "<Figure size 432x288 with 1 Axes>"
      ]
     },
     "metadata": {
      "needs_background": "light"
     },
     "output_type": "display_data"
    }
   ],
   "source": [
    "max_x = 500\n",
    "slope_range = [.1, 10]\n",
    "slope_direction = np.random.choice([-1,1])\n",
    "intercept_range = [-40, 40]\n",
    "residual_var = 100\n",
    "X = torch.from_numpy(np.arange(max_x))\n",
    "X = X.type(torch.float64)\n",
    "m = np.random.uniform(*slope_range) * slope_direction\n",
    "b = np.random.uniform(*intercept_range)\n",
    "y = m * X + b + np.random.normal(0, residual_var, len(X)) * m/3\n",
    "print(m, b)\n",
    "plt.scatter(X, y)"
   ]
  },
  {
   "cell_type": "code",
   "execution_count": 3,
   "metadata": {},
   "outputs": [],
   "source": [
    "class Model:\n",
    "    def __init__(self, params):\n",
    "        self.parameters = params # weights for slope and bias (could have been stored outside of model)\n",
    "        self.y_pred = None # Will hold last prediction when training loop is done\n",
    "    def set_learning_objects(self, criterion, optimizer):\n",
    "        self.criterion = criterion\n",
    "        self.optimizer = optimizer\n",
    "    def train(self, X):\n",
    "        return self.parameters[0][0] * X + self.parameters[0][1] # Just a simple line eq. with current m and b weights\n",
    "    def training_loop(self, epochs, X, y):\n",
    "        for epoch in [e+1 for e in range(epochs)]: # Make ephochs 1 based\n",
    "            self.y_pred = self.train(X) # No batching here, we run all data and adjust the weights after the run\n",
    "            loss = self.criterion(self.y_pred, y) # What ever loss function that was passed is used\n",
    "            self.optimizer.zero_grad() # Gradients sum with each back prop, so we need to manually zero out the last derivatives\n",
    "            loss.backward() # The acutal back proagation\n",
    "            self.optimizer.step() # Updates the weights (self.parameters)\n",
    "            if epoch % 10 == 0 or epoch == np.max(range(epochs)):\n",
    "                print(\"Epoch: {} - Loss: {}\".format(epoch, float(loss)))"
   ]
  },
  {
   "cell_type": "code",
   "execution_count": 4,
   "metadata": {},
   "outputs": [
    {
     "data": {
      "text/plain": [
       "0.7097358637674752"
      ]
     },
     "execution_count": 4,
     "metadata": {},
     "output_type": "execute_result"
    }
   ],
   "source": [
    "weights = np.random.normal(.7, .01) #No specal sauce here, but we don't want to start at the extreams (too near 0 or 1)\n",
    "weights"
   ]
  },
  {
   "cell_type": "code",
   "execution_count": 5,
   "metadata": {},
   "outputs": [
    {
     "data": {
      "text/plain": [
       "0.002563594348438489"
      ]
     },
     "execution_count": 5,
     "metadata": {},
     "output_type": "execute_result"
    }
   ],
   "source": [
    "bias = np.random.normal(0, .01) #No specal sauce here, but we don't want to start at the extreams (too near 0 or 1)\n",
    "bias"
   ]
  },
  {
   "cell_type": "code",
   "execution_count": 6,
   "metadata": {},
   "outputs": [],
   "source": [
    "#weights are a enumerable tensor.  In our simple r1 maps to r1, it is just 2 trainable paramaters\n",
    "weights_bias = torch.tensor([weights, bias], requires_grad=True) # requires_grad=True maintains the state for the back prop"
   ]
  },
  {
   "cell_type": "code",
   "execution_count": 7,
   "metadata": {},
   "outputs": [],
   "source": [
    "#custom optimizer, just plain old Gradiant Decent with a learning rate\n",
    "class GD_Optimizer(optim.Optimizer):\n",
    "    def __init__(self, params, lr=1e-3):\n",
    "        if lr < 0.0:\n",
    "            raise ValueError(\"Invalid learning rate: {}\".format(lr))\n",
    "\n",
    "        defaults = dict(lr=lr)\n",
    "        super(GD_Optimizer, self).__init__(params, defaults)\n",
    "\n",
    "    def step(self, closure=None):\n",
    "        \"\"\"Performs a single optimization step.\n",
    "\n",
    "        Arguments:\n",
    "            closure (callable, optional): A closure that reevaluates the model\n",
    "                and returns the loss.\n",
    "        \"\"\"\n",
    "        loss = None\n",
    "        if closure is not None:\n",
    "            loss = closure()\n",
    "\n",
    "        for group in self.param_groups:\n",
    "\n",
    "            for p in group['params']:\n",
    "                if p.grad is None:\n",
    "                    continue\n",
    "                d_p = p.grad.data\n",
    "\n",
    "                p.data.add_(-group['lr'], d_p)\n",
    "\n",
    "        return loss            "
   ]
  },
  {
   "cell_type": "code",
   "execution_count": 8,
   "metadata": {},
   "outputs": [],
   "source": [
    "model = Model([weights_bias])\n",
    "\n",
    "#hyper-parameters\n",
    "epochs = 500\n",
    "learning_rate = 1e-5\n",
    "\n",
    "#loss\n",
    "# criterion = torch.nn.MSELoss()\n",
    "# criterion = torch.nn.SmoothL1Loss()\n",
    "# criterion = torch.nn.L1Loss()\n",
    "# criterion = lambda y, y_pred : torch.mean((y - y_pred)**2)\n",
    "criterion = lambda y, y_pred : torch.mean(abs(y - y_pred))\n",
    "\n",
    "# back prop gradient decent optimizer\n",
    "# optimizer = optim.SGD(model.parameters, lr=learning_rate)\n",
    "# optimizer = optim.SGD(model.parameters, lr=learning_rate, momentum=0.9)\n",
    "# optimizer = optim.Adam(model.parameters)\n",
    "optimizer = MyOptimizer(model.parameters)\n",
    "\n",
    "\n",
    "model.set_learning_objects(criterion, optimizer)"
   ]
  },
  {
   "cell_type": "code",
   "execution_count": 9,
   "metadata": {},
   "outputs": [
    {
     "data": {
      "text/plain": [
       "[tensor([0.7097, 0.0026], requires_grad=True)]"
      ]
     },
     "execution_count": 9,
     "metadata": {},
     "output_type": "execute_result"
    }
   ],
   "source": [
    "y_pred = model.train(X)\n",
    "model.parameters\n",
    "#This is just a made up linear plot with random slope and intercept since no parameter training was done\n",
    "# plt.scatter(y, y_pred) "
   ]
  },
  {
   "cell_type": "code",
   "execution_count": 10,
   "metadata": {},
   "outputs": [
    {
     "data": {
      "text/plain": [
       "tensor(1382.3882, dtype=torch.float64, grad_fn=<MeanBackward0>)"
      ]
     },
     "execution_count": 10,
     "metadata": {},
     "output_type": "execute_result"
    }
   ],
   "source": [
    "criterion(y, y_pred)"
   ]
  },
  {
   "cell_type": "code",
   "execution_count": 11,
   "metadata": {},
   "outputs": [
    {
     "name": "stdout",
     "output_type": "stream",
     "text": [
      "Epoch: 10 - Loss: 833.9703328740973\n",
      "Epoch: 20 - Loss: 285.955260502859\n",
      "Epoch: 30 - Loss: 169.92576208779386\n",
      "Epoch: 40 - Loss: 169.9204013225739\n",
      "Epoch: 50 - Loss: 169.91997222037043\n",
      "Epoch: 60 - Loss: 169.9196741518681\n",
      "Epoch: 70 - Loss: 169.92031528417195\n",
      "Epoch: 80 - Loss: 169.9198162025305\n",
      "Epoch: 90 - Loss: 169.9199048385327\n",
      "Epoch: 100 - Loss: 169.92015926633204\n",
      "Epoch: 110 - Loss: 169.9196601846906\n",
      "Epoch: 120 - Loss: 169.92013552519725\n",
      "Epoch: 130 - Loss: 169.92000324849215\n",
      "Epoch: 140 - Loss: 169.91950416685071\n",
      "Epoch: 150 - Loss: 169.92034631229367\n",
      "Epoch: 160 - Loss: 169.91984723065224\n",
      "Epoch: 170 - Loss: 169.91963904115605\n",
      "Epoch: 180 - Loss: 169.92019029445376\n",
      "Epoch: 190 - Loss: 169.91969121281232\n",
      "Epoch: 200 - Loss: 169.9198697278206\n",
      "Epoch: 210 - Loss: 169.92003427661385\n",
      "Epoch: 220 - Loss: 169.9195351949724\n",
      "Epoch: 230 - Loss: 169.9201004144852\n",
      "Epoch: 240 - Loss: 169.91987825872178\n",
      "Epoch: 250 - Loss: 169.91937917689782\n",
      "Epoch: 260 - Loss: 169.92022132218432\n",
      "Epoch: 270 - Loss: 169.91972224036033\n",
      "Epoch: 280 - Loss: 169.91960392957972\n",
      "Epoch: 290 - Loss: 169.92006530382287\n",
      "Epoch: 300 - Loss: 169.91956622199888\n",
      "Epoch: 310 - Loss: 169.91983461564826\n",
      "Epoch: 320 - Loss: 169.91990928546142\n",
      "Epoch: 330 - Loss: 169.91941020363743\n",
      "Epoch: 340 - Loss: 169.9200653017168\n",
      "Epoch: 350 - Loss: 169.91975326709996\n",
      "Epoch: 360 - Loss: 169.91933813062357\n",
      "Epoch: 370 - Loss: 169.9200963305625\n",
      "Epoch: 380 - Loss: 169.9195972487385\n",
      "Epoch: 390 - Loss: 169.9195688166921\n",
      "Epoch: 400 - Loss: 169.91994031220105\n",
      "Epoch: 410 - Loss: 169.91944123037706\n",
      "Epoch: 420 - Loss: 169.91979950276064\n",
      "Epoch: 430 - Loss: 169.9197842938396\n",
      "Epoch: 440 - Loss: 169.9192852120156\n",
      "Epoch: 450 - Loss: 169.92003018882917\n",
      "Epoch: 460 - Loss: 169.91962827547815\n",
      "Epoch: 470 - Loss: 169.91930301773596\n",
      "Epoch: 480 - Loss: 169.91997133894066\n",
      "Epoch: 490 - Loss: 169.9194722571167\n",
      "Epoch: 499 - Loss: 169.91942545160825\n",
      "Epoch: 500 - Loss: 169.9195337038045\n"
     ]
    }
   ],
   "source": [
    "model.training_loop(epochs, X, y)"
   ]
  },
  {
   "cell_type": "code",
   "execution_count": 12,
   "metadata": {},
   "outputs": [
    {
     "name": "stdout",
     "output_type": "stream",
     "text": [
      "Actual Slope: 6.269680512184071  Actual Intercept: -5.377219420363566\n",
      "Model Slope: 6.214981555938721  Model Intercept: 0.007855619303882122\n"
     ]
    }
   ],
   "source": [
    "model.parameters\n",
    "pred_slope = model.parameters[0][0].item()\n",
    "pred_intercept = model.parameters[0][1].item()\n",
    "print (\"Actual Slope: {}  Actual Intercept: {}\".format(m, b))\n",
    "print (\"Model Slope: {}  Model Intercept: {}\".format(pred_slope, pred_intercept))"
   ]
  },
  {
   "cell_type": "code",
   "execution_count": 13,
   "metadata": {},
   "outputs": [
    {
     "data": {
      "image/png": "[encoded data removed]",
      "text/plain": [
       "<Figure size 432x288 with 1 Axes>"
      ]
     },
     "metadata": {
      "needs_background": "light"
     },
     "output_type": "display_data"
    }
   ],
   "source": [
    "plt.scatter(X, y, color='b', label='Actual')\n",
    "plt.scatter(X, model.y_pred.detach().numpy(), color='r', label='Predicted')\n",
    "plt.title('Training Predictions')\n",
    "plt.legend()\n",
    "plt.show()"
   ]
  }
 ],
 "metadata": {
  "kernelspec": {
   "display_name": "Python 3",
   "language": "python",
   "name": "python3"
  },
  "language_info": {
   "codemirror_mode": {
    "name": "ipython",
    "version": 3
   },
   "file_extension": ".py",
   "mimetype": "text/x-python",
   "name": "python",
   "nbconvert_exporter": "python",
   "pygments_lexer": "ipython3",
   "version": "3.7.4"
  }
 },
 "nbformat": 4,
 "nbformat_minor": 2
}
