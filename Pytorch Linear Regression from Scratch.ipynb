{
 "cells": [
  {
   "cell_type": "code",
   "execution_count": 1,
   "metadata": {},
   "outputs": [],
   "source": [
    "import numpy as np\n",
    "import matplotlib.pyplot as plt\n",
    "import torch\n",
    "import torch.optim as optim"
   ]
  },
  {
   "cell_type": "code",
   "execution_count": 2,
   "metadata": {},
   "outputs": [
    {
     "name": "stdout",
     "output_type": "stream",
     "text": [
      "-5.2835413068750805 -18.504917178757204\n"
     ]
    },
    {
     "data": {
      "text/plain": [
       "<matplotlib.collections.PathCollection at 0x16663ef2208>"
      ]
     },
     "execution_count": 2,
     "metadata": {},
     "output_type": "execute_result"
    },
    {
     "data": {
      "image/png": "[encoded data removed]",
      "text/plain": [
       "<Figure size 432x288 with 1 Axes>"
      ]
     },
     "metadata": {
      "needs_background": "light"
     },
     "output_type": "display_data"
    }
   ],
   "source": [
    "max_x = 500\n",
    "slope_range = [.1, 10] #too low a slope and you will have very little covariance and poor regressions\n",
    "slope_direction = np.random.choice([-1,1])\n",
    "intercept_range = [-40, 40]\n",
    "residual_var = 100\n",
    "X = torch.from_numpy(np.arange(max_x))\n",
    "X = X.type(torch.float64)\n",
    "m = np.random.uniform(*slope_range) * slope_direction\n",
    "b = np.random.uniform(*intercept_range)\n",
    "y = m * X + b + np.random.normal(0, residual_var, len(X)) * m/3\n",
    "print(m, b)\n",
    "plt.scatter(X, y)"
   ]
  },
  {
   "cell_type": "code",
   "execution_count": 3,
   "metadata": {},
   "outputs": [],
   "source": [
    "class Model:\n",
    "    def __init__(self, params):\n",
    "        self.parameters = params # weights for slope and bias (could have been stored outside of model)\n",
    "        self.y_pred = None # Will hold last prediction when training loop is done\n",
    "    def set_learning_objects(self, criterion, optimizer):\n",
    "        self.criterion = criterion\n",
    "        self.optimizer = optimizer\n",
    "    def train(self, X):\n",
    "        return self.parameters[0][0] * X + self.parameters[0][1] # Just a simple line eq. with current m and b weights\n",
    "    def training_loop(self, epochs, X, y):\n",
    "        for epoch in [e+1 for e in range(epochs)]: # Make ephochs 1 based\n",
    "            self.y_pred = self.train(X) # No batching here, we run all data and adjust the weights after the run\n",
    "            loss = self.criterion(self.y_pred, y) # What ever loss function that was passed is used\n",
    "            self.optimizer.zero_grad() # Gradients sum with each back prop, so we need to manually zero out the last derivatives\n",
    "            loss.backward() # The acutal back proagation\n",
    "            self.optimizer.step() # Updates the weights (self.parameters)\n",
    "            if epoch % 10 == 0 or epoch == np.max(range(epochs)):\n",
    "                print(\"Epoch: {} - Loss: {}\".format(epoch, float(loss)))"
   ]
  },
  {
   "cell_type": "code",
   "execution_count": 4,
   "metadata": {},
   "outputs": [
    {
     "data": {
      "text/plain": [
       "0.7075600326455369"
      ]
     },
     "execution_count": 4,
     "metadata": {},
     "output_type": "execute_result"
    }
   ],
   "source": [
    "weights = np.random.normal(.7, .01) #No specal sauce here, but we don't want to start at the extreams (too near 0 or 1)\n",
    "weights"
   ]
  },
  {
   "cell_type": "code",
   "execution_count": 5,
   "metadata": {},
   "outputs": [
    {
     "data": {
      "text/plain": [
       "-0.002120932315731302"
      ]
     },
     "execution_count": 5,
     "metadata": {},
     "output_type": "execute_result"
    }
   ],
   "source": [
    "bias = np.random.normal(0, .01) #No specal sauce here, but we don't want to start at the extreams (too near 0 or 1)\n",
    "bias"
   ]
  },
  {
   "cell_type": "code",
   "execution_count": 6,
   "metadata": {},
   "outputs": [],
   "source": [
    "#weights are a enumerable tensor.  In our simple r1 maps to r1, it is just 2 trainable paramaters\n",
    "weights_bias = torch.tensor([weights, bias], requires_grad=True) # requires_grad=True maintains the state for the back prop"
   ]
  },
  {
   "cell_type": "code",
   "execution_count": 7,
   "metadata": {},
   "outputs": [],
   "source": [
    "model = Model([weights_bias])\n",
    "\n",
    "#hyper-parameters\n",
    "epochs = 500\n",
    "learning_rate = 1e-5\n",
    "\n",
    "#loss\n",
    "# criterion = torch.nn.MSELoss()\n",
    "# criterion = torch.nn.SmoothL1Loss()\n",
    "# criterion = torch.nn.L1Loss()\n",
    "# criterion = lambda y, y_pred : torch.mean((y - y_pred)**2)\n",
    "criterion = lambda y, y_pred : torch.mean(abs(y - y_pred))\n",
    "\n",
    "# back prop gradient decent optimizer\n",
    "# optimizer = optim.SGD(model.parameters, lr=learning_rate)\n",
    "optimizer = optim.SGD(model.parameters, lr=learning_rate, momentum=0.9)\n",
    "# optimizer = optim.Adam(model.parameters)\n",
    "\n",
    "\n",
    "model.set_learning_objects(criterion, optimizer)"
   ]
  },
  {
   "cell_type": "code",
   "execution_count": 8,
   "metadata": {},
   "outputs": [
    {
     "data": {
      "text/plain": [
       "[tensor([ 0.7076, -0.0021], requires_grad=True)]"
      ]
     },
     "execution_count": 8,
     "metadata": {},
     "output_type": "execute_result"
    }
   ],
   "source": [
    "y_pred = model.train(X)\n",
    "model.parameters\n",
    "#This is just a made up linear plot with random slope and intercept since no parameter training was done\n",
    "# plt.scatter(y, y_pred) "
   ]
  },
  {
   "cell_type": "code",
   "execution_count": 9,
   "metadata": {},
   "outputs": [
    {
     "data": {
      "text/plain": [
       "tensor(1511.5741, dtype=torch.float64, grad_fn=<MeanBackward0>)"
      ]
     },
     "execution_count": 9,
     "metadata": {},
     "output_type": "execute_result"
    }
   ],
   "source": [
    "criterion(y, y_pred)"
   ]
  },
  {
   "cell_type": "code",
   "execution_count": 10,
   "metadata": {},
   "outputs": [
    {
     "name": "stdout",
     "output_type": "stream",
     "text": [
      "Epoch: 10 - Loss: 1489.9651155614793\n",
      "Epoch: 20 - Loss: 1442.0654877069057\n",
      "Epoch: 30 - Loss: 1385.0306284616656\n",
      "Epoch: 40 - Loss: 1324.8249626516842\n",
      "Epoch: 50 - Loss: 1263.5237790150636\n",
      "Epoch: 60 - Loss: 1201.874180048655\n",
      "Epoch: 70 - Loss: 1140.1510388848192\n",
      "Epoch: 80 - Loss: 1078.5377417083912\n",
      "Epoch: 90 - Loss: 1016.9771053060748\n",
      "Epoch: 100 - Loss: 955.436682723059\n",
      "Epoch: 110 - Loss: 893.9900595057844\n",
      "Epoch: 120 - Loss: 832.6224555355618\n",
      "Epoch: 130 - Loss: 771.4966666907403\n",
      "Epoch: 140 - Loss: 710.5570449085653\n",
      "Epoch: 150 - Loss: 649.8452749773035\n",
      "Epoch: 160 - Loss: 589.4654760459144\n",
      "Epoch: 170 - Loss: 529.8356372389596\n",
      "Epoch: 180 - Loss: 470.67776713528224\n",
      "Epoch: 190 - Loss: 412.61291066276715\n",
      "Epoch: 200 - Loss: 355.6990833789301\n",
      "Epoch: 210 - Loss: 302.23900857335946\n",
      "Epoch: 220 - Loss: 253.75241041483991\n",
      "Epoch: 230 - Loss: 211.67467466014548\n",
      "Epoch: 240 - Loss: 179.7316620855577\n",
      "Epoch: 250 - Loss: 160.71206978609692\n",
      "Epoch: 260 - Loss: 150.13022213389118\n",
      "Epoch: 270 - Loss: 145.41461846204743\n",
      "Epoch: 280 - Loss: 143.40128943742195\n",
      "Epoch: 290 - Loss: 142.51337731559883\n",
      "Epoch: 300 - Loss: 142.12088834831854\n",
      "Epoch: 310 - Loss: 142.06597107576584\n",
      "Epoch: 320 - Loss: 142.04863407661463\n",
      "Epoch: 330 - Loss: 142.04370178915275\n",
      "Epoch: 340 - Loss: 142.04197705374372\n",
      "Epoch: 350 - Loss: 142.04081813399208\n",
      "Epoch: 360 - Loss: 142.0398557514073\n",
      "Epoch: 370 - Loss: 142.0389629940511\n",
      "Epoch: 380 - Loss: 142.0380940328063\n",
      "Epoch: 390 - Loss: 142.03723344407692\n",
      "Epoch: 400 - Loss: 142.03662768125855\n",
      "Epoch: 410 - Loss: 142.03661665892176\n",
      "Epoch: 420 - Loss: 142.03661129885487\n",
      "Epoch: 430 - Loss: 142.036607922289\n",
      "Epoch: 440 - Loss: 142.03660522930645\n",
      "Epoch: 450 - Loss: 142.03660276758245\n",
      "Epoch: 460 - Loss: 142.03660036365264\n",
      "Epoch: 470 - Loss: 142.0365980462911\n",
      "Epoch: 480 - Loss: 142.0365957290115\n",
      "Epoch: 490 - Loss: 142.03659341173193\n",
      "Epoch: 499 - Loss: 142.03659132618031\n",
      "Epoch: 500 - Loss: 142.03659109445238\n"
     ]
    }
   ],
   "source": [
    "model.training_loop(epochs, X, y)"
   ]
  },
  {
   "cell_type": "code",
   "execution_count": 11,
   "metadata": {},
   "outputs": [
    {
     "name": "stdout",
     "output_type": "stream",
     "text": [
      "Actual Slope: -5.2835413068750805  Actual Intercept: -18.504917178757204\n",
      "Model Slope: -5.365102291107178  Model Intercept: -0.02562970109283924\n"
     ]
    }
   ],
   "source": [
    "model.parameters\n",
    "pred_slope = model.parameters[0][0].item()\n",
    "pred_intercept = model.parameters[0][1].item()\n",
    "print (\"Actual Slope: {}  Actual Intercept: {}\".format(m, b))\n",
    "print (\"Model Slope: {}  Model Intercept: {}\".format(pred_slope, pred_intercept))"
   ]
  },
  {
   "cell_type": "code",
   "execution_count": 12,
   "metadata": {},
   "outputs": [
    {
     "data": {
      "image/png": "[encoded data removed]",
      "text/plain": [
       "<Figure size 432x288 with 1 Axes>"
      ]
     },
     "metadata": {
      "needs_background": "light"
     },
     "output_type": "display_data"
    }
   ],
   "source": [
    "plt.scatter(X, y, color='b', label='Actual')\n",
    "plt.scatter(X, model.y_pred.detach().numpy(), color='r', label='Predicted')\n",
    "plt.title('Training Predictions')\n",
    "plt.legend()\n",
    "plt.show()"
   ]
  }
 ],
 "metadata": {
  "kernelspec": {
   "display_name": "Python 3",
   "language": "python",
   "name": "python3"
  },
  "language_info": {
   "codemirror_mode": {
    "name": "ipython",
    "version": 3
   },
   "file_extension": ".py",
   "mimetype": "text/x-python",
   "name": "python",
   "nbconvert_exporter": "python",
   "pygments_lexer": "ipython3",
   "version": "3.7.4"
  }
 },
 "nbformat": 4,
 "nbformat_minor": 2
}
