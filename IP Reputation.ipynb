{
 "cells": [
  {
   "cell_type": "markdown",
   "metadata": {},
   "source": [
    "# **IP Reputation**\n",
    "\n",
    "### We are going to look at detecting Click BOTs from a known campaign sent on Jan 17th @ 9:00AM.\n",
    "\n",
    "#### But we want to access IP Address behavior prior to that send for likelihood the IP is a BOT\n",
    "\n",
    "Data was gathered for all click requests for the previous 24 hours and stored in the 2020-01-17.csv file.\n",
    "\n",
    "### All the requested in this dataset occurred before the campaign we want to study went out.\n",
    "\n",
    "This is going to let us access the \"reputation\" of the IP Address.  The campaign we will be studying will have IP Address not used in these 24 hours sample, but this dataset should hold IPs with heavy use as would be expected by BOT devices.\n"
   ]
  },
  {
   "cell_type": "code",
   "execution_count": 71,
   "metadata": {},
   "outputs": [],
   "source": [
    "import numpy as np\n",
    "from collections import defaultdict\n",
    "import pandas as pd\n",
    "from matplotlib import pyplot as plt\n",
    "from datetime import datetime\n",
    "from datetime import timedelta\n",
    "import pytz\n",
    "from dateutil.tz import tzutc\n",
    "import seaborn as sns\n",
    "from sklearn.decomposition import PCA\n",
    "from sklearn.preprocessing import StandardScaler\n",
    "from IPython.display import display\n",
    "from sklearn.cluster import KMeans\n",
    "from sklearn.preprocessing import MinMaxScaler"
   ]
  },
  {
   "cell_type": "markdown",
   "metadata": {},
   "source": [
    "### BotDataSet Class\n",
    "\n",
    "We will use a class to make sure the **loading**, **cleanup** and **sessionization** is done consistantly for both the IP Reputation and the Campaing dataset.  This class will also give us code reuse for the trainging and testing datasets."
   ]
  },
  {
   "cell_type": "code",
   "execution_count": 2,
   "metadata": {},
   "outputs": [],
   "source": [
    "exec(open(\"BotDataSet.py\").read())"
   ]
  },
  {
   "cell_type": "code",
   "execution_count": 3,
   "metadata": {},
   "outputs": [],
   "source": [
    "botDataSet = BotDataSet()\n",
    "botDataSet.loadCSV('C:/data/2020-01-17.csv')\n",
    "df = botDataSet.df"
   ]
  },
  {
   "cell_type": "code",
   "execution_count": 4,
   "metadata": {},
   "outputs": [
    {
     "data": {
      "text/html": [
       "<div>\n",
       "<style scoped>\n",
       "    .dataframe tbody tr th:only-of-type {\n",
       "        vertical-align: middle;\n",
       "    }\n",
       "\n",
       "    .dataframe tbody tr th {\n",
       "        vertical-align: top;\n",
       "    }\n",
       "\n",
       "    .dataframe thead th {\n",
       "        text-align: right;\n",
       "    }\n",
       "</style>\n",
       "<table border=\"1\" class=\"dataframe\">\n",
       "  <thead>\n",
       "    <tr style=\"text-align: right;\">\n",
       "      <th></th>\n",
       "      <th>InboxID</th>\n",
       "      <th>Company</th>\n",
       "      <th>List</th>\n",
       "      <th>Campaign</th>\n",
       "      <th>RequestType</th>\n",
       "      <th>SendDate</th>\n",
       "      <th>RequestDate</th>\n",
       "      <th>Link</th>\n",
       "      <th>IPAddress</th>\n",
       "      <th>UserAgent</th>\n",
       "      <th>AS Name</th>\n",
       "      <th>AS Number</th>\n",
       "      <th>CIDR Range</th>\n",
       "      <th>UserID</th>\n",
       "      <th>DomainID</th>\n",
       "      <th>EmailDomain</th>\n",
       "      <th>EmailRootLevelDomain</th>\n",
       "      <th>CountryCode</th>\n",
       "      <th>RegionCode</th>\n",
       "      <th>PostalCode</th>\n",
       "      <th>Lat</th>\n",
       "      <th>Long</th>\n",
       "      <th>OlsonName</th>\n",
       "      <th>SendRequestSeconds</th>\n",
       "      <th>SendRequestSeconds_ln</th>\n",
       "    </tr>\n",
       "  </thead>\n",
       "  <tbody>\n",
       "    <tr>\n",
       "      <td>0</td>\n",
       "      <td>{7C9E652E-AC29-02E0-BE9A-8C43363D665E}</td>\n",
       "      <td>{0F96A485-3307-02C7-6F5F-C23BAF3CB945}</td>\n",
       "      <td>{79575937-FEB1-AD59-92A5-F2BDCD8EBE25}</td>\n",
       "      <td>{4ECAB404-363D-958D-4ECB-99B8D565A66E}</td>\n",
       "      <td>Click</td>\n",
       "      <td>2020-01-16 11:32:00</td>\n",
       "      <td>2020-01-16 22:33:00</td>\n",
       "      <td>{CB7A65D9-3644-5395-6E60-E7A556F52E3A}</td>\n",
       "      <td>{98302769-08A3-76D3-A660-FB0ED5A313CF}</td>\n",
       "      <td>{1047A34C-F98E-2B84-9E69-BCBA6FEEDA97}</td>\n",
       "      <td>Unknown</td>\n",
       "      <td>Unknown</td>\n",
       "      <td>{14392925-2BAF-FC72-0602-9DB674D6E74D}</td>\n",
       "      <td>{C69692BD-C245-842F-7E3A-0BD44C2E52E8}</td>\n",
       "      <td>{9DB20ACE-264D-4774-240E-A86A9FEBC3E6}</td>\n",
       "      <td>{5236C5C5-F807-01B8-7308-6369971DE796}</td>\n",
       "      <td>.au</td>\n",
       "      <td>AU</td>\n",
       "      <td>05</td>\n",
       "      <td>5000</td>\n",
       "      <td>NaN</td>\n",
       "      <td>NaN</td>\n",
       "      <td>Australia/Adelaide</td>\n",
       "      <td>39660</td>\n",
       "      <td>10.588167</td>\n",
       "    </tr>\n",
       "    <tr>\n",
       "      <td>1</td>\n",
       "      <td>{5C245764-B2E8-6C22-65DA-2FA633D2B83D}</td>\n",
       "      <td>{30ADEAEA-4CB8-2254-1AD2-0D76721A3895}</td>\n",
       "      <td>{D79E0F2C-4B46-F92F-513C-D9CB4D8150C6}</td>\n",
       "      <td>{8708F19F-4880-FA0F-ECCC-0656BDE3B75C}</td>\n",
       "      <td>Click</td>\n",
       "      <td>2020-01-17 00:51:00</td>\n",
       "      <td>2020-01-17 04:36:00</td>\n",
       "      <td>{3536BC26-72F7-93D0-09EF-2BF0D5BF5C56}</td>\n",
       "      <td>{F879CD11-C8A8-E0F2-A6CF-FFD517892C2D}</td>\n",
       "      <td>{67293EF8-7DAD-4A39-0C54-A4499B81C1B0}</td>\n",
       "      <td>Unknown</td>\n",
       "      <td>Unknown</td>\n",
       "      <td>{14392925-2BAF-FC72-0602-9DB674D6E74D}</td>\n",
       "      <td>{D2D2EECD-86A8-F45B-58AF-ED5ECF0025B6}</td>\n",
       "      <td>{7C1BFAEE-63CC-62EB-7343-BB54BBB09F34}</td>\n",
       "      <td>{8BBE6FB8-C8D7-CFA8-BF17-AD7BAE195985}</td>\n",
       "      <td>.com</td>\n",
       "      <td>AU</td>\n",
       "      <td>05</td>\n",
       "      <td>5000</td>\n",
       "      <td>NaN</td>\n",
       "      <td>NaN</td>\n",
       "      <td>Australia/Adelaide</td>\n",
       "      <td>13500</td>\n",
       "      <td>9.510646</td>\n",
       "    </tr>\n",
       "    <tr>\n",
       "      <td>2</td>\n",
       "      <td>{8AB62ABA-0FFD-E217-7EBD-8AD7ECC87559}</td>\n",
       "      <td>{30ADEAEA-4CB8-2254-1AD2-0D76721A3895}</td>\n",
       "      <td>{E46FC402-5D7C-CB5B-0341-30AC5C9E30C6}</td>\n",
       "      <td>{2DFC70F3-E099-652B-A336-E7A215899841}</td>\n",
       "      <td>Click</td>\n",
       "      <td>2020-01-16 08:49:00</td>\n",
       "      <td>2020-01-16 19:50:00</td>\n",
       "      <td>{980DC05A-AA27-25B7-7E63-71E70A813088}</td>\n",
       "      <td>{7B8A27E6-F6AB-6573-BEF3-334E2E442EF5}</td>\n",
       "      <td>{4B0814A1-D331-7033-76B6-F8DB28419C4E}</td>\n",
       "      <td>Unknown</td>\n",
       "      <td>Unknown</td>\n",
       "      <td>{14392925-2BAF-FC72-0602-9DB674D6E74D}</td>\n",
       "      <td>{07C40EB6-8768-1646-A917-110882272065}</td>\n",
       "      <td>{7C1BFAEE-63CC-62EB-7343-BB54BBB09F34}</td>\n",
       "      <td>{8BBE6FB8-C8D7-CFA8-BF17-AD7BAE195985}</td>\n",
       "      <td>.com</td>\n",
       "      <td>AU</td>\n",
       "      <td>05</td>\n",
       "      <td>5000</td>\n",
       "      <td>NaN</td>\n",
       "      <td>NaN</td>\n",
       "      <td>Australia/Adelaide</td>\n",
       "      <td>39660</td>\n",
       "      <td>10.588167</td>\n",
       "    </tr>\n",
       "    <tr>\n",
       "      <td>3</td>\n",
       "      <td>{4DE4BB44-5B00-C6E0-3164-C861E43F0C62}</td>\n",
       "      <td>{30ADEAEA-4CB8-2254-1AD2-0D76721A3895}</td>\n",
       "      <td>{E46FC402-5D7C-CB5B-0341-30AC5C9E30C6}</td>\n",
       "      <td>{ED6C0505-90EC-C31C-3A6A-70A4A193A848}</td>\n",
       "      <td>Click</td>\n",
       "      <td>2020-01-16 09:03:00</td>\n",
       "      <td>2020-01-16 17:27:00</td>\n",
       "      <td>{22792626-F2A9-D1AF-AB10-413C1F949A6A}</td>\n",
       "      <td>{AF6309B4-2BB3-A707-2F53-131B8DC1D6A4}</td>\n",
       "      <td>{F87DC183-2EAD-5AED-B536-4545C440750D}</td>\n",
       "      <td>Unknown</td>\n",
       "      <td>Unknown</td>\n",
       "      <td>{14392925-2BAF-FC72-0602-9DB674D6E74D}</td>\n",
       "      <td>{59591E4C-6446-5D8C-B4BB-FE284BEC8716}</td>\n",
       "      <td>{355469F6-693A-48D0-ACF7-772342C94F4E}</td>\n",
       "      <td>{E1EB2A3A-3A96-7B63-669B-7BF029316F88}</td>\n",
       "      <td>.com</td>\n",
       "      <td>AU</td>\n",
       "      <td>08</td>\n",
       "      <td>6000</td>\n",
       "      <td>NaN</td>\n",
       "      <td>NaN</td>\n",
       "      <td>Australia/Perth</td>\n",
       "      <td>30240</td>\n",
       "      <td>10.317011</td>\n",
       "    </tr>\n",
       "    <tr>\n",
       "      <td>4</td>\n",
       "      <td>{ECB3FB8D-CBA3-8EB3-B97A-88C776102D97}</td>\n",
       "      <td>{30ADEAEA-4CB8-2254-1AD2-0D76721A3895}</td>\n",
       "      <td>{E46FC402-5D7C-CB5B-0341-30AC5C9E30C6}</td>\n",
       "      <td>{2DFC70F3-E099-652B-A336-E7A215899841}</td>\n",
       "      <td>Click</td>\n",
       "      <td>2020-01-16 08:48:00</td>\n",
       "      <td>2020-01-16 21:13:00</td>\n",
       "      <td>{93D6CA84-1DFF-2FC5-A0B1-FAB6DE900639}</td>\n",
       "      <td>{BB083DCF-AABB-3B20-FB03-6F9DD69BABBE}</td>\n",
       "      <td>{F87DC183-2EAD-5AED-B536-4545C440750D}</td>\n",
       "      <td>Unknown</td>\n",
       "      <td>Unknown</td>\n",
       "      <td>{14392925-2BAF-FC72-0602-9DB674D6E74D}</td>\n",
       "      <td>{ED8E3431-6480-D006-1DFC-4F1BFE952B03}</td>\n",
       "      <td>{D75C365A-E14F-D786-8B90-F5AE2456FC87}</td>\n",
       "      <td>{FED8E0A7-B13C-C044-F0EB-67C14E5F143D}</td>\n",
       "      <td>.com</td>\n",
       "      <td>AU</td>\n",
       "      <td>08</td>\n",
       "      <td>6000</td>\n",
       "      <td>NaN</td>\n",
       "      <td>NaN</td>\n",
       "      <td>Australia/Perth</td>\n",
       "      <td>44700</td>\n",
       "      <td>10.707790</td>\n",
       "    </tr>\n",
       "  </tbody>\n",
       "</table>\n",
       "</div>"
      ],
      "text/plain": [
       "                                  InboxID  \\\n",
       "0  {7C9E652E-AC29-02E0-BE9A-8C43363D665E}   \n",
       "1  {5C245764-B2E8-6C22-65DA-2FA633D2B83D}   \n",
       "2  {8AB62ABA-0FFD-E217-7EBD-8AD7ECC87559}   \n",
       "3  {4DE4BB44-5B00-C6E0-3164-C861E43F0C62}   \n",
       "4  {ECB3FB8D-CBA3-8EB3-B97A-88C776102D97}   \n",
       "\n",
       "                                  Company  \\\n",
       "0  {0F96A485-3307-02C7-6F5F-C23BAF3CB945}   \n",
       "1  {30ADEAEA-4CB8-2254-1AD2-0D76721A3895}   \n",
       "2  {30ADEAEA-4CB8-2254-1AD2-0D76721A3895}   \n",
       "3  {30ADEAEA-4CB8-2254-1AD2-0D76721A3895}   \n",
       "4  {30ADEAEA-4CB8-2254-1AD2-0D76721A3895}   \n",
       "\n",
       "                                     List  \\\n",
       "0  {79575937-FEB1-AD59-92A5-F2BDCD8EBE25}   \n",
       "1  {D79E0F2C-4B46-F92F-513C-D9CB4D8150C6}   \n",
       "2  {E46FC402-5D7C-CB5B-0341-30AC5C9E30C6}   \n",
       "3  {E46FC402-5D7C-CB5B-0341-30AC5C9E30C6}   \n",
       "4  {E46FC402-5D7C-CB5B-0341-30AC5C9E30C6}   \n",
       "\n",
       "                                 Campaign RequestType            SendDate  \\\n",
       "0  {4ECAB404-363D-958D-4ECB-99B8D565A66E}       Click 2020-01-16 11:32:00   \n",
       "1  {8708F19F-4880-FA0F-ECCC-0656BDE3B75C}       Click 2020-01-17 00:51:00   \n",
       "2  {2DFC70F3-E099-652B-A336-E7A215899841}       Click 2020-01-16 08:49:00   \n",
       "3  {ED6C0505-90EC-C31C-3A6A-70A4A193A848}       Click 2020-01-16 09:03:00   \n",
       "4  {2DFC70F3-E099-652B-A336-E7A215899841}       Click 2020-01-16 08:48:00   \n",
       "\n",
       "          RequestDate                                    Link  \\\n",
       "0 2020-01-16 22:33:00  {CB7A65D9-3644-5395-6E60-E7A556F52E3A}   \n",
       "1 2020-01-17 04:36:00  {3536BC26-72F7-93D0-09EF-2BF0D5BF5C56}   \n",
       "2 2020-01-16 19:50:00  {980DC05A-AA27-25B7-7E63-71E70A813088}   \n",
       "3 2020-01-16 17:27:00  {22792626-F2A9-D1AF-AB10-413C1F949A6A}   \n",
       "4 2020-01-16 21:13:00  {93D6CA84-1DFF-2FC5-A0B1-FAB6DE900639}   \n",
       "\n",
       "                                IPAddress  \\\n",
       "0  {98302769-08A3-76D3-A660-FB0ED5A313CF}   \n",
       "1  {F879CD11-C8A8-E0F2-A6CF-FFD517892C2D}   \n",
       "2  {7B8A27E6-F6AB-6573-BEF3-334E2E442EF5}   \n",
       "3  {AF6309B4-2BB3-A707-2F53-131B8DC1D6A4}   \n",
       "4  {BB083DCF-AABB-3B20-FB03-6F9DD69BABBE}   \n",
       "\n",
       "                                UserAgent  AS Name AS Number  \\\n",
       "0  {1047A34C-F98E-2B84-9E69-BCBA6FEEDA97}  Unknown   Unknown   \n",
       "1  {67293EF8-7DAD-4A39-0C54-A4499B81C1B0}  Unknown   Unknown   \n",
       "2  {4B0814A1-D331-7033-76B6-F8DB28419C4E}  Unknown   Unknown   \n",
       "3  {F87DC183-2EAD-5AED-B536-4545C440750D}  Unknown   Unknown   \n",
       "4  {F87DC183-2EAD-5AED-B536-4545C440750D}  Unknown   Unknown   \n",
       "\n",
       "                               CIDR Range  \\\n",
       "0  {14392925-2BAF-FC72-0602-9DB674D6E74D}   \n",
       "1  {14392925-2BAF-FC72-0602-9DB674D6E74D}   \n",
       "2  {14392925-2BAF-FC72-0602-9DB674D6E74D}   \n",
       "3  {14392925-2BAF-FC72-0602-9DB674D6E74D}   \n",
       "4  {14392925-2BAF-FC72-0602-9DB674D6E74D}   \n",
       "\n",
       "                                   UserID  \\\n",
       "0  {C69692BD-C245-842F-7E3A-0BD44C2E52E8}   \n",
       "1  {D2D2EECD-86A8-F45B-58AF-ED5ECF0025B6}   \n",
       "2  {07C40EB6-8768-1646-A917-110882272065}   \n",
       "3  {59591E4C-6446-5D8C-B4BB-FE284BEC8716}   \n",
       "4  {ED8E3431-6480-D006-1DFC-4F1BFE952B03}   \n",
       "\n",
       "                                 DomainID  \\\n",
       "0  {9DB20ACE-264D-4774-240E-A86A9FEBC3E6}   \n",
       "1  {7C1BFAEE-63CC-62EB-7343-BB54BBB09F34}   \n",
       "2  {7C1BFAEE-63CC-62EB-7343-BB54BBB09F34}   \n",
       "3  {355469F6-693A-48D0-ACF7-772342C94F4E}   \n",
       "4  {D75C365A-E14F-D786-8B90-F5AE2456FC87}   \n",
       "\n",
       "                              EmailDomain EmailRootLevelDomain CountryCode  \\\n",
       "0  {5236C5C5-F807-01B8-7308-6369971DE796}                  .au  AU           \n",
       "1  {8BBE6FB8-C8D7-CFA8-BF17-AD7BAE195985}                 .com  AU           \n",
       "2  {8BBE6FB8-C8D7-CFA8-BF17-AD7BAE195985}                 .com  AU           \n",
       "3  {E1EB2A3A-3A96-7B63-669B-7BF029316F88}                 .com  AU           \n",
       "4  {FED8E0A7-B13C-C044-F0EB-67C14E5F143D}                 .com  AU           \n",
       "\n",
       "   RegionCode  PostalCode  Lat  Long           OlsonName  SendRequestSeconds  \\\n",
       "0  05          5000        NaN   NaN  Australia/Adelaide               39660   \n",
       "1  05          5000        NaN   NaN  Australia/Adelaide               13500   \n",
       "2  05          5000        NaN   NaN  Australia/Adelaide               39660   \n",
       "3  08          6000        NaN   NaN     Australia/Perth               30240   \n",
       "4  08          6000        NaN   NaN     Australia/Perth               44700   \n",
       "\n",
       "   SendRequestSeconds_ln  \n",
       "0              10.588167  \n",
       "1               9.510646  \n",
       "2              10.588167  \n",
       "3              10.317011  \n",
       "4              10.707790  "
      ]
     },
     "metadata": {},
     "output_type": "display_data"
    },
    {
     "name": "stdout",
     "output_type": "stream",
     "text": [
      "(101061, 25)\n",
      "RequestDate Range: 2020-01-16 09:00:00:2020-01-17 09:00:00\n"
     ]
    },
    {
     "data": {
      "text/plain": [
       "InboxID                  60675\n",
       "Company                     27\n",
       "List                        94\n",
       "Campaign                  1033\n",
       "RequestType                  1\n",
       "SendDate                  5411\n",
       "RequestDate               1441\n",
       "Link                      5678\n",
       "IPAddress                55248\n",
       "UserAgent                 3917\n",
       "AS Name                     24\n",
       "AS Number                   25\n",
       "CIDR Range                 908\n",
       "UserID                   56880\n",
       "DomainID                  5581\n",
       "EmailDomain               5581\n",
       "EmailRootLevelDomain        90\n",
       "CountryCode                182\n",
       "RegionCode                 202\n",
       "PostalCode                7513\n",
       "Lat                       4016\n",
       "Long                      4195\n",
       "OlsonName                  146\n",
       "SendRequestSeconds        9018\n",
       "SendRequestSeconds_ln     9018\n",
       "dtype: int64"
      ]
     },
     "execution_count": 4,
     "metadata": {},
     "output_type": "execute_result"
    }
   ],
   "source": [
    "pd.options.display.max_columns = None\n",
    "display(df.head()) \n",
    "print(df.shape)\n",
    "print('RequestDate Range: {}:{}'.format(df['RequestDate'].min(), df['RequestDate'].max()))\n",
    "df.nunique()"
   ]
  },
  {
   "cell_type": "markdown",
   "metadata": {},
   "source": [
    "# Only One Metrizable Column in Raw Request Data\n",
    "## But this metric is one of the major factors that we anticipate will help us identify BOTs.\n",
    "\n",
    "Mose of the click BOTs are safty devices that examin the risk of the email before it is released to the contact's inbox. So to prevent causing a long delay, the BOTs will want to process the links as soon as they are recieved.  Through manual, most of the suspected BOTs click the message within 1 or 2 minutes after send went out."
   ]
  },
  {
   "cell_type": "code",
   "execution_count": 5,
   "metadata": {},
   "outputs": [
    {
     "data": {
      "image/png": "[encoded data removed]",
      "text/plain": [
       "<Figure size 864x360 with 1 Axes>"
      ]
     },
     "metadata": {
      "needs_background": "light"
     },
     "output_type": "display_data"
    }
   ],
   "source": [
    "df.hist(column='SendRequestSeconds', bins=200, figsize=(12,5), xlabelsize=18)\n",
    "plt.xlabel(\"Seconds between Send and Click\", fontsize=18)\n",
    "plt.tight_layout()\n",
    "plt.show()"
   ]
  },
  {
   "cell_type": "markdown",
   "metadata": {},
   "source": [
    "## As you can see from the histogram, there is an overwelming number of clicks in the first few minusts after the send.\n",
    "\n",
    "#### To even out this distribution, the BotDataSet class created a calculated column called **SendRequestSeconds_ln**\n",
    "\n",
    "This was done by taking the natural log of the SendRequestSeconds.  To avoid zero and negative, the number e was added before the the log was taking.  This make the bottom of the scale = 1.  To give a feel of the upper limit of the this value, 2 days (172800 seconds) would give a value of 14.77.\n",
    "\n",
    "## $ SendRequestSeconds\\_ln = log_{e}(SendRequestSeconds + e) $"
   ]
  },
  {
   "cell_type": "code",
   "execution_count": 6,
   "metadata": {},
   "outputs": [
    {
     "data": {
      "image/png": "[encoded data removed]",
      "text/plain": [
       "<Figure size 1080x216 with 1 Axes>"
      ]
     },
     "metadata": {
      "needs_background": "light"
     },
     "output_type": "display_data"
    }
   ],
   "source": [
    "def ln_seconds_plus_e(t):\n",
    "    return np.log(t + np.exp(1)) \n",
    "seconds = range(0, 172800, 1000)\n",
    "seconds_ln =  ln_seconds_plus_e(seconds)\n",
    "f = plt.figure(figsize=(15, 3))\n",
    "plt.plot(seconds, seconds_ln)\n",
    "plt.title('ln(x+e)')\n",
    "plt.show()"
   ]
  },
  {
   "cell_type": "code",
   "execution_count": 7,
   "metadata": {},
   "outputs": [
    {
     "data": {
      "image/png": "[encoded data removed]",
      "text/plain": [
       "<Figure size 864x360 with 1 Axes>"
      ]
     },
     "metadata": {
      "needs_background": "light"
     },
     "output_type": "display_data"
    }
   ],
   "source": [
    "df.hist(column='SendRequestSeconds_ln', bins=200, figsize=(12,5), xlabelsize=18)\n",
    "plt.xlabel(\"Natural Log of (SendRequestSeconds + e)\", fontsize=18)\n",
    "plt.tight_layout()\n",
    "plt.show()"
   ]
  },
  {
   "cell_type": "markdown",
   "metadata": {},
   "source": [
    "## Extend Dataframe with Session Columns\n",
    "\n",
    "The 4 \"SessionIDs\" built here are the same one used in the campaign analysis."
   ]
  },
  {
   "cell_type": "code",
   "execution_count": 8,
   "metadata": {},
   "outputs": [],
   "source": [
    "max_session_time_gap = timedelta(seconds=120)\n",
    "\n",
    "session_columns = {'InboxSessionID':('InboxID', None), \n",
    "                   'IPSessionID':('IPAddress', None),\n",
    "                   'IPUASessionID':('IPAddress', 'UserAgent')}\n",
    "\n",
    "for t in session_columns.items():\n",
    "    new_column_name, group_tuple = t\n",
    "    group_column_1, group_column_2 = group_tuple\n",
    "    botDataSet.loadSessionColumn(new_column_name, max_session_time_gap, group_column_1, group_column_2)\n",
    "\n",
    "df = botDataSet.df"
   ]
  },
  {
   "cell_type": "code",
   "execution_count": 9,
   "metadata": {},
   "outputs": [
    {
     "data": {
      "text/html": [
       "<div>\n",
       "<style scoped>\n",
       "    .dataframe tbody tr th:only-of-type {\n",
       "        vertical-align: middle;\n",
       "    }\n",
       "\n",
       "    .dataframe tbody tr th {\n",
       "        vertical-align: top;\n",
       "    }\n",
       "\n",
       "    .dataframe thead th {\n",
       "        text-align: right;\n",
       "    }\n",
       "</style>\n",
       "<table border=\"1\" class=\"dataframe\">\n",
       "  <thead>\n",
       "    <tr style=\"text-align: right;\">\n",
       "      <th></th>\n",
       "      <th>RequestDate</th>\n",
       "      <th>InboxID</th>\n",
       "      <th>IPAddress</th>\n",
       "      <th>CIDR Range</th>\n",
       "      <th>AS Number</th>\n",
       "      <th>InboxSessionID</th>\n",
       "      <th>IPSessionID</th>\n",
       "      <th>IPUASessionID</th>\n",
       "    </tr>\n",
       "  </thead>\n",
       "  <tbody>\n",
       "    <tr>\n",
       "      <td>37995</td>\n",
       "      <td>2020-01-16 09:00:00</td>\n",
       "      <td>{582CF80F-649D-3184-ECE6-6EC82905B7CA}</td>\n",
       "      <td>{64386B36-2523-58A3-518D-168C6A876DDA}</td>\n",
       "      <td>{14392925-2BAF-FC72-0602-9DB674D6E74D}</td>\n",
       "      <td>Unknown</td>\n",
       "      <td>-6282686456393246285</td>\n",
       "      <td>-1383729496854944629</td>\n",
       "      <td>1946798281775067945</td>\n",
       "    </tr>\n",
       "    <tr>\n",
       "      <td>11561</td>\n",
       "      <td>2020-01-16 09:00:00</td>\n",
       "      <td>{426C37ED-B9CB-5B33-68DC-31F0051BD0EF}</td>\n",
       "      <td>{A1066275-4BAE-86E3-67DA-5EC5AB520098}</td>\n",
       "      <td>{14392925-2BAF-FC72-0602-9DB674D6E74D}</td>\n",
       "      <td>Unknown</td>\n",
       "      <td>2452673572283220917</td>\n",
       "      <td>-4272135940689275703</td>\n",
       "      <td>-4227852320656417801</td>\n",
       "    </tr>\n",
       "    <tr>\n",
       "      <td>23119</td>\n",
       "      <td>2020-01-16 09:00:00</td>\n",
       "      <td>{515F71C9-42FF-E596-6414-684544C80531}</td>\n",
       "      <td>{38803023-2C94-66E7-EBCD-338792441922}</td>\n",
       "      <td>{14392925-2BAF-FC72-0602-9DB674D6E74D}</td>\n",
       "      <td>Unknown</td>\n",
       "      <td>3059773363931904229</td>\n",
       "      <td>-5633582871466696139</td>\n",
       "      <td>7702434081616311541</td>\n",
       "    </tr>\n",
       "    <tr>\n",
       "      <td>92386</td>\n",
       "      <td>2020-01-16 09:00:00</td>\n",
       "      <td>{7301DAD5-438A-FDF9-1525-8AC8ACC21C9C}</td>\n",
       "      <td>{488DFBAF-A009-4C64-7335-F446A28D4ECB}</td>\n",
       "      <td>{14392925-2BAF-FC72-0602-9DB674D6E74D}</td>\n",
       "      <td>Unknown</td>\n",
       "      <td>-13634572772485745</td>\n",
       "      <td>4101336290164431145</td>\n",
       "      <td>-2047965215585511331</td>\n",
       "    </tr>\n",
       "    <tr>\n",
       "      <td>23085</td>\n",
       "      <td>2020-01-16 09:00:00</td>\n",
       "      <td>{515F71C9-42FF-E596-6414-684544C80531}</td>\n",
       "      <td>{5633CFE0-E7D3-AAC1-827B-C9D090299B06}</td>\n",
       "      <td>{14392925-2BAF-FC72-0602-9DB674D6E74D}</td>\n",
       "      <td>Unknown</td>\n",
       "      <td>3059773363931904229</td>\n",
       "      <td>-5012705907559556246</td>\n",
       "      <td>-2720776536932773615</td>\n",
       "    </tr>\n",
       "  </tbody>\n",
       "</table>\n",
       "</div>"
      ],
      "text/plain": [
       "              RequestDate                                 InboxID  \\\n",
       "37995 2020-01-16 09:00:00  {582CF80F-649D-3184-ECE6-6EC82905B7CA}   \n",
       "11561 2020-01-16 09:00:00  {426C37ED-B9CB-5B33-68DC-31F0051BD0EF}   \n",
       "23119 2020-01-16 09:00:00  {515F71C9-42FF-E596-6414-684544C80531}   \n",
       "92386 2020-01-16 09:00:00  {7301DAD5-438A-FDF9-1525-8AC8ACC21C9C}   \n",
       "23085 2020-01-16 09:00:00  {515F71C9-42FF-E596-6414-684544C80531}   \n",
       "\n",
       "                                    IPAddress  \\\n",
       "37995  {64386B36-2523-58A3-518D-168C6A876DDA}   \n",
       "11561  {A1066275-4BAE-86E3-67DA-5EC5AB520098}   \n",
       "23119  {38803023-2C94-66E7-EBCD-338792441922}   \n",
       "92386  {488DFBAF-A009-4C64-7335-F446A28D4ECB}   \n",
       "23085  {5633CFE0-E7D3-AAC1-827B-C9D090299B06}   \n",
       "\n",
       "                                   CIDR Range AS Number       InboxSessionID  \\\n",
       "37995  {14392925-2BAF-FC72-0602-9DB674D6E74D}   Unknown -6282686456393246285   \n",
       "11561  {14392925-2BAF-FC72-0602-9DB674D6E74D}   Unknown  2452673572283220917   \n",
       "23119  {14392925-2BAF-FC72-0602-9DB674D6E74D}   Unknown  3059773363931904229   \n",
       "92386  {14392925-2BAF-FC72-0602-9DB674D6E74D}   Unknown   -13634572772485745   \n",
       "23085  {14392925-2BAF-FC72-0602-9DB674D6E74D}   Unknown  3059773363931904229   \n",
       "\n",
       "               IPSessionID        IPUASessionID  \n",
       "37995 -1383729496854944629  1946798281775067945  \n",
       "11561 -4272135940689275703 -4227852320656417801  \n",
       "23119 -5633582871466696139  7702434081616311541  \n",
       "92386  4101336290164431145 -2047965215585511331  \n",
       "23085 -5012705907559556246 -2720776536932773615  "
      ]
     },
     "metadata": {},
     "output_type": "display_data"
    },
    {
     "data": {
      "text/plain": [
       "RequestDate        1441\n",
       "InboxID           60675\n",
       "IPAddress         55248\n",
       "CIDR Range          908\n",
       "AS Number            25\n",
       "InboxSessionID    68089\n",
       "IPSessionID       69008\n",
       "IPUASessionID     70018\n",
       "dtype: int64"
      ]
     },
     "execution_count": 9,
     "metadata": {},
     "output_type": "execute_result"
    }
   ],
   "source": [
    "display_columns = ['RequestDate', 'InboxID', 'IPAddress', 'CIDR Range', 'AS Number']\n",
    "display_columns.extend(list(session_columns.keys()))\n",
    "\n",
    "sdf = df[display_columns]\n",
    "display(sdf.head()) \n",
    "sdf.nunique()"
   ]
  },
  {
   "cell_type": "markdown",
   "metadata": {},
   "source": [
    "# IP Reputation\n",
    "\n",
    "We built sessionization 3 different ways for the IPs, **IPAddress**, **CIDR Range**, and **AS Number**.\n",
    "\n",
    "We will start with just looking at IPAddress.  If the unsupervised clustering does not look satisfactory,  we have the option to go up the IP hierarchy.  Just using the IP Address would have very large benefits in the implementation in BOT filtering for a couple of reasons:\n",
    "- No need to build an ASN Database\n",
    "- No need to do ASN or CIDR lookups in real-time\n",
    "- Not all IP address will find a match in the ASN DB\n",
    "\n",
    "## IP Based Session DataFrames\n",
    "\n",
    "### We start by grouping on the IPSessionID\n",
    "\n",
    "This will give us two major advantages:\n",
    "- We can look at the group of requests as a whole and not just request by request\n",
    "- The aggregate values produced will give us metrizable data to do K-Means Clustering on\n",
    "\n",
    "## The IPSession is all requests grouped together as long at there are not gaps grater then 2 minutes between requests.\n",
    "\n",
    "This means that an IP that is used frequently might have large numbers of requests per IP Session, span many different emails and InboxIDs and have session durations longer than normal.\n",
    "\n",
    "**UniqueUserAgents/UniqueEmail** - User Agents tend to be fairly unique.  Also, contact's tend to use the same browser/email client to view their emails.  So, if you hade 100 emails, you would expect to see around 50 unique User Agents.  But BOTs tend to reuse the same User Agent string so if the BOT is hitting 100 unique emails, there would tend to be only 1 or 2 unique User Agents strings.\n"
   ]
  },
  {
   "cell_type": "code",
   "execution_count": 10,
   "metadata": {},
   "outputs": [],
   "source": [
    "generic_agg = {'IPAddress':'min',\n",
    "               'IPSessionID':'count',\n",
    "               'InboxID':'nunique', \n",
    "               'UserID':'nunique', \n",
    "               'EmailDomain':'nunique', \n",
    "               'EmailRootLevelDomain':'nunique',\n",
    "               'Link':'nunique',\n",
    "               'SendRequestSeconds':'mean', \n",
    "               'SendRequestSeconds_ln' : 'mean',\n",
    "               'RequestDate':lambda x: (x.max() - x.min()).seconds}\n",
    "\n",
    "generic_agg_renames = { \"IPSessionID\": \"RequestCount\", \n",
    "                 \"InboxID\": \"UniqueInboxIDs\", \n",
    "                 \"UserID\": \"UniqueEmails\", \n",
    "                 \"EmailDomain\": \"UniqueEmailDomains\", \n",
    "                 \"EmailRootLevelDomain\": \"UniqueEmailRootLevelDomain\", \n",
    "                 \"Link\": \"UniqueLinks\",  \n",
    "                 \"SendRequestSeconds\": \"MeanSendRequestSeconds\", \n",
    "                 \"SendRequestSeconds_ln\": \"MeanSendRequestSeconds_ln\", \n",
    "                 \"RequestDate\": \"SessionDuration\"}\n",
    "\n",
    "generic_unsup_columns = ['RequestCount',\n",
    "                   'UniqueInboxIDs',\n",
    "                   'UniqueEmails',\n",
    "                   'UniqueEmailDomains',\n",
    "                   'MeanSendRequestSeconds_ln',\n",
    "                   'SessionDuration',\n",
    "                   'UniqueLinks']\n",
    "\n",
    "Inbox_agg = generic_agg.copy() \n",
    "Inbox_agg_renames = generic_agg_renames.copy()\n",
    "Inbox_unsup_columns = generic_unsup_columns.copy()\n",
    "Inbox_agg.update([('UserAgent','nunique')]) # Since UA is not part of the session, we use nunique\n",
    "Inbox_agg_renames.update([(\"UserAgent\",\"UniqueUserAgents\")])\n",
    "Inbox_unsup_columns.append('UniqueUserAgents/RequestCount')\n",
    "\n",
    "IP_agg = generic_agg.copy()\n",
    "IP_agg_renames = generic_agg_renames.copy()\n",
    "IP_unsup_columns = generic_unsup_columns.copy()\n",
    "IP_agg.update([('UserAgent','nunique')]) # Since UA is not part of the session, we use nunique\n",
    "IP_agg_renames.update([(\"UserAgent\",\"UniqueUserAgents\")])\n",
    "IP_unsup_columns.append('UniqueUserAgents/RequestCount')\n",
    "\n",
    "IPUA_agg = generic_agg.copy()\n",
    "IPUA_agg_renames = generic_agg_renames.copy()\n",
    "IPUA_unsup_columns = generic_unsup_columns.copy()\n",
    "IPUA_agg.update([('UserAgent','min')]) # Since UA is part of the session, we just return min for display"
   ]
  },
  {
   "cell_type": "code",
   "execution_count": 11,
   "metadata": {},
   "outputs": [],
   "source": [
    "df_Inbox_agg = df.groupby(['InboxID']).agg(Inbox_agg)\n",
    "df_Inbox_agg.rename(columns=Inbox_agg_renames, inplace=True)\n",
    "\n",
    "# Add UA/Count ratio for IPSession\n",
    "df_Inbox_agg['UniqueUserAgents/RequestCount'] = df_Inbox_agg['UniqueUserAgents'] / df_Inbox_agg['RequestCount'] "
   ]
  },
  {
   "cell_type": "code",
   "execution_count": 12,
   "metadata": {},
   "outputs": [],
   "source": [
    "df_IP_agg = df.groupby(['IPSessionID']).agg(IP_agg)\n",
    "df_IP_agg.rename(columns=IP_agg_renames, inplace=True)\n",
    "\n",
    "# Add UA/Count ratio for IPSession\n",
    "df_IP_agg['UniqueUserAgents/RequestCount'] = df_IP_agg['UniqueUserAgents'] / df_IP_agg['RequestCount'] "
   ]
  },
  {
   "cell_type": "code",
   "execution_count": 13,
   "metadata": {},
   "outputs": [],
   "source": [
    "df_IPUA_agg =  df.groupby(['IPUASessionID']).agg(IPUA_agg)\n",
    "df_IPUA_agg.rename(columns=IPUA_agg_renames, inplace=True)"
   ]
  },
  {
   "cell_type": "markdown",
   "metadata": {},
   "source": [
    "# K Means on IP GroupBy DataFrames"
   ]
  },
  {
   "cell_type": "markdown",
   "metadata": {},
   "source": [
    "## Create a copy of the group by DataFrame with just the columns we want in the K-Means analysis"
   ]
  },
  {
   "cell_type": "code",
   "execution_count": 14,
   "metadata": {},
   "outputs": [],
   "source": [
    "df_Inbox_agg_unsup = df_Inbox_agg[Inbox_unsup_columns].copy()"
   ]
  },
  {
   "cell_type": "code",
   "execution_count": 15,
   "metadata": {},
   "outputs": [],
   "source": [
    "df_IP_agg_unsup = df_IP_agg[IP_unsup_columns].copy()"
   ]
  },
  {
   "cell_type": "code",
   "execution_count": 16,
   "metadata": {},
   "outputs": [],
   "source": [
    "df_IPUA_agg_unsup = df_IPUA_agg[IPUA_unsup_columns].copy()"
   ]
  },
  {
   "cell_type": "markdown",
   "metadata": {},
   "source": [
    "## Normalize the aggregations using a scaler\n",
    "Here we picked the MinMax Scaler to normalize our aggregate columns.\n",
    "\n",
    "*Note: SendRequestSeconds's PDF is an expoential decay curve.  Since we already have the natual log of column, the MinMax Scaler should still be a good fit.*"
   ]
  },
  {
   "cell_type": "code",
   "execution_count": 22,
   "metadata": {},
   "outputs": [],
   "source": [
    "def getScaledDataFrame(df):\n",
    "    mms = MinMaxScaler()\n",
    "    mms.fit(df)\n",
    "\n",
    "    result = pd.DataFrame(mms.transform(df))\n",
    "    result.columns = df.columns\n",
    "    result.index = df.index\n",
    "    return result"
   ]
  },
  {
   "cell_type": "code",
   "execution_count": 23,
   "metadata": {},
   "outputs": [],
   "source": [
    "df_Inbox_agg_unsup_s = getScaledDataFrame(df_Inbox_agg_unsup)\n",
    "df_IP_agg_unsup_s = getScaledDataFrame(df_IP_agg_unsup)\n",
    "df_IPUA_agg_unsup_s = getScaledDataFrame(df_IPUA_agg_unsup)"
   ]
  },
  {
   "cell_type": "markdown",
   "metadata": {},
   "source": [
    "### Find # of Clusters to use in the Model\n",
    "Find the best guess at to the number of clusters to use to ploting sq mean distances of the clusters as we walk the cluster count from 1 to 15"
   ]
  },
  {
   "cell_type": "code",
   "execution_count": 34,
   "metadata": {},
   "outputs": [],
   "source": [
    "def getPCA_Fit(df):\n",
    "    pca = PCA()\n",
    "    fit = pca.fit(df)\n",
    "    return (pca, fit)"
   ]
  },
  {
   "cell_type": "code",
   "execution_count": 35,
   "metadata": {},
   "outputs": [
    {
     "data": {
      "image/png": "[encoded data removed]",
      "text/plain": [
       "<Figure size 432x288 with 1 Axes>"
      ]
     },
     "metadata": {
      "needs_background": "light"
     },
     "output_type": "display_data"
    }
   ],
   "source": [
    "Inbox_pca, Inbox_fit = getPCA_Fit(df_Inbox_agg_unsup_s)\n",
    "IP_pca, IP_fit = getPCA_Fit(df_IP_agg_unsup_s)\n",
    "IPUA_pca, IPUA_fit = getPCA_Fit(df_IPUA_agg_unsup_s)\n",
    "\n",
    "plt.figure()\n",
    "plt.plot(np.cumsum(Inbox_pca.explained_variance_ratio_), label=\"Inbox\")\n",
    "plt.plot(np.cumsum(IP_pca.explained_variance_ratio_), label=\"IP Only\")\n",
    "plt.plot(np.cumsum(IPUA_pca.explained_variance_ratio_), label=\"IP + UA\")\n",
    "plt.xlabel('Number of Principal Components')\n",
    "plt.ylabel('Variance (%)') \n",
    "plt.legend()\n",
    "plt.show()\n",
    "\n",
    "# print(\"explained_variance_ratio\\n Inbox:{}\\n IP Only:{}\\n IP + UA:{}\".format(Inbox_fit.explained_variance_ratio_, IP_fit.explained_variance_ratio_, IPUA_fit.explained_variance_ratio_))"
   ]
  },
  {
   "cell_type": "code",
   "execution_count": 74,
   "metadata": {},
   "outputs": [],
   "source": [
    "kmeans_random_sate = 654657\n",
    "\n",
    "\n",
    "def getKMeansIneritas(dfs, loops):\n",
    "    result = defaultdict(list)\n",
    "    for k in range(1,loops):\n",
    "        km = KMeans(n_clusters=k, random_state = kmeans_random_sate)\n",
    "        \n",
    "        for df_name, df in dfs.items():\n",
    "            km = km.fit(df)\n",
    "            result[df_name].append(km.inertia_.copy())\n",
    "            \n",
    "    return result"
   ]
  },
  {
   "cell_type": "code",
   "execution_count": 75,
   "metadata": {},
   "outputs": [
    {
     "data": {
      "image/png": "[encoded data removed]",
      "text/plain": [
       "<Figure size 1080x360 with 3 Axes>"
      ]
     },
     "metadata": {
      "needs_background": "light"
     },
     "output_type": "display_data"
    }
   ],
   "source": [
    "loops = 10\n",
    "\n",
    "k_means_data = {'Inbox':df_Inbox_agg_unsup_s, 'IP Only':df_IP_agg_unsup_s, 'IP + UA':df_IPUA_agg_unsup_s}\n",
    "k_means_ineritas = getKMeansIneritas(k_means_data, loops)\n",
    "cnt = len(k_means_ineritas)\n",
    "i=0\n",
    "\n",
    "f = plt.figure(figsize=(15, 5))    \n",
    "gs = f.add_gridspec(1,cnt)\n",
    "\n",
    "for df_name, ineritas in k_means_ineritas.items():\n",
    "    ax = f.add_subplot(gs[i])\n",
    "    plt.plot(range(1,loops),ineritas)\n",
    "    plt.title(df_name)   \n",
    "    i += 1\n",
    "\n",
    "plt.show()"
   ]
  },
  {
   "cell_type": "markdown",
   "metadata": {},
   "source": [
    "# !!!!!!!!!!!!!!!!!!!!!!!!!!!!!!!!!!!!!!!!!!!!!!!!!!!!!!!!!\n",
    "\n",
    "\n",
    "### We see a change in slope around 3, but still has a relatively large avg distance.\n",
    "\n",
    "### We should try some runs between 3 and 5 and only show the best results below."
   ]
  },
  {
   "cell_type": "markdown",
   "metadata": {},
   "source": [
    "\n",
    "## After running 3, 4 and 5 clusters: \n",
    "### 5 was determined to be the clustering count.\n",
    "\n",
    "This was done by exporting the K-Means labels and appending the label to the raw non-anonymized data in SQL.  Manual sampling was done to determine the best separation of suspected BOTs and organic click activity.\n",
    "\n",
    "### Instantiate the KMeans class with clusters = 5\n",
    "Run fit and get the ndarray of the predicted labels\n",
    "\n",
    "We will use this array to append a new series onto existing DataFrames\n"
   ]
  },
  {
   "cell_type": "code",
   "execution_count": null,
   "metadata": {},
   "outputs": [],
   "source": [
    "model = KMeans(n_clusters=5, random_state = kmeans_random_sate)\n",
    "model.fit(df_IPSession_transformed)\n",
    "labels = model.predict(df_IPSession_transformed)\n",
    "\n",
    "print(labels[:20])"
   ]
  },
  {
   "cell_type": "markdown",
   "metadata": {},
   "source": [
    "#### Make sure the indexes and cardinality of the DataFrames and K-Means lables are a match"
   ]
  },
  {
   "cell_type": "code",
   "execution_count": null,
   "metadata": {},
   "outputs": [],
   "source": [
    "print(\"\\\n",
    "Index of groupby = {}\\n\\\n",
    "Index of transformed = {}\\n\\\n",
    "Index of KMeans Columns = {}\"\n",
    "      .format( \n",
    "              df_IPSession.index.name,\n",
    "              df_IPSession_transformed.index.name, \n",
    "              df_IPSession_KMeans_columns.index.name\n",
    "             ))\n",
    "\n",
    "print(\"\\\n",
    "Len of groupby = {}\\n\\\n",
    "Len of transformed = {}\\n\\\n",
    "Len of KMeans Columns = {}\\n\\\n",
    "Len of lables = {}\"\n",
    "      .format( \n",
    "              len(df_IPSession), \n",
    "              len(df_IPSession_transformed), \n",
    "              len(df_IPSession_KMeans_columns), \n",
    "              len(labels)\n",
    "              ))"
   ]
  },
  {
   "cell_type": "markdown",
   "metadata": {},
   "source": [
    "## Append the KMean Lables to the 2 IP group by DataFrames"
   ]
  },
  {
   "cell_type": "code",
   "execution_count": null,
   "metadata": {},
   "outputs": [],
   "source": [
    "df_IPSession['IP_KMean'] = labels #Origional Group By with additional agg columns\n",
    "df_IPSession_transformed['IP_KMean'] = labels #Normilized Aggregations\n",
    "df_IPSession_KMeans_columns['IP_KMean'] = labels #Not=Normilized Aggregations\n",
    "\n",
    "\n",
    "df_IPSession_transformed.hist(figsize=(15,15))"
   ]
  },
  {
   "cell_type": "markdown",
   "metadata": {},
   "source": [
    "## Build visualizations to manually inspect effectiveness of clusters"
   ]
  },
  {
   "cell_type": "code",
   "execution_count": null,
   "metadata": {},
   "outputs": [],
   "source": [
    "palette = {0:'r', 1:'g',2:'y', 3:'Purple', 4:'b'}\n",
    "f = plt.figure(figsize=(10, 20))\n",
    "gs = f.add_gridspec(5, 2)\n",
    "\n",
    "ax = f.add_subplot(gs[0, 0])\n",
    "sns.stripplot(x='IP_KMean', y='RequestCount', palette=palette, data=df_IPSession)\n",
    "\n",
    "ax = f.add_subplot(gs[0, 1])\n",
    "sns.stripplot(x='IP_KMean', y='UniqueInboxIDs', palette=palette, data=df_IPSession)\n",
    "\n",
    "ax = f.add_subplot(gs[1, 0])\n",
    "sns.stripplot(x='IP_KMean', y='UniqueUserAgents', palette=palette, data=df_IPSession)\n",
    "\n",
    "ax = f.add_subplot(gs[1, 1])\n",
    "sns.stripplot(x='IP_KMean', y='UniqueUserAgents/RequestCount', palette=palette, data=df_IPSession)\n",
    "\n",
    "ax = f.add_subplot(gs[2, 0])\n",
    "sns.stripplot(x='IP_KMean', y='UniqueEmails', palette=palette, data=df_IPSession)\n",
    "\n",
    "ax = f.add_subplot(gs[2, 1])\n",
    "sns.stripplot(x='IP_KMean', y='UniqueEmailDomains', palette=palette, data=df_IPSession)\n",
    "\n",
    "ax = f.add_subplot(gs[3, 0])\n",
    "sns.stripplot(x='IP_KMean', y='MeanSendRequestSeconds_ln', palette=palette, data=df_IPSession)\n",
    "\n",
    "ax = f.add_subplot(gs[3, 1])\n",
    "sns.stripplot(x='IP_KMean', y='MeanSendRequestSeconds', palette=palette, data=df_IPSession)\n",
    "\n",
    "ax = f.add_subplot(gs[4, 0])\n",
    "sns.stripplot(x='IP_KMean', y='SessionDuration', palette=palette, data=df_IPSession)\n",
    "\n",
    "ax = f.add_subplot(gs[4, 1])\n",
    "sns.stripplot(x='IP_KMean', y='UniqueLinks', palette=palette, data=df_IPSession)\n",
    "\n",
    "f.tight_layout()\n",
    "plt.show()"
   ]
  },
  {
   "cell_type": "markdown",
   "metadata": {},
   "source": [
    "### Label 1 stands out, esplishely in UniqueEmails and RequestCount\n",
    "### Low UserAgent to RequestCount ratios for labels 1 and 4"
   ]
  },
  {
   "cell_type": "code",
   "execution_count": null,
   "metadata": {},
   "outputs": [],
   "source": [
    "f = plt.figure(figsize=(12, 12))\n",
    "gs = f.add_gridspec(2, 1)\n",
    "\n",
    "ax = f.add_subplot(gs[0])\n",
    "sns.scatterplot(y='UniqueLinks', x='RequestCount', hue='IP_KMean', palette=palette, data=df_IPSession)\n",
    "\n",
    "ax = f.add_subplot(gs[1])\n",
    "sns.scatterplot(y='UniqueUserAgents', x='RequestCount', hue='IP_KMean', palette=palette, data=df_IPSession)\n",
    "\n",
    "f.tight_layout()\n",
    "plt.show()"
   ]
  },
  {
   "cell_type": "markdown",
   "metadata": {},
   "source": [
    "### Most organic click activity will have a unique link pre request.  There will be a few contact's that click on the same link more than one time.\n",
    "\n",
    "### But label 4 has hundreds of click requests with just 10 to 20 unique links.  This is very suspicious of BOT activity.\n"
   ]
  },
  {
   "cell_type": "code",
   "execution_count": null,
   "metadata": {},
   "outputs": [],
   "source": [
    "#todo: np.seterr(divide='ignore', invalid='ignore')\n",
    "# Find out what the warnning is about.  i.e. More cleanup on MeanSendRequestSeconds_ln\n",
    "np.seterr(divide='ignore', invalid='ignore') "
   ]
  },
  {
   "cell_type": "code",
   "execution_count": null,
   "metadata": {},
   "outputs": [],
   "source": [
    "pairplot_columns = agg_columns\n",
    "pairplot_columns = pairplot_columns[:3]\n",
    "pairplot_columns.append(\"IP_KMean\")\n",
    "pairplot_df = df_IPSession[pairplot_columns]\n",
    "sns.pairplot(pairplot_df, hue=\"IP_KMean\", height=2.8, palette=palette)"
   ]
  },
  {
   "cell_type": "code",
   "execution_count": null,
   "metadata": {},
   "outputs": [],
   "source": [
    "pairplot_columns = agg_columns\n",
    "pairplot_columns = pairplot_columns[3:6]\n",
    "pairplot_columns.append(\"IP_KMean\")\n",
    "pairplot_df = df_IPSession[pairplot_columns]\n",
    "sns.pairplot(pairplot_df, hue=\"IP_KMean\", height=2.8, palette=palette)"
   ]
  },
  {
   "cell_type": "code",
   "execution_count": null,
   "metadata": {},
   "outputs": [],
   "source": [
    "pairplot_columns = agg_columns\n",
    "pairplot_columns = pairplot_columns[6:]\n",
    "pairplot_columns.append(\"IP_KMean\")\n",
    "pairplot_df = df_IPSession[pairplot_columns]\n",
    "sns.pairplot(pairplot_df, hue=\"IP_KMean\", height=2.8, palette=palette)"
   ]
  },
  {
   "cell_type": "code",
   "execution_count": null,
   "metadata": {},
   "outputs": [],
   "source": [
    "df_IPSession_mean = df_IPSession.groupby(['IP_KMean']).agg({\n",
    "                                                   'UniqueInboxIDs':'mean',\n",
    "                                                   'UniqueEmails':'mean',\n",
    "                                                   'UniqueUserAgents':'mean',\n",
    "                                                   'UniqueEmailDomains':'mean',\n",
    "                                                   'UniqueEmailRootLevelDomain':'mean',\n",
    "                                                   'UniqueLinks':'mean',\n",
    "#                                                    'MeanSendRequestSeconds':'mean',\n",
    "#                                                    'SessionDuration':'mean',\n",
    "                                                   'UniqueUserAgents/RequestCount':'mean',\n",
    "                                                    })\n",
    "df_IPSession_mean = df_IPSession_mean.transpose()\n",
    "\n",
    "df_IPSession_std = df_IPSession.groupby(['IP_KMean']).agg({\n",
    "                                                   'UniqueInboxIDs':'std',\n",
    "                                                   'UniqueEmails':'std',\n",
    "                                                   'UniqueUserAgents':'std',\n",
    "                                                   'UniqueEmailDomains':'std',\n",
    "                                                   'UniqueEmailRootLevelDomain':'std',\n",
    "                                                   'UniqueLinks':'std',\n",
    "#                                                    'MeanSendRequestSeconds':'std',\n",
    "#                                                    'SessionDuration':'std',\n",
    "                                                   'UniqueUserAgents/RequestCount':'std',\n",
    "                                                    })\n",
    "df_IPSession_std = df_IPSession_std.transpose()\n",
    "\n",
    "f = plt.figure(figsize=(8, 5))\n",
    "sns.set(font_scale=1.2)\n",
    "\n",
    "plt.title(\"Means\")\n",
    "sns.heatmap(df_IPSession_mean, annot=True, cmap=\"YlGnBu\", linewidths=1, linecolor='b') \n",
    "plt.tight_layout()\n",
    "plt.show()\n",
    "\n",
    "\n",
    "f = plt.figure(figsize=(8, 5))\n",
    "plt.title(\"Standard Deviations\")\n",
    "sns.heatmap(df_IPSession_std, annot=True, cmap=\"YlGnBu\", linewidths=1, linecolor='b') \n",
    "plt.tight_layout()\n",
    "plt.show()"
   ]
  },
  {
   "cell_type": "markdown",
   "metadata": {},
   "source": [
    "# Merge the K-Means labels for IP GroupBy with original df"
   ]
  },
  {
   "cell_type": "markdown",
   "metadata": {},
   "source": [
    "## Remember, so far we have been looking at the group by DataFrame\n",
    "\n",
    "### Now that we merged the K-Mean Lables into the raw date, we will see different cardinality since many requests were rolled up in teh group by"
   ]
  },
  {
   "cell_type": "code",
   "execution_count": null,
   "metadata": {},
   "outputs": [],
   "source": [
    "df_IPKMeans = pd.merge(df, df_IPSession['IP_KMean'], on=\"IPSessionID\")"
   ]
  },
  {
   "cell_type": "code",
   "execution_count": null,
   "metadata": {},
   "outputs": [],
   "source": [
    "p= pd.DataFrame(df_IPKMeans.groupby(['IP_KMean'])['InboxID'].count())\n",
    "p = p.unstack(0, )\n",
    "p = p.reset_index('IP_KMean')\n",
    "p.columns = ['IP_KMean', 'RequestCount']\n",
    "p.plot.bar('IP_KMean', 'RequestCount', figsize=(12,5))"
   ]
  },
  {
   "cell_type": "code",
   "execution_count": null,
   "metadata": {},
   "outputs": [],
   "source": [
    "nunique_columns = [ 'InboxID',\n",
    "                    'Company',\n",
    "                    'List',\n",
    "                    'Campaign',\n",
    "                    'Link',\n",
    "                    'IPAddress',\n",
    "                    'UserAgent',\n",
    "                    'AS Name',\n",
    "                    'AS Number',\n",
    "                    'CIDR Range',\n",
    "                    'EmailDomain',\n",
    "                    'EmailRootLevelDomain']\n",
    "gb = df_IPKMeans.groupby(['IP_KMean'])[nunique_columns].nunique()\n",
    "gb=gb.transpose()\n",
    "gb"
   ]
  },
  {
   "cell_type": "markdown",
   "metadata": {},
   "source": [
    "## Show distribution of these labels across the AS Names"
   ]
  },
  {
   "cell_type": "code",
   "execution_count": null,
   "metadata": {},
   "outputs": [],
   "source": [
    "def groupByPivot(group_column_top, group_column_left, count_column):\n",
    "    gb = df_IPKMeans.groupby([group_column_top, group_column_left])[count_column].count()\n",
    "    gb.fillna(0, inplace=True)\n",
    "    gb = gb.unstack(0)\n",
    "    gb.fillna(0, inplace=True)\n",
    "    gb['All'] = gb[0] + gb[1] + gb[3] + gb[4]\n",
    "    gb.sort_values('All', ascending=False, inplace=True)\n",
    "    return gb"
   ]
  },
  {
   "cell_type": "code",
   "execution_count": null,
   "metadata": {},
   "outputs": [],
   "source": [
    "groupByPivot('IP_KMean', 'AS Name','InboxID')"
   ]
  },
  {
   "cell_type": "code",
   "execution_count": null,
   "metadata": {},
   "outputs": [],
   "source": [
    "groupByPivot('IP_KMean', 'AS Number','InboxID')"
   ]
  },
  {
   "cell_type": "code",
   "execution_count": null,
   "metadata": {},
   "outputs": [],
   "source": [
    "groupByPivot('IP_KMean', 'CIDR Range','InboxID').head(20)"
   ]
  },
  {
   "cell_type": "markdown",
   "metadata": {},
   "source": [
    "## After manual review the 5 labels against the non-anomized data:\n",
    "### The follow labels can be applied:"
   ]
  },
  {
   "cell_type": "code",
   "execution_count": null,
   "metadata": {},
   "outputs": [],
   "source": [
    "manual_labels = {\n",
    "                  0:'Organic_EarlyClickers', \n",
    "                  1:'Organic_SpreadOut_MultipleDevice', \n",
    "                  2:'Mixed', \n",
    "                  3:'Organic_SpreadOut_SingleDevice', \n",
    "                  4:'BOTS', \n",
    "                }\n",
    "df_IPKMeans['Lables'] = df_IPKMeans['IP_KMean'].map(manual_labels)"
   ]
  },
  {
   "cell_type": "markdown",
   "metadata": {},
   "source": [
    "### Save lables to csv file for manual analysis with raw non-anonymized data in SQL."
   ]
  },
  {
   "cell_type": "code",
   "execution_count": null,
   "metadata": {},
   "outputs": [],
   "source": [
    "select_columns = ['IPAddress', 'IP_KMean', 'Lables']\n",
    "output = df_IPKMeans[select_columns].copy()\n",
    "output.drop_duplicates(inplace=True)\n",
    "output.to_csv('C:/data/IP_KMean_Lables.csv')\n",
    "output"
   ]
  }
 ],
 "metadata": {
  "kernelspec": {
   "display_name": "Python 3",
   "language": "python",
   "name": "python3"
  },
  "language_info": {
   "codemirror_mode": {
    "name": "ipython",
    "version": 3
   },
   "file_extension": ".py",
   "mimetype": "text/x-python",
   "name": "python",
   "nbconvert_exporter": "python",
   "pygments_lexer": "ipython3",
   "version": "3.7.4"
  }
 },
 "nbformat": 4,
 "nbformat_minor": 2
}
