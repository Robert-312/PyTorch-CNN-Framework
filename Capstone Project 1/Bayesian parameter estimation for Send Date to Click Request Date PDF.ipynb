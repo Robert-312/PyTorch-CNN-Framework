{
 "cells": [
  {
   "cell_type": "markdown",
   "metadata": {},
   "source": [
    "## Find Theoretical PDF for SendRequestSeconds  \n",
    "  \n",
    "In the main notebook, we rely heavily on this value.  The SendRequestSeconds shows how many seconds elapsed between when the email was sent to the contact and the date the click requests came in. \n",
    "  \n",
    "This is very much a skewed PDF with the bulk of the click requests coming in very soon after the message was sent.  This is somewhat expected since contact at their work desks usually see the message within a few minutes of the actual send date. \n",
    "  \n",
    "But this is also a critical feature used to help determine if the click request is from a BOT.  Since BOTs are automated, many of them will do their clicks as soon as the message arrives. \n",
    "  \n",
    "In the plots below, we see that even using a y log scale, the data is still skewed heavly to towards the send date. \n",
    "  \n",
    "In the main notebook, we use a natural log to tame this feature down and this approach seems to work well. \n",
    "  \n",
    "But here are looking to see if we can predict the theoretical PDF using Bayesian poster parameters and pymc3. \n",
    "  \n",
    "Chances are, the PDF is an exponential-decay based PDF.  But we will use the Gamma distribution here to give us a bit more flexibility.   "
   ]
  },
  {
   "cell_type": "code",
   "execution_count": 1,
   "metadata": {},
   "outputs": [],
   "source": [
    "import pymc3 as pm\n",
    "import pandas as pd\n",
    "import numpy as np\n",
    "from numpy.random import seed\n",
    "import matplotlib.pyplot as plt\n",
    "from scipy.stats import expon, gamma "
   ]
  },
  {
   "cell_type": "markdown",
   "metadata": {},
   "source": [
    "## Load Dataset From BotDataSet class"
   ]
  },
  {
   "cell_type": "code",
   "execution_count": 2,
   "metadata": {},
   "outputs": [],
   "source": [
    "exec(open(\"BotDataSet.py\").read())"
   ]
  },
  {
   "cell_type": "code",
   "execution_count": 3,
   "metadata": {},
   "outputs": [],
   "source": [
    "botDataSet = BotDataSet()\n",
    "botDataSet.loadCSV('C:/data/C1D499D6-AA43-9ABA-4EFD-0D97D0A33BE8.csv')\n",
    "df = botDataSet.df"
   ]
  },
  {
   "cell_type": "code",
   "execution_count": 4,
   "metadata": {},
   "outputs": [],
   "source": [
    "SendRequestSeconds = df.SendRequestSeconds.values #Send to Click Time"
   ]
  },
  {
   "cell_type": "code",
   "execution_count": 5,
   "metadata": {},
   "outputs": [
    {
     "data": {
      "image/png": "[encoded data removed]",
      "text/plain": [
       "<Figure size 432x288 with 1 Axes>"
      ]
     },
     "metadata": {
      "needs_background": "light"
     },
     "output_type": "display_data"
    }
   ],
   "source": [
    "plt.hist(SendRequestSeconds, bins=30, alpha=0.5, label='Send to Click Time', color='b')\n",
    "plt.xlabel('Duration Between Send and Click Request (sec)')\n",
    "plt.ylabel('Log of Frequency')\n",
    "plt.yscale('log', nonposy='clip')\n",
    "plt.legend()\n",
    "plt.show()"
   ]
  },
  {
   "cell_type": "markdown",
   "metadata": {},
   "source": [
    "### Not even a log scale can flatten the histogram\n",
    "### Lets see if we can fit this with a Gamma function"
   ]
  },
  {
   "cell_type": "code",
   "execution_count": 6,
   "metadata": {},
   "outputs": [
    {
     "data": {
      "text/plain": [
       "(0.15233591885937647, 106400.81917112328)"
      ]
     },
     "execution_count": 6,
     "metadata": {},
     "output_type": "execute_result"
    }
   ],
   "source": [
    "alpha_est = np.mean(SendRequestSeconds)**2 / np.var(SendRequestSeconds)\n",
    "beta_est = np.var(SendRequestSeconds) / np.mean(SendRequestSeconds)\n",
    "alpha_est, beta_est"
   ]
  },
  {
   "cell_type": "code",
   "execution_count": 7,
   "metadata": {},
   "outputs": [],
   "source": [
    "seed(42)\n",
    "# beta_est = beta_est * 1.7\n",
    "gamma_simulation = gamma(alpha_est, scale=beta_est).rvs(len(SendRequestSeconds))\n",
    "# Dataframe was terminated about 2 days after the send, so lets apply the same date range to our simulation\n",
    "max_SendRequestSeconds = SendRequestSeconds.max()\n",
    "gamma_simulation_truncated = gamma_simulation[gamma_simulation < max_SendRequestSeconds]"
   ]
  },
  {
   "cell_type": "code",
   "execution_count": 8,
   "metadata": {},
   "outputs": [
    {
     "data": {
      "image/png": "[encoded data removed]",
      "text/plain": [
       "<Figure size 432x288 with 1 Axes>"
      ]
     },
     "metadata": {
      "needs_background": "light"
     },
     "output_type": "display_data"
    }
   ],
   "source": [
    "plt.hist(gamma_simulation_truncated, bins=30, alpha=0.5, label='Simulated', color='r')\n",
    "plt.hist(SendRequestSeconds, bins=30, alpha=0.3, label='Send to Click Times (Observed)', color='b')\n",
    "plt.xlabel('Duration Between Send and Click Request (sec)')\n",
    "plt.ylabel('Log of Frequency')\n",
    "plt.yscale('log', nonposy='clip')\n",
    "plt.legend()\n",
    "plt.show()"
   ]
  },
  {
   "cell_type": "markdown",
   "metadata": {},
   "source": [
    "Not too bad, but we can see the dataset histogram flattens out more that the simulated values near the end"
   ]
  },
  {
   "cell_type": "markdown",
   "metadata": {},
   "source": [
    "### Use pymc3 to see if we can find better parameters for alpha and beta \n",
    "  \n",
    "Alpha < 1 is going to give us the exponential distribution from the Gamma function.  So, we don't want to stray far from this value since the simulation was very good on the early part of the curves \n",
    "  \n",
    "Beta is the main thing we want to adjust in our simulation.  But here we also don't want to stray too far the estimate.  A few manual runs of the simulation show that doubling the beta value looks better.  So, we test ranges from 90% to 300% of the estimated beta value. "
   ]
  },
  {
   "cell_type": "code",
   "execution_count": 9,
   "metadata": {},
   "outputs": [
    {
     "name": "stderr",
     "output_type": "stream",
     "text": [
      "Multiprocess sampling (4 chains in 4 jobs)\n",
      "CompoundStep\n",
      ">Metropolis: [beta_]\n",
      ">Metropolis: [alpha_]\n",
      "Sampling 4 chains, 0 divergences: 100%|██████████| 42000/42000 [00:10<00:00, 3848.27draws/s]\n"
     ]
    }
   ],
   "source": [
    "alpha_range_min = alpha_est*.9\n",
    "alpha_range_max = alpha_est*1.3\n",
    "beta_range_min = beta_est*.9\n",
    "beta_range_max = beta_est*3\n",
    "with pm.Model() as model:\n",
    "    \n",
    "    alpha_ = pm.Uniform('alpha_', alpha_range_min, alpha_range_max)\n",
    "    beta_ = pm.Uniform('beta_', beta_range_min, beta_range_max)\n",
    "    \n",
    "    model_gamma = pm.Gamma('model_gamma', alpha=alpha_est, beta=beta_, observed=SendRequestSeconds)\n",
    "    \n",
    "    trace = pm.sample(10000, step=pm.Metropolis([alpha_, beta_]))\n",
    "    \n",
    "    "
   ]
  },
  {
   "cell_type": "code",
   "execution_count": 10,
   "metadata": {},
   "outputs": [
    {
     "name": "stdout",
     "output_type": "stream",
     "text": [
      "alpha:  0.16756951074531407 [0.16756951 0.16756951]\n",
      "beta:  207481.59738369047 [207481.59738369 207481.59738369]\n"
     ]
    }
   ],
   "source": [
    "alpha_trace = trace['alpha_']\n",
    "alpha_trace_mean = np.mean(alpha_trace)\n",
    "alpha_trace_95 = np.percentile(alpha_trace, [2.5, 97.5])\n",
    "print('alpha: ', alpha_trace_mean, alpha_trace_95)\n",
    "beta_trace = trace['beta_']\n",
    "beta_trace_mean = np.mean(beta_trace)\n",
    "beta_trace_95 = np.percentile(beta_trace, [2.5, 97.5])\n",
    "print('beta: ', beta_trace_mean, beta_trace_95)"
   ]
  },
  {
   "cell_type": "markdown",
   "metadata": {},
   "source": [
    "### Use the means of the modeled alpha and beta values discovered via Bayesian posterior ranges. "
   ]
  },
  {
   "cell_type": "code",
   "execution_count": 11,
   "metadata": {},
   "outputs": [],
   "source": [
    "gamma_simulation = gamma(alpha_trace_mean, scale=beta_trace_mean).rvs(len(SendRequestSeconds))\n",
    "#again, we want to match the x axis range with the observed range \n",
    "gamma_simulation = gamma_simulation[gamma_simulation < max_SendRequestSeconds]"
   ]
  },
  {
   "cell_type": "code",
   "execution_count": 12,
   "metadata": {},
   "outputs": [
    {
     "data": {
      "image/png": "[encoded data removed]",
      "text/plain": [
       "<Figure size 432x288 with 1 Axes>"
      ]
     },
     "metadata": {
      "needs_background": "light"
     },
     "output_type": "display_data"
    }
   ],
   "source": [
    "plt.hist(gamma_simulation, bins=30, alpha=0.2, label='Simulated', color='r')\n",
    "plt.hist(SendRequestSeconds, bins=30, alpha=0.3, label='Send to Click Times (Observed)', color='b')\n",
    "plt.xlabel('Duration Between Send and Click Request (sec)')\n",
    "plt.ylabel('Log of Frequency')\n",
    "plt.yscale('log', nonposy='clip')\n",
    "plt.legend()\n",
    "plt.show()"
   ]
  },
  {
   "cell_type": "markdown",
   "metadata": {},
   "source": [
    "### Results:  \n",
    "The simulated Gamma function matches very well with the trend of the observed data.  Our first gamma_simulation only using the formulas to estimate alpha and beta looks like a better fit, but it also looks like there might be some over-fitting which tries to adjust for the dips in the observed data \n",
    "   \n",
    "But there are 3 dips in the observed data not seen in the Gamma function.    \n",
    "The first impressions would be that we don't want to see these dips in the simulated (or predictive) distribution.  Chances are, this would be over-fitting the data.  It would also mean that we would need to find a multi-modal PDF.  \n",
    "   \n",
    "Let's see if we find explanation for the dips.  Since this is click data, if these 3 dips correlate to times of the day where we would expect lower than normal click volumes, it would be another factor effecting this distribution.    "
   ]
  },
  {
   "cell_type": "code",
   "execution_count": 13,
   "metadata": {},
   "outputs": [
    {
     "name": "stdout",
     "output_type": "stream",
     "text": [
      "2020-01-18 04:29:40\n",
      "2020-01-19 02:43:00\n",
      "2020-01-20 06:29:40\n",
      "2020-01-21 04:43:00\n"
     ]
    }
   ],
   "source": [
    "from datetime import datetime  \n",
    "from datetime import timedelta  \n",
    "\n",
    "estimated_dip_centers = [timedelta(seconds=70000), timedelta(seconds=150000), timedelta(seconds=250000), timedelta(seconds=330000)]\n",
    "first_send_date = df.SendDate.min()\n",
    "for dd in estimated_dip_centers:\n",
    "    print(first_send_date + dd)"
   ]
  },
  {
   "cell_type": "markdown",
   "metadata": {},
   "source": [
    "These dips look to be at night.  There are not exact since contacts are distributor over multiple time zones, but this shows that these dips are probably associated lower click volumes associated with off hours for the bulk of contacts.  \n",
    "  \n",
    "So, the discovered alpha and beta parameters shows the theoretical PDF for.  Overlaid on this PDF is another feature additive to this PDF that adjusts for lower click volumes after hours.  This second distribution's PDF could be discovered using similar techniques but would probably require additional data to get an accurate UTC activity curve. "
   ]
  },
  {
   "cell_type": "markdown",
   "metadata": {},
   "source": [
    "### Below is the theoretical Gamma PDF without using a log y-axis:"
   ]
  },
  {
   "cell_type": "code",
   "execution_count": 15,
   "metadata": {},
   "outputs": [
    {
     "data": {
      "image/png": "[encoded data removed]",
      "text/plain": [
       "<Figure size 432x288 with 1 Axes>"
      ]
     },
     "metadata": {
      "needs_background": "light"
     },
     "output_type": "display_data"
    }
   ],
   "source": [
    "plt.hist(gamma_simulation, bins=100, alpha=0.2, label='Simulated', color='black')\n",
    "plt.xlabel('Duration Between Send and Click Request (sec)')\n",
    "plt.ylabel('Frequency')\n",
    "plt.legend()\n",
    "plt.show()"
   ]
  }
 ],
 "metadata": {
  "kernelspec": {
   "display_name": "Python 3",
   "language": "python",
   "name": "python3"
  },
  "language_info": {
   "codemirror_mode": {
    "name": "ipython",
    "version": 3
   },
   "file_extension": ".py",
   "mimetype": "text/x-python",
   "name": "python",
   "nbconvert_exporter": "python",
   "pygments_lexer": "ipython3",
   "version": "3.7.4"
  }
 },
 "nbformat": 4,
 "nbformat_minor": 2
}
