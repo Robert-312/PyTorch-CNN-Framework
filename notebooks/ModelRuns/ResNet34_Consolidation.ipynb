{
 "cells": [
  {
   "cell_type": "code",
   "execution_count": 1,
   "metadata": {},
   "outputs": [],
   "source": [
    "save_name = 'ResNet34_Consolidation'"
   ]
  },
  {
   "cell_type": "code",
   "execution_count": 2,
   "metadata": {},
   "outputs": [
    {
     "name": "stdout",
     "output_type": "stream",
     "text": [
      "Current Working Dir:  C:\\git\\Springboard-Public\\Capstone Project 2\\notebooks\\ModelRuns\n",
      "Root Path:  C:/git/Springboard-Public/Capstone Project 2/\n"
     ]
    }
   ],
   "source": [
    "import sys\n",
    "import os, os.path\n",
    "\n",
    "sys.path.append(os.path.join(os.getcwd() ,'/modules'))\n",
    "root_path = \"C:/git/Springboard-Public/Capstone Project 2/\"\n",
    "IN_COLAB = 'google.colab' in sys.modules\n",
    "if IN_COLAB:\n",
    "    from google.colab import drive\n",
    "    drive.mount('/content/drive')\n",
    "    root_path = \"/content/drive/My Drive/Capstone Project 2/\"\n",
    "\n",
    "print('Current Working Dir: ', os.getcwd())\n",
    "print('Root Path: ', root_path)\n",
    "\n",
    "# We need to set the working directory since we are using relative paths from various locations\n",
    "if os.getcwd() != root_path:\n",
    "  os.chdir(root_path)"
   ]
  },
  {
   "cell_type": "code",
   "execution_count": 3,
   "metadata": {},
   "outputs": [],
   "source": [
    "from modules.lib.StandardTraining import *\n",
    "from modules.models.ResNet import ResNet_GrayScale\n",
    "\n",
    "from torchsummary import summary\n",
    "\n",
    "# os.environ['CUDA_LAUNCH_BLOCKING'] = \"1\"\n",
    "\n",
    "%matplotlib inline"
   ]
  },
  {
   "cell_type": "code",
   "execution_count": 4,
   "metadata": {},
   "outputs": [
    {
     "name": "stdout",
     "output_type": "stream",
     "text": [
      "Working on device=cuda\n"
     ]
    }
   ],
   "source": [
    "force_cpu = True\n",
    "device = torch.device('cuda' if ~force_cpu and torch.cuda.is_available() else 'cpu')\n",
    "# Assume that we are on a CUDA machine, then this should print a CUDA device:\n",
    "print(f'Working on device={device}')"
   ]
  },
  {
   "cell_type": "code",
   "execution_count": 5,
   "metadata": {
    "scrolled": false
   },
   "outputs": [
    {
     "name": "stdout",
     "output_type": "stream",
     "text": [
      "----------------------------------------------------------------\n",
      "        Layer (type)               Output Shape         Param #\n",
      "================================================================\n",
      "            Conv2d-1         [-1, 64, 160, 160]           3,136\n",
      "       BatchNorm2d-2         [-1, 64, 160, 160]             128\n",
      "              ReLU-3         [-1, 64, 160, 160]               0\n",
      "         MaxPool2d-4           [-1, 64, 80, 80]               0\n",
      "            Conv2d-5           [-1, 64, 80, 80]          36,864\n",
      "       BatchNorm2d-6           [-1, 64, 80, 80]             128\n",
      "              ReLU-7           [-1, 64, 80, 80]               0\n",
      "            Conv2d-8           [-1, 64, 80, 80]          36,864\n",
      "       BatchNorm2d-9           [-1, 64, 80, 80]             128\n",
      "             ReLU-10           [-1, 64, 80, 80]               0\n",
      "       BasicBlock-11           [-1, 64, 80, 80]               0\n",
      "           Conv2d-12           [-1, 64, 80, 80]          36,864\n",
      "      BatchNorm2d-13           [-1, 64, 80, 80]             128\n",
      "             ReLU-14           [-1, 64, 80, 80]               0\n",
      "           Conv2d-15           [-1, 64, 80, 80]          36,864\n",
      "      BatchNorm2d-16           [-1, 64, 80, 80]             128\n",
      "             ReLU-17           [-1, 64, 80, 80]               0\n",
      "       BasicBlock-18           [-1, 64, 80, 80]               0\n",
      "           Conv2d-19           [-1, 64, 80, 80]          36,864\n",
      "      BatchNorm2d-20           [-1, 64, 80, 80]             128\n",
      "             ReLU-21           [-1, 64, 80, 80]               0\n",
      "           Conv2d-22           [-1, 64, 80, 80]          36,864\n",
      "      BatchNorm2d-23           [-1, 64, 80, 80]             128\n",
      "             ReLU-24           [-1, 64, 80, 80]               0\n",
      "       BasicBlock-25           [-1, 64, 80, 80]               0\n",
      "           Conv2d-26          [-1, 128, 40, 40]          73,728\n",
      "      BatchNorm2d-27          [-1, 128, 40, 40]             256\n",
      "             ReLU-28          [-1, 128, 40, 40]               0\n",
      "           Conv2d-29          [-1, 128, 40, 40]         147,456\n",
      "      BatchNorm2d-30          [-1, 128, 40, 40]             256\n",
      "           Conv2d-31          [-1, 128, 40, 40]           8,192\n",
      "      BatchNorm2d-32          [-1, 128, 40, 40]             256\n",
      "             ReLU-33          [-1, 128, 40, 40]               0\n",
      "       BasicBlock-34          [-1, 128, 40, 40]               0\n",
      "           Conv2d-35          [-1, 128, 40, 40]         147,456\n",
      "      BatchNorm2d-36          [-1, 128, 40, 40]             256\n",
      "             ReLU-37          [-1, 128, 40, 40]               0\n",
      "           Conv2d-38          [-1, 128, 40, 40]         147,456\n",
      "      BatchNorm2d-39          [-1, 128, 40, 40]             256\n",
      "             ReLU-40          [-1, 128, 40, 40]               0\n",
      "       BasicBlock-41          [-1, 128, 40, 40]               0\n",
      "           Conv2d-42          [-1, 128, 40, 40]         147,456\n",
      "      BatchNorm2d-43          [-1, 128, 40, 40]             256\n",
      "             ReLU-44          [-1, 128, 40, 40]               0\n",
      "           Conv2d-45          [-1, 128, 40, 40]         147,456\n",
      "      BatchNorm2d-46          [-1, 128, 40, 40]             256\n",
      "             ReLU-47          [-1, 128, 40, 40]               0\n",
      "       BasicBlock-48          [-1, 128, 40, 40]               0\n",
      "           Conv2d-49          [-1, 128, 40, 40]         147,456\n",
      "      BatchNorm2d-50          [-1, 128, 40, 40]             256\n",
      "             ReLU-51          [-1, 128, 40, 40]               0\n",
      "           Conv2d-52          [-1, 128, 40, 40]         147,456\n",
      "      BatchNorm2d-53          [-1, 128, 40, 40]             256\n",
      "             ReLU-54          [-1, 128, 40, 40]               0\n",
      "       BasicBlock-55          [-1, 128, 40, 40]               0\n",
      "           Conv2d-56          [-1, 256, 20, 20]         294,912\n",
      "      BatchNorm2d-57          [-1, 256, 20, 20]             512\n",
      "             ReLU-58          [-1, 256, 20, 20]               0\n",
      "           Conv2d-59          [-1, 256, 20, 20]         589,824\n",
      "      BatchNorm2d-60          [-1, 256, 20, 20]             512\n",
      "           Conv2d-61          [-1, 256, 20, 20]          32,768\n",
      "      BatchNorm2d-62          [-1, 256, 20, 20]             512\n",
      "             ReLU-63          [-1, 256, 20, 20]               0\n",
      "       BasicBlock-64          [-1, 256, 20, 20]               0\n",
      "           Conv2d-65          [-1, 256, 20, 20]         589,824\n",
      "      BatchNorm2d-66          [-1, 256, 20, 20]             512\n",
      "             ReLU-67          [-1, 256, 20, 20]               0\n",
      "           Conv2d-68          [-1, 256, 20, 20]         589,824\n",
      "      BatchNorm2d-69          [-1, 256, 20, 20]             512\n",
      "             ReLU-70          [-1, 256, 20, 20]               0\n",
      "       BasicBlock-71          [-1, 256, 20, 20]               0\n",
      "           Conv2d-72          [-1, 256, 20, 20]         589,824\n",
      "      BatchNorm2d-73          [-1, 256, 20, 20]             512\n",
      "             ReLU-74          [-1, 256, 20, 20]               0\n",
      "           Conv2d-75          [-1, 256, 20, 20]         589,824\n",
      "      BatchNorm2d-76          [-1, 256, 20, 20]             512\n",
      "             ReLU-77          [-1, 256, 20, 20]               0\n",
      "       BasicBlock-78          [-1, 256, 20, 20]               0\n",
      "           Conv2d-79          [-1, 256, 20, 20]         589,824\n",
      "      BatchNorm2d-80          [-1, 256, 20, 20]             512\n",
      "             ReLU-81          [-1, 256, 20, 20]               0\n",
      "           Conv2d-82          [-1, 256, 20, 20]         589,824\n",
      "      BatchNorm2d-83          [-1, 256, 20, 20]             512\n",
      "             ReLU-84          [-1, 256, 20, 20]               0\n",
      "       BasicBlock-85          [-1, 256, 20, 20]               0\n",
      "           Conv2d-86          [-1, 256, 20, 20]         589,824\n",
      "      BatchNorm2d-87          [-1, 256, 20, 20]             512\n",
      "             ReLU-88          [-1, 256, 20, 20]               0\n",
      "           Conv2d-89          [-1, 256, 20, 20]         589,824\n",
      "      BatchNorm2d-90          [-1, 256, 20, 20]             512\n",
      "             ReLU-91          [-1, 256, 20, 20]               0\n",
      "       BasicBlock-92          [-1, 256, 20, 20]               0\n",
      "           Conv2d-93          [-1, 256, 20, 20]         589,824\n",
      "      BatchNorm2d-94          [-1, 256, 20, 20]             512\n",
      "             ReLU-95          [-1, 256, 20, 20]               0\n",
      "           Conv2d-96          [-1, 256, 20, 20]         589,824\n",
      "      BatchNorm2d-97          [-1, 256, 20, 20]             512\n",
      "             ReLU-98          [-1, 256, 20, 20]               0\n",
      "       BasicBlock-99          [-1, 256, 20, 20]               0\n",
      "          Conv2d-100          [-1, 512, 10, 10]       1,179,648\n",
      "     BatchNorm2d-101          [-1, 512, 10, 10]           1,024\n",
      "            ReLU-102          [-1, 512, 10, 10]               0\n",
      "          Conv2d-103          [-1, 512, 10, 10]       2,359,296\n",
      "     BatchNorm2d-104          [-1, 512, 10, 10]           1,024\n",
      "          Conv2d-105          [-1, 512, 10, 10]         131,072\n",
      "     BatchNorm2d-106          [-1, 512, 10, 10]           1,024\n",
      "            ReLU-107          [-1, 512, 10, 10]               0\n",
      "      BasicBlock-108          [-1, 512, 10, 10]               0\n",
      "          Conv2d-109          [-1, 512, 10, 10]       2,359,296\n",
      "     BatchNorm2d-110          [-1, 512, 10, 10]           1,024\n",
      "            ReLU-111          [-1, 512, 10, 10]               0\n",
      "          Conv2d-112          [-1, 512, 10, 10]       2,359,296\n",
      "     BatchNorm2d-113          [-1, 512, 10, 10]           1,024\n",
      "            ReLU-114          [-1, 512, 10, 10]               0\n",
      "      BasicBlock-115          [-1, 512, 10, 10]               0\n",
      "          Conv2d-116          [-1, 512, 10, 10]       2,359,296\n",
      "     BatchNorm2d-117          [-1, 512, 10, 10]           1,024\n",
      "            ReLU-118          [-1, 512, 10, 10]               0\n",
      "          Conv2d-119          [-1, 512, 10, 10]       2,359,296\n",
      "     BatchNorm2d-120          [-1, 512, 10, 10]           1,024\n",
      "            ReLU-121          [-1, 512, 10, 10]               0\n",
      "      BasicBlock-122          [-1, 512, 10, 10]               0\n",
      "AdaptiveAvgPool2d-123            [-1, 512, 1, 1]               0\n",
      "       Dropout2d-124                 [-1, 1000]               0\n"
     ]
    },
    {
     "name": "stdout",
     "output_type": "stream",
     "text": [
      "          Linear-125                 [-1, 1000]         513,000\n",
      "          ResNet-126                 [-1, 1000]               0\n",
      "          Linear-127                    [-1, 1]           1,001\n",
      "ResNet_GrayScale-128                    [-1, 1]               0\n",
      "================================================================\n",
      "Total params: 21,792,401\n",
      "Trainable params: 21,792,401\n",
      "Non-trainable params: 0\n",
      "----------------------------------------------------------------\n",
      "Input size (MB): 0.39\n",
      "Forward/backward pass size (MB): 196.51\n",
      "Params size (MB): 83.13\n",
      "Estimated Total Size (MB): 280.03\n",
      "----------------------------------------------------------------\n"
     ]
    }
   ],
   "source": [
    "training_columns = ['Consolidation']\n",
    "out_channels=len(training_columns)\n",
    "net_kwargs = {'layers':34, 'drop_out_precent':.5, 'out_channels':out_channels} #18, 34, 50, 101, 152\n",
    "net = ResNet_GrayScale(**net_kwargs) \n",
    "\n",
    "net = nn.DataParallel(net)\n",
    "net.to(device)\n",
    "\n",
    "\n",
    "summary(net, (1, 320, 320))   "
   ]
  },
  {
   "cell_type": "code",
   "execution_count": 6,
   "metadata": {},
   "outputs": [
    {
     "name": "stdout",
     "output_type": "stream",
     "text": [
      "Number of Training Images: 105,253\n",
      "Number of Validation Images: 26,495\n"
     ]
    }
   ],
   "source": [
    "standardTraining = StandardTraining(number_images=0, \n",
    "                                     batch_size=64, \n",
    "                                     learning_rate=1e-5, \n",
    "                                     num_epochs=1,\n",
    "                                     device=device, \n",
    "                                     net=net,\n",
    "                                     target_columns=training_columns,\n",
    "                                     save_path= f'notebooks/ModelRuns/saved/{save_name}/',\n",
    "                                     net_name = 'ResNet_GrayScale',\n",
    "                                     net_kwargs = net_kwargs)"
   ]
  },
  {
   "cell_type": "code",
   "execution_count": 7,
   "metadata": {
    "scrolled": false
   },
   "outputs": [
    {
     "name": "stdout",
     "output_type": "stream",
     "text": [
      "▃▃▃▃▃▃▃▃▃▃▃▃▃▃▃▃▃▃▃▃▃▃▃▃▃▃▃▃▃▃▃▃▃▃▃▃▃▃▃▃▃▃▃▃▃▃▃▃▃▃\n",
      "Epoch [1/1]\n",
      "▔▔▔▔▔▔▔▔▔▔▔▔▔▔▔▔▔▔▔▔▔▔▔▔▔▔▔▔▔▔▔▔▔▔▔▔▔▔▔▔▔▔▔▔▔▔▔▔▔▔\n",
      "▔▔▔▔▔▔▔▔▔▔▔▔▔▔▔▔▔▔▔▔▔▔▔▔▔▔▔▔▔▔▔▔▔▔▔▔▔▔▔▔▔▔▔▔▔▔▔▔▔▔\n",
      "Epoch Loss: 379.3863         \n",
      "Time of Completion: 2020-08-03 22:36:43.913602          \n",
      "Training Duration: 0:17:27.781509          \n",
      "Validation Duration: 0:02:13.253013\n",
      "\n",
      "TRAINING\n",
      "\n",
      "▔▔▔▔▔\n"
     ]
    },
    {
     "data": {
      "text/html": [
       "<div>\n",
       "<style scoped>\n",
       "    .dataframe tbody tr th:only-of-type {\n",
       "        vertical-align: middle;\n",
       "    }\n",
       "\n",
       "    .dataframe tbody tr th {\n",
       "        vertical-align: top;\n",
       "    }\n",
       "\n",
       "    .dataframe thead th {\n",
       "        text-align: right;\n",
       "    }\n",
       "</style>\n",
       "<table border=\"1\" class=\"dataframe\">\n",
       "  <thead>\n",
       "    <tr style=\"text-align: right;\">\n",
       "      <th></th>\n",
       "      <th>Target</th>\n",
       "      <th>True Positives</th>\n",
       "      <th>Predicted Positives</th>\n",
       "      <th>Recall</th>\n",
       "      <th>Precision</th>\n",
       "      <th>F1</th>\n",
       "      <th>ROC AUC</th>\n",
       "      <th>Avg Precision</th>\n",
       "    </tr>\n",
       "  </thead>\n",
       "  <tbody>\n",
       "    <tr>\n",
       "      <td>0</td>\n",
       "      <td>Consolidation</td>\n",
       "      <td>6356</td>\n",
       "      <td>174</td>\n",
       "      <td>0.998362</td>\n",
       "      <td>0.939626</td>\n",
       "      <td>0.968104</td>\n",
       "      <td>0.577671</td>\n",
       "      <td>0.076131</td>\n",
       "    </tr>\n",
       "  </tbody>\n",
       "</table>\n",
       "</div>"
      ],
      "text/plain": [
       "          Target  True Positives  Predicted Positives    Recall  Precision  \\\n",
       "0  Consolidation            6356                  174  0.998362   0.939626   \n",
       "\n",
       "         F1   ROC AUC  Avg Precision  \n",
       "0  0.968104  0.577671       0.076131  "
      ]
     },
     "metadata": {},
     "output_type": "display_data"
    },
    {
     "name": "stdout",
     "output_type": "stream",
     "text": [
      "\n",
      "VALIDATION\n",
      "\n",
      "▔▔▔▔▔▔▔\n"
     ]
    },
    {
     "data": {
      "text/html": [
       "<div>\n",
       "<style scoped>\n",
       "    .dataframe tbody tr th:only-of-type {\n",
       "        vertical-align: middle;\n",
       "    }\n",
       "\n",
       "    .dataframe tbody tr th {\n",
       "        vertical-align: top;\n",
       "    }\n",
       "\n",
       "    .dataframe thead th {\n",
       "        text-align: right;\n",
       "    }\n",
       "</style>\n",
       "<table border=\"1\" class=\"dataframe\">\n",
       "  <thead>\n",
       "    <tr style=\"text-align: right;\">\n",
       "      <th></th>\n",
       "      <th>Target</th>\n",
       "      <th>True Positives</th>\n",
       "      <th>Predicted Positives</th>\n",
       "      <th>Recall</th>\n",
       "      <th>Precision</th>\n",
       "      <th>F1</th>\n",
       "      <th>ROC AUC</th>\n",
       "      <th>Avg Precision</th>\n",
       "    </tr>\n",
       "  </thead>\n",
       "  <tbody>\n",
       "    <tr>\n",
       "      <td>0</td>\n",
       "      <td>Consolidation</td>\n",
       "      <td>1567</td>\n",
       "      <td>0</td>\n",
       "      <td>1.0</td>\n",
       "      <td>0.940857</td>\n",
       "      <td>0.969527</td>\n",
       "      <td>0.636682</td>\n",
       "      <td>0.092517</td>\n",
       "    </tr>\n",
       "  </tbody>\n",
       "</table>\n",
       "</div>"
      ],
      "text/plain": [
       "          Target  True Positives  Predicted Positives  Recall  Precision  \\\n",
       "0  Consolidation            1567                    0     1.0   0.940857   \n",
       "\n",
       "         F1   ROC AUC  Avg Precision  \n",
       "0  0.969527  0.636682       0.092517  "
      ]
     },
     "metadata": {},
     "output_type": "display_data"
    },
    {
     "name": "stdout",
     "output_type": "stream",
     "text": [
      "Training Duration: 0:19:41.183102\n"
     ]
    }
   ],
   "source": [
    "standardTraining.train()"
   ]
  },
  {
   "cell_type": "code",
   "execution_count": 8,
   "metadata": {
    "scrolled": false
   },
   "outputs": [
    {
     "name": "stdout",
     "output_type": "stream",
     "text": [
      "\n",
      "TRAINING\n",
      "\n",
      "▔▔▔▔▔\n"
     ]
    },
    {
     "data": {
      "text/html": [
       "<div>\n",
       "<style scoped>\n",
       "    .dataframe tbody tr th:only-of-type {\n",
       "        vertical-align: middle;\n",
       "    }\n",
       "\n",
       "    .dataframe tbody tr th {\n",
       "        vertical-align: top;\n",
       "    }\n",
       "\n",
       "    .dataframe thead th {\n",
       "        text-align: right;\n",
       "    }\n",
       "</style>\n",
       "<table border=\"1\" class=\"dataframe\">\n",
       "  <thead>\n",
       "    <tr style=\"text-align: right;\">\n",
       "      <th></th>\n",
       "      <th>Score for all Targets</th>\n",
       "    </tr>\n",
       "  </thead>\n",
       "  <tbody>\n",
       "    <tr>\n",
       "      <td>Accuracy Score</td>\n",
       "      <td>0.938187</td>\n",
       "    </tr>\n",
       "    <tr>\n",
       "      <td>Hamming Loss</td>\n",
       "      <td>0.061813</td>\n",
       "    </tr>\n",
       "    <tr>\n",
       "      <td>Hamming Accuracy</td>\n",
       "      <td>0.938187</td>\n",
       "    </tr>\n",
       "    <tr>\n",
       "      <td>Combined Recall</td>\n",
       "      <td>0.998362</td>\n",
       "    </tr>\n",
       "    <tr>\n",
       "      <td>Combined Precision</td>\n",
       "      <td>0.939626</td>\n",
       "    </tr>\n",
       "    <tr>\n",
       "      <td>Combined F1</td>\n",
       "      <td>0.968104</td>\n",
       "    </tr>\n",
       "  </tbody>\n",
       "</table>\n",
       "</div>"
      ],
      "text/plain": [
       "                    Score for all Targets\n",
       "Accuracy Score                   0.938187\n",
       "Hamming Loss                     0.061813\n",
       "Hamming Accuracy                 0.938187\n",
       "Combined Recall                  0.998362\n",
       "Combined Precision               0.939626\n",
       "Combined F1                      0.968104"
      ]
     },
     "metadata": {},
     "output_type": "display_data"
    },
    {
     "data": {
      "text/html": [
       "<div>\n",
       "<style scoped>\n",
       "    .dataframe tbody tr th:only-of-type {\n",
       "        vertical-align: middle;\n",
       "    }\n",
       "\n",
       "    .dataframe tbody tr th {\n",
       "        vertical-align: top;\n",
       "    }\n",
       "\n",
       "    .dataframe thead th {\n",
       "        text-align: right;\n",
       "    }\n",
       "</style>\n",
       "<table border=\"1\" class=\"dataframe\">\n",
       "  <thead>\n",
       "    <tr style=\"text-align: right;\">\n",
       "      <th></th>\n",
       "      <th>Target</th>\n",
       "      <th>True Positives</th>\n",
       "      <th>Predicted Positives</th>\n",
       "      <th>Recall</th>\n",
       "      <th>Precision</th>\n",
       "      <th>F1</th>\n",
       "      <th>ROC AUC</th>\n",
       "      <th>Avg Precision</th>\n",
       "    </tr>\n",
       "  </thead>\n",
       "  <tbody>\n",
       "    <tr>\n",
       "      <td>0</td>\n",
       "      <td>Consolidation</td>\n",
       "      <td>6356</td>\n",
       "      <td>174</td>\n",
       "      <td>0.998362</td>\n",
       "      <td>0.939626</td>\n",
       "      <td>0.968104</td>\n",
       "      <td>0.577671</td>\n",
       "      <td>0.076131</td>\n",
       "    </tr>\n",
       "  </tbody>\n",
       "</table>\n",
       "</div>"
      ],
      "text/plain": [
       "          Target  True Positives  Predicted Positives    Recall  Precision  \\\n",
       "0  Consolidation            6356                  174  0.998362   0.939626   \n",
       "\n",
       "         F1   ROC AUC  Avg Precision  \n",
       "0  0.968104  0.577671       0.076131  "
      ]
     },
     "metadata": {},
     "output_type": "display_data"
    },
    {
     "name": "stdout",
     "output_type": "stream",
     "text": [
      "***** ROC *****\n"
     ]
    },
    {
     "data": {
      "image/png": "[encoded data removed]",
      "text/plain": [
       "<Figure size 1440x216 with 1 Axes>"
      ]
     },
     "metadata": {
      "needs_background": "light"
     },
     "output_type": "display_data"
    },
    {
     "name": "stdout",
     "output_type": "stream",
     "text": [
      "***** Precision / Recall *****\n"
     ]
    },
    {
     "data": {
      "image/png": "[encoded data removed]",
      "text/plain": [
       "<Figure size 1440x216 with 1 Axes>"
      ]
     },
     "metadata": {
      "needs_background": "light"
     },
     "output_type": "display_data"
    },
    {
     "name": "stdout",
     "output_type": "stream",
     "text": [
      "\n",
      "VALIDATION\n",
      "\n",
      "▔▔▔▔▔▔▔\n"
     ]
    },
    {
     "data": {
      "text/html": [
       "<div>\n",
       "<style scoped>\n",
       "    .dataframe tbody tr th:only-of-type {\n",
       "        vertical-align: middle;\n",
       "    }\n",
       "\n",
       "    .dataframe tbody tr th {\n",
       "        vertical-align: top;\n",
       "    }\n",
       "\n",
       "    .dataframe thead th {\n",
       "        text-align: right;\n",
       "    }\n",
       "</style>\n",
       "<table border=\"1\" class=\"dataframe\">\n",
       "  <thead>\n",
       "    <tr style=\"text-align: right;\">\n",
       "      <th></th>\n",
       "      <th>Score for all Targets</th>\n",
       "    </tr>\n",
       "  </thead>\n",
       "  <tbody>\n",
       "    <tr>\n",
       "      <td>Accuracy Score</td>\n",
       "      <td>0.940857</td>\n",
       "    </tr>\n",
       "    <tr>\n",
       "      <td>Hamming Loss</td>\n",
       "      <td>0.059143</td>\n",
       "    </tr>\n",
       "    <tr>\n",
       "      <td>Hamming Accuracy</td>\n",
       "      <td>0.940857</td>\n",
       "    </tr>\n",
       "    <tr>\n",
       "      <td>Combined Recall</td>\n",
       "      <td>1.000000</td>\n",
       "    </tr>\n",
       "    <tr>\n",
       "      <td>Combined Precision</td>\n",
       "      <td>0.940857</td>\n",
       "    </tr>\n",
       "    <tr>\n",
       "      <td>Combined F1</td>\n",
       "      <td>0.969527</td>\n",
       "    </tr>\n",
       "  </tbody>\n",
       "</table>\n",
       "</div>"
      ],
      "text/plain": [
       "                    Score for all Targets\n",
       "Accuracy Score                   0.940857\n",
       "Hamming Loss                     0.059143\n",
       "Hamming Accuracy                 0.940857\n",
       "Combined Recall                  1.000000\n",
       "Combined Precision               0.940857\n",
       "Combined F1                      0.969527"
      ]
     },
     "metadata": {},
     "output_type": "display_data"
    },
    {
     "data": {
      "text/html": [
       "<div>\n",
       "<style scoped>\n",
       "    .dataframe tbody tr th:only-of-type {\n",
       "        vertical-align: middle;\n",
       "    }\n",
       "\n",
       "    .dataframe tbody tr th {\n",
       "        vertical-align: top;\n",
       "    }\n",
       "\n",
       "    .dataframe thead th {\n",
       "        text-align: right;\n",
       "    }\n",
       "</style>\n",
       "<table border=\"1\" class=\"dataframe\">\n",
       "  <thead>\n",
       "    <tr style=\"text-align: right;\">\n",
       "      <th></th>\n",
       "      <th>Target</th>\n",
       "      <th>True Positives</th>\n",
       "      <th>Predicted Positives</th>\n",
       "      <th>Recall</th>\n",
       "      <th>Precision</th>\n",
       "      <th>F1</th>\n",
       "      <th>ROC AUC</th>\n",
       "      <th>Avg Precision</th>\n",
       "    </tr>\n",
       "  </thead>\n",
       "  <tbody>\n",
       "    <tr>\n",
       "      <td>0</td>\n",
       "      <td>Consolidation</td>\n",
       "      <td>1567</td>\n",
       "      <td>0</td>\n",
       "      <td>1.0</td>\n",
       "      <td>0.940857</td>\n",
       "      <td>0.969527</td>\n",
       "      <td>0.636682</td>\n",
       "      <td>0.092517</td>\n",
       "    </tr>\n",
       "  </tbody>\n",
       "</table>\n",
       "</div>"
      ],
      "text/plain": [
       "          Target  True Positives  Predicted Positives  Recall  Precision  \\\n",
       "0  Consolidation            1567                    0     1.0   0.940857   \n",
       "\n",
       "         F1   ROC AUC  Avg Precision  \n",
       "0  0.969527  0.636682       0.092517  "
      ]
     },
     "metadata": {},
     "output_type": "display_data"
    },
    {
     "name": "stdout",
     "output_type": "stream",
     "text": [
      "***** ROC *****\n"
     ]
    },
    {
     "data": {
      "image/png": "[encoded data removed]",
      "text/plain": [
       "<Figure size 1440x216 with 1 Axes>"
      ]
     },
     "metadata": {
      "needs_background": "light"
     },
     "output_type": "display_data"
    },
    {
     "name": "stdout",
     "output_type": "stream",
     "text": [
      "***** Precision / Recall *****\n"
     ]
    },
    {
     "data": {
      "image/png": "[encoded data removed]",
      "text/plain": [
       "<Figure size 1440x216 with 1 Axes>"
      ]
     },
     "metadata": {
      "needs_background": "light"
     },
     "output_type": "display_data"
    }
   ],
   "source": [
    "standardTraining.displayMetrics()"
   ]
  },
  {
   "cell_type": "code",
   "execution_count": 9,
   "metadata": {
    "scrolled": false
   },
   "outputs": [
    {
     "name": "stdout",
     "output_type": "stream",
     "text": [
      "\n",
      "ACCURACY\n",
      "\n",
      "▔▔▔▔\n"
     ]
    },
    {
     "name": "stderr",
     "output_type": "stream",
     "text": [
      "C:\\Users\\youci\\AppData\\Local\\Continuum\\anaconda3\\lib\\site-packages\\pandas\\plotting\\_matplotlib\\core.py:1085: UserWarning: Attempting to set identical left == right == 1.0 results in singular transformations; automatically expanding.\n",
      "  ax.set_xlim(left, right)\n",
      "C:\\Users\\youci\\AppData\\Local\\Continuum\\anaconda3\\lib\\site-packages\\pandas\\plotting\\_matplotlib\\core.py:1085: UserWarning: Attempting to set identical left == right == 1.0 results in singular transformations; automatically expanding.\n",
      "  ax.set_xlim(left, right)\n"
     ]
    },
    {
     "data": {
      "image/png": "[encoded data removed]",
      "text/plain": [
       "<Figure size 864x288 with 2 Axes>"
      ]
     },
     "metadata": {
      "needs_background": "light"
     },
     "output_type": "display_data"
    },
    {
     "name": "stdout",
     "output_type": "stream",
     "text": [
      "\n",
      "RECALL\n",
      "\n",
      "▔▔▔\n"
     ]
    },
    {
     "name": "stderr",
     "output_type": "stream",
     "text": [
      "C:\\Users\\youci\\AppData\\Local\\Continuum\\anaconda3\\lib\\site-packages\\pandas\\plotting\\_matplotlib\\core.py:1085: UserWarning: Attempting to set identical left == right == 1.0 results in singular transformations; automatically expanding.\n",
      "  ax.set_xlim(left, right)\n",
      "C:\\Users\\youci\\AppData\\Local\\Continuum\\anaconda3\\lib\\site-packages\\pandas\\plotting\\_matplotlib\\core.py:1085: UserWarning: Attempting to set identical left == right == 1.0 results in singular transformations; automatically expanding.\n",
      "  ax.set_xlim(left, right)\n"
     ]
    },
    {
     "data": {
      "image/png": "[encoded data removed]",
      "text/plain": [
       "<Figure size 864x288 with 2 Axes>"
      ]
     },
     "metadata": {
      "needs_background": "light"
     },
     "output_type": "display_data"
    },
    {
     "name": "stdout",
     "output_type": "stream",
     "text": [
      "\n",
      "PRECISION\n",
      "\n",
      "▔▔▔▔▔▔\n"
     ]
    },
    {
     "name": "stderr",
     "output_type": "stream",
     "text": [
      "C:\\Users\\youci\\AppData\\Local\\Continuum\\anaconda3\\lib\\site-packages\\pandas\\plotting\\_matplotlib\\core.py:1085: UserWarning: Attempting to set identical left == right == 1.0 results in singular transformations; automatically expanding.\n",
      "  ax.set_xlim(left, right)\n",
      "C:\\Users\\youci\\AppData\\Local\\Continuum\\anaconda3\\lib\\site-packages\\pandas\\plotting\\_matplotlib\\core.py:1085: UserWarning: Attempting to set identical left == right == 1.0 results in singular transformations; automatically expanding.\n",
      "  ax.set_xlim(left, right)\n"
     ]
    },
    {
     "data": {
      "image/png": "[encoded data removed]",
      "text/plain": [
       "<Figure size 864x288 with 2 Axes>"
      ]
     },
     "metadata": {
      "needs_background": "light"
     },
     "output_type": "display_data"
    },
    {
     "name": "stdout",
     "output_type": "stream",
     "text": [
      "\n",
      "F1\n",
      "\n",
      "▔\n"
     ]
    },
    {
     "name": "stderr",
     "output_type": "stream",
     "text": [
      "C:\\Users\\youci\\AppData\\Local\\Continuum\\anaconda3\\lib\\site-packages\\pandas\\plotting\\_matplotlib\\core.py:1085: UserWarning: Attempting to set identical left == right == 1.0 results in singular transformations; automatically expanding.\n",
      "  ax.set_xlim(left, right)\n",
      "C:\\Users\\youci\\AppData\\Local\\Continuum\\anaconda3\\lib\\site-packages\\pandas\\plotting\\_matplotlib\\core.py:1085: UserWarning: Attempting to set identical left == right == 1.0 results in singular transformations; automatically expanding.\n",
      "  ax.set_xlim(left, right)\n"
     ]
    },
    {
     "data": {
      "image/png": "[encoded data removed]",
      "text/plain": [
       "<Figure size 864x288 with 2 Axes>"
      ]
     },
     "metadata": {
      "needs_background": "light"
     },
     "output_type": "display_data"
    },
    {
     "name": "stdout",
     "output_type": "stream",
     "text": [
      "\n",
      "ROC AUC\n",
      "\n",
      "▔▔▔▔\n"
     ]
    },
    {
     "name": "stderr",
     "output_type": "stream",
     "text": [
      "C:\\Users\\youci\\AppData\\Local\\Continuum\\anaconda3\\lib\\site-packages\\pandas\\plotting\\_matplotlib\\core.py:1085: UserWarning: Attempting to set identical left == right == 1.0 results in singular transformations; automatically expanding.\n",
      "  ax.set_xlim(left, right)\n",
      "C:\\Users\\youci\\AppData\\Local\\Continuum\\anaconda3\\lib\\site-packages\\pandas\\plotting\\_matplotlib\\core.py:1085: UserWarning: Attempting to set identical left == right == 1.0 results in singular transformations; automatically expanding.\n",
      "  ax.set_xlim(left, right)\n"
     ]
    },
    {
     "data": {
      "image/png": "[encoded data removed]",
      "text/plain": [
       "<Figure size 864x288 with 2 Axes>"
      ]
     },
     "metadata": {
      "needs_background": "light"
     },
     "output_type": "display_data"
    },
    {
     "name": "stdout",
     "output_type": "stream",
     "text": [
      "\n",
      "AVERAGE PRECISION\n",
      "\n",
      "▔▔▔▔▔▔▔▔\n"
     ]
    },
    {
     "name": "stderr",
     "output_type": "stream",
     "text": [
      "C:\\Users\\youci\\AppData\\Local\\Continuum\\anaconda3\\lib\\site-packages\\pandas\\plotting\\_matplotlib\\core.py:1085: UserWarning: Attempting to set identical left == right == 1.0 results in singular transformations; automatically expanding.\n",
      "  ax.set_xlim(left, right)\n",
      "C:\\Users\\youci\\AppData\\Local\\Continuum\\anaconda3\\lib\\site-packages\\pandas\\plotting\\_matplotlib\\core.py:1085: UserWarning: Attempting to set identical left == right == 1.0 results in singular transformations; automatically expanding.\n",
      "  ax.set_xlim(left, right)\n"
     ]
    },
    {
     "data": {
      "image/png": "[encoded data removed]",
      "text/plain": [
       "<Figure size 864x288 with 2 Axes>"
      ]
     },
     "metadata": {
      "needs_background": "light"
     },
     "output_type": "display_data"
    }
   ],
   "source": [
    "standardTraining.displayEpochProgression()"
   ]
  },
  {
   "cell_type": "code",
   "execution_count": 10,
   "metadata": {},
   "outputs": [],
   "source": [
    "standardTraining.save()"
   ]
  }
 ],
 "metadata": {
  "kernelspec": {
   "display_name": "Python 3",
   "language": "python",
   "name": "python3"
  },
  "language_info": {
   "codemirror_mode": {
    "name": "ipython",
    "version": 3
   },
   "file_extension": ".py",
   "mimetype": "text/x-python",
   "name": "python",
   "nbconvert_exporter": "python",
   "pygments_lexer": "ipython3",
   "version": "3.7.4"
  }
 },
 "nbformat": 4,
 "nbformat_minor": 2
}
