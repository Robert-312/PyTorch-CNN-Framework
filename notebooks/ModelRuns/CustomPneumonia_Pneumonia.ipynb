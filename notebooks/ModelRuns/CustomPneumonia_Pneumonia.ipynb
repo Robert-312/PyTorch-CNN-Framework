{
 "cells": [
  {
   "cell_type": "code",
   "execution_count": 1,
   "metadata": {},
   "outputs": [],
   "source": [
    "save_name = 'CustomPneumonia_Pneumonia'"
   ]
  },
  {
   "cell_type": "code",
   "execution_count": 2,
   "metadata": {
    "colab": {
     "base_uri": "https://localhost:8080/",
     "height": 70
    },
    "colab_type": "code",
    "executionInfo": {
     "elapsed": 474,
     "status": "ok",
     "timestamp": 1594662784295,
     "user": {
      "displayName": "Robert312 SpringboardDataScience",
      "photoUrl": "",
      "userId": "10605656056949109058"
     },
     "user_tz": 240
    },
    "id": "Krw97nCMqJ_-",
    "outputId": "844eca7b-4e28-4a86-e4d0-32797838aca5"
   },
   "outputs": [],
   "source": [
    "import sys\n",
    "import os, os.path\n",
    "\n",
    "sys.path.append(os.path.join(os.getcwd() ,'/modules'))\n",
    "root_path = \"C:/git/Springboard-Public/Capstone Project 2/\"\n",
    "IN_COLAB = 'google.colab' in sys.modules\n",
    "if IN_COLAB:\n",
    "    from google.colab import drive\n",
    "    drive.mount('/content/drive')\n",
    "    root_path = \"/content/drive/My Drive/Capstone Project 2/\"\n",
    "\n",
    "print('Current Working Dir: ', os.getcwd())\n",
    "print('Root Path: ', root_path)\n",
    "\n",
    "# We need to set the working directory since we are using relative paths from various locations\n",
    "if os.getcwd() != root_path:\n",
    "  os.chdir(root_path)"
   ]
  },
  {
   "cell_type": "code",
   "execution_count": 3,
   "metadata": {
    "colab": {
     "base_uri": "https://localhost:8080/",
     "height": 52
    },
    "colab_type": "code",
    "executionInfo": {
     "elapsed": 1953,
     "status": "ok",
     "timestamp": 1594662785782,
     "user": {
      "displayName": "Robert312 SpringboardDataScience",
      "photoUrl": "",
      "userId": "10605656056949109058"
     },
     "user_tz": 240
    },
    "id": "A8Bb_-Y-qKAB",
    "outputId": "904b7a21-f05b-40c2-81c1-80c9dcc995de"
   },
   "outputs": [],
   "source": [
    "from modules.lib.StandardTraining import *\n",
    "from modules.models.CustomPneumonia import CustomPneumoniaNN\n",
    "\n",
    "from torchsummary import summary\n",
    "\n",
    "# os.environ['CUDA_LAUNCH_BLOCKING'] = \"1\"\n",
    "\n",
    "%matplotlib inline"
   ]
  },
  {
   "cell_type": "code",
   "execution_count": 4,
   "metadata": {
    "colab": {
     "base_uri": "https://localhost:8080/",
     "height": 34
    },
    "colab_type": "code",
    "executionInfo": {
     "elapsed": 1948,
     "status": "ok",
     "timestamp": 1594662785783,
     "user": {
      "displayName": "Robert312 SpringboardDataScience",
      "photoUrl": "",
      "userId": "10605656056949109058"
     },
     "user_tz": 240
    },
    "id": "SBlzQJJIqKAD",
    "outputId": "130899b1-f65a-4079-8f88-65c6cb8b405f"
   },
   "outputs": [
    {
     "name": "stdout",
     "output_type": "stream",
     "text": [
      "Working on device=cuda\n"
     ]
    }
   ],
   "source": [
    "force_cpu = True\n",
    "device = torch.device('cuda' if ~force_cpu and torch.cuda.is_available() else 'cpu')\n",
    "# Assume that we are on a CUDA machine, then this should print a CUDA device:\n",
    "print(f'Working on device={device}')\n"
   ]
  },
  {
   "cell_type": "code",
   "execution_count": 5,
   "metadata": {
    "colab": {
     "base_uri": "https://localhost:8080/",
     "height": 1000
    },
    "colab_type": "code",
    "executionInfo": {
     "elapsed": 5392,
     "status": "ok",
     "timestamp": 1594662789237,
     "user": {
      "displayName": "Robert312 SpringboardDataScience",
      "photoUrl": "",
      "userId": "10605656056949109058"
     },
     "user_tz": 240
    },
    "id": "oal5V5NeqKAG",
    "outputId": "e31e58b8-d92b-4127-e716-dc231e350919"
   },
   "outputs": [
    {
     "name": "stdout",
     "output_type": "stream",
     "text": [
      "----------------------------------------------------------------\n",
      "        Layer (type)               Output Shape         Param #\n",
      "================================================================\n",
      "            Conv2d-1        [-1, 512, 224, 224]          13,312\n",
      "       BatchNorm2d-2        [-1, 512, 224, 224]           1,024\n",
      "         MaxPool2d-3        [-1, 512, 112, 112]               0\n",
      "            Conv2d-4        [-1, 256, 112, 112]       1,179,904\n",
      "       BatchNorm2d-5        [-1, 256, 112, 112]             512\n",
      "         MaxPool2d-6          [-1, 256, 56, 56]               0\n",
      "            Conv2d-7           [-1, 64, 56, 56]         147,520\n",
      "       BatchNorm2d-8           [-1, 64, 56, 56]             128\n",
      "         MaxPool2d-9           [-1, 64, 28, 28]               0\n",
      "           Linear-10                 [-1, 1024]      51,381,248\n",
      "          Dropout-11                 [-1, 1024]               0\n",
      "           Linear-12                  [-1, 512]         524,800\n",
      "          Dropout-13                  [-1, 512]               0\n",
      "           Linear-14                    [-1, 1]             513\n",
      "CustomPneumoniaNN-15                    [-1, 1]               0\n",
      "================================================================\n",
      "Total params: 53,248,961\n",
      "Trainable params: 53,248,961\n",
      "Non-trainable params: 0\n",
      "----------------------------------------------------------------\n",
      "Input size (MB): 0.19\n",
      "Forward/backward pass size (MB): 499.59\n",
      "Params size (MB): 203.13\n",
      "Estimated Total Size (MB): 702.91\n",
      "----------------------------------------------------------------\n"
     ]
    }
   ],
   "source": [
    "training_columns = ['Pneumonia']\n",
    "out_channels=len(training_columns)\n",
    "net_kwargs = {'out_channels':out_channels, 'image_size':(224,224)}\n",
    "net = CustomPneumoniaNN(**net_kwargs)\n",
    "\n",
    "net = nn.DataParallel(net)\n",
    "net.to(device)\n",
    "\n",
    "summary(net, (1, 224, 224))"
   ]
  },
  {
   "cell_type": "code",
   "execution_count": 6,
   "metadata": {
    "colab": {
     "base_uri": "https://localhost:8080/",
     "height": 87
    },
    "colab_type": "code",
    "executionInfo": {
     "elapsed": 23521,
     "status": "ok",
     "timestamp": 1594662807372,
     "user": {
      "displayName": "Robert312 SpringboardDataScience",
      "photoUrl": "",
      "userId": "10605656056949109058"
     },
     "user_tz": 240
    },
    "id": "Pihx9dmDqKAH",
    "outputId": "ea84cbc4-1a8c-40f8-9dec-db0e465e048b"
   },
   "outputs": [
    {
     "name": "stdout",
     "output_type": "stream",
     "text": [
      "Number of Training Images: 105,432\n",
      "Number of Validation Images: 26,316\n"
     ]
    }
   ],
   "source": [
    "standardTraining = StandardTraining(number_images=0, \n",
    "                                     batch_size=8, \n",
    "                                     learning_rate=1e-5, \n",
    "                                     num_epochs=1,\n",
    "                                     device=device, \n",
    "                                     net=net,\n",
    "                                     image_width = 224, #Model more memory consuming so pare down size\n",
    "                                     image_height = 224,\n",
    "                                     target_columns=training_columns,\n",
    "                                     save_path= f'notebooks/ModelRuns/saved/{save_name}/',\n",
    "                                     net_name = 'CustomPneumoniaNN',\n",
    "                                     net_kwargs = net_kwargs)"
   ]
  },
  {
   "cell_type": "code",
   "execution_count": 7,
   "metadata": {
    "colab": {},
    "colab_type": "code",
    "executionInfo": {
     "elapsed": 23517,
     "status": "ok",
     "timestamp": 1594662807373,
     "user": {
      "displayName": "Robert312 SpringboardDataScience",
      "photoUrl": "",
      "userId": "10605656056949109058"
     },
     "user_tz": 240
    },
    "id": "ePnnyUWNqKAJ",
    "scrolled": false
   },
   "outputs": [
    {
     "name": "stdout",
     "output_type": "stream",
     "text": [
      "▃▃▃▃▃▃▃▃▃▃▃▃▃▃▃▃▃▃▃▃▃▃▃▃▃▃▃▃▃▃▃▃▃▃▃▃▃▃▃▃▃▃▃▃▃▃▃▃▃▃\n",
      "Epoch [1/1]\n",
      "▔▔▔▔▔▔▔▔▔▔▔▔▔▔▔▔▔▔▔▔▔▔▔▔▔▔▔▔▔▔▔▔▔▔▔▔▔▔▔▔▔▔▔▔▔▔▔▔▔▔\n",
      "▔▔▔▔▔▔▔▔▔▔▔▔▔▔▔▔▔▔▔▔▔▔▔▔▔▔▔▔▔▔▔▔▔▔▔▔▔▔▔▔▔▔▔▔▔▔▔▔▔▔\n",
      "Epoch Loss: 1735.5338         \n",
      "Time of Completion: 2020-08-03 00:35:09.861524          \n",
      "Training Duration: 0:36:13.987874          \n",
      "Validation Duration: 0:03:41.354797\n",
      "\n",
      "TRAINING\n",
      "\n",
      "▔▔▔▔▔\n"
     ]
    },
    {
     "data": {
      "text/html": [
       "<div>\n",
       "<style scoped>\n",
       "    .dataframe tbody tr th:only-of-type {\n",
       "        vertical-align: middle;\n",
       "    }\n",
       "\n",
       "    .dataframe tbody tr th {\n",
       "        vertical-align: top;\n",
       "    }\n",
       "\n",
       "    .dataframe thead th {\n",
       "        text-align: right;\n",
       "    }\n",
       "</style>\n",
       "<table border=\"1\" class=\"dataframe\">\n",
       "  <thead>\n",
       "    <tr style=\"text-align: right;\">\n",
       "      <th></th>\n",
       "      <th>Target</th>\n",
       "      <th>True Positives</th>\n",
       "      <th>Predicted Positives</th>\n",
       "      <th>Recall</th>\n",
       "      <th>Precision</th>\n",
       "      <th>F1</th>\n",
       "      <th>ROC AUC</th>\n",
       "      <th>Avg Precision</th>\n",
       "    </tr>\n",
       "  </thead>\n",
       "  <tbody>\n",
       "    <tr>\n",
       "      <td>0</td>\n",
       "      <td>Pneumonia</td>\n",
       "      <td>2808</td>\n",
       "      <td>4</td>\n",
       "      <td>0.999961</td>\n",
       "      <td>0.973366</td>\n",
       "      <td>0.986484</td>\n",
       "      <td>0.527681</td>\n",
       "      <td>0.028859</td>\n",
       "    </tr>\n",
       "  </tbody>\n",
       "</table>\n",
       "</div>"
      ],
      "text/plain": [
       "      Target  True Positives  Predicted Positives    Recall  Precision  \\\n",
       "0  Pneumonia            2808                    4  0.999961   0.973366   \n",
       "\n",
       "         F1   ROC AUC  Avg Precision  \n",
       "0  0.986484  0.527681       0.028859  "
      ]
     },
     "metadata": {},
     "output_type": "display_data"
    },
    {
     "name": "stdout",
     "output_type": "stream",
     "text": [
      "\n",
      "VALIDATION\n",
      "\n",
      "▔▔▔▔▔▔▔\n"
     ]
    },
    {
     "data": {
      "text/html": [
       "<div>\n",
       "<style scoped>\n",
       "    .dataframe tbody tr th:only-of-type {\n",
       "        vertical-align: middle;\n",
       "    }\n",
       "\n",
       "    .dataframe tbody tr th {\n",
       "        vertical-align: top;\n",
       "    }\n",
       "\n",
       "    .dataframe thead th {\n",
       "        text-align: right;\n",
       "    }\n",
       "</style>\n",
       "<table border=\"1\" class=\"dataframe\">\n",
       "  <thead>\n",
       "    <tr style=\"text-align: right;\">\n",
       "      <th></th>\n",
       "      <th>Target</th>\n",
       "      <th>True Positives</th>\n",
       "      <th>Predicted Positives</th>\n",
       "      <th>Recall</th>\n",
       "      <th>Precision</th>\n",
       "      <th>F1</th>\n",
       "      <th>ROC AUC</th>\n",
       "      <th>Avg Precision</th>\n",
       "    </tr>\n",
       "  </thead>\n",
       "  <tbody>\n",
       "    <tr>\n",
       "      <td>0</td>\n",
       "      <td>Pneumonia</td>\n",
       "      <td>703</td>\n",
       "      <td>0</td>\n",
       "      <td>1.0</td>\n",
       "      <td>0.973286</td>\n",
       "      <td>0.986462</td>\n",
       "      <td>0.582755</td>\n",
       "      <td>0.035619</td>\n",
       "    </tr>\n",
       "  </tbody>\n",
       "</table>\n",
       "</div>"
      ],
      "text/plain": [
       "      Target  True Positives  Predicted Positives  Recall  Precision  \\\n",
       "0  Pneumonia             703                    0     1.0   0.973286   \n",
       "\n",
       "         F1   ROC AUC  Avg Precision  \n",
       "0  0.986462  0.582755       0.035619  "
      ]
     },
     "metadata": {},
     "output_type": "display_data"
    },
    {
     "name": "stdout",
     "output_type": "stream",
     "text": [
      "Training Duration: 0:39:55.472301\n"
     ]
    }
   ],
   "source": [
    "standardTraining.train()"
   ]
  },
  {
   "cell_type": "code",
   "execution_count": 8,
   "metadata": {
    "colab": {
     "base_uri": "https://localhost:8080/",
     "height": 125
    },
    "colab_type": "code",
    "executionInfo": {
     "elapsed": 23513,
     "status": "ok",
     "timestamp": 1594662807373,
     "user": {
      "displayName": "Robert312 SpringboardDataScience",
      "photoUrl": "",
      "userId": "10605656056949109058"
     },
     "user_tz": 240
    },
    "id": "n9mR49nXm4Q_",
    "outputId": "a32fd665-d9c9-4149-f506-a804999d8b13",
    "scrolled": false
   },
   "outputs": [
    {
     "name": "stdout",
     "output_type": "stream",
     "text": [
      "\n",
      "TRAINING\n",
      "\n",
      "▔▔▔▔▔\n"
     ]
    },
    {
     "data": {
      "text/html": [
       "<div>\n",
       "<style scoped>\n",
       "    .dataframe tbody tr th:only-of-type {\n",
       "        vertical-align: middle;\n",
       "    }\n",
       "\n",
       "    .dataframe tbody tr th {\n",
       "        vertical-align: top;\n",
       "    }\n",
       "\n",
       "    .dataframe thead th {\n",
       "        text-align: right;\n",
       "    }\n",
       "</style>\n",
       "<table border=\"1\" class=\"dataframe\">\n",
       "  <thead>\n",
       "    <tr style=\"text-align: right;\">\n",
       "      <th></th>\n",
       "      <th>Score for all Targets</th>\n",
       "    </tr>\n",
       "  </thead>\n",
       "  <tbody>\n",
       "    <tr>\n",
       "      <td>Accuracy Score</td>\n",
       "      <td>0.973329</td>\n",
       "    </tr>\n",
       "    <tr>\n",
       "      <td>Hamming Loss</td>\n",
       "      <td>0.026671</td>\n",
       "    </tr>\n",
       "    <tr>\n",
       "      <td>Hamming Accuracy</td>\n",
       "      <td>0.973329</td>\n",
       "    </tr>\n",
       "    <tr>\n",
       "      <td>Combined Recall</td>\n",
       "      <td>0.999961</td>\n",
       "    </tr>\n",
       "    <tr>\n",
       "      <td>Combined Precision</td>\n",
       "      <td>0.973366</td>\n",
       "    </tr>\n",
       "    <tr>\n",
       "      <td>Combined F1</td>\n",
       "      <td>0.986484</td>\n",
       "    </tr>\n",
       "  </tbody>\n",
       "</table>\n",
       "</div>"
      ],
      "text/plain": [
       "                    Score for all Targets\n",
       "Accuracy Score                   0.973329\n",
       "Hamming Loss                     0.026671\n",
       "Hamming Accuracy                 0.973329\n",
       "Combined Recall                  0.999961\n",
       "Combined Precision               0.973366\n",
       "Combined F1                      0.986484"
      ]
     },
     "metadata": {},
     "output_type": "display_data"
    },
    {
     "data": {
      "text/html": [
       "<div>\n",
       "<style scoped>\n",
       "    .dataframe tbody tr th:only-of-type {\n",
       "        vertical-align: middle;\n",
       "    }\n",
       "\n",
       "    .dataframe tbody tr th {\n",
       "        vertical-align: top;\n",
       "    }\n",
       "\n",
       "    .dataframe thead th {\n",
       "        text-align: right;\n",
       "    }\n",
       "</style>\n",
       "<table border=\"1\" class=\"dataframe\">\n",
       "  <thead>\n",
       "    <tr style=\"text-align: right;\">\n",
       "      <th></th>\n",
       "      <th>Target</th>\n",
       "      <th>True Positives</th>\n",
       "      <th>Predicted Positives</th>\n",
       "      <th>Recall</th>\n",
       "      <th>Precision</th>\n",
       "      <th>F1</th>\n",
       "      <th>ROC AUC</th>\n",
       "      <th>Avg Precision</th>\n",
       "    </tr>\n",
       "  </thead>\n",
       "  <tbody>\n",
       "    <tr>\n",
       "      <td>0</td>\n",
       "      <td>Pneumonia</td>\n",
       "      <td>2808</td>\n",
       "      <td>4</td>\n",
       "      <td>0.999961</td>\n",
       "      <td>0.973366</td>\n",
       "      <td>0.986484</td>\n",
       "      <td>0.527681</td>\n",
       "      <td>0.028859</td>\n",
       "    </tr>\n",
       "  </tbody>\n",
       "</table>\n",
       "</div>"
      ],
      "text/plain": [
       "      Target  True Positives  Predicted Positives    Recall  Precision  \\\n",
       "0  Pneumonia            2808                    4  0.999961   0.973366   \n",
       "\n",
       "         F1   ROC AUC  Avg Precision  \n",
       "0  0.986484  0.527681       0.028859  "
      ]
     },
     "metadata": {},
     "output_type": "display_data"
    },
    {
     "name": "stdout",
     "output_type": "stream",
     "text": [
      "***** ROC *****\n"
     ]
    },
    {
     "data": {
      "image/png": "[encoded data removed]",
      "text/plain": [
       "<Figure size 1440x216 with 1 Axes>"
      ]
     },
     "metadata": {
      "needs_background": "light"
     },
     "output_type": "display_data"
    },
    {
     "name": "stdout",
     "output_type": "stream",
     "text": [
      "***** Precision / Recall *****\n"
     ]
    },
    {
     "data": {
      "image/png": "[encoded data removed]",
      "text/plain": [
       "<Figure size 1440x216 with 1 Axes>"
      ]
     },
     "metadata": {
      "needs_background": "light"
     },
     "output_type": "display_data"
    },
    {
     "name": "stdout",
     "output_type": "stream",
     "text": [
      "\n",
      "VALIDATION\n",
      "\n",
      "▔▔▔▔▔▔▔\n"
     ]
    },
    {
     "data": {
      "text/html": [
       "<div>\n",
       "<style scoped>\n",
       "    .dataframe tbody tr th:only-of-type {\n",
       "        vertical-align: middle;\n",
       "    }\n",
       "\n",
       "    .dataframe tbody tr th {\n",
       "        vertical-align: top;\n",
       "    }\n",
       "\n",
       "    .dataframe thead th {\n",
       "        text-align: right;\n",
       "    }\n",
       "</style>\n",
       "<table border=\"1\" class=\"dataframe\">\n",
       "  <thead>\n",
       "    <tr style=\"text-align: right;\">\n",
       "      <th></th>\n",
       "      <th>Score for all Targets</th>\n",
       "    </tr>\n",
       "  </thead>\n",
       "  <tbody>\n",
       "    <tr>\n",
       "      <td>Accuracy Score</td>\n",
       "      <td>0.973286</td>\n",
       "    </tr>\n",
       "    <tr>\n",
       "      <td>Hamming Loss</td>\n",
       "      <td>0.026714</td>\n",
       "    </tr>\n",
       "    <tr>\n",
       "      <td>Hamming Accuracy</td>\n",
       "      <td>0.973286</td>\n",
       "    </tr>\n",
       "    <tr>\n",
       "      <td>Combined Recall</td>\n",
       "      <td>1.000000</td>\n",
       "    </tr>\n",
       "    <tr>\n",
       "      <td>Combined Precision</td>\n",
       "      <td>0.973286</td>\n",
       "    </tr>\n",
       "    <tr>\n",
       "      <td>Combined F1</td>\n",
       "      <td>0.986462</td>\n",
       "    </tr>\n",
       "  </tbody>\n",
       "</table>\n",
       "</div>"
      ],
      "text/plain": [
       "                    Score for all Targets\n",
       "Accuracy Score                   0.973286\n",
       "Hamming Loss                     0.026714\n",
       "Hamming Accuracy                 0.973286\n",
       "Combined Recall                  1.000000\n",
       "Combined Precision               0.973286\n",
       "Combined F1                      0.986462"
      ]
     },
     "metadata": {},
     "output_type": "display_data"
    },
    {
     "data": {
      "text/html": [
       "<div>\n",
       "<style scoped>\n",
       "    .dataframe tbody tr th:only-of-type {\n",
       "        vertical-align: middle;\n",
       "    }\n",
       "\n",
       "    .dataframe tbody tr th {\n",
       "        vertical-align: top;\n",
       "    }\n",
       "\n",
       "    .dataframe thead th {\n",
       "        text-align: right;\n",
       "    }\n",
       "</style>\n",
       "<table border=\"1\" class=\"dataframe\">\n",
       "  <thead>\n",
       "    <tr style=\"text-align: right;\">\n",
       "      <th></th>\n",
       "      <th>Target</th>\n",
       "      <th>True Positives</th>\n",
       "      <th>Predicted Positives</th>\n",
       "      <th>Recall</th>\n",
       "      <th>Precision</th>\n",
       "      <th>F1</th>\n",
       "      <th>ROC AUC</th>\n",
       "      <th>Avg Precision</th>\n",
       "    </tr>\n",
       "  </thead>\n",
       "  <tbody>\n",
       "    <tr>\n",
       "      <td>0</td>\n",
       "      <td>Pneumonia</td>\n",
       "      <td>703</td>\n",
       "      <td>0</td>\n",
       "      <td>1.0</td>\n",
       "      <td>0.973286</td>\n",
       "      <td>0.986462</td>\n",
       "      <td>0.582755</td>\n",
       "      <td>0.035619</td>\n",
       "    </tr>\n",
       "  </tbody>\n",
       "</table>\n",
       "</div>"
      ],
      "text/plain": [
       "      Target  True Positives  Predicted Positives  Recall  Precision  \\\n",
       "0  Pneumonia             703                    0     1.0   0.973286   \n",
       "\n",
       "         F1   ROC AUC  Avg Precision  \n",
       "0  0.986462  0.582755       0.035619  "
      ]
     },
     "metadata": {},
     "output_type": "display_data"
    },
    {
     "name": "stdout",
     "output_type": "stream",
     "text": [
      "***** ROC *****\n"
     ]
    },
    {
     "data": {
      "image/png": "[encoded data removed]",
      "text/plain": [
       "<Figure size 1440x216 with 1 Axes>"
      ]
     },
     "metadata": {
      "needs_background": "light"
     },
     "output_type": "display_data"
    },
    {
     "name": "stdout",
     "output_type": "stream",
     "text": [
      "***** Precision / Recall *****\n"
     ]
    },
    {
     "data": {
      "image/png": "[encoded data removed]",
      "text/plain": [
       "<Figure size 1440x216 with 1 Axes>"
      ]
     },
     "metadata": {
      "needs_background": "light"
     },
     "output_type": "display_data"
    }
   ],
   "source": [
    "standardTraining.displayMetrics()"
   ]
  },
  {
   "cell_type": "code",
   "execution_count": 9,
   "metadata": {},
   "outputs": [],
   "source": [
    "standardTraining.save()"
   ]
  }
 ],
 "metadata": {
  "accelerator": "GPU",
  "colab": {
   "collapsed_sections": [],
   "machine_shape": "hm",
   "name": "Copy of CustomPneumonia.ipynb",
   "provenance": []
  },
  "kernelspec": {
   "display_name": "Python 3",
   "language": "python",
   "name": "python3"
  },
  "language_info": {
   "codemirror_mode": {
    "name": "ipython",
    "version": 3
   },
   "file_extension": ".py",
   "mimetype": "text/x-python",
   "name": "python",
   "nbconvert_exporter": "python",
   "pygments_lexer": "ipython3",
   "version": "3.7.4"
  }
 },
 "nbformat": 4,
 "nbformat_minor": 1
}
