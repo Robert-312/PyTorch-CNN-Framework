{
 "cells": [
  {
   "cell_type": "code",
   "execution_count": 1,
   "metadata": {},
   "outputs": [
    {
     "name": "stdout",
     "output_type": "stream",
     "text": [
      "Current Working Dir:  C:\\git\\Springboard-Public\\Capstone Project 2\\notebooks\n",
      "Root Path:  C:/git/Springboard-Public/Capstone Project 2/\n"
     ]
    }
   ],
   "source": [
    "import sys\n",
    "import os, os.path\n",
    "\n",
    "sys.path.append(os.path.join(os.getcwd() ,'/modules'))\n",
    "root_path = \"C:/git/Springboard-Public/Capstone Project 2/\"\n",
    "IN_COLAB = 'google.colab' in sys.modules\n",
    "if IN_COLAB:\n",
    "    from google.colab import drive\n",
    "    drive.mount('/content/drive')\n",
    "    root_path = \"/content/drive/My Drive/Capstone Project 2/\"\n",
    "\n",
    "print('Current Working Dir: ', os.getcwd())\n",
    "print('Root Path: ', root_path)\n",
    "\n",
    "# We need to set the working directory since we are using relative paths from various locations\n",
    "if os.getcwd() != root_path:\n",
    "  os.chdir(root_path)"
   ]
  },
  {
   "cell_type": "code",
   "execution_count": 2,
   "metadata": {},
   "outputs": [],
   "source": [
    "from modules.lib.StandardTraining import *\n",
    "from modules.models.ResNet import ResNet_GrayScale_12_Out\n",
    "\n",
    "from torchsummary import summary\n",
    "\n",
    "# os.environ['CUDA_LAUNCH_BLOCKING'] = \"1\"\n",
    "\n",
    "%matplotlib inline"
   ]
  },
  {
   "cell_type": "code",
   "execution_count": 3,
   "metadata": {},
   "outputs": [
    {
     "name": "stdout",
     "output_type": "stream",
     "text": [
      "Working on device=cuda\n"
     ]
    }
   ],
   "source": [
    "force_cpu = True\n",
    "device = torch.device('cuda' if ~force_cpu and torch.cuda.is_available() else 'cpu')\n",
    "# Assume that we are on a CUDA machine, then this should print a CUDA device:\n",
    "print(f'Working on device={device}')"
   ]
  },
  {
   "cell_type": "code",
   "execution_count": 4,
   "metadata": {
    "scrolled": false
   },
   "outputs": [
    {
     "name": "stdout",
     "output_type": "stream",
     "text": [
      "----------------------------------------------------------------\n",
      "        Layer (type)               Output Shape         Param #\n",
      "================================================================\n",
      "            Conv2d-1         [-1, 64, 160, 160]           3,136\n",
      "       BatchNorm2d-2         [-1, 64, 160, 160]             128\n",
      "              ReLU-3         [-1, 64, 160, 160]               0\n",
      "         MaxPool2d-4           [-1, 64, 80, 80]               0\n",
      "            Conv2d-5           [-1, 64, 80, 80]          36,864\n",
      "       BatchNorm2d-6           [-1, 64, 80, 80]             128\n",
      "              ReLU-7           [-1, 64, 80, 80]               0\n",
      "            Conv2d-8           [-1, 64, 80, 80]          36,864\n",
      "       BatchNorm2d-9           [-1, 64, 80, 80]             128\n",
      "             ReLU-10           [-1, 64, 80, 80]               0\n",
      "       BasicBlock-11           [-1, 64, 80, 80]               0\n",
      "           Conv2d-12           [-1, 64, 80, 80]          36,864\n",
      "      BatchNorm2d-13           [-1, 64, 80, 80]             128\n",
      "             ReLU-14           [-1, 64, 80, 80]               0\n",
      "           Conv2d-15           [-1, 64, 80, 80]          36,864\n",
      "      BatchNorm2d-16           [-1, 64, 80, 80]             128\n",
      "             ReLU-17           [-1, 64, 80, 80]               0\n",
      "       BasicBlock-18           [-1, 64, 80, 80]               0\n",
      "           Conv2d-19          [-1, 128, 40, 40]          73,728\n",
      "      BatchNorm2d-20          [-1, 128, 40, 40]             256\n",
      "             ReLU-21          [-1, 128, 40, 40]               0\n",
      "           Conv2d-22          [-1, 128, 40, 40]         147,456\n",
      "      BatchNorm2d-23          [-1, 128, 40, 40]             256\n",
      "           Conv2d-24          [-1, 128, 40, 40]           8,192\n",
      "      BatchNorm2d-25          [-1, 128, 40, 40]             256\n",
      "             ReLU-26          [-1, 128, 40, 40]               0\n",
      "       BasicBlock-27          [-1, 128, 40, 40]               0\n",
      "           Conv2d-28          [-1, 128, 40, 40]         147,456\n",
      "      BatchNorm2d-29          [-1, 128, 40, 40]             256\n",
      "             ReLU-30          [-1, 128, 40, 40]               0\n",
      "           Conv2d-31          [-1, 128, 40, 40]         147,456\n",
      "      BatchNorm2d-32          [-1, 128, 40, 40]             256\n",
      "             ReLU-33          [-1, 128, 40, 40]               0\n",
      "       BasicBlock-34          [-1, 128, 40, 40]               0\n",
      "           Conv2d-35          [-1, 256, 20, 20]         294,912\n",
      "      BatchNorm2d-36          [-1, 256, 20, 20]             512\n",
      "             ReLU-37          [-1, 256, 20, 20]               0\n",
      "           Conv2d-38          [-1, 256, 20, 20]         589,824\n",
      "      BatchNorm2d-39          [-1, 256, 20, 20]             512\n",
      "           Conv2d-40          [-1, 256, 20, 20]          32,768\n",
      "      BatchNorm2d-41          [-1, 256, 20, 20]             512\n",
      "             ReLU-42          [-1, 256, 20, 20]               0\n",
      "       BasicBlock-43          [-1, 256, 20, 20]               0\n",
      "           Conv2d-44          [-1, 256, 20, 20]         589,824\n",
      "      BatchNorm2d-45          [-1, 256, 20, 20]             512\n",
      "             ReLU-46          [-1, 256, 20, 20]               0\n",
      "           Conv2d-47          [-1, 256, 20, 20]         589,824\n",
      "      BatchNorm2d-48          [-1, 256, 20, 20]             512\n",
      "             ReLU-49          [-1, 256, 20, 20]               0\n",
      "       BasicBlock-50          [-1, 256, 20, 20]               0\n",
      "           Conv2d-51          [-1, 512, 10, 10]       1,179,648\n",
      "      BatchNorm2d-52          [-1, 512, 10, 10]           1,024\n",
      "             ReLU-53          [-1, 512, 10, 10]               0\n",
      "           Conv2d-54          [-1, 512, 10, 10]       2,359,296\n",
      "      BatchNorm2d-55          [-1, 512, 10, 10]           1,024\n",
      "           Conv2d-56          [-1, 512, 10, 10]         131,072\n",
      "      BatchNorm2d-57          [-1, 512, 10, 10]           1,024\n",
      "             ReLU-58          [-1, 512, 10, 10]               0\n",
      "       BasicBlock-59          [-1, 512, 10, 10]               0\n",
      "           Conv2d-60          [-1, 512, 10, 10]       2,359,296\n",
      "      BatchNorm2d-61          [-1, 512, 10, 10]           1,024\n",
      "             ReLU-62          [-1, 512, 10, 10]               0\n",
      "           Conv2d-63          [-1, 512, 10, 10]       2,359,296\n",
      "      BatchNorm2d-64          [-1, 512, 10, 10]           1,024\n",
      "             ReLU-65          [-1, 512, 10, 10]               0\n",
      "       BasicBlock-66          [-1, 512, 10, 10]               0\n",
      "AdaptiveAvgPool2d-67            [-1, 512, 1, 1]               0\n",
      "           Linear-68                 [-1, 1000]         513,000\n",
      "           ResNet-69                 [-1, 1000]               0\n",
      "           Linear-70                   [-1, 12]          12,012\n",
      "ResNet_GrayScale_12_Out-71                   [-1, 12]               0\n",
      "================================================================\n",
      "Total params: 11,695,252\n",
      "Trainable params: 11,695,252\n",
      "Non-trainable params: 0\n",
      "----------------------------------------------------------------\n",
      "Input size (MB): 0.39\n",
      "Forward/backward pass size (MB): 128.14\n",
      "Params size (MB): 44.61\n",
      "Estimated Total Size (MB): 173.15\n",
      "----------------------------------------------------------------\n"
     ]
    }
   ],
   "source": [
    "net = ResNet_GrayScale_12_Out(layers=18, drop_out_precent=.5) #18, 34, 50, 101, 152\n",
    "\n",
    "net = nn.DataParallel(net)\n",
    "net.to(device)\n",
    "\n",
    "\n",
    "summary(net, (1, 320, 320))   "
   ]
  },
  {
   "cell_type": "code",
   "execution_count": 5,
   "metadata": {},
   "outputs": [
    {
     "name": "stdout",
     "output_type": "stream",
     "text": [
      "Total Oversampled Rows Added to Train: 48,764\n",
      "\n",
      "Number of Training Images: 154,080\n",
      "Number of Validation Images: 26,432\n",
      "\n",
      "Positive Weights used in BCEWithLogitsLoss:\n"
     ]
    },
    {
     "data": {
      "text/plain": [
       "Enlarged_Cardiomediastinum     6.675600\n",
       "Cardiomegaly                   4.219335\n",
       "Lung_Opacity                   1.072221\n",
       "Lung_Lesion                    7.242658\n",
       "Edema                          2.749817\n",
       "Consolidation                  6.120477\n",
       "Pneumonia                      9.754519\n",
       "Atelectasis                    3.636634\n",
       "Pneumothorax                   6.247072\n",
       "Pleural_Effusion               1.628320\n",
       "Pleural_Other                 12.927506\n",
       "Fracture                       7.460820\n",
       "dtype: float64"
      ]
     },
     "metadata": {},
     "output_type": "display_data"
    }
   ],
   "source": [
    "standardTraining = StandardTraining(number_images=0, \n",
    "                                     batch_size=32, \n",
    "                                     learning_rate=1e-5, \n",
    "                                     num_epochs=20,\n",
    "                                     device=device, \n",
    "                                     net=net,\n",
    "                                     affineDegrees=8, \n",
    "                                     translatePrecent=0.8, \n",
    "                                     shearDegrees=8, \n",
    "                                     brightnessJitter=0.3, \n",
    "                                     contrastJitter=0.2, \n",
    "                                     augPercent=0.3,\n",
    "                                     use_positivity_weights=True,\n",
    "                                     observation_min_count = 100,\n",
    "                                     l2_reg=1e-4)"
   ]
  },
  {
   "cell_type": "code",
   "execution_count": 6,
   "metadata": {
    "scrolled": false
   },
   "outputs": [
    {
     "name": "stdout",
     "output_type": "stream",
     "text": [
      "▃▃▃▃▃▃▃▃▃▃▃▃▃▃▃▃▃▃▃▃▃▃▃▃▃▃▃▃▃▃▃▃▃▃▃▃▃▃▃▃▃▃▃▃▃▃▃▃▃▃\n",
      "Epoch [1/20]\n",
      "▔▔▔▔▔▔▔▔▔▔▔▔▔▔▔▔▔▔▔▔▔▔▔▔▔▔▔▔▔▔▔▔▔▔▔▔▔▔▔▔▔▔▔▔▔▔▔▔▔▔\n",
      "▔▔▔▔▔▔▔▔▔▔▔▔▔▔▔▔▔▔▔▔▔▔▔▔▔▔▔▔▔▔▔▔▔▔▔▔▔▔▔▔▔▔▔▔▔▔▔▔▔▔\n",
      "Epoch Loss: 4964.2248         \n",
      "Time of Completion: 2020-07-28 10:26:28.710107          \n",
      "Training Time: 0:27:22.722822          \n",
      "Validation Time: 0:03:54.122403\n",
      "\n",
      "TRAINING\n",
      "\n",
      "▔▔▔▔▔\n"
     ]
    },
    {
     "data": {
      "text/html": [
       "<div>\n",
       "<style scoped>\n",
       "    .dataframe tbody tr th:only-of-type {\n",
       "        vertical-align: middle;\n",
       "    }\n",
       "\n",
       "    .dataframe tbody tr th {\n",
       "        vertical-align: top;\n",
       "    }\n",
       "\n",
       "    .dataframe thead th {\n",
       "        text-align: right;\n",
       "    }\n",
       "</style>\n",
       "<table border=\"1\" class=\"dataframe\">\n",
       "  <thead>\n",
       "    <tr style=\"text-align: right;\">\n",
       "      <th></th>\n",
       "      <th>Target</th>\n",
       "      <th>True Positive Count</th>\n",
       "      <th>Recall</th>\n",
       "      <th>Precision</th>\n",
       "      <th>F1</th>\n",
       "      <th>ROC AUC</th>\n",
       "      <th>Avg Precision</th>\n",
       "    </tr>\n",
       "  </thead>\n",
       "  <tbody>\n",
       "    <tr>\n",
       "      <td>1</td>\n",
       "      <td>Cardiomegaly</td>\n",
       "      <td>29521</td>\n",
       "      <td>0.589817</td>\n",
       "      <td>0.254164</td>\n",
       "      <td>0.355245</td>\n",
       "      <td>0.639077</td>\n",
       "      <td>0.317706</td>\n",
       "    </tr>\n",
       "    <tr>\n",
       "      <td>4</td>\n",
       "      <td>Edema</td>\n",
       "      <td>41090</td>\n",
       "      <td>0.670650</td>\n",
       "      <td>0.379254</td>\n",
       "      <td>0.484514</td>\n",
       "      <td>0.694221</td>\n",
       "      <td>0.434152</td>\n",
       "    </tr>\n",
       "    <tr>\n",
       "      <td>5</td>\n",
       "      <td>Consolidation</td>\n",
       "      <td>21639</td>\n",
       "      <td>0.608485</td>\n",
       "      <td>0.194657</td>\n",
       "      <td>0.294956</td>\n",
       "      <td>0.650383</td>\n",
       "      <td>0.267397</td>\n",
       "    </tr>\n",
       "    <tr>\n",
       "      <td>7</td>\n",
       "      <td>Atelectasis</td>\n",
       "      <td>33231</td>\n",
       "      <td>0.558424</td>\n",
       "      <td>0.242559</td>\n",
       "      <td>0.338212</td>\n",
       "      <td>0.559863</td>\n",
       "      <td>0.255016</td>\n",
       "    </tr>\n",
       "    <tr>\n",
       "      <td>9</td>\n",
       "      <td>Pleural_Effusion</td>\n",
       "      <td>58623</td>\n",
       "      <td>0.617590</td>\n",
       "      <td>0.480663</td>\n",
       "      <td>0.540591</td>\n",
       "      <td>0.652680</td>\n",
       "      <td>0.522993</td>\n",
       "    </tr>\n",
       "  </tbody>\n",
       "</table>\n",
       "</div>"
      ],
      "text/plain": [
       "             Target  True Positive Count    Recall  Precision        F1  \\\n",
       "1      Cardiomegaly                29521  0.589817   0.254164  0.355245   \n",
       "4             Edema                41090  0.670650   0.379254  0.484514   \n",
       "5     Consolidation                21639  0.608485   0.194657  0.294956   \n",
       "7       Atelectasis                33231  0.558424   0.242559  0.338212   \n",
       "9  Pleural_Effusion                58623  0.617590   0.480663  0.540591   \n",
       "\n",
       "    ROC AUC  Avg Precision  \n",
       "1  0.639077       0.317706  \n",
       "4  0.694221       0.434152  \n",
       "5  0.650383       0.267397  \n",
       "7  0.559863       0.255016  \n",
       "9  0.652680       0.522993  "
      ]
     },
     "metadata": {},
     "output_type": "display_data"
    },
    {
     "name": "stdout",
     "output_type": "stream",
     "text": [
      "\n",
      "VALIDATION\n",
      "\n",
      "▔▔▔▔▔▔▔\n"
     ]
    },
    {
     "data": {
      "text/html": [
       "<div>\n",
       "<style scoped>\n",
       "    .dataframe tbody tr th:only-of-type {\n",
       "        vertical-align: middle;\n",
       "    }\n",
       "\n",
       "    .dataframe tbody tr th {\n",
       "        vertical-align: top;\n",
       "    }\n",
       "\n",
       "    .dataframe thead th {\n",
       "        text-align: right;\n",
       "    }\n",
       "</style>\n",
       "<table border=\"1\" class=\"dataframe\">\n",
       "  <thead>\n",
       "    <tr style=\"text-align: right;\">\n",
       "      <th></th>\n",
       "      <th>Target</th>\n",
       "      <th>True Positive Count</th>\n",
       "      <th>Recall</th>\n",
       "      <th>Precision</th>\n",
       "      <th>F1</th>\n",
       "      <th>ROC AUC</th>\n",
       "      <th>Avg Precision</th>\n",
       "    </tr>\n",
       "  </thead>\n",
       "  <tbody>\n",
       "    <tr>\n",
       "      <td>1</td>\n",
       "      <td>Cardiomegaly</td>\n",
       "      <td>3002</td>\n",
       "      <td>0.457029</td>\n",
       "      <td>0.206254</td>\n",
       "      <td>0.284235</td>\n",
       "      <td>0.686097</td>\n",
       "      <td>0.202982</td>\n",
       "    </tr>\n",
       "    <tr>\n",
       "      <td>4</td>\n",
       "      <td>Edema</td>\n",
       "      <td>6172</td>\n",
       "      <td>0.668989</td>\n",
       "      <td>0.401576</td>\n",
       "      <td>0.501884</td>\n",
       "      <td>0.751369</td>\n",
       "      <td>0.440621</td>\n",
       "    </tr>\n",
       "    <tr>\n",
       "      <td>5</td>\n",
       "      <td>Consolidation</td>\n",
       "      <td>1582</td>\n",
       "      <td>0.155499</td>\n",
       "      <td>0.112175</td>\n",
       "      <td>0.130331</td>\n",
       "      <td>0.646160</td>\n",
       "      <td>0.097942</td>\n",
       "    </tr>\n",
       "    <tr>\n",
       "      <td>7</td>\n",
       "      <td>Atelectasis</td>\n",
       "      <td>4162</td>\n",
       "      <td>0.369294</td>\n",
       "      <td>0.190932</td>\n",
       "      <td>0.251720</td>\n",
       "      <td>0.582999</td>\n",
       "      <td>0.190370</td>\n",
       "    </tr>\n",
       "    <tr>\n",
       "      <td>9</td>\n",
       "      <td>Pleural_Effusion</td>\n",
       "      <td>8877</td>\n",
       "      <td>0.546018</td>\n",
       "      <td>0.550170</td>\n",
       "      <td>0.548086</td>\n",
       "      <td>0.734311</td>\n",
       "      <td>0.553070</td>\n",
       "    </tr>\n",
       "  </tbody>\n",
       "</table>\n",
       "</div>"
      ],
      "text/plain": [
       "             Target  True Positive Count    Recall  Precision        F1  \\\n",
       "1      Cardiomegaly                 3002  0.457029   0.206254  0.284235   \n",
       "4             Edema                 6172  0.668989   0.401576  0.501884   \n",
       "5     Consolidation                 1582  0.155499   0.112175  0.130331   \n",
       "7       Atelectasis                 4162  0.369294   0.190932  0.251720   \n",
       "9  Pleural_Effusion                 8877  0.546018   0.550170  0.548086   \n",
       "\n",
       "    ROC AUC  Avg Precision  \n",
       "1  0.686097       0.202982  \n",
       "4  0.751369       0.440621  \n",
       "5  0.646160       0.097942  \n",
       "7  0.582999       0.190370  \n",
       "9  0.734311       0.553070  "
      ]
     },
     "metadata": {},
     "output_type": "display_data"
    },
    {
     "name": "stdout",
     "output_type": "stream",
     "text": [
      "▃▃▃▃▃▃▃▃▃▃▃▃▃▃▃▃▃▃▃▃▃▃▃▃▃▃▃▃▃▃▃▃▃▃▃▃▃▃▃▃▃▃▃▃▃▃▃▃▃▃\n",
      "Epoch [2/20]\n",
      "▔▔▔▔▔▔▔▔▔▔▔▔▔▔▔▔▔▔▔▔▔▔▔▔▔▔▔▔▔▔▔▔▔▔▔▔▔▔▔▔▔▔▔▔▔▔▔▔▔▔\n",
      "▔▔▔▔▔▔▔▔▔▔▔▔▔▔▔▔▔▔▔▔▔▔▔▔▔▔▔▔▔▔▔▔▔▔▔▔▔▔▔▔▔▔▔▔▔▔▔▔▔▔\n",
      "0.0% training progress\r"
     ]
    },
    {
     "ename": "KeyboardInterrupt",
     "evalue": "",
     "output_type": "error",
     "traceback": [
      "\u001b[1;31m---------------------------------------------------------------------------\u001b[0m",
      "\u001b[1;31mKeyboardInterrupt\u001b[0m                         Traceback (most recent call last)",
      "\u001b[1;32m<ipython-input-6-f6ad4f10290a>\u001b[0m in \u001b[0;36m<module>\u001b[1;34m\u001b[0m\n\u001b[1;32m----> 1\u001b[1;33m \u001b[0mstandardTraining\u001b[0m\u001b[1;33m.\u001b[0m\u001b[0mtrain\u001b[0m\u001b[1;33m(\u001b[0m\u001b[1;33m)\u001b[0m\u001b[1;33m\u001b[0m\u001b[1;33m\u001b[0m\u001b[0m\n\u001b[0m",
      "\u001b[1;32mC:\\git\\Springboard-Public\\Capstone Project 2\\modules\\lib\\StandardTraining.py\u001b[0m in \u001b[0;36mtrain\u001b[1;34m(self)\u001b[0m\n\u001b[0;32m    103\u001b[0m \u001b[1;33m\u001b[0m\u001b[0m\n\u001b[0;32m    104\u001b[0m     \u001b[1;32mdef\u001b[0m \u001b[0mtrain\u001b[0m\u001b[1;33m(\u001b[0m\u001b[0mself\u001b[0m\u001b[1;33m)\u001b[0m\u001b[1;33m:\u001b[0m\u001b[1;33m\u001b[0m\u001b[1;33m\u001b[0m\u001b[0m\n\u001b[1;32m--> 105\u001b[1;33m         \u001b[0mself\u001b[0m\u001b[1;33m.\u001b[0m\u001b[0mtrainingLoop\u001b[0m\u001b[1;33m.\u001b[0m\u001b[0mtrain\u001b[0m\u001b[1;33m(\u001b[0m\u001b[0mself\u001b[0m\u001b[1;33m.\u001b[0m\u001b[0mnum_epochs\u001b[0m\u001b[1;33m,\u001b[0m \u001b[0mself\u001b[0m\u001b[1;33m.\u001b[0m\u001b[0mtrain_loader\u001b[0m\u001b[1;33m,\u001b[0m \u001b[0mself\u001b[0m\u001b[1;33m.\u001b[0m\u001b[0mval_loader\u001b[0m\u001b[1;33m)\u001b[0m\u001b[1;33m\u001b[0m\u001b[1;33m\u001b[0m\u001b[0m\n\u001b[0m\u001b[0;32m    106\u001b[0m \u001b[1;33m\u001b[0m\u001b[0m\n\u001b[0;32m    107\u001b[0m     \u001b[1;32mdef\u001b[0m \u001b[0mdisplayMetrics\u001b[0m\u001b[1;33m(\u001b[0m\u001b[0mself\u001b[0m\u001b[1;33m)\u001b[0m\u001b[1;33m:\u001b[0m\u001b[1;33m\u001b[0m\u001b[1;33m\u001b[0m\u001b[0m\n",
      "\u001b[1;32mC:\\git\\Springboard-Public\\Capstone Project 2\\modules\\lib\\TrainingLoop.py\u001b[0m in \u001b[0;36mtrain\u001b[1;34m(self, num_epochs, train_loader, val_loader)\u001b[0m\n\u001b[0;32m     91\u001b[0m                 \u001b[0mids\u001b[0m\u001b[1;33m,\u001b[0m \u001b[0minputs\u001b[0m\u001b[1;33m,\u001b[0m \u001b[0mlabels\u001b[0m\u001b[1;33m,\u001b[0m \u001b[0moutputs\u001b[0m \u001b[1;33m=\u001b[0m \u001b[0mself\u001b[0m\u001b[1;33m.\u001b[0m\u001b[0mprocessBatch\u001b[0m\u001b[1;33m(\u001b[0m\u001b[0mdata\u001b[0m\u001b[1;33m)\u001b[0m\u001b[1;33m\u001b[0m\u001b[1;33m\u001b[0m\u001b[0m\n\u001b[0;32m     92\u001b[0m                 \u001b[0mself\u001b[0m\u001b[1;33m.\u001b[0m\u001b[0mmetrics\u001b[0m\u001b[1;33m.\u001b[0m\u001b[0mappendEpochBatchData\u001b[0m\u001b[1;33m(\u001b[0m\u001b[0mids\u001b[0m\u001b[1;33m,\u001b[0m \u001b[0moutputs\u001b[0m\u001b[1;33m)\u001b[0m\u001b[1;33m\u001b[0m\u001b[1;33m\u001b[0m\u001b[0m\n\u001b[1;32m---> 93\u001b[1;33m                 \u001b[0mself\u001b[0m\u001b[1;33m.\u001b[0m\u001b[0mepoch_loss\u001b[0m \u001b[1;33m+=\u001b[0m \u001b[0mself\u001b[0m\u001b[1;33m.\u001b[0m\u001b[0mbackProp\u001b[0m\u001b[1;33m(\u001b[0m\u001b[0moutputs\u001b[0m\u001b[1;33m,\u001b[0m \u001b[0mlabels\u001b[0m\u001b[1;33m)\u001b[0m\u001b[1;33m\u001b[0m\u001b[1;33m\u001b[0m\u001b[0m\n\u001b[0m\u001b[0;32m     94\u001b[0m                 \u001b[0mtrain_progress_value\u001b[0m \u001b[1;33m=\u001b[0m \u001b[0mi\u001b[0m\u001b[1;33m/\u001b[0m\u001b[0mtrain_batch_count\u001b[0m\u001b[1;33m\u001b[0m\u001b[1;33m\u001b[0m\u001b[0m\n\u001b[0;32m     95\u001b[0m                 \u001b[1;32mif\u001b[0m \u001b[0mi\u001b[0m\u001b[1;33m>=\u001b[0m\u001b[0mtrain_batch_count\u001b[0m\u001b[1;33m:\u001b[0m\u001b[1;33m\u001b[0m\u001b[1;33m\u001b[0m\u001b[0m\n",
      "\u001b[1;32mC:\\git\\Springboard-Public\\Capstone Project 2\\modules\\lib\\TrainingLoop.py\u001b[0m in \u001b[0;36mbackProp\u001b[1;34m(self, outputs, labels)\u001b[0m\n\u001b[0;32m     67\u001b[0m         \u001b[0mloss\u001b[0m\u001b[1;33m.\u001b[0m\u001b[0mbackward\u001b[0m\u001b[1;33m(\u001b[0m\u001b[1;33m)\u001b[0m\u001b[1;33m\u001b[0m\u001b[1;33m\u001b[0m\u001b[0m\n\u001b[0;32m     68\u001b[0m         \u001b[0mself\u001b[0m\u001b[1;33m.\u001b[0m\u001b[0moptimizer\u001b[0m\u001b[1;33m.\u001b[0m\u001b[0mstep\u001b[0m\u001b[1;33m(\u001b[0m\u001b[1;33m)\u001b[0m\u001b[1;33m\u001b[0m\u001b[1;33m\u001b[0m\u001b[0m\n\u001b[1;32m---> 69\u001b[1;33m         \u001b[1;32mreturn\u001b[0m \u001b[0mloss\u001b[0m\u001b[1;33m.\u001b[0m\u001b[0mitem\u001b[0m\u001b[1;33m(\u001b[0m\u001b[1;33m)\u001b[0m\u001b[1;33m\u001b[0m\u001b[1;33m\u001b[0m\u001b[0m\n\u001b[0m\u001b[0;32m     70\u001b[0m \u001b[1;33m\u001b[0m\u001b[0m\n\u001b[0;32m     71\u001b[0m \u001b[1;33m\u001b[0m\u001b[0m\n",
      "\u001b[1;31mKeyboardInterrupt\u001b[0m: "
     ]
    }
   ],
   "source": [
    "standardTraining.train()"
   ]
  },
  {
   "cell_type": "code",
   "execution_count": null,
   "metadata": {
    "scrolled": false
   },
   "outputs": [],
   "source": [
    "standardTraining.displayMetrics()"
   ]
  }
 ],
 "metadata": {
  "kernelspec": {
   "display_name": "Python 3",
   "language": "python",
   "name": "python3"
  },
  "language_info": {
   "codemirror_mode": {
    "name": "ipython",
    "version": 3
   },
   "file_extension": ".py",
   "mimetype": "text/x-python",
   "name": "python",
   "nbconvert_exporter": "python",
   "pygments_lexer": "ipython3",
   "version": "3.7.4"
  }
 },
 "nbformat": 4,
 "nbformat_minor": 2
}
