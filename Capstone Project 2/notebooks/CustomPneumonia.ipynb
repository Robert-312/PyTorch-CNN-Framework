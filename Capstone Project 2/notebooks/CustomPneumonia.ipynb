{
 "cells": [
  {
   "cell_type": "code",
   "execution_count": null,
   "metadata": {
    "colab": {
     "base_uri": "https://localhost:8080/",
     "height": 161
    },
    "colab_type": "code",
    "executionInfo": {
     "elapsed": 19706,
     "status": "ok",
     "timestamp": 1591585057135,
     "user": {
      "displayName": "Robert312 SpringboardDataScience",
      "photoUrl": "",
      "userId": "10605656056949109058"
     },
     "user_tz": 240
    },
    "id": "Krw97nCMqJ_-",
    "outputId": "0d3a4400-1dc0-4a3e-c1ea-5fe22c2ff438"
   },
   "outputs": [],
   "source": [
    "import sys\n",
    "import os, os.path\n",
    "\n",
    "sys.path.append(os.path.join(os.getcwd() ,'/modules'))\n",
    "root_path = \"C:/git/Springboard-Public/Capstone Project 2/\"\n",
    "IN_COLAB = 'google.colab' in sys.modules\n",
    "if IN_COLAB:\n",
    "    from google.colab import drive\n",
    "    drive.mount('/content/drive')\n",
    "    root_path = \"/content/drive/My Drive/Capstone Project 2/\"\n",
    "\n",
    "print('Current Working Dir: ', os.getcwd())\n",
    "print('Root Path: ', root_path)\n",
    "\n",
    "# We need to set the working directory since we are using relative paths from various locations\n",
    "if os.getcwd() != root_path:\n",
    "  os.chdir(root_path)"
   ]
  },
  {
   "cell_type": "code",
   "execution_count": null,
   "metadata": {
    "colab": {
     "base_uri": "https://localhost:8080/",
     "height": 52
    },
    "colab_type": "code",
    "executionInfo": {
     "elapsed": 25129,
     "status": "ok",
     "timestamp": 1591585062561,
     "user": {
      "displayName": "Robert312 SpringboardDataScience",
      "photoUrl": "",
      "userId": "10605656056949109058"
     },
     "user_tz": 240
    },
    "id": "A8Bb_-Y-qKAB",
    "outputId": "04731623-fadd-4d34-da91-8b9ff14ed8a2"
   },
   "outputs": [],
   "source": [
    "import numpy as np\n",
    "from datetime import datetime\n",
    "from collections import defaultdict\n",
    "import matplotlib.pyplot as plt\n",
    "import seaborn as sns; sns.set()\n",
    "\n",
    "from modules.lib.ChextXRayImages import *\n",
    "from modules.models.CustomPneumonia import CustomPneumoniaNN\n",
    "\n",
    "from PIL import Image\n",
    "import copy\n",
    "\n",
    "import torch.optim as optim\n",
    "import torch\n",
    "import torch.utils.data\n",
    "import torch.nn as nn\n",
    "import torch.nn.functional as F\n",
    "\n",
    "import torchvision\n",
    "import torchvision.transforms as transforms\n",
    "from torchvision.transforms import ToTensor, ToPILImage\n",
    "import torchvision.models as models\n",
    "\n",
    "from torchsummary import summary\n",
    "\n",
    "%matplotlib inline"
   ]
  },
  {
   "cell_type": "code",
   "execution_count": null,
   "metadata": {
    "colab": {
     "base_uri": "https://localhost:8080/",
     "height": 34
    },
    "colab_type": "code",
    "executionInfo": {
     "elapsed": 25129,
     "status": "ok",
     "timestamp": 1591585062562,
     "user": {
      "displayName": "Robert312 SpringboardDataScience",
      "photoUrl": "",
      "userId": "10605656056949109058"
     },
     "user_tz": 240
    },
    "id": "SBlzQJJIqKAD",
    "outputId": "199170d3-52a1-45a0-fe2e-fc03c4ac341d"
   },
   "outputs": [],
   "source": [
    "device = torch.device('cuda' if torch.cuda.is_available() else 'cpu')\n",
    "# Assume that we are on a CUDA machine, then this should print a CUDA device:\n",
    "print(f'Working on device={device}')"
   ]
  },
  {
   "cell_type": "code",
   "execution_count": null,
   "metadata": {},
   "outputs": [],
   "source": [
    "df = CleanMetaData().getCleanDF(n_random_rows=100)\n",
    "ds_items = []\n",
    "ds = Dataset(df)\n",
    "for i, data in enumerate(ds):\n",
    "    ds_items.append(i)\n",
    "\n",
    "print(len(ds_items))"
   ]
  },
  {
   "cell_type": "code",
   "execution_count": null,
   "metadata": {},
   "outputs": [],
   "source": [
    "l = Loaders().getDataLoader(batch_size=1, n_random_rows=100)\n",
    "dl_items = []\n",
    "for i, data in enumerate(l):\n",
    "    dl_items.append(i)\n",
    "\n",
    "print(len(dl_items))"
   ]
  },
  {
   "cell_type": "code",
   "execution_count": null,
   "metadata": {
    "colab": {
     "base_uri": "https://localhost:8080/",
     "height": 87
    },
    "colab_type": "code",
    "executionInfo": {
     "elapsed": 36944,
     "status": "ok",
     "timestamp": 1591585074381,
     "user": {
      "displayName": "Robert312 SpringboardDataScience",
      "photoUrl": "",
      "userId": "10605656056949109058"
     },
     "user_tz": 240
    },
    "id": "Pihx9dmDqKAH",
    "outputId": "bb098711-d8a5-4834-b9b7-6ad6da38c027"
   },
   "outputs": [],
   "source": [
    "loaders = Loaders()\n",
    "batch_size=32\n",
    "train_percent=0.85\n",
    "number_images = 1000\n",
    "train_loader, val_loader = loaders.getDataTrainValidateLoaders(batch_size=batch_size, \n",
    "                                                                        train_percent=train_percent, \n",
    "                                                                        n_random_rows=number_images)\n",
    "print(f'Number of Training Batches: {len(train_loader):,}')\n",
    "print(f'Number of Validation Batches: {len(val_loader):,}')\n",
    "print(f'Number of Training Images: {len(train_loader) * batch_size:,}')\n",
    "print(f'Number of Validation Images: {len(val_loader) * batch_size:,}')"
   ]
  },
  {
   "cell_type": "code",
   "execution_count": null,
   "metadata": {
    "colab": {
     "base_uri": "https://localhost:8080/",
     "height": 514
    },
    "colab_type": "code",
    "executionInfo": {
     "elapsed": 35626,
     "status": "ok",
     "timestamp": 1591585073061,
     "user": {
      "displayName": "Robert312 SpringboardDataScience",
      "photoUrl": "",
      "userId": "10605656056949109058"
     },
     "user_tz": 240
    },
    "id": "oal5V5NeqKAG",
    "outputId": "3c8d6dc0-529a-47e0-b6de-cc3f7eae7ca2"
   },
   "outputs": [],
   "source": [
    "net = CustomPneumoniaNN()\n",
    "\n",
    "net = nn.DataParallel(net)\n",
    "net.to(device)\n",
    "\n",
    "summary(net, (1, 320, 320))"
   ]
  },
  {
   "cell_type": "code",
   "execution_count": null,
   "metadata": {
    "colab": {},
    "colab_type": "code",
    "id": "ePnnyUWNqKAJ"
   },
   "outputs": [],
   "source": [
    "learning_rate = 1e-4\n",
    "num_epochs = 30\n",
    "torch.set_num_threads(1)\n",
    "\n",
    "criterion = nn.CrossEntropyLoss()\n",
    "optimizer = optim.AdamW(net.parameters(), lr=learning_rate)#, weight_decay=0.9)"
   ]
  },
  {
   "cell_type": "code",
   "execution_count": null,
   "metadata": {
    "colab": {
     "base_uri": "https://localhost:8080/",
     "height": 387
    },
    "colab_type": "code",
    "executionInfo": {
     "elapsed": 98205,
     "status": "error",
     "timestamp": 1591585135649,
     "user": {
      "displayName": "Robert312 SpringboardDataScience",
      "photoUrl": "",
      "userId": "10605656056949109058"
     },
     "user_tz": 240
    },
    "id": "UHfot0R2qKAL",
    "outputId": "decbfa39-488d-4a8f-e554-1a4b25b80fb4"
   },
   "outputs": [],
   "source": [
    "train_accuracy_index = []\n",
    "train_acc, train_total, train_correct = 0, 0, 0\n",
    "val_accuracy_index = []\n",
    "val_acc, val_total, val_correct = 0, 0, 0\n",
    "test_accuracy_index = []\n",
    "test_acc, test_total, test_correct = 0, 0, 0\n",
    "losses_index = []\n",
    "for epoch in range(num_epochs):  # loop over the dataset multiple times\n",
    "    start_time = datetime.now()\n",
    "    net.train()\n",
    "    running_loss = 0.0\n",
    "    epoch_loss = 0\n",
    "    for i, data in enumerate(train_loader, 0):\n",
    "        # get the inputs\n",
    "        inputs, labels = data['img'], data['labels']['Pneumonia']\n",
    "        # move data to device GPU OR CPU\n",
    "        inputs, labels = inputs.to(device), labels.to(device)\n",
    "        # zero the parameter gradients\n",
    "        optimizer.zero_grad()\n",
    "        # forward + backward + optimize\n",
    "        outputs = net(inputs)\n",
    "        \n",
    "        #Get Training Accuracty\n",
    "        _, predicted = torch.max(outputs.data, 1)\n",
    "        train_total += labels.size(0)\n",
    "        train_correct += (predicted == labels).sum().item()\n",
    "        train_acc = train_correct/train_total\n",
    "        train_accuracy_index.append(train_acc)\n",
    "\n",
    "        #loss, back prop and update params\n",
    "        loss = criterion(outputs, labels)#.float())\n",
    "        loss.backward()\n",
    "        optimizer.step()\n",
    "        epoch_loss += loss.item()\n",
    "\n",
    "    epoch_loss = epoch_loss / len(train_loader)\n",
    "    time_elapsed = datetime.now() - start_time\n",
    "    losses_index.append(epoch_loss)\n",
    "    \n",
    "    # Validation set\n",
    "    net.eval()\n",
    "    with torch.no_grad():\n",
    "      for data in val_loader:\n",
    "          inputs, labels = data\n",
    "          inputs, labels = inputs.to(device), labels.to(device)\n",
    "          outputs = net(inputs)\n",
    "          _, predicted = torch.max(outputs.data, 1)\n",
    "          val_total += labels.size(0)\n",
    "          val_correct += (predicted == labels).sum().item()\n",
    "          val_acc = val_correct/val_total\n",
    "      val_accuracy_index.append(val_acc)\n",
    "\n",
    "      for data in val_loader:\n",
    "          inputs, labels = data\n",
    "          inputs, labels = inputs.to(device), labels.to(device)\n",
    "          outputs = net(inputs)\n",
    "          _, predicted = torch.max(outputs.data, 1)\n",
    "          test_total += labels.size(0)\n",
    "          test_correct += (predicted == labels).sum().item()\n",
    "          test_acc = test_correct/test_total\n",
    "      test_accuracy_index.append(test_acc)\n",
    "    \n",
    "    \n",
    "    print(f'Epoch [{epoch+1}/{num_epochs}], \\\n",
    "          Epoch Loss: {epoch_loss:.4f} \\\n",
    "          Training Accuracy: {train_acc:.4f}  \\\n",
    "          Validation Accuracy: {val_acc:.4f} \\\n",
    "          Test Accuracy: {test_acc:.4f} - (time={time_elapsed})')"
   ]
  }
 ],
 "metadata": {
  "accelerator": "GPU",
  "colab": {
   "collapsed_sections": [],
   "machine_shape": "hm",
   "name": "CustomPneumonia.ipynb",
   "provenance": []
  },
  "kernelspec": {
   "display_name": "Python 3",
   "language": "python",
   "name": "python3"
  },
  "language_info": {
   "codemirror_mode": {
    "name": "ipython",
    "version": 3
   },
   "file_extension": ".py",
   "mimetype": "text/x-python",
   "name": "python",
   "nbconvert_exporter": "python",
   "pygments_lexer": "ipython3",
   "version": "3.7.4"
  }
 },
 "nbformat": 4,
 "nbformat_minor": 1
}
